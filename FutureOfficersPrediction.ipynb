{
  "nbformat": 4,
  "nbformat_minor": 0,
  "metadata": {
    "colab": {
      "name": "FutureOfficersPrediction.ipynb",
      "provenance": [],
      "collapsed_sections": [],
      "authorship_tag": "ABX9TyN/HMkvOSyB2Xp17+FttLzJ",
      "include_colab_link": true
    },
    "kernelspec": {
      "name": "python3",
      "display_name": "Python 3"
    },
    "language_info": {
      "name": "python"
    }
  },
  "cells": [
    {
      "cell_type": "markdown",
      "metadata": {
        "id": "view-in-github",
        "colab_type": "text"
      },
      "source": [
        "<a href=\"https://colab.research.google.com/github/KirtiShekhar/Data-Mining/blob/main/FutureOfficersPrediction.ipynb\" target=\"_parent\"><img src=\"https://colab.research.google.com/assets/colab-badge.svg\" alt=\"Open In Colab\"/></a>"
      ]
    },
    {
      "cell_type": "markdown",
      "metadata": {
        "id": "gekUo9yQR4Hg"
      },
      "source": [
        "# **Future Officers Performance Prediction**"
      ]
    },
    {
      "cell_type": "markdown",
      "metadata": {
        "id": "tvi1-ix9SPQ7"
      },
      "source": [
        "# **Importing the library packages**"
      ]
    },
    {
      "cell_type": "code",
      "metadata": {
        "colab": {
          "base_uri": "https://localhost:8080/"
        },
        "id": "obCGgf1KSN5O",
        "outputId": "fe017dc5-f337-40e0-d729-f27ea30e5b96"
      },
      "source": [
        "print('importing the libraries')\n",
        "import csv as csv\n",
        "print('import csv')\n",
        "print('csv package is required for performing operations on csv file like reading , opening , etc') \n",
        "print(\"the imported csv package version is: {} \\n\".format(csv.__version__))\n",
        "import pandas as pd\n",
        "print('import pandas as pd')\n",
        "print('pandas package is required for reading and writing data between different files and also for data manipulation')\n",
        "print(\"the imported pandas package version is: {} \\n\".format(pd.__version__))\n",
        "import numpy as np\n",
        "print('import numpy as np')\n",
        "print('numpy package is required for performing fast and efficient mathematical functions and computation of multi dimensional array and matrices')\n",
        "print(\"the imported numpy package version is: {} \\n\".format(np.__version__))\n",
        "import seaborn  as sns\n",
        "print('import seaborn  as sns')\n",
        "print('seaborn package is required for data visualization library based on matplotlib which provides a high-level interface for drawing attractive and informative statistical graphics')\n",
        "print(\"the imported seaborn package version is: {} \\n\".format(sns.__version__))\n",
        "import matplotlib.pyplot as plt\n",
        "%matplotlib inline\n",
        "print('import matplotlib.pyplot as plt')\n",
        "print('pyplot from matplotlib is required for data visualization')\n",
        "print('%matplotlib inline')\n",
        "print('%matplotlib inline sets the backend of matplotlib to the inline backend: With this backend, the output of plotting commands is displayed inline within frontends \\n')\n",
        "from scipy import stats\n",
        "print('from scipy import stats')\n",
        "print('stats package from scipy  is required for statistical calculation \\n')\n",
        "%matplotlib inline\n",
        "from sklearn.model_selection import train_test_split\n",
        "print('from sklearn.model_selection import train_test_split')\n",
        "print('train_test_split package is required to split the dataset into train dataset and test dataset \\n')\n",
        "from sklearn.model_selection import KFold\n",
        "print('from sklearn.model_selection import KFold') \n",
        "print('KFold package is required for cross validation \\n') \n",
        "from sklearn.model_selection import GridSearchCV\n",
        "print('from sklearn.model_selection import GridSearchCV') \n",
        "print('GridSearchCV package is required for tuning parameters of dataset \\n') \n",
        "from sklearn import metrics\n",
        "print('from sklearn import metrics')\n",
        "print('metrics package from sklearn library is required for calculating accuracy of \\n') \n",
        "from sklearn.preprocessing import LabelEncoder\n",
        "print('from sklearn.preprocessing import LabelEncoder')\n",
        "print('Label Encoding from preprocessing of scikit learn package is required for labelling in the form of words or numbers.To make the data understandable or in human readable form, the training data is often labeled in words. Label Encoding refers to converting the labels into numeric form \\n')\n",
        "from sklearn.preprocessing import StandardScaler\n",
        "print('from sklearn.preprocessing import StandardScaler')\n",
        "print('StandardScaler from preprocessing of scikit learn package is required to transform your data such that its distribution will have a mean value 0 and standard deviation of 1. \\n')\n",
        "from sklearn.metrics import confusion_matrix\n",
        "print('from sklearn.metrics import confusion_matrix')\n",
        "print('confusion_matrix from metrics package is required to view confusion matrix which is \\n')\n",
        "from sklearn.metrics import accuracy_score\n",
        "print('from sklearn.metrics import accuracy_score')\n",
        "print('accuracy_score from metrics of sklearn package is required to calculate accuracy score of prediction \\n')\n",
        "from sklearn.metrics import precision_score\n",
        "print('from sklearn.metrics import precision_score')\n",
        "print('precision_score from metrics of sklearn package is required to calculate precision score of prediction \\n')\n",
        "from sklearn.metrics import recall_score\n",
        "print('from sklearn.metrics import recall_score')\n",
        "print('recall_score from metrics of sklearn package is required to calculate recall score of prediction \\n')\n",
        "from sklearn.metrics import f1_score\n",
        "print('from sklearn.metrics import f1_score')\n",
        "print('f1_score from metrics of sklearn package is required to calculate f1 score of prediction \\n')\n",
        "from scipy import stats\n",
        "print('from scipy import stats')\n",
        "print('stats package from scipy  is required for statistical calculation \\n')\n",
        "from time import time\n",
        "print('from time import time')\n",
        "print('time package from time is required for time calcualtion for training and prediction of each algorithm \\n')\n",
        "from google.colab import files\n",
        "print('from google.colab import files')\n",
        "print('files package from google.colab is required to upload or fetch files from local drive c \\n')\n",
        "import io\n",
        "print('import io')\n",
        "print('io package is required to read the files uploaded \\n')"
      ],
      "execution_count": null,
      "outputs": [
        {
          "output_type": "stream",
          "text": [
            "importing the libraries\n",
            "import csv\n",
            "csv package is required for performing operations on csv file like reading , opening , etc\n",
            "the imported csv package version is: 1.0 \n",
            "\n",
            "import pandas as pd\n",
            "pandas package is required for reading and writing data between different files and also for data manipulation\n",
            "the imported pandas package version is: 1.1.5 \n",
            "\n",
            "import numpy as np\n",
            "numpy package is required for performing fast and efficient mathematical functions and computation of multi dimensional array and matrices\n",
            "the imported numpy package version is: 1.19.5 \n",
            "\n",
            "import seaborn  as sns\n",
            "seaborn package is required for data visualization library based on matplotlib which provides a high-level interface for drawing attractive and informative statistical graphics\n",
            "the imported seaborn package version is: 0.11.1 \n",
            "\n",
            "import matplotlib.pyplot as plt\n",
            "pyplot from matplotlib is required for data visualization\n",
            "%matplotlib inline\n",
            "%matplotlib inline sets the backend of matplotlib to the inline backend: With this backend, the output of plotting commands is displayed inline within frontends \n",
            "\n",
            "from scipy import stats\n",
            "stats package from scipy  is required for statistical calculation \n",
            "\n",
            "from sklearn.model_selection import train_test_split\n",
            "train_test_split package is required to split the dataset into train dataset and test dataset \n",
            "\n",
            "from sklearn.model_selection import KFold\n",
            "KFold package is required for cross validation \n",
            "\n",
            "from sklearn.model_selection import GridSearchCV\n",
            "GridSearchCV package is required for tuning parameters of dataset \n",
            "\n",
            "from sklearn import metrics\n",
            "metrics package from sklearn library is required for calculating accuracy of \n",
            "\n",
            "from sklearn.preprocessing import LabelEncoder\n",
            "Label Encoding from preprocessing of scikit learn package is required for labelling in the form of words or numbers.To make the data understandable or in human readable form, the training data is often labeled in words. Label Encoding refers to converting the labels into numeric form \n",
            "\n",
            "from sklearn.preprocessing import StandardScaler\n",
            "StandardScaler from preprocessing of scikit learn package is required to transform your data such that its distribution will have a mean value 0 and standard deviation of 1. \n",
            "\n",
            "from sklearn.metrics import confusion_matrix\n",
            "confusion_matrix from metrics package is required to view confusion matrix which is \n",
            "\n",
            "from sklearn.metrics import accuracy_score\n",
            "accuracy_score from metrics of sklearn package is required to calculate accuracy score of prediction \n",
            "\n",
            "from sklearn.metrics import precision_score\n",
            "precision_score from metrics of sklearn package is required to calculate precision score of prediction \n",
            "\n",
            "from sklearn.metrics import recall_score\n",
            "recall_score from metrics of sklearn package is required to calculate recall score of prediction \n",
            "\n",
            "from sklearn.metrics import f1_score\n",
            "f1_score from metrics of sklearn package is required to calculate f1 score of prediction \n",
            "\n",
            "from scipy import stats\n",
            "stats package from scipy  is required for statistical calculation \n",
            "\n",
            "from time import time\n",
            "time package from time is required for time calcualtion for training and prediction of each algorithm \n",
            "\n",
            "from google.colab import files\n",
            "files package from google.colab is required to upload or fetch files from local drive c \n",
            "\n",
            "import io\n",
            "io package is required to read the files uploaded \n",
            "\n"
          ],
          "name": "stdout"
        }
      ]
    },
    {
      "cell_type": "markdown",
      "metadata": {
        "id": "DeuZ9gV6VZYJ"
      },
      "source": [
        "# **importing the multiple datasets and reading the columns of each datasets**"
      ]
    },
    {
      "cell_type": "code",
      "metadata": {
        "colab": {
          "resources": {
            "http://localhost:8080/nbextensions/google.colab/files.js": {
              "data": "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",
              "ok": true,
              "headers": [
                [
                  "content-type",
                  "application/javascript"
                ]
              ],
              "status": 200,
              "status_text": ""
            }
          },
          "base_uri": "https://localhost:8080/",
          "height": 109
        },
        "id": "4zQ42KyWU_ME",
        "outputId": "616d3b0f-25d9-498a-a9da-b4d06c3b62c4"
      },
      "source": [
        "print('importing the multiple datasets and reading the columns of each datasets')\n",
        "uploadeddataset = files.upload()\n",
        "OfficerPerformanceDatasetDf = pd.read_csv(io.BytesIO(uploadeddataset['NewPerformancedatasetQueryResultOutput.csv']))\n",
        "print(\"Successfully imported the Personal dataset\")"
      ],
      "execution_count": null,
      "outputs": [
        {
          "output_type": "stream",
          "text": [
            "importing the multiple datasets and reading the columns of each datasets\n"
          ],
          "name": "stdout"
        },
        {
          "output_type": "display_data",
          "data": {
            "text/html": [
              "\n",
              "     <input type=\"file\" id=\"files-5c1acbdc-020b-4045-a397-f3e45aa6ff63\" name=\"files[]\" multiple disabled\n",
              "        style=\"border:none\" />\n",
              "     <output id=\"result-5c1acbdc-020b-4045-a397-f3e45aa6ff63\">\n",
              "      Upload widget is only available when the cell has been executed in the\n",
              "      current browser session. Please rerun this cell to enable.\n",
              "      </output>\n",
              "      <script src=\"/nbextensions/google.colab/files.js\"></script> "
            ],
            "text/plain": [
              "<IPython.core.display.HTML object>"
            ]
          },
          "metadata": {
            "tags": []
          }
        },
        {
          "output_type": "stream",
          "text": [
            "Saving NewPerformancedatasetQueryResultOutput.csv to NewPerformancedatasetQueryResultOutput (2).csv\n",
            "Successfully imported the Personal dataset\n"
          ],
          "name": "stdout"
        }
      ]
    },
    {
      "cell_type": "markdown",
      "metadata": {
        "id": "lnrUqIXscUO_"
      },
      "source": [
        "# **Reading the loaded dataset**"
      ]
    },
    {
      "cell_type": "code",
      "metadata": {
        "colab": {
          "base_uri": "https://localhost:8080/"
        },
        "id": "u2QUnqLdVqOw",
        "outputId": "63797119-b14d-42d0-cbeb-69b7fd19d69d"
      },
      "source": [
        "print('Reading the loaded dataset')\n",
        "print(OfficerPerformanceDatasetDf.head(5))\n",
        "print(OfficerPerformanceDatasetDf.tail(5))"
      ],
      "execution_count": null,
      "outputs": [
        {
          "output_type": "stream",
          "text": [
            "Reading the loaded dataset\n",
            "   batch_year  OfficerID  ... DivisionDesc DegreeDesc\n",
            "0        1983      23142  ...        First    B.Tech.\n",
            "1        1966      18473  ...        First    B.Tech.\n",
            "2        1983        549  ...    Ordinary    Graduate\n",
            "3        1983        549  ...       First        P.G.\n",
            "4        1983        549  ...    Ordinary      Ph. D.\n",
            "\n",
            "[5 rows x 16 columns]\n",
            "       batch_year  OfficerID  ...            DivisionDesc    DegreeDesc\n",
            "45126        1956      17063  ...                   First       M.Phil.\n",
            "45127        1956      17063  ...                  First   B.A. Honours\n",
            "45128        1961      17769  ...  First with Distinction          B.E.\n",
            "45129        1956      17230  ...                   First       B.Tech.\n",
            "45130        1957      17241  ...                   First       B.Tech.\n",
            "\n",
            "[5 rows x 16 columns]\n"
          ],
          "name": "stdout"
        }
      ]
    },
    {
      "cell_type": "markdown",
      "metadata": {
        "id": "FRMzvb6cc-fF"
      },
      "source": [
        "# **Reading the columns of the loaded dataset**"
      ]
    },
    {
      "cell_type": "code",
      "metadata": {
        "colab": {
          "base_uri": "https://localhost:8080/"
        },
        "id": "zUsTxsd8csag",
        "outputId": "c30c7454-ac27-4b9c-e30b-467e03aa159b"
      },
      "source": [
        "print('Reading the columns of the loaded dataset')\n",
        "print(OfficerPerformanceDatasetDf.columns)"
      ],
      "execution_count": null,
      "outputs": [
        {
          "output_type": "stream",
          "text": [
            "Reading the columns of the loaded dataset\n",
            "Index(['batch_year', 'OfficerID', 'Name', 'Gender_name', 'CategoryDesc',\n",
            "       'CadreStateName', 'ServiceShort', 'Age_InYears', 'Experience_InYears',\n",
            "       'CGPA', 'Percentage', 'Officers_Grade', 'PassingYear',\n",
            "       'TotalTenureWorked', 'DivisionDesc', 'DegreeDesc'],\n",
            "      dtype='object')\n"
          ],
          "name": "stdout"
        }
      ]
    },
    {
      "cell_type": "markdown",
      "metadata": {
        "id": "kwY1X0uKo-Bu"
      },
      "source": [
        "## **Description of Used columns as a attributes of the dataset.**\n",
        "### **Name and brief Description of each attributes is as follows:**\n",
        "*   batch_year --> Displays the Batch year in which the officer gets the last education qualified.\n",
        "*   OfficerID --> Displays the officer particular id that can be used as an identification  number.\n",
        "*   Name --> Displays the name of the officer.\n",
        "*   Gender_name --> Displays the gender of that officer.\n",
        "*   CategoryDesc --> Displays the particular category in which officer belongs to.\n",
        "*   CadreStateName --> Displays the cadre state in which the officer is currently working or worked.\n",
        "*   ServiceShort --> Displays the current civil services the officer is posted or recruited in.\n",
        "*   Age_InYears --> Displays the age of officers in years.\n",
        "*   Experience_InYears --> Displays the experience of officers in years.\n",
        "*   CGPA --> Displays the overall cgpa (Cumulative Grade Points Average) of the officer.\n",
        "*   Percentage --> Displays the obtained percentage of that officers.\n",
        "*   Officers_Grade --> Displays the obtained grade in particular degree of that officer.\n",
        "*   PassingYear --> Displays the passing year from that qualification of that officer.\n",
        "*   TotalTenureWorked --> Displays the total tenure the officer worked in his whole service.\n",
        "*   DivisionDesc --> Displays the Division obtained in the given degree of that officers.\n",
        "*   DegreeDesc --> Displays the Degree Received by that officers in his education."
      ]
    },
    {
      "cell_type": "code",
      "metadata": {
        "colab": {
          "base_uri": "https://localhost:8080/"
        },
        "id": "KH-1GTnDmFnw",
        "outputId": "6f7d3f32-a433-4c68-966e-8e03d4d2000f"
      },
      "source": [
        "print('Name and brief Description of each attributes is as follows:')\n",
        "print('batch_year --> Displays the Batch year in which the officer gets the last education qualified.')\n",
        "print('OfficerID --> Displays the officer particular id that can be used as an identification number.')\n",
        "print('Name --> Displays the name of the officer.')\n",
        "print('Gender_name --> Displays the gender of that officer.')\n",
        "print('CategoryDesc --> Displays the particular category in which officer belongs to.')\n",
        "print('CadreStateName --> Displays the cadre state in which the officer is currently working or worked.')\n",
        "print('ServiceShort --> Displays the current civil services the officer is posted or recruited in.')\n",
        "print('Age_InYears --> Displays the age of officers in years.')\n",
        "print('Experience_InYears --> Displays the experience of officers in years.')\n",
        "print('CGPA --> Displays the overall cgpa (Cumulative Grade Points Average) of the officer.')\n",
        "print('Percentage --> Displays the obtained percentage of that officers.')\n",
        "print('Officers_Grade --> Displays the obtained grade in particular degree of that officer.')\n",
        "print('PassingYear --> Displays the passing year from that qualification of that officer.')\n",
        "print('TotalTenureWorked --> Displays the total tenure the officer worked in his whole service.')\n",
        "print('DivisionDesc --> Displays the Division obtained in the given degree of that officers.')\n",
        "print('DegreeDesc --> Displays the Degree Received by that officers in his education.')"
      ],
      "execution_count": null,
      "outputs": [
        {
          "output_type": "stream",
          "text": [
            "Name and brief Description of each attributes is as follows:\n",
            "batch_year --> Displays the Batch year in which the officer gets the last education qualified.\n",
            "OfficerID --> Displays the officer particular id that can be used as an identification number.\n",
            "Name --> Displays the name of the officer.\n",
            "Gender_name --> Displays the gender of that officer.\n",
            "CategoryDesc --> Displays the particular category in which officer belongs to.\n",
            "CadreStateName --> Displays the cadre state in which the officer is currently working or worked.\n",
            "ServiceShort --> Displays the current civil services the officer is posted or recruited in.\n",
            "Age_InYears --> Displays the age of officers in years.\n",
            "Experience_InYears --> Displays the experience of officers in years.\n",
            "CGPA --> Displays the overall cgpa (Cumulative Grade Points Average) of the officer.\n",
            "Percentage --> Displays the obtained percentage of that officers.\n",
            "Officers_Grade --> Displays the obtained grade in particular degree of that officer.\n",
            "PassingYear --> Displays the passing year from that qualification of that officer.\n",
            "TotalTenureWorked --> Displays the total tenure the officer worked in his whole service.\n",
            "DivisionDesc --> Displays the Division obtained in the given degree of that officers.\n",
            "DegreeDesc --> Displays the Degree Received by that officers in his education.\n"
          ],
          "name": "stdout"
        }
      ]
    },
    {
      "cell_type": "markdown",
      "metadata": {
        "id": "YnMz-LJadd9E"
      },
      "source": [
        "# **finding the null values and datatype in each column**"
      ]
    },
    {
      "cell_type": "code",
      "metadata": {
        "colab": {
          "base_uri": "https://localhost:8080/"
        },
        "id": "wXblAq9ldCna",
        "outputId": "e9c16c18-fc1e-4678-c93b-04f1068d2876"
      },
      "source": [
        "print('finding the null values and datatype in each column')\n",
        "print('datatype of each column \\n',OfficerPerformanceDatasetDf.dtypes)\n",
        "print('missing values find')\n",
        "missing_values = ['N.A.',0,'Not Available','NaN','NULL']\n",
        "missing_values\n",
        "print('displaying null values in each columns')\n",
        "print(OfficerPerformanceDatasetDf.isnull().sum())\n",
        "print(OfficerPerformanceDatasetDf.isin(missing_values).sum())"
      ],
      "execution_count": null,
      "outputs": [
        {
          "output_type": "stream",
          "text": [
            "finding the null values and datatype in each column\n",
            "datatype of each column \n",
            " batch_year              int64\n",
            "OfficerID               int64\n",
            "Name                   object\n",
            "Gender_name            object\n",
            "CategoryDesc           object\n",
            "CadreStateName         object\n",
            "ServiceShort           object\n",
            "Age_InYears             int64\n",
            "Experience_InYears      int64\n",
            "CGPA                  float64\n",
            "Percentage            float64\n",
            "Officers_Grade         object\n",
            "PassingYear             int64\n",
            "TotalTenureWorked       int64\n",
            "DivisionDesc           object\n",
            "DegreeDesc             object\n",
            "dtype: object\n",
            "missing values find\n",
            "displaying null values in each columns\n",
            "batch_year            0\n",
            "OfficerID             0\n",
            "Name                  0\n",
            "Gender_name           4\n",
            "CategoryDesc          0\n",
            "CadreStateName        0\n",
            "ServiceShort          0\n",
            "Age_InYears           0\n",
            "Experience_InYears    0\n",
            "CGPA                  0\n",
            "Percentage            0\n",
            "Officers_Grade        0\n",
            "PassingYear           0\n",
            "TotalTenureWorked     0\n",
            "DivisionDesc          0\n",
            "DegreeDesc            0\n",
            "dtype: int64\n",
            "batch_year            0\n",
            "OfficerID             0\n",
            "Name                  0\n",
            "Gender_name           0\n",
            "CategoryDesc          0\n",
            "CadreStateName        0\n",
            "ServiceShort          0\n",
            "Age_InYears           0\n",
            "Experience_InYears    0\n",
            "CGPA                  0\n",
            "Percentage            0\n",
            "Officers_Grade        0\n",
            "PassingYear           0\n",
            "TotalTenureWorked     0\n",
            "DivisionDesc          0\n",
            "DegreeDesc            0\n",
            "dtype: int64\n"
          ],
          "name": "stdout"
        }
      ]
    },
    {
      "cell_type": "markdown",
      "metadata": {
        "id": "m1wniTk7jD63"
      },
      "source": [
        "# **Filling the missing / null values in specified columns**"
      ]
    },
    {
      "cell_type": "code",
      "metadata": {
        "id": "QAmkhKu7jVjt"
      },
      "source": [
        "OfficerPerformanceDatasetDf['Gender_name'] = OfficerPerformanceDatasetDf['Gender_name'].fillna('Female')"
      ],
      "execution_count": null,
      "outputs": []
    },
    {
      "cell_type": "markdown",
      "metadata": {
        "id": "Ff5s-NovjY6-"
      },
      "source": [
        "# **Again checking for null or missing values in each columns**"
      ]
    },
    {
      "cell_type": "code",
      "metadata": {
        "id": "DmNpF91iiXxg",
        "colab": {
          "base_uri": "https://localhost:8080/"
        },
        "outputId": "b7457f4a-02d0-4492-b96e-74f929d56963"
      },
      "source": [
        "print('displaying null values in each columns')\n",
        "print(OfficerPerformanceDatasetDf.isnull().sum())\n",
        "print(OfficerPerformanceDatasetDf.isin(missing_values).sum())"
      ],
      "execution_count": null,
      "outputs": [
        {
          "output_type": "stream",
          "text": [
            "displaying null values in each columns\n",
            "batch_year            0\n",
            "OfficerID             0\n",
            "Name                  0\n",
            "Gender_name           0\n",
            "CategoryDesc          0\n",
            "CadreStateName        0\n",
            "ServiceShort          0\n",
            "Age_InYears           0\n",
            "Experience_InYears    0\n",
            "CGPA                  0\n",
            "Percentage            0\n",
            "Officers_Grade        0\n",
            "PassingYear           0\n",
            "TotalTenureWorked     0\n",
            "DivisionDesc          0\n",
            "DegreeDesc            0\n",
            "dtype: int64\n",
            "batch_year            0\n",
            "OfficerID             0\n",
            "Name                  0\n",
            "Gender_name           0\n",
            "CategoryDesc          0\n",
            "CadreStateName        0\n",
            "ServiceShort          0\n",
            "Age_InYears           0\n",
            "Experience_InYears    0\n",
            "CGPA                  0\n",
            "Percentage            0\n",
            "Officers_Grade        0\n",
            "PassingYear           0\n",
            "TotalTenureWorked     0\n",
            "DivisionDesc          0\n",
            "DegreeDesc            0\n",
            "dtype: int64\n"
          ],
          "name": "stdout"
        }
      ]
    },
    {
      "cell_type": "markdown",
      "metadata": {
        "id": "MG6--emCmwwh"
      },
      "source": [
        "# **Displaying unique values in each columns**"
      ]
    },
    {
      "cell_type": "code",
      "metadata": {
        "colab": {
          "base_uri": "https://localhost:8080/"
        },
        "id": "Q4pchzzq50od",
        "outputId": "34fb7a1d-417e-4be8-b553-904cb5567af2"
      },
      "source": [
        "print('Displaying unique values in each columns \\n')\n",
        "print('Distinct Values In Batch Year Column',OfficerPerformanceDatasetDf['batch_year'].unique())\n",
        "print('Distinct Values In Gender Column',OfficerPerformanceDatasetDf['Gender_name'].unique())\n",
        "print('Distinct Values In Category Column',OfficerPerformanceDatasetDf['CategoryDesc'].unique())\n",
        "print('Distinct Values In Cadre State Column',OfficerPerformanceDatasetDf['CadreStateName'].unique())\n",
        "print('Distinct Values In Service Column',OfficerPerformanceDatasetDf['ServiceShort'].unique())\n",
        "print('Distinct Values In Age In Years Column',OfficerPerformanceDatasetDf['Age_InYears'].unique())\n",
        "print('Distinct Values In Experience In Years Column',OfficerPerformanceDatasetDf['Experience_InYears'].unique())\n",
        "print('Distinct Values In CGPA Column',OfficerPerformanceDatasetDf['CGPA'].unique())\n",
        "print('Distinct Values In Percentage Column',OfficerPerformanceDatasetDf['Percentage'].unique())\n",
        "print('Distinct Values In Passing Year Column',OfficerPerformanceDatasetDf['PassingYear'].unique())\n",
        "print('Distinct Values In Grade Column',OfficerPerformanceDatasetDf['Officers_Grade'].unique())\n",
        "print('Distinct Values In Total Tenure Worked Column',OfficerPerformanceDatasetDf['TotalTenureWorked'].unique())\n",
        "print('Distinct Values In Division Column',OfficerPerformanceDatasetDf['DivisionDesc'].unique())\n",
        "print('Distinct Values In Degree Column',OfficerPerformanceDatasetDf['DegreeDesc'].unique())"
      ],
      "execution_count": null,
      "outputs": [
        {
          "output_type": "stream",
          "text": [
            "Displaying unique values in each columns \n",
            "\n",
            "Distinct Values In Batch Year Column [1983 1966 1925 1999 1960 1936 1948 1952 2003 1945 1953 1924 1944 1959\n",
            " 1957 1923 1951 1915 1939 1961 1934 2004 1958 1933 1921 1946 1935 1943\n",
            " 1950 1909 1928 1919 1931 1930 1954 1922 1993 1940 1963 1932 1917 1916\n",
            " 2016 1995 1942 1920 1927 1937 1962 2001 1998 1938 1955 1989 1914 1941\n",
            " 2008 2011 1947 1956 1996 1994 1949 2002 1929 2006 2022 1926 1918 2007\n",
            " 1913 1912 1911 1997 2000 2013 1992 1910 1907 1905 2014 1900 2012 2005\n",
            " 1908 2010 1973 2015 2009 1903 1964 1991 1965 1902 1904 1906 2021 1990\n",
            " 2018 2020 2019 1980 1986 1982 1972 1987 2017 1978 1901 1968 1979 1981\n",
            " 1969 1974 1976 1975 1967 1984 1977 1971 1985 1970 1988]\n",
            "Distinct Values In Gender Column ['Male' 'Female']\n",
            "Distinct Values In Category Column ['GENERAL' 'O.B.C.' 'S.T.' 'S.C.']\n",
            "Distinct Values In Cadre State Column ['Tripura' 'A G M U T' 'Andhra Pradesh' 'Assam Meghalya' 'Manipur-Tripura'\n",
            " 'Sikkim' 'Uttarakhand' 'Madhya Pradesh' 'Uttar Pradesh' 'Tamil Nadu'\n",
            " 'Chhattisgarh' 'Karnataka' 'Gujarat' 'Punjab' 'Jharkhand' 'Bihar'\n",
            " 'Haryana' 'Nagaland' 'Kerala' 'Jammu & Kashmir' 'Odisha' 'Manipur'\n",
            " 'Rajasthan' 'Himachal Pradesh' 'Telangana' 'Maharashtra' 'Goa']\n",
            "Distinct Values In Service Column ['ITS' 'IFoS' 'IES' 'IRSME' 'ISS' 'IAS' 'IInfoS' 'IPoS' 'AFHQCS'\n",
            " 'GCS            ' 'Others' 'IA&AS' 'C HEALTH S     ' 'CSS' 'IOFS'\n",
            " 'Scientist' 'SCS' 'IRS (IT)' 'IPS' 'IRPS' 'IDES' 'CSS(ADHOC-US)  '\n",
            " 'ENGGR          ' 'IMS' 'C LABOUR S     ' 'IRTS' 'IRS (C&CE)' 'IRAS'\n",
            " 'IRSS' 'IDSE' 'CES' 'IDAS' 'ICAS' 'IP&TAFS' 'ITradeS' 'ICoAS'\n",
            " 'IRSE (Civil)' 'Educationist' 'Economist      ' 'IRSEE' 'IFS' 'DRDS'\n",
            " 'GSI' 'IRSSE' 'CPES' 'CWES' 'IRMS' 'ILS' 'CCLS' 'RAS            ' 'DAQAS'\n",
            " 'TEL TRAF S     ' 'IInspS' 'CSSS           ' 'IB(E)S' 'INSP CADRE DGMS'\n",
            " 'IOFHS' 'CISF' 'CES (Roads)' 'ISupplyS' 'CE&MES' 'CRPF' 'IMP            '\n",
            " 'INAS' 'C REVENUE(CHEM)' 'BSF' 'BRES' 'TECHNOLOGIST   ' 'SURVEY OF INDIA'\n",
            " 'DQAS' 'RLY INSP SER   ' 'CAS' 'RPF' 'RLY B S SERVICE']\n",
            "Distinct Values In Age In Years Column [ 70  76  63  80  82  55  59  49  39  62  72  53  47  54  56  34  44  75\n",
            "  57  38  41  52  51  45  48  58  37  81  79  69  71  61  42  83  40  43\n",
            "  66  73  50  46  85  67  77  64  65  36  74  60  78  94  68  84  89  92\n",
            "  32  87  88  91  86  90  35  93 120  27  31  30  33  29  28  26 121  95\n",
            "   5 111  98  99  25  97]\n",
            "Distinct Values In Experience In Years Column [ 50  34  38  35  25  33  30  14  36  31  71  32  16  37  17  29  28  26\n",
            "  20  23  15  13  18  39  27   3  24  75  22   4  12  10   7  44  21  60\n",
            "   2  11   6  19   8   9 100  81   5  40  97  41 105  49  59   1 102 135\n",
            " 130 116  48  89 104  45  99  42  91  90 101  62  95 103  94  98  63  93\n",
            " 107  88  57  53  96  82 125  43  92  69  83 110 106 112 108 133  65  61\n",
            " 128 136 131  54  47 113  86  55 127 117  87  80  84 119 121]\n",
            "Distinct Values In CGPA Column [ 8.5   9.28 10.    3.8   6.9   0.95  7.62  8.76  6.06  6.62  8.2   4.\n",
            "  4.44  9.12  9.22  6.75 70.63  8.25  8.53  6.47  6.83  6.12  7.83  9.62\n",
            "  8.87  7.58 67.4   9.19  7.    9.17 67.6   9.46  3.6   8.29  9.26  8.95\n",
            " 72.16  8.65  0.94 62.2  68.3   6.44  7.57  7.37  8.3   8.    7.33  9.\n",
            "  7.56  5.19  6.55  3.28  8.56 77.9   0.65  8.24  9.54 80.9  57.07  0.82\n",
            "  3.57  9.9   7.95  7.51  7.64  0.83  0.67  7.5   7.03  7.81  6.2   6.\n",
            "  8.78  5.56  7.31  9.3   5.2   6.28  6.11  8.11  7.47  7.94  3.2  77.7\n",
            "  7.68  8.9   9.1   5.99  6.8   6.39  9.35 64.37 90.86  7.93 65.69  8.33\n",
            "  3.21  6.93  4.2  63.62  7.77  6.77  2.6   9.08  8.21  3.87  7.3   8.19\n",
            "  6.4   8.13 87.07 83.7   0.92  9.13  9.02  6.37  7.02  6.59  3.9   9.72\n",
            "  7.22  8.59  9.04  8.82  8.63  3.25  9.74  7.9   7.54  8.36  7.75  8.49\n",
            "  9.38 84.9   5.92 71.   80.3   9.67  9.5   7.97 91.1   2.39  3.38  7.1\n",
            "  7.7   9.32  8.69  5.27  9.4  65.2   9.69  8.96  7.09  8.84  8.4  62.4\n",
            "  8.99  7.8   0.84  3.63  7.06  6.3   0.9   0.76  8.75  3.7   8.1   5.71\n",
            "  6.07 61.61  3.58  9.48  7.2   8.34  8.39  8.03  6.96  8.28  9.39  9.18\n",
            "  7.18]\n",
            "Distinct Values In Percentage Column [85.5  78.5  78.13 63.   75.08 80.72 50.62 61.33 47.56 70.2  69.42 65.47\n",
            " 69.25 61.04 68.25 72.86 72.   71.75 69.3  61.   79.6  76.83 66.   75.11\n",
            " 52.6  74.   64.9  76.05 74.25 82.5  74.22 70.61 86.2  76.74 72.5  64.04\n",
            " 75.   50.   58.87 60.9  72.9  68.2   7.62 69.   83.24 75.93 64.4  70.05\n",
            " 56.25 57.2  71.9  58.46 75.5  89.   72.6  82.25 78.9  84.6  83.   60.\n",
            " 89.6  87.   83.46 71.8  81.   71.5  57.5  70.37  6.4  76.   65.02 70.\n",
            " 69.4   7.68 68.63 65.22 61.88 70.33 81.13 68.9  68.05 67.   78.3  72.01\n",
            "  8.88 77.7  61.67 62.83  8.9  59.   67.74 92.5  71.45 69.13 61.9  68.4\n",
            " 60.4  62.3   5.03 66.74  7.19 69.2  78.15 96.   81.92 77.2  74.4  57.97\n",
            " 65.4  86.5  82.1  62.58 68.32 78.   76.21 77.58 81.11 67.55 85.9  68.45\n",
            "  6.97 84.   61.28 79.4  80.    8.34  9.41 81.3  82.05  7.06 65.27 66.28\n",
            " 58.6  62.8  69.7  56.07 75.67 70.53 59.9  65.   65.04 66.05 71.2  71.4\n",
            " 45.   67.63 75.58 73.39 58.74 70.8  67.65 70.9  81.4  73.29 71.71 64.05]\n",
            "Distinct Values In Passing Year Column [1990 1989 2002 2010 1994 1992 2005 2006 2007 1987 1993 2003 2009 1999\n",
            " 1997 1981 2008 1983 2004 1982 1984 1980 1973 1991 1985 1998 2000 2017\n",
            " 1976 1978 1995 1969 1988 1970 1968 1872 1975 2013 2001 1979 2012 1996\n",
            " 2011 2014 1986 2016 1974 1977 1971 2015 2018 1972   92 1958  201 1967\n",
            "  200  199 2019]\n",
            "Distinct Values In Grade Column ['A' 'B' 'C' 'D']\n",
            "Distinct Values In Total Tenure Worked Column [ 11  50  41  38  54  47  30  34  22  12  36  45  23  20  27  19  48  28\n",
            "  13  15  24  49  21  57  33  29  58  10  14  39  51  37  63  40  44  53\n",
            "  32  42  18  17   9  35  31  52  55  68  56  59  25  26  43  16  46   4\n",
            "  64  62  60  66  65  61  67   5   7  70 120  75   6 121   3   8  69  93\n",
            "  71 111  82  76  77  94   2  81  72  73  79  91  83  92  89  88  74  80\n",
            "  90  78 104  95  85 114]\n",
            "Distinct Values In Division Column ['First' 'Ordinary ' 'First ' 'Not Awarded' 'Second ' 'Pass'\n",
            " 'First with Distinction' \"Grade \\\\'A\\\\\" 'Outstanding' 'Gold Medalist'\n",
            " 'Third' 'Awarded' \"Grade \\\\'B\\\\\" 'First Rank' 'Gold Medallist'\n",
            " 'Silver Medal']\n",
            "Distinct Values In Degree Column ['B.Tech.' 'Graduate' 'P.G.' 'Ph. D.' 'Diploma' 'M.B.A.' 'M.Phil.' 'B.E.'\n",
            " 'M.A.' 'B.A.' 'M.B.B.S.' 'PG Diploma' 'M.Sc.' 'B.Sc.(Hons)'\n",
            " 'B.A. Honours' 'B.D.S.' 'M.P.H.' 'LL.B.' 'M.D.' 'B.V.Sc. & A.H.' 'M.S.'\n",
            " 'M.Tech.' 'B.H.M.S.' 'P.G. (USA)' 'Ph.D.(U.S.A.)' 'Certificate' 'B.Sc.'\n",
            " 'Post Ph.D.' 'B.Ed.' 'M.E.' 'LL.M.' 'B.E. (Hons)' 'B.Com.' 'MIPP'\n",
            " 'B.Sc.(Engg)' 'M.H.S.A.' 'A.M.I.E.' 'B.Sc.(Agri)' 'ICWAI' 'M.Ed.'\n",
            " 'B.Com Honours' 'M.Com.' 'C.S.' 'C.A.' 'M.V.Sc.' 'M.P.A.' 'M.B.A. (UK)'\n",
            " 'C.F.A.' 'Chartered Accountant' 'M.Sc. (Agri)'\n",
            " 'POST GRADUATE IN PUBLIC POLICY AND MANAGEMENT' 'DIPLOMA IN MANAGEMENT'\n",
            " 'M.A. Economics' 'Adv. Diploma' 'M.I.P.L.' 'M.P.M.'\n",
            " 'Master of Public Health' 'Masters in Public Policy'\n",
            " 'Chevening Gurukul Leadership Programme' 'M.B.L.' 'M.A. History'\n",
            " 'PG Diploma in Financial Management' 'Certificate course'\n",
            " 'Masters in International Development' 'B.Arch.' 'B.L.' 'Degree' 'M.C.M.'\n",
            " 'M.Sc. Tech.' 'Bachelor of Engineering' 'B.A.M.S.' 'DIPLOMA IN FRENCH'\n",
            " 'M.A. English' 'MASTER IN TAXATION AND BUSINESS LAW'\n",
            " 'B.A. Honours Economics' 'B.A.  LL.B.' 'M.Sc. Botany CSIR UGC qualified'\n",
            " 'PGDFM Finance' 'M.C.A.' 'Masters Degree in Taxation and Business Laws'\n",
            " 'MBA HR' 'NET' 'M.Sc. Botany' 'Masters in Development Management'\n",
            " 'Certificate of Proficiency' 'Advanced Diploma in Management'\n",
            " 'Master of Technology' 'PGD PPM' 'M.F.M.' 'M.P.S.'\n",
            " 'Diploma of Proficiency' 'B.E.E.' 'Affiliated Doctoral Fellow'\n",
            " 'Post Graduate Diploma in Business Administration' 'M.A. Honours'\n",
            " 'Master in Business Administration' 'Master of Business Laws'\n",
            " 'LL.B Professional' 'CAIIB' 'M.M.S.'\n",
            " 'Diploma in HIV and Family Education' 'C.P.A.' 'MBA Part time' 'M.P.P.'\n",
            " 'MSc. Defence and Strategic Studies' 'B.C.E.' 'M.B.E.' 'M.B.M.' 'Matric'\n",
            " 'Intermediate' 'Associate of IGNFA' 'Professional Training Course'\n",
            " 'B.Com. LL.B.' 'Cost Accountant ICWA' 'Certificate Course in French'\n",
            " 'B.Com. Hons.' 'Costing Inter Stage I'\n",
            " 'Executive masters in International Business' 'D.Sc.' 'LL.B General'\n",
            " 'M.Stat.' 'B.Agri.' 'B.Pharm.' 'B.S.Sc.' 'M.J.' 'AICWAI'\n",
            " 'Company Secretary' 'PGDBA Part Time' 'M.F.T.'\n",
            " 'Master in International Law and Economics' 'M.I.D.P.' 'M.M.E.'\n",
            " 'M.Sc. Tech. (Applied Geo-Physics)' 'Master of Arts' 'B.Text.' 'M.L.']\n"
          ],
          "name": "stdout"
        }
      ]
    },
    {
      "cell_type": "markdown",
      "metadata": {
        "id": "KRWCfX9j5vcR"
      },
      "source": [
        "# **Finding the number of unique values in each column**"
      ]
    },
    {
      "cell_type": "code",
      "metadata": {
        "colab": {
          "base_uri": "https://localhost:8080/"
        },
        "id": "ZaKS82oCj1iP",
        "outputId": "28e008c5-5a03-48f9-a1d0-5c477f595e78"
      },
      "source": [
        "print('Finding the number of unique values in each column \\n')\n",
        "print('Batch Year Column',len(OfficerPerformanceDatasetDf['batch_year'].unique()))\n",
        "print('Gender Column',len(OfficerPerformanceDatasetDf['Gender_name'].unique()))\n",
        "print('Category Column',len(OfficerPerformanceDatasetDf['CategoryDesc'].unique()))\n",
        "print('Cadre State Column',len(OfficerPerformanceDatasetDf['CadreStateName'].unique()))\n",
        "print('Service Column',len(OfficerPerformanceDatasetDf['ServiceShort'].unique()))\n",
        "print('Age In Years Column',len(OfficerPerformanceDatasetDf['Age_InYears'].unique()))\n",
        "print('Experience In Years Column',len(OfficerPerformanceDatasetDf['Experience_InYears'].unique()))\n",
        "print('CGPA Column',len(OfficerPerformanceDatasetDf['CGPA'].unique()))\n",
        "print('Percentage Column',len(OfficerPerformanceDatasetDf['Percentage'].unique()))\n",
        "print('Passing Year Column',len(OfficerPerformanceDatasetDf['PassingYear'].unique()))\n",
        "print('Grade Column',len(OfficerPerformanceDatasetDf['Officers_Grade'].unique()))\n",
        "print('Total Tenure Worked Column',len(OfficerPerformanceDatasetDf['TotalTenureWorked'].unique()))\n",
        "print('Division Column',len(OfficerPerformanceDatasetDf['DivisionDesc'].unique()))\n",
        "print('Degree Column',len(OfficerPerformanceDatasetDf['DegreeDesc'].unique()))"
      ],
      "execution_count": null,
      "outputs": [
        {
          "output_type": "stream",
          "text": [
            "Finding the number of unique values in each column \n",
            "\n",
            "Batch Year Column 123\n",
            "Gender Column 2\n",
            "Category Column 4\n",
            "Cadre State Column 27\n",
            "Service Column 74\n",
            "Age In Years Column 78\n",
            "Experience In Years Column 105\n",
            "CGPA Column 181\n",
            "Percentage Column 156\n",
            "Passing Year Column 59\n",
            "Grade Column 4\n",
            "Total Tenure Worked Column 96\n",
            "Division Column 16\n",
            "Degree Column 136\n"
          ],
          "name": "stdout"
        }
      ]
    },
    {
      "cell_type": "markdown",
      "metadata": {
        "id": "PH8exUNpLCvG"
      },
      "source": [
        "# **now showing the number of data**"
      ]
    },
    {
      "cell_type": "code",
      "metadata": {
        "colab": {
          "base_uri": "https://localhost:8080/"
        },
        "id": "RCwK7MzTDn6q",
        "outputId": "0a743893-a1e1-4793-c3e4-f724c4d8ff74"
      },
      "source": [
        "print('The data summary in dataset is')\n",
        "print(\"\\n \\t The data has {} response\\n\".format(OfficerPerformanceDatasetDf.shape))"
      ],
      "execution_count": null,
      "outputs": [
        {
          "output_type": "stream",
          "text": [
            "The data summary in dataset is\n",
            "\n",
            " \t The data has (45131, 16) response\n",
            "\n"
          ],
          "name": "stdout"
        }
      ]
    },
    {
      "cell_type": "code",
      "metadata": {
        "colab": {
          "base_uri": "https://localhost:8080/"
        },
        "id": "U5nXma7jLb0c",
        "outputId": "54ca0586-57c7-4390-8115-209b1761529f"
      },
      "source": [
        "print(\"\\n \\t The Officers Performance Dataset data frame has {0[0]} rows and {0[1]} columns. \\n\".format(OfficerPerformanceDatasetDf.shape))"
      ],
      "execution_count": null,
      "outputs": [
        {
          "output_type": "stream",
          "text": [
            "\n",
            " \t The Officers Performance Dataset data frame has 45131 rows and 16 columns. \n",
            "\n"
          ],
          "name": "stdout"
        }
      ]
    },
    {
      "cell_type": "markdown",
      "metadata": {
        "id": "1XLSXawdoOPM"
      },
      "source": [
        "### **droping the column not useful**"
      ]
    },
    {
      "cell_type": "code",
      "metadata": {
        "id": "JvfYHd1CoG4q",
        "colab": {
          "base_uri": "https://localhost:8080/"
        },
        "outputId": "7068916c-cfff-43d1-e545-8f78c33b99d4"
      },
      "source": [
        "print('droping the column not useful')\n",
        "OfficerPerformanceDatasetDf.drop(['Name'],axis = 1,inplace=True)"
      ],
      "execution_count": null,
      "outputs": [
        {
          "output_type": "stream",
          "text": [
            "droping the column not useful\n"
          ],
          "name": "stdout"
        }
      ]
    },
    {
      "cell_type": "code",
      "metadata": {
        "colab": {
          "base_uri": "https://localhost:8080/"
        },
        "id": "skil2Xm-z69o",
        "outputId": "c532210d-5ab0-45d8-d397-1ee0af0545e7"
      },
      "source": [
        "OfficerPerformanceDatasetDf.dtypes"
      ],
      "execution_count": null,
      "outputs": [
        {
          "output_type": "execute_result",
          "data": {
            "text/plain": [
              "batch_year              int64\n",
              "OfficerID               int64\n",
              "Gender_name            object\n",
              "CategoryDesc           object\n",
              "CadreStateName         object\n",
              "ServiceShort           object\n",
              "Age_InYears             int64\n",
              "Experience_InYears      int64\n",
              "CGPA                  float64\n",
              "Percentage            float64\n",
              "Officers_Grade         object\n",
              "PassingYear             int64\n",
              "TotalTenureWorked       int64\n",
              "DivisionDesc           object\n",
              "DegreeDesc             object\n",
              "dtype: object"
            ]
          },
          "metadata": {
            "tags": []
          },
          "execution_count": 14
        }
      ]
    },
    {
      "cell_type": "markdown",
      "metadata": {
        "id": "8vhflkfZWPcn"
      },
      "source": [
        "# **Getting description of dataset using describe keyword**"
      ]
    },
    {
      "cell_type": "code",
      "metadata": {
        "colab": {
          "base_uri": "https://localhost:8080/"
        },
        "id": "40W5ERAEWPx_",
        "outputId": "f7b6c07e-4d40-470e-ab29-84ce63baaabb"
      },
      "source": [
        "print('fetching the description of the Officers Performance Dataset using describe keyword')\n",
        "print('Officers Performance Dataset description ::')\n",
        "print(OfficerPerformanceDatasetDf.describe())"
      ],
      "execution_count": null,
      "outputs": [
        {
          "output_type": "stream",
          "text": [
            "fetching the description of the Officers Performance Dataset using describe keyword\n",
            "Officers Performance Dataset description ::\n",
            "         batch_year     OfficerID  ...   PassingYear  TotalTenureWorked\n",
            "count  45131.000000  45131.000000  ...  45131.000000       45131.000000\n",
            "mean    1960.680619  14492.395427  ...   1990.929649          36.194567\n",
            "std       27.441313   9092.328444  ...     29.839748          18.010326\n",
            "min     1900.000000      1.000000  ...     92.000000           2.000000\n",
            "25%     1935.000000   6986.000000  ...   1990.000000          24.000000\n",
            "50%     1983.000000  14122.000000  ...   1990.000000          37.000000\n",
            "75%     1983.000000  20970.500000  ...   1990.000000          47.000000\n",
            "max     2022.000000  37535.000000  ...   2019.000000         121.000000\n",
            "\n",
            "[8 rows x 8 columns]\n"
          ],
          "name": "stdout"
        }
      ]
    },
    {
      "cell_type": "markdown",
      "metadata": {
        "id": "nuZ5xXmpWQFR"
      },
      "source": [
        "# **Displaying Some Value Counts or Statistical Summary of some columns**"
      ]
    },
    {
      "cell_type": "code",
      "metadata": {
        "colab": {
          "base_uri": "https://localhost:8080/"
        },
        "id": "i8zb8bdlWSyF",
        "outputId": "88ae59cb-caa5-49ca-bd25-aae44634d22b"
      },
      "source": [
        "print('Summary of Gender Columns')\n",
        "#how many cases are included in the dataset\n",
        "print('calculating the length of dataset')\n",
        "length = len(OfficerPerformanceDatasetDf)\n",
        "\n",
        "#how many features are in the dataset\n",
        "print('displaying how many features are there in the dataset')\n",
        "features = OfficerPerformanceDatasetDf.shape[1]-1\n",
        "\n",
        "# Number of Male Officers\n",
        "print('calculating the number of Male Officers')\n",
        "Male_Officers = len(OfficerPerformanceDatasetDf[OfficerPerformanceDatasetDf['Gender_name']=='Male'])\n",
        "\n",
        "#Number of Female Officers\n",
        "print('calculating the number of Female Officers')\n",
        "Female_Officers = len(OfficerPerformanceDatasetDf[OfficerPerformanceDatasetDf['Gender_name']=='Female'])\n",
        "\n",
        "#Rate of malignant tumors over all cases\n",
        "print('calculating the percentage of Male Ofiicers')\n",
        "rate_MaleOfficers = (float(Male_Officers)/(length))*100\n",
        "\n",
        "#Rate of benign tumors over all cases\n",
        "print('calculating the percentage of Female Officers\\n')\n",
        "rate_FemaleOfficers = (float(Female_Officers)/(length))*100\n",
        "\n",
        "print('showing the result\\n')\n",
        "print(\"There are \"+ str(len(OfficerPerformanceDatasetDf)) + \" cases in this dataset\")\n",
        "print(\"There are {}\".format(features)+\" features in this dataset\")\n",
        "print(\"There are {}\".format(Male_Officers)+\" Male Officers\")\n",
        "print(\"There are {}\".format(Female_Officers)+\" Female Officers\")\n",
        "print(\"The percentage of Male Officers is: {:.4f}%\".format(rate_MaleOfficers))\n",
        "print(\"The percentage of Female Officers is: {:.4f}%\".format(rate_FemaleOfficers))"
      ],
      "execution_count": null,
      "outputs": [
        {
          "output_type": "stream",
          "text": [
            "Summary of Gender Columns\n",
            "calculating the length of dataset\n",
            "displaying how many features are there in the dataset\n",
            "calculating the number of Male Officers\n",
            "calculating the number of Female Officers\n",
            "calculating the percentage of Male Ofiicers\n",
            "calculating the percentage of Female Officers\n",
            "\n",
            "showing the result\n",
            "\n",
            "There are 45131 cases in this dataset\n",
            "There are 14 features in this dataset\n",
            "There are 40114 Male Officers\n",
            "There are 5017 Female Officers\n",
            "The percentage of Male Officers is: 88.8835%\n",
            "The percentage of Female Officers is: 11.1165%\n"
          ],
          "name": "stdout"
        }
      ]
    },
    {
      "cell_type": "code",
      "metadata": {
        "colab": {
          "base_uri": "https://localhost:8080/"
        },
        "id": "hBYIFmm4XWdQ",
        "outputId": "c6db13ac-202b-4e9f-a6a4-87e475f28edd"
      },
      "source": [
        "print('Statistical values of Category Column')\n",
        "# Number of General Officers\n",
        "print('calculating the number of General Officers')\n",
        "General_Officers = len(OfficerPerformanceDatasetDf[OfficerPerformanceDatasetDf['CategoryDesc']=='General'])\n",
        "#Number of S.C. Officers\n",
        "print('calculating the number of S.C. Officers')\n",
        "SC_Officers = len(OfficerPerformanceDatasetDf[OfficerPerformanceDatasetDf['CategoryDesc']=='S.C.'])\n",
        "#Number of S.T. Officers\n",
        "print('calculating the number of S.T. Officers')\n",
        "ST_Officers = len(OfficerPerformanceDatasetDf[OfficerPerformanceDatasetDf['CategoryDesc']=='S.T.'])\n",
        "#Number of O.B.C. Officers\n",
        "print('calculating the number of O.B.C. Officers')\n",
        "OBC_Officers = len(OfficerPerformanceDatasetDf[OfficerPerformanceDatasetDf['CategoryDesc']=='O.B.C.'])\n",
        "\n",
        "# Rate of General Officers\n",
        "print('calculating the rate of General Officers')\n",
        "Rate_General_Officers = (float(General_Officers)/(length))*100\n",
        "# Rate of S.C. Officers\n",
        "print('calculating the rate of S.C. Officers')\n",
        "Rate_SC_Officers = (float(SC_Officers)/(length))*100\n",
        "# Rate of S.T. Officers\n",
        "print('calculating the rate of S.T. Officers')\n",
        "Rate_ST_Officers = (float(ST_Officers)/(length))*100\n",
        "# Rate of O.B.C. Officers\n",
        "print('calculating the rate of O.B.C. Officers')\n",
        "Rate_OBC_Officers = (float(OBC_Officers)/(length))*100\n",
        "\n",
        "print('showing the result\\n')\n",
        "print(\"There are \"+ str(len(OfficerPerformanceDatasetDf)) + \" cases in this dataset\")\n",
        "print(\"There are {}\".format(General_Officers)+\" General Officers\")\n",
        "print(\"There are {}\".format(SC_Officers)+\" SC Officers\")\n",
        "print(\"There are {}\".format(ST_Officers)+\" ST Officers\")\n",
        "print(\"There are {}\".format(OBC_Officers)+\" OBC Officers\")\n",
        "print(\"The percentage of General Officers is: {:.4f}%\".format(Rate_General_Officers))\n",
        "print(\"The percentage of SC Officers is: {:.4f}%\".format(Rate_SC_Officers))\n",
        "print(\"The percentage of ST Officers is: {:.4f}%\".format(Rate_ST_Officers))\n",
        "print(\"The percentage of OBC Officers is: {:.4f}%\".format(Rate_OBC_Officers))"
      ],
      "execution_count": null,
      "outputs": [
        {
          "output_type": "stream",
          "text": [
            "Statistical values of Category Column\n",
            "calculating the number of General Officers\n",
            "calculating the number of S.C. Officers\n",
            "calculating the number of S.T. Officers\n",
            "calculating the number of O.B.C. Officers\n",
            "calculating the rate of General Officers\n",
            "calculating the rate of S.C. Officers\n",
            "calculating the rate of S.T. Officers\n",
            "calculating the rate of O.B.C. Officers\n",
            "showing the result\n",
            "\n",
            "There are 45131 cases in this dataset\n",
            "There are 0 General Officers\n",
            "There are 1753 SC Officers\n",
            "There are 1794 ST Officers\n",
            "There are 32301 OBC Officers\n",
            "The percentage of General Officers is: 0.0000%\n",
            "The percentage of SC Officers is: 3.8842%\n",
            "The percentage of ST Officers is: 3.9751%\n",
            "The percentage of OBC Officers is: 71.5716%\n"
          ],
          "name": "stdout"
        }
      ]
    },
    {
      "cell_type": "code",
      "metadata": {
        "colab": {
          "base_uri": "https://localhost:8080/"
        },
        "id": "iDFxY7vYXWnv",
        "outputId": "3ce07261-d13b-429d-b762-cd786c7d48fd"
      },
      "source": [
        "print('Statistical values of Cadre States Column')\n",
        "# Number of officers in distinct cadre states\n",
        "# Number of Cadre States in Rajasthan Officers\n",
        "print('calculating the number of Cadre States in Rajasthan Officers')\n",
        "Rajasthan_Officers = len(OfficerPerformanceDatasetDf[OfficerPerformanceDatasetDf['CadreStateName']=='Rajasthan'])\n",
        "# Number of Cadre States in Tamil Nadu Officers\n",
        "print('calculating the number of Cadre States in Tamil Nadu Officers')\n",
        "Tamil_Nadu_Officers = len(OfficerPerformanceDatasetDf[OfficerPerformanceDatasetDf['CadreStateName']=='Tamil Nadu'])\n",
        "# Number of Cadre States in Sikkim Officers\n",
        "print('calculating the number of Cadre States in Sikkim Officers')\n",
        "Sikkim_Officers = len(OfficerPerformanceDatasetDf[OfficerPerformanceDatasetDf['CadreStateName']=='Sikkim'])\n",
        "# Number of Cadre States in Andhra Pradesh Officers\n",
        "print('calculating the number of Cadre States in Andhra Pradesh Officers')\n",
        "Andrhra_Pradesh_Officers = len(OfficerPerformanceDatasetDf[OfficerPerformanceDatasetDf['CadreStateName']=='Andhra Pradesh'])\n",
        "# Number of Cadre States in A G M U T Officers\n",
        "print('calculating the number of Cadre States in A G M U T Officers')\n",
        "AGMUT_Officers = len(OfficerPerformanceDatasetDf[OfficerPerformanceDatasetDf['CadreStateName']=='A G M U T'])\n",
        "# Number of Cadre States in Assam Meghalya Officers\n",
        "print('calculating the number of Cadre States in Assam Meghalya Officers')\n",
        "Assam_Meghalya_Officers = len(OfficerPerformanceDatasetDf[OfficerPerformanceDatasetDf['CadreStateName']=='Assam Meghalya'])\n",
        "# Number of Cadre States in Uttar Pradesh Officers\n",
        "print('calculating the number of Cadre States in Uttar Pradesh Officers')\n",
        "Uttar_Pradesh_Officers = len(OfficerPerformanceDatasetDf[OfficerPerformanceDatasetDf['CadreStateName']=='Uttar Pradesh'])\n",
        "# Number of Cadre States in Tripura Officers\n",
        "print('calculating the number of Cadre States in Tripura Officers')\n",
        "Tripura_Officers = len(OfficerPerformanceDatasetDf[OfficerPerformanceDatasetDf['CadreStateName']=='Tripura'])\n",
        "# Number of Cadre States in Chhattisgarh Officers\n",
        "print('calculating the number of Cadre States in Chhattisgarh Officers')\n",
        "Chhattisgarh_Officers = len(OfficerPerformanceDatasetDf[OfficerPerformanceDatasetDf['CadreStateName']=='Chhattisgarh'])\n",
        "# Number of Cadre States in Haryana Officers\n",
        "print('calculating the number of Cadre States in Haryana Officers')\n",
        "Haryana_Officers = len(OfficerPerformanceDatasetDf[OfficerPerformanceDatasetDf['CadreStateName']=='Haryana'])\n",
        "# Number of Cadre States in Gujarat Officers\n",
        "print('calculating the number of Cadre States in Gujarat Officers')\n",
        "Gujarat_Officers = len(OfficerPerformanceDatasetDf[OfficerPerformanceDatasetDf['CadreStateName']=='Gujarat'])\n",
        "# Number of Cadre States in Jammu & Kashmir Officers\n",
        "print('calculating the number of Cadre States in Jammu & Kashmir Officers')\n",
        "Jammu_Kashmir_Officers = len(OfficerPerformanceDatasetDf[OfficerPerformanceDatasetDf['CadreStateName']=='Jammu & Kashmir'])\n",
        "# Number of Cadre States in Himachal Pradesh Officers\n",
        "print('calculating the number of Cadre States in Himachal Pradesh Officers')\n",
        "Himachal_Pradesh_Officers = len(OfficerPerformanceDatasetDf[OfficerPerformanceDatasetDf['CadreStateName']=='Himachal Pradesh'])\n",
        "# Number of Cadre States in Karnataka Officers\n",
        "print('calculating the number of Cadre States in Karnataka Officers')\n",
        "Karnataka_Officers = len(OfficerPerformanceDatasetDf[OfficerPerformanceDatasetDf['CadreStateName']=='Karnataka'])\n",
        "# Number of Cadre States in Jharkhand Officers\n",
        "print('calculating the number of Cadre States in Jharkhand Officers')\n",
        "Jharkhand_Officers = len(OfficerPerformanceDatasetDf[OfficerPerformanceDatasetDf['CadreStateName']=='Jharkhand'])\n",
        "# Number of Cadre States in Uttarakhand Officers\n",
        "print('calculating the number of Cadre States in Uttarakhand Officers')\n",
        "Uttarakhand_Officers = len(OfficerPerformanceDatasetDf[OfficerPerformanceDatasetDf['CadreStateName']=='Uttarakhand'])\n",
        "# Number of Cadre States in Madhya Pradesh Officers\n",
        "print('calculating the number of Cadre States in Madhya Pradesh Officers')\n",
        "Madhya_Pradesh_Officers = len(OfficerPerformanceDatasetDf[OfficerPerformanceDatasetDf['CadreStateName']=='Madhya Pradesh'])\n",
        "# Number of Cadre States in Kerala Officers\n",
        "print('calculating the number of Cadre States in Kerala Officers')\n",
        "Kerala_Officers = len(OfficerPerformanceDatasetDf[OfficerPerformanceDatasetDf['CadreStateName']=='Kerala'])\n",
        "# Number of Cadre States in Manipur Officers\n",
        "print('calculating the number of Cadre States in Manipur Officers')\n",
        "Manipur_Officers = len(OfficerPerformanceDatasetDf[OfficerPerformanceDatasetDf['CadreStateName']=='Manipur'])\n",
        "# Number of Cadre States in Manipur-Tripura Officers\n",
        "print('calculating the number of Cadre States in Manipur-Tripura Officers')\n",
        "Manipur_Tripura_Officers = len(OfficerPerformanceDatasetDf[OfficerPerformanceDatasetDf['CadreStateName']=='Manipur-Tripura'])\n",
        "# Number of Cadre States in Nagaland Officers\n",
        "print('calculating the number of Cadre States in Nagaland Officers')\n",
        "Nagaland_Officers = len(OfficerPerformanceDatasetDf[OfficerPerformanceDatasetDf['CadreStateName']=='Nagaland'])\n",
        "# Number of Cadre States in Odisha Officers\n",
        "print('calculating the number of Cadre States in Odisha Officers')\n",
        "Odisha_Officers = len(OfficerPerformanceDatasetDf[OfficerPerformanceDatasetDf['CadreStateName']=='Odisha'])\n",
        "# Number of Cadre States in Maharashtra Officers\n",
        "print('calculating the number of Cadre States in Maharashtra Officers')\n",
        "Maharashtra_Officers = len(OfficerPerformanceDatasetDf[OfficerPerformanceDatasetDf['CadreStateName']=='Maharashtra'])\n",
        "# Number of Cadre States in Telangana Officers\n",
        "print('calculating the number of Cadre States in Telangana Officers')\n",
        "Telangana_Officers = len(OfficerPerformanceDatasetDf[OfficerPerformanceDatasetDf['CadreStateName']=='Telangana'])\n",
        "# Number of Cadre States in Punjab Officers\n",
        "print('calculating the number of Cadre States in Punjab Officers')\n",
        "Punjab_Officers = len(OfficerPerformanceDatasetDf[OfficerPerformanceDatasetDf['CadreStateName']=='Punjab'])\n",
        "# Number of Cadre States in Bihar Officers\n",
        "print('calculating the number of Cadre States in Bihar Officers')\n",
        "Bihar_Officers = len(OfficerPerformanceDatasetDf[OfficerPerformanceDatasetDf['CadreStateName']=='Bihar'])\n",
        "\n",
        "# Rate of Rajasthan Officers\n",
        "print('calculating the rate percentage of Cadre States in Rajasthan Officers')\n",
        "Rate_Rajasthan_Officers = (float(Rajasthan_Officers)/(length))*100\n",
        "# Rate of Tamil Nadu Officers\n",
        "print('calculating the rate percentage of Cadre States in Tamil Nadu Officers')\n",
        "Rate_Tamil_Nadu_Officers = (float(Tamil_Nadu_Officers)/(length))*100\n",
        "# Rate of Sikkim Officers\n",
        "print('calculating the rate percentage of Cadre States in Sikkim Officers')\n",
        "Rate_Sikkim_Officers = (float(Sikkim_Officers)/(length))*100\n",
        "# Rate of Andhra Pradesh Officers\n",
        "print('calculating the rate percentage of Cadre States in Andhra Pradesh Officers')\n",
        "Rate_Andrhra_Pradesh_Officers = (float(Andrhra_Pradesh_Officers)/(length))*100\n",
        "# Rate of A G M U T Officers\n",
        "print('calculating the rate percentage of Cadre States in A G M U T Officers')\n",
        "Rate_AGMUT_Officers = (float(AGMUT_Officers)/(length))*100\n",
        "# Rate of Assam Meghalya Officers\n",
        "print('calculating the rate percentage of Cadre States in Assam Meghalya Officers')\n",
        "Rate_Assam_Meghalya_Officers = (float(Assam_Meghalya_Officers)/(length))*100\n",
        "# Rate of Uttar Pradesh Officers\n",
        "print('calculating the rate percentage of Cadre States in Uttar Pradesh Officers')\n",
        "Rate_Uttar_Pradesh_Officers = (float(Uttar_Pradesh_Officers)/(length))*100\n",
        "# Rate of Tripura Officers\n",
        "print('calculating the rate percentage of Cadre States in Tripura Officers')\n",
        "Rate_Tripura_Officers = (float(Tripura_Officers)/(length))*100\n",
        "# Rate of Chhattisgarh Officers\n",
        "print('calculating the rate percentage of Cadre States in Chhattisgarh Officers')\n",
        "Rate_Chhattisgarh_Officers = (float(Chhattisgarh_Officers)/(length))*100\n",
        "# Rate of Haryana Officers\n",
        "print('calculating the rate percentage of Cadre States in Haryana Officers')\n",
        "Rate_Haryana_Officers = (float(Haryana_Officers)/(length))*100\n",
        "# Rate of Gujarat Officers\n",
        "print('calculating the rate percentage of Cadre States in Gujarat Officers')\n",
        "Rate_Gujarat_Officers = (float(Gujarat_Officers)/(length))*100\n",
        "# Rate of Jammu & Kashmir Officers\n",
        "print('calculating the rate percentage of Cadre States in Jammu & Kashmir Officers')\n",
        "Rate_Jammu_Kashmir_Officers = (float(Jammu_Kashmir_Officers)/(length))*100\n",
        "# Rate of Himachal Pradesh Officers\n",
        "print('calculating the rate percentage of Cadre States in Himachal Pradesh Officers')\n",
        "Rate_Himachal_Pradesh_Officers = (float(Himachal_Pradesh_Officers)/(length))*100\n",
        "# Rate of Karnataka Officers\n",
        "print('calculating the rate percentage of Cadre States in Karnataka Officers')\n",
        "Rate_Karnataka_Officers = (float(Karnataka_Officers)/(length))*100\n",
        "# Rate of Jharkhand Officers\n",
        "print('calculating the rate percentage of Cadre States in Jharkhand Officers')\n",
        "Rate_Jharkhand_Officers = (float(Jharkhand_Officers)/(length))*100\n",
        "# Rate of Uttarakhand Officers\n",
        "print('calculating the rate percentage of Cadre States in Uttarakhand Officers')\n",
        "Rate_Uttarakhand_Officers = (float(Uttarakhand_Officers)/(length))*100\n",
        "# Rate of Madhya Pradesh Officers\n",
        "print('calculating the rate percentage of Cadre States in Madhya Pradesh Officers')\n",
        "Rate_Madhya_Pradesh_Officers = (float(Madhya_Pradesh_Officers)/(length))*100\n",
        "# Rate of Kerala Officers\n",
        "print('calculating the rate percentage of Cadre States in Kerala Officers')\n",
        "Rate_Kerala_Officers = (float(Kerala_Officers)/(length))*100\n",
        "# Rate of Manipur Officers\n",
        "print('calculating the rate percentage of Cadre States in Manipur Officers')\n",
        "Rate_Manipur_Officers = (float(Manipur_Officers)/(length))*100\n",
        "# Rate of Manipur-Tripura Officers\n",
        "print('calculating the rate percentage of Cadre States in Manipur-Tripura Officers')\n",
        "Rate_Manipur_Tripura_Officers = (float(Manipur_Tripura_Officers)/(length))*100\n",
        "# Rate of Nagaland Officers\n",
        "print('calculating the rate percentage of Cadre States in Nagaland Officers')\n",
        "Rate_Nagaland_Officers = (float(Nagaland_Officers)/(length))*100\n",
        "# Rate of Odisha Officers\n",
        "print('calculating the rate percentage of Cadre States in Odisha Officers')\n",
        "Rate_Odisha_Officers = (float(Odisha_Officers)/(length))*100\n",
        "# Rate of Maharashtra Officers\n",
        "print('calculating the rate percentage of Cadre States in Maharashtra Officers')\n",
        "Rate_Maharashtra_Officers = (float(Maharashtra_Officers)/(length))*100\n",
        "# Rate of Telangana Officers\n",
        "print('calculating the rate percentage of Cadre States in Telangana Officers')\n",
        "Rate_Telangana_Officers = (float(Telangana_Officers)/(length))*100\n",
        "# Rate of Punjab Officers\n",
        "print('calculating the rate percentage of Cadre States in Punjab Officers')\n",
        "Rate_Punjab_Officers = (float(Punjab_Officers)/(length))*100\n",
        "# Rate of Bihar Officers\n",
        "print('calculating the rate percentage of Cadre States in Bihar Officers')\n",
        "Rate_Bihar_Officers = (float(Bihar_Officers)/(length))*100\n",
        "\n",
        "print('showing the result\\n')\n",
        "print(\"There are \"+ str(len(OfficerPerformanceDatasetDf)) + \" cases in this dataset\")\n",
        "print(\"There are {}\".format(Rajasthan_Officers)+\" Officers in Rajasthan Cadre\")\n",
        "print(\"There are {}\".format(Tamil_Nadu_Officers)+\" Officers in Tamil Nadu Cadre\")\n",
        "print(\"There are {}\".format(Sikkim_Officers)+\" Officers in Sikkim Cadre\")\n",
        "print(\"There are {}\".format(Andrhra_Pradesh_Officers)+\" Officers in Andhra Pradesh Cadre\")\n",
        "print(\"There are {}\".format(AGMUT_Officers)+\" Officers in A G M U T Cadre\")\n",
        "print(\"There are {}\".format(Assam_Meghalya_Officers)+\" Officers in Assam Meghalya Cadre\")\n",
        "print(\"There are {}\".format(Uttar_Pradesh_Officers)+\" Officers in Uttar Pradesh Cadre\")\n",
        "print(\"There are {}\".format(Tripura_Officers)+\" Officers in Tripura Cadre\")\n",
        "print(\"There are {}\".format(Chhattisgarh_Officers)+\" Officers in Chhattisgarh Cadre\")\n",
        "print(\"There are {}\".format(Haryana_Officers)+\" Officers in Haryana Cadre\")\n",
        "print(\"There are {}\".format(Gujarat_Officers)+\" Officers in Gujarat Cadre\")\n",
        "print(\"There are {}\".format(Jammu_Kashmir_Officers)+\" Officers in Jammu Kashmir Cadre\")\n",
        "print(\"There are {}\".format(Himachal_Pradesh_Officers)+\" Officers in Himachal Pradesh Cadre\")\n",
        "print(\"There are {}\".format(Karnataka_Officers)+\" Officers in Karnataka Cadre\")\n",
        "print(\"There are {}\".format(Jharkhand_Officers)+\" Officers in Jharkhand Cadre\")\n",
        "print(\"There are {}\".format(Uttarakhand_Officers)+\" Officers in Uttarakhand Cadre\")\n",
        "print(\"There are {}\".format(Madhya_Pradesh_Officers)+\" Officers in Madhya Pradesh Cadre\")\n",
        "print(\"There are {}\".format(Kerala_Officers)+\" Officers in Kerala Cadre\")\n",
        "print(\"There are {}\".format(Manipur_Officers)+\" Officers in Manipur Cadre\")\n",
        "print(\"There are {}\".format(Manipur_Tripura_Officers)+\" Officers in Manipur Tripura Cadre\")\n",
        "print(\"There are {}\".format(Nagaland_Officers)+\" Officers in Nagaland Cadre\")\n",
        "print(\"There are {}\".format(Odisha_Officers)+\" Officers in Odisha Cadre\")\n",
        "print(\"There are {}\".format(Maharashtra_Officers)+\" Officers in Maharashtra Cadre\")\n",
        "print(\"There are {}\".format(Telangana_Officers)+\" Officers in Telangana Cadre\")\n",
        "print(\"There are {}\".format(Punjab_Officers)+\" Officers in Punjab Cadre\")\n",
        "print(\"There are {}\".format(Bihar_Officers)+\" Officers in Bihar Cadre\")\n",
        "print(\"The percentage of Officers in Rajasthan Cadre is: {:.4f}%\".format(Rate_Rajasthan_Officers))\n",
        "print(\"The percentage of Officers in Tamil Nadu Cadre is: {:.4f}%\".format(Rate_Tamil_Nadu_Officers))\n",
        "print(\"The percentage of Officers in Sikkim Cadre is: {:.4f}%\".format(Rate_Sikkim_Officers))\n",
        "print(\"The percentage of Officers in Andhra Pradesh Cadre is: {:.4f}%\".format(Rate_Andrhra_Pradesh_Officers))\n",
        "print(\"The percentage of Officers in A G M U T Cadre is: {:.4f}%\".format(Rate_AGMUT_Officers))\n",
        "print(\"The percentage of Officers in Assam Meghalya Cadre is: {:.4f}%\".format(Rate_Assam_Meghalya_Officers))\n",
        "print(\"The percentage of Officers in Uttar Pradesh Cadre is: {:.4f}%\".format(Rate_Uttar_Pradesh_Officers))\n",
        "print(\"The percentage of Officers in Tripura Cadre is: {:.4f}%\".format(Rate_Tripura_Officers))\n",
        "print(\"The percentage of Officers in Chhattisgarh Cadre is: {:.4f}%\".format(Rate_Chhattisgarh_Officers))\n",
        "print(\"The percentage of Officers in Haryana Cadre is: {:.4f}%\".format(Rate_Haryana_Officers))\n",
        "print(\"The percentage of Officers in Gujarat Cadre is: {:.4f}%\".format(Rate_Gujarat_Officers))\n",
        "print(\"The percentage of Officers in Jammu Kashmir Cadre is: {:.4f}%\".format(Rate_Jammu_Kashmir_Officers))\n",
        "print(\"The percentage of Officers in Himachal Pradesh Cadre is: {:.4f}%\".format(Rate_Himachal_Pradesh_Officers))\n",
        "print(\"The percentage of Officers in Karnataka Cadre is: {:.4f}%\".format(Rate_Karnataka_Officers))\n",
        "print(\"The percentage of Officers in Jharkhand Cadre is: {:.4f}%\".format(Rate_Jharkhand_Officers))\n",
        "print(\"The percentage of Officers in Uttarakhand Cadre is: {:.4f}%\".format(Rate_Uttarakhand_Officers))\n",
        "print(\"The percentage of Officers in Madhya Pradesh Cadre is: {:.4f}%\".format(Rate_Madhya_Pradesh_Officers))\n",
        "print(\"The percentage of Officers in Kerala Cadre is: {:.4f}%\".format(Rate_Kerala_Officers))\n",
        "print(\"The percentage of Officers in Manipur Cadre is: {:.4f}%\".format(Rate_Manipur_Officers))\n",
        "print(\"The percentage of Officers in Manipur Tripura Cadre is: {:.4f}%\".format(Rate_Manipur_Tripura_Officers))\n",
        "print(\"The percentage of Officers in Nagaland Cadre is: {:.4f}%\".format(Rate_Nagaland_Officers))\n",
        "print(\"The percentage of Officers in Odisha Cadre is: {:.4f}%\".format(Rate_Odisha_Officers))\n",
        "print(\"The percentage of Officers in Maharashtra Cadre is: {:.4f}%\".format(Rate_Maharashtra_Officers))\n",
        "print(\"The percentage of Officers in Telangana Cadre is: {:.4f}%\".format(Rate_Telangana_Officers))\n",
        "print(\"The percentage of Officers in Punjab Cadre is: {:.4f}%\".format(Rate_Punjab_Officers))\n",
        "print(\"The percentage of Officers in Bihar Cadre is: {:.4f}%\".format(Rate_Bihar_Officers))"
      ],
      "execution_count": null,
      "outputs": [
        {
          "output_type": "stream",
          "text": [
            "Statistical values of Cadre States Column\n",
            "calculating the number of Cadre States in Rajasthan Officers\n",
            "calculating the number of Cadre States in Tamil Nadu Officers\n",
            "calculating the number of Cadre States in Sikkim Officers\n",
            "calculating the number of Cadre States in Andhra Pradesh Officers\n",
            "calculating the number of Cadre States in A G M U T Officers\n",
            "calculating the number of Cadre States in Assam Meghalya Officers\n",
            "calculating the number of Cadre States in Uttar Pradesh Officers\n",
            "calculating the number of Cadre States in Tripura Officers\n",
            "calculating the number of Cadre States in Chhattisgarh Officers\n",
            "calculating the number of Cadre States in Haryana Officers\n",
            "calculating the number of Cadre States in Gujarat Officers\n",
            "calculating the number of Cadre States in Jammu & Kashmir Officers\n",
            "calculating the number of Cadre States in Himachal Pradesh Officers\n",
            "calculating the number of Cadre States in Karnataka Officers\n",
            "calculating the number of Cadre States in Jharkhand Officers\n",
            "calculating the number of Cadre States in Uttarakhand Officers\n",
            "calculating the number of Cadre States in Madhya Pradesh Officers\n",
            "calculating the number of Cadre States in Kerala Officers\n",
            "calculating the number of Cadre States in Manipur Officers\n",
            "calculating the number of Cadre States in Manipur-Tripura Officers\n",
            "calculating the number of Cadre States in Nagaland Officers\n",
            "calculating the number of Cadre States in Odisha Officers\n",
            "calculating the number of Cadre States in Maharashtra Officers\n",
            "calculating the number of Cadre States in Telangana Officers\n",
            "calculating the number of Cadre States in Punjab Officers\n",
            "calculating the number of Cadre States in Bihar Officers\n",
            "calculating the rate percentage of Cadre States in Rajasthan Officers\n",
            "calculating the rate percentage of Cadre States in Tamil Nadu Officers\n",
            "calculating the rate percentage of Cadre States in Sikkim Officers\n",
            "calculating the rate percentage of Cadre States in Andhra Pradesh Officers\n",
            "calculating the rate percentage of Cadre States in A G M U T Officers\n",
            "calculating the rate percentage of Cadre States in Assam Meghalya Officers\n",
            "calculating the rate percentage of Cadre States in Uttar Pradesh Officers\n",
            "calculating the rate percentage of Cadre States in Tripura Officers\n",
            "calculating the rate percentage of Cadre States in Chhattisgarh Officers\n",
            "calculating the rate percentage of Cadre States in Haryana Officers\n",
            "calculating the rate percentage of Cadre States in Gujarat Officers\n",
            "calculating the rate percentage of Cadre States in Jammu & Kashmir Officers\n",
            "calculating the rate percentage of Cadre States in Himachal Pradesh Officers\n",
            "calculating the rate percentage of Cadre States in Karnataka Officers\n",
            "calculating the rate percentage of Cadre States in Jharkhand Officers\n",
            "calculating the rate percentage of Cadre States in Uttarakhand Officers\n",
            "calculating the rate percentage of Cadre States in Madhya Pradesh Officers\n",
            "calculating the rate percentage of Cadre States in Kerala Officers\n",
            "calculating the rate percentage of Cadre States in Manipur Officers\n",
            "calculating the rate percentage of Cadre States in Manipur-Tripura Officers\n",
            "calculating the rate percentage of Cadre States in Nagaland Officers\n",
            "calculating the rate percentage of Cadre States in Odisha Officers\n",
            "calculating the rate percentage of Cadre States in Maharashtra Officers\n",
            "calculating the rate percentage of Cadre States in Telangana Officers\n",
            "calculating the rate percentage of Cadre States in Punjab Officers\n",
            "calculating the rate percentage of Cadre States in Bihar Officers\n",
            "showing the result\n",
            "\n",
            "There are 45131 cases in this dataset\n",
            "There are 218 Officers in Rajasthan Cadre\n",
            "There are 279 Officers in Tamil Nadu Cadre\n",
            "There are 1314 Officers in Sikkim Cadre\n",
            "There are 1054 Officers in Andhra Pradesh Cadre\n",
            "There are 1148 Officers in A G M U T Cadre\n",
            "There are 1530 Officers in Assam Meghalya Cadre\n",
            "There are 303 Officers in Uttar Pradesh Cadre\n",
            "There are 23276 Officers in Tripura Cadre\n",
            "There are 1206 Officers in Chhattisgarh Cadre\n",
            "There are 758 Officers in Haryana Cadre\n",
            "There are 994 Officers in Gujarat Cadre\n",
            "There are 522 Officers in Jammu Kashmir Cadre\n",
            "There are 535 Officers in Himachal Pradesh Cadre\n",
            "There are 812 Officers in Karnataka Cadre\n",
            "There are 1315 Officers in Jharkhand Cadre\n",
            "There are 1709 Officers in Uttarakhand Cadre\n",
            "There are 1562 Officers in Madhya Pradesh Cadre\n",
            "There are 1767 Officers in Kerala Cadre\n",
            "There are 444 Officers in Manipur Cadre\n",
            "There are 254 Officers in Manipur Tripura Cadre\n",
            "There are 1087 Officers in Nagaland Cadre\n",
            "There are 1036 Officers in Odisha Cadre\n",
            "There are 173 Officers in Maharashtra Cadre\n",
            "There are 160 Officers in Telangana Cadre\n",
            "There are 1279 Officers in Punjab Cadre\n",
            "There are 395 Officers in Bihar Cadre\n",
            "The percentage of Officers in Rajasthan Cadre is: 0.4830%\n",
            "The percentage of Officers in Tamil Nadu Cadre is: 0.6182%\n",
            "The percentage of Officers in Sikkim Cadre is: 2.9115%\n",
            "The percentage of Officers in Andhra Pradesh Cadre is: 2.3354%\n",
            "The percentage of Officers in A G M U T Cadre is: 2.5437%\n",
            "The percentage of Officers in Assam Meghalya Cadre is: 3.3901%\n",
            "The percentage of Officers in Uttar Pradesh Cadre is: 0.6714%\n",
            "The percentage of Officers in Tripura Cadre is: 51.5743%\n",
            "The percentage of Officers in Chhattisgarh Cadre is: 2.6722%\n",
            "The percentage of Officers in Haryana Cadre is: 1.6796%\n",
            "The percentage of Officers in Gujarat Cadre is: 2.2025%\n",
            "The percentage of Officers in Jammu Kashmir Cadre is: 1.1566%\n",
            "The percentage of Officers in Himachal Pradesh Cadre is: 1.1854%\n",
            "The percentage of Officers in Karnataka Cadre is: 1.7992%\n",
            "The percentage of Officers in Jharkhand Cadre is: 2.9137%\n",
            "The percentage of Officers in Uttarakhand Cadre is: 3.7868%\n",
            "The percentage of Officers in Madhya Pradesh Cadre is: 3.4610%\n",
            "The percentage of Officers in Kerala Cadre is: 3.9153%\n",
            "The percentage of Officers in Manipur Cadre is: 0.9838%\n",
            "The percentage of Officers in Manipur Tripura Cadre is: 0.5628%\n",
            "The percentage of Officers in Nagaland Cadre is: 2.4085%\n",
            "The percentage of Officers in Odisha Cadre is: 2.2955%\n",
            "The percentage of Officers in Maharashtra Cadre is: 0.3833%\n",
            "The percentage of Officers in Telangana Cadre is: 0.3545%\n",
            "The percentage of Officers in Punjab Cadre is: 2.8340%\n",
            "The percentage of Officers in Bihar Cadre is: 0.8752%\n"
          ],
          "name": "stdout"
        }
      ]
    },
    {
      "cell_type": "code",
      "metadata": {
        "colab": {
          "base_uri": "https://localhost:8080/"
        },
        "id": "yKuRVzvUXW2N",
        "outputId": "0d140f1f-b7ec-4390-82ac-45e8e911491e"
      },
      "source": [
        "print('Statistical values of Degree Column')\n",
        "# Number of officers with distinct Qualification Degrees\n",
        "# Number of Officers With B.Sc. Qualification Degree\n",
        "print('calculating the number of Officers With B.Sc. Qualification Degree')\n",
        "BSc_Degree_Officers  = len(OfficerPerformanceDatasetDf[OfficerPerformanceDatasetDf['DegreeDesc']=='B.Sc.'])\n",
        "# Number of Officers With M.Sc. Qualification Degree\n",
        "print('calculating the number of Officers With M.Sc. Qualification Degree')\n",
        "MSc_Degree_Officers  = len(OfficerPerformanceDatasetDf[OfficerPerformanceDatasetDf['DegreeDesc']=='M.Sc.'])\n",
        "# Number of Officers With M.Phil. Qualification Degree\n",
        "print('calculating the number of Officers With M.Phil. Qualification Degree')\n",
        "MPhil_Degree_Officers  = len(OfficerPerformanceDatasetDf[OfficerPerformanceDatasetDf['DegreeDesc']=='M.Phil.'])\n",
        "# Number of Officers With M.A. Qualification Degree\n",
        "print('calculating the number of Officers With M.A. Qualification Degree')\n",
        "MA_Degree_Officers  = len(OfficerPerformanceDatasetDf[OfficerPerformanceDatasetDf['DegreeDesc']=='M.A.'])\n",
        "# Number of Officers With P.G. (USA) Qualification Degree\n",
        "print('calculating the number of Officers With P.G. (USA) Qualification Degree')\n",
        "PGUSA_Degree_Officers  = len(OfficerPerformanceDatasetDf[OfficerPerformanceDatasetDf['DegreeDesc']=='P.G. (USA)'])\n",
        "# Number of Officers With Ph.D.(U.S.A.) Qualification Degree\n",
        "print('calculating the number of Officers With Ph.D.(U.S.A.) Qualification Degree')\n",
        "PhDUSA_Degree_Officers  = len(OfficerPerformanceDatasetDf[OfficerPerformanceDatasetDf['DegreeDesc']=='Ph.D.(U.S.A.)'])\n",
        "# Number of Officers With P.G. Qualification Degree\n",
        "print('calculating the number of Officers With P.G. Qualification Degree')\n",
        "PG_Degree_Officers  = len(OfficerPerformanceDatasetDf[OfficerPerformanceDatasetDf['DegreeDesc']=='P.G.'])\n",
        "# Number of Officers With ICWAI Qualification Degree\n",
        "print('calculating the number of Officers With ICWAI Qualification Degree')\n",
        "ICWAI_Degree_Officers  = len(OfficerPerformanceDatasetDf[OfficerPerformanceDatasetDf['DegreeDesc']=='ICWAI'])\n",
        "# Number of Officers With M.B.A. Qualification Degree\n",
        "print('calculating the number of Officers With M.B.A. Qualification Degree')\n",
        "MBA_Degree_Officers  = len(OfficerPerformanceDatasetDf[OfficerPerformanceDatasetDf['DegreeDesc']=='M.B.A.'])\n",
        "# Number of Officers With Ph. D. Qualification Degree\n",
        "print('calculating the number of Officers With Ph. D. Qualification Degree')\n",
        "PhD_Degree_Officers  = len(OfficerPerformanceDatasetDf[OfficerPerformanceDatasetDf['DegreeDesc']=='Ph. D.'])\n",
        "# Number of Officers With B.Sc.(Hons) Qualification Degree\n",
        "print('calculating the number of Officers With B.Sc.(Hons) Qualification Degree')\n",
        "BScHons_Degree_Officers  = len(OfficerPerformanceDatasetDf[OfficerPerformanceDatasetDf['DegreeDesc']=='B.Sc.(Hons)'])\n",
        "# Number of Officers With Diploma Qualification Degree\n",
        "print('calculating the number of Officers With Diploma Qualification Degree')\n",
        "Diploma_Degree_Officers  = len(OfficerPerformanceDatasetDf[OfficerPerformanceDatasetDf['DegreeDesc']=='Diploma'])\n",
        "# Number of Officers With LL.B. Qualification Degree\n",
        "print('calculating the number of Officers With LL.B. Qualification Degree')\n",
        "LLB_Degree_Officers  = len(OfficerPerformanceDatasetDf[OfficerPerformanceDatasetDf['DegreeDesc']=='LL.B.'])\n",
        "# Number of Officers With Graduate Qualification Degree\n",
        "print('calculating the number of Officers With Graduate Qualification Degree')\n",
        "Graduate_Degree_Officers  = len(OfficerPerformanceDatasetDf[OfficerPerformanceDatasetDf['DegreeDesc']=='Graduate'])\n",
        "# Number of Officers With LL.M. Qualification Degree\n",
        "print('calculating the number of Officers With LL.M. Qualification Degree')\n",
        "LLM_Degree_Officers  = len(OfficerPerformanceDatasetDf[OfficerPerformanceDatasetDf['DegreeDesc']=='LL.M.'])\n",
        "# Number of Officers With Certificate Qualification Degree\n",
        "print('calculating the number of Officers With Certificate Qualification Degree')\n",
        "Certificate_Degree_Officers  = len(OfficerPerformanceDatasetDf[OfficerPerformanceDatasetDf['DegreeDesc']=='Certificate'])\n",
        "# Number of Officers With B.Com. Qualification Degree\n",
        "print('calculating the number of Officers With B.Com. Qualification Degree')\n",
        "BCom_Degree_Officers  = len(OfficerPerformanceDatasetDf[OfficerPerformanceDatasetDf['DegreeDesc']=='B.Com.'])\n",
        "# Number of Officers With B.A. Qualification Degree\n",
        "print('calculating the number of Officers With B.A. Honours Qualification Degree')\n",
        "BAHonours_Degree_Officers  = len(OfficerPerformanceDatasetDf[OfficerPerformanceDatasetDf['DegreeDesc']=='B.A. Honours'])\n",
        "# Number of Officers With PG Diploma Qualification Degree\n",
        "print('calculating the number of Officers With PG Diploma Qualification Degree')\n",
        "PGDiploma_Degree_Officers  = len(OfficerPerformanceDatasetDf[OfficerPerformanceDatasetDf['DegreeDesc']=='PG Diploma'])\n",
        "# Number of Officers With B.Ed. Qualification Degree\n",
        "print('calculating the number of Officers With B.Ed. Qualification Degree')\n",
        "BEd_Degree_Officers  = len(OfficerPerformanceDatasetDf[OfficerPerformanceDatasetDf['DegreeDesc']=='B.Ed.'])\n",
        "# Number of Officers With A.M.I.E. Qualification Degree\n",
        "print('calculating the number of Officers With A.M.I.E. Qualification Degree')\n",
        "AMIE_Degree_Officers  = len(OfficerPerformanceDatasetDf[OfficerPerformanceDatasetDf['DegreeDesc']=='A.M.I.E.'])\n",
        "# Number of Officers With B.A. Qualification Degree\n",
        "print('calculating the number of Officers With B.A. Qualification Degree')\n",
        "BA_Degree_Officers  = len(OfficerPerformanceDatasetDf[OfficerPerformanceDatasetDf['DegreeDesc']=='B.A.'])\n",
        "# Number of Officers With M.P.A. Qualification Degree\n",
        "print('calculating the number of Officers With M.P.A. Qualification Degree')\n",
        "MPA_Degree_Officers  = len(OfficerPerformanceDatasetDf[OfficerPerformanceDatasetDf['DegreeDesc']=='M.P.A.'])\n",
        "# Number of Officers With B.Tech. Qualification Degree\n",
        "print('calculating the number of Officers With B.Tech. Qualification Degree')\n",
        "BTech_Degree_Officers  = len(OfficerPerformanceDatasetDf[OfficerPerformanceDatasetDf['DegreeDesc']=='B.Tech.'])\n",
        "# Number of Officers With M.Tech. Qualification Degree\n",
        "print('calculating the number of Officers With M.Tech. Qualification Degree')\n",
        "MTech_Degree_Officers  = len(OfficerPerformanceDatasetDf[OfficerPerformanceDatasetDf['DegreeDesc']=='M.Tech.'])\n",
        "# Number of Officers With B.V.Sc. & A.H. Qualification Degree\n",
        "print('calculating the number of Officers With B.V.Sc. & A.H. Qualification Degree')\n",
        "BVScAH_Degree_Officers  = len(OfficerPerformanceDatasetDf[OfficerPerformanceDatasetDf['DegreeDesc']=='B.V.Sc. & A.H.'])\n",
        "# Number of Officers With M.V.Sc. Qualification Degree\n",
        "print('calculating the number of Officers With M.V.Sc. Qualification Degree')\n",
        "MVSc_Degree_Officers  = len(OfficerPerformanceDatasetDf[OfficerPerformanceDatasetDf['DegreeDesc']=='M.V.Sc.'])\n",
        "# Number of Officers With M.B.A. (UK) Qualification Degree\n",
        "print('calculating the number of Officers With M.B.A. (UK) Qualification Degree')\n",
        "MBAUK_Degree_Officers  = len(OfficerPerformanceDatasetDf[OfficerPerformanceDatasetDf['DegreeDesc']=='M.B.A. (UK)'])\n",
        "# Number of Officers With B.E. Qualification Degree\n",
        "print('calculating the number of Officers With B.E. Qualification Degree')\n",
        "BE_Degree_Officers  = len(OfficerPerformanceDatasetDf[OfficerPerformanceDatasetDf['DegreeDesc']=='B.E.'])\n",
        "# Number of Officers With M.B.L. Qualification Degree\n",
        "print('calculating the number of Officers With M.B.L. Qualification Degree')\n",
        "MBL_Degree_Officers  = len(OfficerPerformanceDatasetDf[OfficerPerformanceDatasetDf['DegreeDesc']=='M.B.L.'])\n",
        "# Number of Officers With M.B.B.S. Qualification Degree\n",
        "print('calculating the number of Officers With M.B.B.S. Qualification Degree')\n",
        "MBBS_Degree_Officers  = len(OfficerPerformanceDatasetDf[OfficerPerformanceDatasetDf['DegreeDesc']=='M.B.B.S.'])\n",
        "# Number of Officers With Master in Business Administration Qualification Degree\n",
        "print('calculating the number of Officers With Master in Business Administration Qualification Degree')\n",
        "MasterinBusinessAdministration_Degree_Officers  = len(OfficerPerformanceDatasetDf[OfficerPerformanceDatasetDf['DegreeDesc']=='Master in Business Administration'])\n",
        "# Number of Officers With DIPLOMA IN MANAGEMENT Qualification Degree\n",
        "print('calculating the number of Officers With DIPLOMA IN MANAGEMENT Qualification Degree')\n",
        "DIPLOMAINMANAGEMENT_Degree_Officers  = len(OfficerPerformanceDatasetDf[OfficerPerformanceDatasetDf['DegreeDesc']=='DIPLOMA IN MANAGEMENT'])\n",
        "# Number of Officers With M.C.A. Qualification Degree\n",
        "print('calculating the number of Officers With M.C.A. Qualification Degree')\n",
        "MCA_Degree_Officers  = len(OfficerPerformanceDatasetDf[OfficerPerformanceDatasetDf['DegreeDesc']=='M.C.A.'])\n",
        "# Number of Officers With B.Sc.(Engg) Qualification Degree\n",
        "print('calculating the number of Officers With B.Sc.(Engg) Qualification Degree')\n",
        "BScEngg_Degree_Officers  = len(OfficerPerformanceDatasetDf[OfficerPerformanceDatasetDf['DegreeDesc']=='B.Sc.(Engg)'])\n",
        "# Number of Officers With C.S. Qualification Degree\n",
        "print('calculating the number of Officers With C.S. Qualification Degree')\n",
        "CS_Degree_Officers  = len(OfficerPerformanceDatasetDf[OfficerPerformanceDatasetDf['DegreeDesc']=='C.S.'])\n",
        "# Number of Officers With C.F.A. Qualification Degree\n",
        "print('calculating the number of Officers With C.F.A. Qualification Degree')\n",
        "CFA_Degree_Officers  = len(OfficerPerformanceDatasetDf[OfficerPerformanceDatasetDf['DegreeDesc']=='C.F.A.'])\n",
        "# Number of Officers With M.S. Qualification Degree\n",
        "print('calculating the number of Officers With M.S. Qualification Degree')\n",
        "MS_Degree_Officers  = len(OfficerPerformanceDatasetDf[OfficerPerformanceDatasetDf['DegreeDesc']=='M.S.'])\n",
        "# Number of Officers With M.P.M. Qualification Degree\n",
        "print('calculating the number of Officers With M.P.M. Qualification Degree')\n",
        "MPM_Degree_Officers  = len(OfficerPerformanceDatasetDf[OfficerPerformanceDatasetDf['DegreeDesc']=='M.P.M.'])\n",
        "# Number of Officers With B.Com Qualification Degree\n",
        "print('calculating the number of Officers With B.Com Honours Qualification Degree')\n",
        "BComHonours_Degree_Officers  = len(OfficerPerformanceDatasetDf[OfficerPerformanceDatasetDf['DegreeDesc']=='B.Com Honours'])\n",
        "# Number of Officers With Adv. Diploma Qualification Degree\n",
        "print('calculating the number of Officers With Adv. Diploma Qualification Degree')\n",
        "AdvDiploma_Degree_Officers  = len(OfficerPerformanceDatasetDf[OfficerPerformanceDatasetDf['DegreeDesc']=='Adv. Diploma'])\n",
        "# Number of Officers With Masters in Development Management Qualification Degree\n",
        "print('calculating the number of Officers With Masters in Development Management Qualification Degree')\n",
        "MastersinDevelopmentManagement_Degree_Officers  = len(OfficerPerformanceDatasetDf[OfficerPerformanceDatasetDf['DegreeDesc']=='Masters in Development Management'])\n",
        "# Number of Officers With C.A. Qualification Degree\n",
        "print('calculating the number of Officers With C.A. Qualification Degree')\n",
        "CA_Degree_Officers  = len(OfficerPerformanceDatasetDf[OfficerPerformanceDatasetDf['DegreeDesc']=='C.A.'])\n",
        "# Number of Officers With Chartered Accountant Qualification Degree\n",
        "print('calculating the number of Officers With Chartered Accountant Qualification Degree')\n",
        "CharteredAccountant_Degree_Officers  = len(OfficerPerformanceDatasetDf[OfficerPerformanceDatasetDf['DegreeDesc']=='Chartered Accountant'])\n",
        "# Number of Officers With Degree Qualification Degree\n",
        "print('calculating the number of Officers With Degree Qualification Degree')\n",
        "Degree_Degree_Officers  = len(OfficerPerformanceDatasetDf[OfficerPerformanceDatasetDf['DegreeDesc']=='Degree'])\n",
        "# Number of Officers With M.H.S.A. Qualification Degree\n",
        "print('calculating the number of Officers With M.H.S.A. Qualification Degree')\n",
        "MHSA_Degree_Officers  = len(OfficerPerformanceDatasetDf[OfficerPerformanceDatasetDf['DegreeDesc']=='M.H.S.A.'])\n",
        "# Number of Officers With M.P.P. Qualification Degree\n",
        "print('calculating the number of Officers With M.P.P. Qualification Degree')\n",
        "MPP_Degree_Officers  = len(OfficerPerformanceDatasetDf[OfficerPerformanceDatasetDf['DegreeDesc']=='M.P.P.'])\n",
        "# Number of Officers With M.A. Qualification Degree\n",
        "print('calculating the number of Officers With M.A. English Qualification Degree')\n",
        "MAEnglish_Degree_Officers  = len(OfficerPerformanceDatasetDf[OfficerPerformanceDatasetDf['DegreeDesc']=='M.A. English'])\n",
        "# Number of Officers With Masters in International Development Qualification Degree\n",
        "print('calculating the number of Officers With Masters in International Development Qualification Degree')\n",
        "MastersinInternationalDevelopment_Degree_Officers  = len(OfficerPerformanceDatasetDf[OfficerPerformanceDatasetDf['DegreeDesc']=='Masters in International Development'])\n",
        "# Number of Officers With M.I.D.P. Qualification Degree\n",
        "print('calculating the number of Officers With M.I.D.P. Qualification Degree')\n",
        "MIDP_Degree_Officers  = len(OfficerPerformanceDatasetDf[OfficerPerformanceDatasetDf['DegreeDesc']=='M.I.D.P.'])\n",
        "# Number of Officers With Bachelor of Engineering Qualification Degree\n",
        "print('calculating the number of Officers With Bachelor of Engineering Qualification Degree')\n",
        "BachelorofEngineering_Degree_Officers  = len(OfficerPerformanceDatasetDf[OfficerPerformanceDatasetDf['DegreeDesc']=='Bachelor of Engineering'])\n",
        "# Number of Officers With M.E. Qualification Degree\n",
        "print('calculating the number of Officers With M.E. Qualification Degree')\n",
        "ME_Degree_Officers  = len(OfficerPerformanceDatasetDf[OfficerPerformanceDatasetDf['DegreeDesc']=='M.E.'])\n",
        "# Number of Officers With Masters in Public Policy Qualification Degree\n",
        "print('calculating the number of Officers With Masters in Public Policy Qualification Degree')\n",
        "MastersinPublicPolicy_Degree_Officers  = len(OfficerPerformanceDatasetDf[OfficerPerformanceDatasetDf['DegreeDesc']=='Masters in Public Policy'])\n",
        "# Number of Officers With Master of Public Health Qualification Degree\n",
        "print('calculating the number of Officers With Master of Public Health Qualification Degree')\n",
        "MasterofPublicHealth_Degree_Officers  = len(OfficerPerformanceDatasetDf[OfficerPerformanceDatasetDf['DegreeDesc']=='Master of Public Health'])\n",
        "# Number of Officers With M.Stat. Qualification Degree\n",
        "print('calculating the number of Officers With M.Stat. Qualification Degree')\n",
        "MStat_Degree_Officers  = len(OfficerPerformanceDatasetDf[OfficerPerformanceDatasetDf['DegreeDesc']=='M.Stat.'])\n",
        "# Number of Officers With M.I.P.L. Qualification Degree\n",
        "print('calculating the number of Officers With M.I.P.L. Qualification Degree')\n",
        "MIPL_Degree_Officers  = len(OfficerPerformanceDatasetDf[OfficerPerformanceDatasetDf['DegreeDesc']=='M.I.P.L.'])\n",
        "# Number of Officers With B.Sc.(Agri) Qualification Degree\n",
        "print('calculating the number of Officers With B.Sc.(Agri) Qualification Degree')\n",
        "BScAgri_Degree_Officers  = len(OfficerPerformanceDatasetDf[OfficerPerformanceDatasetDf['DegreeDesc']=='B.Sc.(Agri)'])\n",
        "# Number of Officers With MIPP Qualification Degree\n",
        "print('calculating the number of Officers With MIPP Qualification Degree')\n",
        "MIPP_Degree_Officers  = len(OfficerPerformanceDatasetDf[OfficerPerformanceDatasetDf['DegreeDesc']=='MIPP'])\n",
        "# Number of Officers With PGD PPM Qualification Degree\n",
        "print('calculating the number of Officers With PGD PPM Qualification Degree')\n",
        "PGDPPM_Degree_Officers  = len(OfficerPerformanceDatasetDf[OfficerPerformanceDatasetDf['DegreeDesc']=='PGD PPM'])\n",
        "# Number of Officers With M.Com. Qualification Degree\n",
        "print('calculating the number of Officers With M.Com. Qualification Degree')\n",
        "MCom_Degree_Officers  = len(OfficerPerformanceDatasetDf[OfficerPerformanceDatasetDf['DegreeDesc']=='M.Com.'])\n",
        "# Number of Officers With Master of Technology Qualification Degree\n",
        "print('calculating the number of Officers With Master of Technology Qualification Degree')\n",
        "MasterofTechnology_Degree_Officers  = len(OfficerPerformanceDatasetDf[OfficerPerformanceDatasetDf['DegreeDesc']=='Master of Technology'])\n",
        "# Number of Officers With M.P.H. Qualification Degree\n",
        "print('calculating the number of Officers With M.P.H. Qualification Degree')\n",
        "MPH_Degree_Officers  = len(OfficerPerformanceDatasetDf[OfficerPerformanceDatasetDf['DegreeDesc']=='M.P.H.'])\n",
        "# Number of Officers With PG Diploma Qualification Degree\n",
        "print('calculating the number of Officers With PG Diploma in Financial Management Qualification Degree')\n",
        "PGDiplomainFinancialManagement_Degree_Officers  = len(OfficerPerformanceDatasetDf[OfficerPerformanceDatasetDf['DegreeDesc']=='PG Diploma in Financial Management'])\n",
        "# Number of Officers With POST GRADUATE IN PUBLIC POLICY AND MANAGEMENT Qualification Degree\n",
        "print('calculating the number of Officers With POST GRADUATE IN PUBLIC POLICY AND MANAGEMENT Qualification Degree')\n",
        "POSTGRADUATEINPUBLICPOLICYANDMANAGEMENT_Degree_Officers  = len(OfficerPerformanceDatasetDf[OfficerPerformanceDatasetDf['DegreeDesc']=='POST GRADUATE IN PUBLIC POLICY AND MANAGEMENT'])\n",
        "# Number of Officers With Certificate Qualification Degree\n",
        "print('calculating the number of Officers With Certificate course Qualification Degree')\n",
        "Certificatecourse_Degree_Officers  = len(OfficerPerformanceDatasetDf[OfficerPerformanceDatasetDf['DegreeDesc']=='Certificate course'])\n",
        "# Number of Officers With Diploma in HIV and Family Education Qualification Degree\n",
        "print('calculating the number of Officers With Diploma in HIV and Family Education Qualification Degree')\n",
        "DiplomainHIVandFamilyEducation_Degree_Officers  = len(OfficerPerformanceDatasetDf[OfficerPerformanceDatasetDf['DegreeDesc']=='Diploma in HIV and Family Education'])\n",
        "# Number of Officers With M.Sc. (Agri) Qualification Degree\n",
        "print('calculating the number of Officers With M.Sc. (Agri) Qualification Degree')\n",
        "MScAgri_Degree_Officers  = len(OfficerPerformanceDatasetDf[OfficerPerformanceDatasetDf['DegreeDesc']=='M.Sc. (Agri)'])\n",
        "# Number of Officers With Master in International Law and Economics Qualification Degree\n",
        "print('calculating the number of Officers With Master in International Law and Economics Qualification Degree')\n",
        "MasterinInternationalLawandEconomics_Degree_Officers  = len(OfficerPerformanceDatasetDf[OfficerPerformanceDatasetDf['DegreeDesc']=='Master in International Law and Economics'])\n",
        "# Number of Officers With Chevening Gurukul Leadership Programme Qualification Degree\n",
        "print('calculating the number of Officers With Chevening Gurukul Leadership Programme Qualification Degree')\n",
        "CheveningGurukulLeadershipProgramme_Degree_Officers  = len(OfficerPerformanceDatasetDf[OfficerPerformanceDatasetDf['DegreeDesc']=='Chevening Gurukul Leadership Programme'])\n",
        "# Number of Officers With M.L. Qualification Degree\n",
        "print('calculating the number of Officers With M.L. Qualification Degree')\n",
        "ML_Degree_Officers  = len(OfficerPerformanceDatasetDf[OfficerPerformanceDatasetDf['DegreeDesc']=='M.L.'])\n",
        "# Number of Officers With Master of Business Laws Qualification Degree\n",
        "print('calculating the number of Officers With Master of Business Laws Qualification Degree')\n",
        "MasterofBusinessLaws_Degree_Officers  = len(OfficerPerformanceDatasetDf[OfficerPerformanceDatasetDf['DegreeDesc']=='Master of Business Laws'])\n",
        "# Number of Officers With Certificate Course in French Qualification Degree\n",
        "print('calculating the number of Officers With Certificate Course in French Qualification Degree')\n",
        "CertificateCourseinFrench_Degree_Officers  = len(OfficerPerformanceDatasetDf[OfficerPerformanceDatasetDf['DegreeDesc']=='Certificate Course in French'])\n",
        "# Number of Officers With DIPLOMA IN FRENCH Qualification Degree\n",
        "print('calculating the number of Officers With DIPLOMA IN FRENCH Qualification Degree')\n",
        "DIPLOMAINFRENCH_Degree_Officers  = len(OfficerPerformanceDatasetDf[OfficerPerformanceDatasetDf['DegreeDesc']=='DIPLOMA IN FRENCH'])\n",
        "# Number of Officers With M.A. Qualification Degree\n",
        "print('calculating the number of Officers With M.A. Economics Qualification Degree')\n",
        "MAEconomics_Degree_Officers  = len(OfficerPerformanceDatasetDf[OfficerPerformanceDatasetDf['DegreeDesc']=='M.A. Economics'])\n",
        "# Number of Officers With M.Ed. Qualification Degree\n",
        "print('calculating the number of Officers With M.Ed. Qualification Degree')\n",
        "MEd_Degree_Officers  = len(OfficerPerformanceDatasetDf[OfficerPerformanceDatasetDf['DegreeDesc']=='M.Ed.'])\n",
        "# Number of Officers With B.D.S. Qualification Degree\n",
        "print('calculating the number of Officers With B.D.S. Qualification Degree')\n",
        "BDS_Degree_Officers  = len(OfficerPerformanceDatasetDf[OfficerPerformanceDatasetDf['DegreeDesc']=='B.D.S.'])\n",
        "# Number of Officers With M.D. Qualification Degree\n",
        "print('calculating the number of Officers With M.D. Qualification Degree')\n",
        "MD_Degree_Officers  = len(OfficerPerformanceDatasetDf[OfficerPerformanceDatasetDf['DegreeDesc']=='M.D.'])\n",
        "# Number of Officers With B.Arch. Qualification Degree\n",
        "print('calculating the number of Officers With B.Arch. Qualification Degree')\n",
        "BArch_Degree_Officers  = len(OfficerPerformanceDatasetDf[OfficerPerformanceDatasetDf['DegreeDesc']=='B.Arch.'])\n",
        "# Number of Officers With M.B.E. Qualification Degree\n",
        "print('calculating the number of Officers With M.B.E. Qualification Degree')\n",
        "MBE_Degree_Officers  = len(OfficerPerformanceDatasetDf[OfficerPerformanceDatasetDf['DegreeDesc']=='M.B.E.'])\n",
        "# Number of Officers With M.C.M. Qualification Degree\n",
        "print('calculating the number of Officers With M.C.M. Qualification Degree')\n",
        "MCM_Degree_Officers  = len(OfficerPerformanceDatasetDf[OfficerPerformanceDatasetDf['DegreeDesc']=='M.C.M.'])\n",
        "# Number of Officers With B.H.M.S. Qualification Degree\n",
        "print('calculating the number of Officers With B.H.M.S. Qualification Degree')\n",
        "BHMS_Degree_Officers  = len(OfficerPerformanceDatasetDf[OfficerPerformanceDatasetDf['DegreeDesc']=='B.H.M.S.'])\n",
        "# Number of Officers With M.B.M. Qualification Degree\n",
        "print('calculating the number of Officers With M.B.M. Qualification Degree')\n",
        "MBM_Degree_Officers  = len(OfficerPerformanceDatasetDf[OfficerPerformanceDatasetDf['DegreeDesc']=='M.B.M.'])\n",
        "# Number of Officers With Master of Arts Qualification Degree\n",
        "print('calculating the number of Officers With Master of Arts Qualification Degree')\n",
        "MasterofArts_Degree_Officers  = len(OfficerPerformanceDatasetDf[OfficerPerformanceDatasetDf['DegreeDesc']=='Master of Arts'])\n",
        "# Number of Officers With B.E. (Hons) Qualification Degree\n",
        "print('calculating the number of Officers With M.A. Honours Qualification Degree')\n",
        "MAHonours_Degree_Officers  = len(OfficerPerformanceDatasetDf[OfficerPerformanceDatasetDf['DegreeDesc']=='M.A. Honours'])\n",
        "# Number of Officers With B.E. (Hons) Qualification Degree\n",
        "print('calculating the number of Officers With B.E. (Hons) Qualification Degree')\n",
        "BEHons_Degree_Officers  = len(OfficerPerformanceDatasetDf[OfficerPerformanceDatasetDf['DegreeDesc']=='B.E. (Hons)'])\n",
        "# Number of Officers With M.M.S. Qualification Degree\n",
        "print('calculating the number of Officers With M.M.S. Qualification Degree')\n",
        "MMS_Degree_Officers  = len(OfficerPerformanceDatasetDf[OfficerPerformanceDatasetDf['DegreeDesc']=='M.M.S.'])\n",
        "# Number of Officers With B.A.M.S. Qualification Degree\n",
        "print('calculating the number of Officers With B.A.M.S. Qualification Degree')\n",
        "BAMS_Degree_Officers  = len(OfficerPerformanceDatasetDf[OfficerPerformanceDatasetDf['DegreeDesc']=='B.A.M.S.'])# Number of Officers With MASTER IN TAXATION AND BUSINESS LAW Qualification Degree\n",
        "print('calculating the number of Officers With MASTER IN TAXATION AND BUSINESS LAW Qualification Degree')\n",
        "MASTERINTAXATIONANDBUSINESSLAW_Degree_Officers  = len(OfficerPerformanceDatasetDf[OfficerPerformanceDatasetDf['DegreeDesc']=='MASTER IN TAXATION AND BUSINESS LAW'])\n",
        "# Number of Officers With B.E.E. Qualification Degree\n",
        "print('calculating the number of Officers With B.E.E. Qualification Degree')\n",
        "BEE_Degree_Officers  = len(OfficerPerformanceDatasetDf[OfficerPerformanceDatasetDf['DegreeDesc']=='B.E.E.'])\n",
        "# Number of Officers With B.A. Honours Economics Qualification Degree\n",
        "print('calculating the number of Officers With B.A. Honours Economics Qualification Degree')\n",
        "BAHonoursEconomics_Degree_Officers  = len(OfficerPerformanceDatasetDf[OfficerPerformanceDatasetDf['DegreeDesc']=='B.A. Honours Economics'])\n",
        "# Number of Officers With D.Sc. Qualification Degree\n",
        "print('calculating the number of Officers With D.Sc. Qualification Degree')\n",
        "DSc_Degree_Officers  = len(OfficerPerformanceDatasetDf[OfficerPerformanceDatasetDf['DegreeDesc']=='D.Sc.'])\n",
        "# Number of Officers With Post Graduate Diploma in Business Administration Qualification Degree\n",
        "print('calculating the number of Officers With Post Graduate Diploma in Business Administration Qualification Degree')\n",
        "PostGraduateDiplomainBusinessAdministration_Degree_Officers  = len(OfficerPerformanceDatasetDf[OfficerPerformanceDatasetDf['DegreeDesc']=='Post Graduate Diploma in Business Administration'])\n",
        "# Number of Officers With Company Secretary Qualification Degree\n",
        "print('calculating the number of Officers With Company Secretary Qualification Degree\\n')\n",
        "CompanySecretary_Degree_Officers  = len(OfficerPerformanceDatasetDf[OfficerPerformanceDatasetDf['DegreeDesc']=='Company Secretary'])\n",
        "\n",
        "# Rate Percentage of officers with distinct Qualification Degrees\n",
        "# Rate Percentage of Officers With B.Sc. Qualification Degree\n",
        "print('calculating the rate percentage of Officers With B.Sc. Qualification Degree')\n",
        "Rate_BSc_Degree_Officers    = (float(BSc_Degree_Officers)/(length))*100\n",
        "# Rate Percentage of Officers With M.Sc. Qualification Degree\n",
        "print('calculating the rate percentage of Officers With M.Sc. Qualification Degree')\n",
        "Rate_MSc_Degree_Officers    = (float(MSc_Degree_Officers)/(length))*100\n",
        "# Rate Percentage of Officers With M.Phil. Qualification Degree\n",
        "print('calculating the rate percentage of Officers With M.Phil. Qualification Degree')\n",
        "Rate_MPhil_Degree_Officers    = (float(MPhil_Degree_Officers)/(length))*100\n",
        "# Rate Percentage of Officers With M.A. Qualification Degree\n",
        "print('calculating the rate percentage of Officers With M.A. Qualification Degree')\n",
        "Rate_MA_Degree_Officers    = (float(MA_Degree_Officers)/(length))*100\n",
        "# Rate Percentage of Officers With P.G. (USA) Qualification Degree\n",
        "print('calculating the rate percentage of Officers With P.G. (USA) Qualification Degree')\n",
        "Rate_PGUSA_Degree_Officers    = (float(PGUSA_Degree_Officers)/(length))*100\n",
        "# Rate Percentage of Officers With Ph.D.(U.S.A.) Qualification Degree\n",
        "print('calculating the rate percentage of Officers With Ph.D.(U.S.A.) Qualification Degree')\n",
        "Rate_PhDUSA_Degree_Officers    = (float(PhDUSA_Degree_Officers)/(length))*100\n",
        "# Rate Percentage of Officers With P.G. Qualification Degree\n",
        "print('calculating the rate percentage of Officers With P.G. Qualification Degree')\n",
        "Rate_PG_Degree_Officers    = (float(PG_Degree_Officers)/(length))*100\n",
        "# Rate Percentage of Officers With ICWAI Qualification Degree\n",
        "print('calculating the rate percentage of Officers With ICWAI Qualification Degree')\n",
        "Rate_ICWAI_Degree_Officers    = (float(ICWAI_Degree_Officers)/(length))*100\n",
        "# Rate Percentage of Officers With M.B.A. Qualification Degree\n",
        "print('calculating the rate percentage of Officers With M.B.A. Qualification Degree')\n",
        "Rate_MBA_Degree_Officers    = (float(MBA_Degree_Officers)/(length))*100\n",
        "# Rate Percentage of Officers With Ph. D. Qualification Degree\n",
        "print('calculating the rate percentage of Officers With Ph. D. Qualification Degree')\n",
        "Rate_PhD_Degree_Officers    = (float(PhD_Degree_Officers)/(length))*100 \n",
        "# Rate Percentage of Officers With B.Sc.(Hons) Qualification Degree\n",
        "print('calculating the rate percentage of Officers With B.Sc.(Hons) Qualification Degree')\n",
        "Rate_BScHons_Degree_Officers    = (float(BScHons_Degree_Officers)/(length))*100\n",
        "# Rate Percentage of Officers With Diploma Qualification Degree\n",
        "print('calculating the rate percentage of Officers With Diploma Qualification Degree')\n",
        "Rate_Diploma_Degree_Officers    = (float(Diploma_Degree_Officers)/(length))*100\n",
        "# Rate Percentage of Officers With LL.B. Qualification Degree\n",
        "print('calculating the rate percentage of Officers With LL.B. Qualification Degree')\n",
        "Rate_LLB_Degree_Officers    = (float(LLB_Degree_Officers)/(length))*100\n",
        "# Rate Percentage of Officers With Graduate Qualification Degree\n",
        "print('calculating the rate percentage of Officers With Graduate Qualification Degree')\n",
        "Rate_Graduate_Degree_Officers    = (float(Graduate_Degree_Officers)/(length))*100\n",
        "# Rate Percentage of Officers With LL.M. Qualification Degree\n",
        "print('calculating the rate percentage of Officers With LL.M. Qualification Degree')\n",
        "Rate_LLM_Degree_Officers    = (float(LLM_Degree_Officers)/(length))*100\n",
        "# Rate Percentage of Officers With Certificate Qualification Degree\n",
        "print('calculating the rate percentage of Officers With Certificate Qualification Degree')\n",
        "Rate_Certificate_Degree_Officers    = (float(Certificate_Degree_Officers)/(length))*100\n",
        "# Rate Percentage of Officers With B.Com. Qualification Degree\n",
        "print('calculating the rate percentage of Officers With B.Com. Qualification Degree')\n",
        "Rate_BCom_Degree_Officers    = (float(BCom_Degree_Officers)/(length))*100\n",
        "# Rate Percentage of Officers With B.A. Qualification Degree\n",
        "print('calculating the rate percentage of Officers With B.A. Honours Qualification Degree')\n",
        "Rate_BAHonours_Degree_Officers    = (float(BAHonours_Degree_Officers)/(length))*100\n",
        "# Rate Percentage of Officers With PG Diploma Qualification Degree\n",
        "print('calculating the rate percentage of Officers With PG Diploma Qualification Degree')\n",
        "Rate_PGDiploma_Degree_Officers    = (float(PGDiploma_Degree_Officers)/(length))*100\n",
        "# Rate Percentage of Officers With B.Ed. Qualification Degree\n",
        "print('calculating the rate percentage of Officers With B.Ed. Qualification Degree')\n",
        "Rate_BEd_Degree_Officers    = (float(BEd_Degree_Officers)/(length))*100\n",
        "# Rate Percentage of Officers With A.M.I.E. Qualification Degree\n",
        "print('calculating the rate percentage of Officers With A.M.I.E. Qualification Degree')\n",
        "Rate_AMIE_Degree_Officers    = (float(AMIE_Degree_Officers)/(length))*100\n",
        "# Rate Percentage of Officers With B.A. Qualification Degree\n",
        "print('calculating the rate percentage of Officers With B.A. Qualification Degree')\n",
        "Rate_BA_Degree_Officers    = (float(BA_Degree_Officers)/(length))*100\n",
        "# Rate Percentage of Officers With M.P.A. Qualification Degree\n",
        "print('calculating the rate percentage of Officers With M.P.A. Qualification Degree')\n",
        "Rate_MPA_Degree_Officers    = (float(MPA_Degree_Officers)/(length))*100\n",
        "# Rate Percentage of Officers With B.Tech. Qualification Degree\n",
        "print('calculating the rate percentage of Officers With B.Tech. Qualification Degree')\n",
        "Rate_BTech_Degree_Officers    = (float(BTech_Degree_Officers)/(length))*100\n",
        "# Rate Percentage of Officers With M.Tech. Qualification Degree\n",
        "print('calculating the rate percentage of Officers With M.Tech. Qualification Degree')\n",
        "Rate_MTech_Degree_Officers    = (float(MTech_Degree_Officers)/(length))*100\n",
        "# Rate Percentage of Officers With B.V.Sc. & A.H. Qualification Degree\n",
        "print('calculating the rate percentage of Officers With B.V.Sc. & A.H. Qualification Degree')\n",
        "Rate_BVScAH_Degree_Officers    = (float(BVScAH_Degree_Officers)/(length))*100\n",
        "# Rate Percentage of Officers With M.V.Sc. Qualification Degree\n",
        "print('calculating the rate percentage of Officers With M.V.Sc. Qualification Degree')\n",
        "Rate_MVSc_Degree_Officers    = (float(MVSc_Degree_Officers)/(length))*100\n",
        "# Rate Percentage of Officers With M.B.A. (UK) Qualification Degree\n",
        "print('calculating the rate percentage of Officers With M.B.A. (UK) Qualification Degree')\n",
        "Rate_MBAUK_Degree_Officers    = (float(MBAUK_Degree_Officers)/(length))*100\n",
        "# Rate Percentage of Officers With B.E. Qualification Degree\n",
        "print('calculating the rate percentage of Officers With B.E. Qualification Degree')\n",
        "Rate_BE_Degree_Officers    = (float(BE_Degree_Officers)/(length))*100\n",
        "# Rate Percentage of Officers With M.B.L. Qualification Degree\n",
        "print('calculating the rate percentage of Officers With M.B.L. Qualification Degree')\n",
        "Rate_MBL_Degree_Officers    = (float(MBL_Degree_Officers)/(length))*100\n",
        "# Rate Percentage of Officers With M.B.B.S. Qualification Degree\n",
        "print('calculating the rate percentage of Officers With M.B.B.S. Qualification Degree')\n",
        "Rate_MBBS_Degree_Officers    = (float(MBBS_Degree_Officers)/(length))*100\n",
        "# Rate Percentage of Officers With Master in Business Administration Qualification Degree\n",
        "print('calculating the rate percentage of Officers With Master in Business Administration Qualification Degree')\n",
        "Rate_MasterinBusinessAdministration_Degree_Officers    = (float(MasterinBusinessAdministration_Degree_Officers)/(length))*100\n",
        "# Rate Percentage of Officers With DIPLOMA IN MANAGEMENT Qualification Degree\n",
        "print('calculating the rate percentage of Officers With DIPLOMA IN MANAGEMENT Qualification Degree')\n",
        "Rate_DIPLOMAINMANAGEMENT_Degree_Officers    = (float(DIPLOMAINMANAGEMENT_Degree_Officers)/(length))*100\n",
        "# Rate Percentage of Officers With M.C.A. Qualification Degree\n",
        "print('calculating the rate percentage of Officers With M.C.A. Qualification Degree')\n",
        "Rate_MCA_Degree_Officers    = (float(MCA_Degree_Officers)/(length))*100\n",
        "# Rate Percentage of Officers With B.Sc.(Engg) Qualification Degree\n",
        "print('calculating the rate percentage of Officers With B.Sc.(Engg) Qualification Degree')\n",
        "Rate_BScEngg_Degree_Officers    = (float(BScEngg_Degree_Officers)/(length))*100\n",
        "# Rate Percentage of Officers With C.S. Qualification Degree\n",
        "print('calculating the rate percentage of Officers With C.S. Qualification Degree')\n",
        "Rate_CS_Degree_Officers    = (float(CS_Degree_Officers)/(length))*100\n",
        "# Rate Percentage of Officers With C.F.A. Qualification Degree\n",
        "print('calculating the rate percentage of Officers With C.F.A. Qualification Degree')\n",
        "Rate_CFA_Degree_Officers    = (float(CFA_Degree_Officers)/(length))*100\n",
        "# Rate Percentage of Officers With M.S. Qualification Degree\n",
        "print('calculating the rate percentage of Officers With M.S. Qualification Degree')\n",
        "Rate_MS_Degree_Officers    = (float(MS_Degree_Officers)/(length))*100\n",
        "# Rate Percentage of Officers With M.P.M. Qualification Degree\n",
        "print('calculating the rate percentage of Officers With M.P.M. Qualification Degree')\n",
        "Rate_MPM_Degree_Officers    = (float(MPM_Degree_Officers)/(length))*100\n",
        "# Rate Percentage of Officers With B.Com Qualification Degree\n",
        "print('calculating the rate percentage of Officers With B.Com Honours Qualification Degree')\n",
        "Rate_BComHonours_Degree_Officers    = (float(BCom_Degree_Officers)/(length))*100\n",
        "# Rate Percentage of Officers With Adv. Diploma Qualification Degree\n",
        "print('calculating the rate percentage of Officers With Adv. Diploma Qualification Degree')\n",
        "Rate_AdvDiploma_Degree_Officers    = (float(AdvDiploma_Degree_Officers)/(length))*100\n",
        "# Rate Percentage of Officers With Masters in Development Management Qualification Degree\n",
        "print('calculating the rate percentage of Officers With Masters in Development Management Qualification Degree')\n",
        "Rate_MastersinDevelopmentManagement_Degree_Officers    = (float(MastersinDevelopmentManagement_Degree_Officers)/(length))*100\n",
        "# Rate Percentage of Officers With C.A. Qualification Degree\n",
        "print('calculating the rate percentage of Officers With C.A. Qualification Degree')\n",
        "Rate_CA_Degree_Officers    = (float(CA_Degree_Officers)/(length))*100\n",
        "# Rate Percentage of Officers With Chartered Accountant Qualification Degree\n",
        "print('calculating the rate percentage of Officers With Chartered Accountant Qualification Degree')\n",
        "Rate_CharteredAccountant_Degree_Officers    = (float(CharteredAccountant_Degree_Officers)/(length))*100\n",
        "# Rate Percentage of Officers With Degree Qualification Degree\n",
        "print('calculating the rate percentage of Officers With Degree Qualification Degree')\n",
        "Rate_Degree_Degree_Officers    = (float(Degree_Degree_Officers)/(length))*100\n",
        "# Rate Percentage of Officers With M.H.S.A. Qualification Degree\n",
        "print('calculating the rate percentage of Officers With M.H.S.A. Qualification Degree')\n",
        "Rate_MHSA_Degree_Officers    = (float(MHSA_Degree_Officers)/(length))*100\n",
        "# Rate Percentage of Officers With M.P.P. Qualification Degree\n",
        "print('calculating the rate percentage of Officers With M.P.P. Qualification Degree')\n",
        "Rate_MPP_Degree_Officers    = (float(MPP_Degree_Officers)/(length))*100\n",
        "# Rate Percentage of Officers With M.A. Qualification Degree\n",
        "print('calculating the rate percentage of Officers With M.A. English Qualification Degree')\n",
        "Rate_MAEnglish_Degree_Officers    = (float(MAEnglish_Degree_Officers)/(length))*100\n",
        "# Rate Percentage of Officers With Masters in International Development Qualification Degree\n",
        "print('calculating the rate percentage of Officers With Masters in International Development Qualification Degree')\n",
        "Rate_MastersinInternationalDevelopment_Degree_Officers    = (float(MastersinInternationalDevelopment_Degree_Officers)/(length))*100\n",
        "# Rate Percentage of Officers With M.I.D.P. Qualification Degree\n",
        "print('calculating the rate percentage of Officers With M.I.D.P. Qualification Degree')\n",
        "Rate_MIDP_Degree_Officers    = (float(MIDP_Degree_Officers)/(length))*100\n",
        "# Rate Percentage of Officers With Bachelor of Engineering Qualification Degree\n",
        "print('calculating the rate percentage of Officers With Bachelor of Engineering Qualification Degree')\n",
        "Rate_BachelorofEngineering_Degree_Officers    = (float(BachelorofEngineering_Degree_Officers)/(length))*100\n",
        "# Rate Percentage of Officers With M.E. Qualification Degree\n",
        "print('calculating the rate percentage of Officers With M.E. Qualification Degree')\n",
        "Rate_ME_Degree_Officers    = (float(ME_Degree_Officers)/(length))*100\n",
        "# Rate Percentage of Officers With Masters in Public Policy Qualification Degree\n",
        "print('calculating the rate percentage of Officers With Masters in Public Policy Qualification Degree')\n",
        "Rate_MastersinPublicPolicy_Degree_Officers    = (float(MastersinPublicPolicy_Degree_Officers)/(length))*100\n",
        "# Rate Percentage of Officers With Master of Public Health Qualification Degree\n",
        "print('calculating the rate percentage of Officers With Master of Public Health Qualification Degree')\n",
        "Rate_MasterofPublicHealth_Degree_Officers    = (float(MasterofPublicHealth_Degree_Officers)/(length))*100\n",
        "# Rate Percentage of Officers With M.Stat. Qualification Degree\n",
        "print('calculating the rate percentage of Officers With M.Stat. Qualification Degree')\n",
        "Rate_MStat_Degree_Officers    = (float(MStat_Degree_Officers)/(length))*100\n",
        "# Rate Percentage of Officers With M.I.P.L. Qualification Degree\n",
        "print('calculating the rate percentage of Officers With M.I.P.L. Qualification Degree')\n",
        "Rate_MIPL_Degree_Officers    = (float(MIPL_Degree_Officers)/(length))*100\n",
        "# Rate Percentage of Officers With B.Sc.(Agri) Qualification Degree\n",
        "print('calculating the rate percentage of Officers With B.Sc.(Agri) Qualification Degree')\n",
        "Rate_BScAgri_Degree_Officers    = (float(BScAgri_Degree_Officers)/(length))*100\n",
        "# Rate Percentage of Officers With MIPP Qualification Degree\n",
        "print('calculating the rate percentage of Officers With MIPP Qualification Degree')\n",
        "Rate_MIPP_Degree_Officers    = (float(MIPP_Degree_Officers)/(length))*100\n",
        "# Rate Percentage of Officers With PGD PPM Qualification Degree\n",
        "print('calculating the rate percentage of Officers With PGD PPM Qualification Degree')\n",
        "Rate_PGDPPM_Degree_Officers    = (float(PGDPPM_Degree_Officers)/(length))*100\n",
        "# Rate Percentage of Officers With M.Com. Qualification Degree\n",
        "print('calculating the rate percentage of Officers With M.Com. Qualification Degree')\n",
        "Rate_MCom_Degree_Officers    = (float(MCom_Degree_Officers)/(length))*100\n",
        "# Rate Percentage of Officers With Master of Technology Qualification Degree\n",
        "print('calculating the rate percentage of Officers With Master of Technology Qualification Degree')\n",
        "Rate_MasterofTechnology_Degree_Officers    = (float(MasterofTechnology_Degree_Officers)/(length))*100\n",
        "# Rate Percentage of Officers With M.P.H. Qualification Degree\n",
        "print('calculating the rate percentage of Officers With M.P.H. Qualification Degree')\n",
        "Rate_MPH_Degree_Officers    = (float(MPH_Degree_Officers)/(length))*100\n",
        "# Rate Percentage of Officers With PG Diploma Qualification Degree\n",
        "print('calculating the rate percentage of Officers With PG Diploma in Financial Management Qualification Degree')\n",
        "Rate_PGDiplomainFinancialManagement_Degree_Officers    = (float(PGDiplomainFinancialManagement_Degree_Officers)/(length))*100\n",
        "# Rate Percentage of Officers With POST GRADUATE IN PUBLIC POLICY AND MANAGEMENT Qualification Degree\n",
        "print('calculating the rate percentage of Officers With POST GRADUATE IN PUBLIC POLICY AND MANAGEMENT Qualification Degree')\n",
        "Rate_POSTGRADUATEINPUBLICPOLICYANDMANAGEMENT_Degree_Officers    = (float(POSTGRADUATEINPUBLICPOLICYANDMANAGEMENT_Degree_Officers)/(length))*100\n",
        "# Rate Percentage of Officers With Certificate Qualification Degree\n",
        "print('calculating the rate percentage of Officers With Certificate course Qualification Degree')\n",
        "Rate_Certificatecourse_Degree_Officers    = (float(Certificatecourse_Degree_Officers)/(length))*100\n",
        "# Rate Percentage of Officers With Diploma in HIV and Family Education Qualification Degree\n",
        "print('calculating the rate percentage of Officers With Diploma in HIV and Family Education Qualification Degree')\n",
        "Rate_DiplomainHIVandFamilyEducation_Degree_Officers    = (float(DiplomainHIVandFamilyEducation_Degree_Officers)/(length))*100\n",
        "# Rate Percentage of Officers With M.Sc. (Agri) Qualification Degree\n",
        "print('calculating the rate percentage of Officers With M.Sc. (Agri) Qualification Degree')\n",
        "Rate_MScAgri_Degree_Officers    = (float(MScAgri_Degree_Officers)/(length))*100\n",
        "# Rate Percentage of Officers With Master in International Law and Economics Qualification Degree\n",
        "print('calculating the rate percentage of Officers With Master in International Law and Economics Qualification Degree')\n",
        "Rate_MasterinInternationalLawandEconomics_Degree_Officers    = (float(MasterinInternationalLawandEconomics_Degree_Officers)/(length))*100\n",
        "# Rate Percentage of Officers With Chevening Gurukul Leadership Programme Qualification Degree\n",
        "print('calculating the rate percentage of Officers With Chevening Gurukul Leadership Programme Qualification Degree')\n",
        "Rate_CheveningGurukulLeadershipProgramme_Degree_Officers    = (float(CheveningGurukulLeadershipProgramme_Degree_Officers)/(length))*100\n",
        "# Rate Percentage of Officers With M.L. Qualification Degree\n",
        "print('calculating the rate percentage of Officers With M.L. Qualification Degree')\n",
        "Rate_ML_Degree_Officers    = (float(ML_Degree_Officers)/(length))*100\n",
        "# Rate Percentage of Officers With Master of Business Laws Qualification Degree\n",
        "print('calculating the rate percentage of Officers With Master of Business Laws Qualification Degree')\n",
        "Rate_MasterofBusinessLaws_Degree_Officers    = (float(MasterofBusinessLaws_Degree_Officers)/(length))*100\n",
        "# Rate Percentage of Officers With Certificate Course in French Qualification Degree\n",
        "print('calculating the rate percentage of Officers With Certificate Course in French Qualification Degree')\n",
        "Rate_CertificateCourseinFrench_Degree_Officers    = (float(CertificateCourseinFrench_Degree_Officers)/(length))*100\n",
        "# Rate Percentage of Officers With DIPLOMA IN FRENCH Qualification Degree\n",
        "print('calculating the rate percentage of Officers With DIPLOMA IN FRENCH Qualification Degree')\n",
        "Rate_DIPLOMAINFRENCH_Degree_Officers    = (float(DIPLOMAINFRENCH_Degree_Officers)/(length))*100\n",
        "# Rate Percentage of Officers With M.A. Qualification Degree\n",
        "print('calculating the rate percentage of Officers With M.A. Economics Qualification Degree')\n",
        "Rate_MAEconomics_Degree_Officers    = (float(MAEconomics_Degree_Officers)/(length))*100\n",
        "# Rate Percentage of Officers With M.Ed. Qualification Degree\n",
        "print('calculating the rate percentage of Officers With M.Ed. Qualification Degree')\n",
        "Rate_MEd_Degree_Officers    = (float(MEd_Degree_Officers)/(length))*100\n",
        "# Rate Percentage of Officers With B.D.S. Qualification Degree\n",
        "print('calculating the rate percentage of Officers With B.D.S. Qualification Degree')\n",
        "Rate_BDS_Degree_Officers    = (float(BDS_Degree_Officers)/(length))*100\n",
        "# Rate Percentage of Officers With M.D. Qualification Degree\n",
        "print('calculating the rate percentage of Officers With M.D. Qualification Degree')\n",
        "Rate_MD_Degree_Officers    = (float(MD_Degree_Officers)/(length))*100\n",
        "# Rate Percentage of Officers With B.Arch. Qualification Degree\n",
        "print('calculating the rate percentage of Officers With B.Arch. Qualification Degree')\n",
        "Rate_BArch_Degree_Officers    = (float(BArch_Degree_Officers)/(length))*100\n",
        "# Rate Percentage of Officers With M.B.E. Qualification Degree\n",
        "print('calculating the rate percentage of Officers With M.B.E. Qualification Degree')\n",
        "Rate_MBE_Degree_Officers    = (float(MBE_Degree_Officers)/(length))*100\n",
        "# Rate Percentage of Officers With M.C.M. Qualification Degree\n",
        "print('calculating the rate percentage of Officers With M.C.M. Qualification Degree')\n",
        "Rate_MCM_Degree_Officers    = (float(MCM_Degree_Officers)/(length))*100\n",
        "# Rate Percentage of Officers With B.H.M.S. Qualification Degree\n",
        "print('calculating the rate percentage of Officers With B.H.M.S. Qualification Degree')\n",
        "Rate_BHMS_Degree_Officers    = (float(BHMS_Degree_Officers)/(length))*100\n",
        "# Rate Percentage of Officers With M.B.M. Qualification Degree\n",
        "print('calculating the rate percentage of Officers With M.B.M. Qualification Degree')\n",
        "Rate_MBM_Degree_Officers    = (float(MBM_Degree_Officers)/(length))*100\n",
        "# Rate Percentage of Officers With Master of Arts Qualification Degree\n",
        "print('calculating the rate percentage of Officers With Master of Arts Qualification Degree')\n",
        "Rate_MasterofArts_Degree_Officers    = (float(MasterofArts_Degree_Officers)/(length))*100\n",
        "# Rate Percentage of Officers With B.E. (Hons) Qualification Degree\n",
        "print('calculating the rate percentage of Officers With M.A. Honours Qualification Degree')\n",
        "Rate_MAHonours_Degree_Officers    = (float(MAHonours_Degree_Officers)/(length))*100\n",
        "# Rate Percentage of Officers With B.E. (Hons) Qualification Degree\n",
        "print('calculating the rate percentage of Officers With B.E. (Hons) Qualification Degree')\n",
        "Rate_BEHons_Degree_Officers    = (float(BEHons_Degree_Officers)/(length))*100\n",
        "# Rate Percentage of Officers With M.M.S. Qualification Degree\n",
        "print('calculating the rate percentage of Officers With M.M.S. Qualification Degree')\n",
        "Rate_MMS_Degree_Officers    = (float(MMS_Degree_Officers)/(length))*100\n",
        "# Rate Percentage of Officers With B.A.M.S. Qualification Degree\n",
        "print('calculating the rate percentage of Officers With B.A.M.S. Qualification Degree')\n",
        "Rate_BAMS_Degree_Officers    = (float(BAMS_Degree_Officers)/(length))*100\n",
        "# Rate Percentage of Officers With MASTER IN TAXATION AND BUSINESS LAW Qualification Degree\n",
        "print('calculating the rate percentage of Officers With MASTER IN TAXATION AND BUSINESS LAW Qualification Degree')\n",
        "Rate_MASTERINTAXATIONANDBUSINESSLAW_Degree_Officers    = (float(MASTERINTAXATIONANDBUSINESSLAW_Degree_Officers)/(length))*100\n",
        "# Rate Percentage of Officers With B.E.E. Qualification Degree\n",
        "print('calculating the rate percentage of Officers With B.E.E. Qualification Degree')\n",
        "Rate_BEE_Degree_Officers    = (float(BEE_Degree_Officers)/(length))*100\n",
        "# Rate Percentage of Officers With B.A. Honours Economics Qualification Degree\n",
        "print('calculating the rate percentage of Officers With B.A. Honours Economics Qualification Degree')\n",
        "Rate_BAHonoursEconomics_Degree_Officers    = (float(BAHonoursEconomics_Degree_Officers)/(length))*100\n",
        "# Rate Percentage of Officers With D.Sc. Qualification Degree\n",
        "print('calculating the rate percentage of Officers With D.Sc. Qualification Degree')\n",
        "Rate_DSc_Degree_Officers    = (float(DSc_Degree_Officers)/(length))*100\n",
        "# Rate Percentage of Officers With Post Graduate Diploma in Business Administration Qualification Degree\n",
        "print('calculating the rate percentage of Officers With Post Graduate Diploma in Business Administration Qualification Degree')\n",
        "Rate_PostGraduateDiplomainBusinessAdministration_Degree_Officers    = (float(PostGraduateDiplomainBusinessAdministration_Degree_Officers)/(length))*100\n",
        "# Rate Percentage of Officers With Company Secretary Qualification Degree\n",
        "print('calculating the rate percentage of Officers With Company Secretary Qualification Degree')\n",
        "Rate_CompanySecretary_Degree_Officers    = (float(CompanySecretary_Degree_Officers)/(length))*100\n",
        "\n",
        "print('showing the result\\n')\n",
        "print(\"There are {}\".format(str(len(OfficerPerformanceDatasetDf)))+\" features in this dataset\")\n",
        "print(\"There are {}\".format(BSc_Degree_Officers)+\" Officers with B.Sc. Qualification Degree\")\n",
        "print(\"There are {}\".format(MSc_Degree_Officers)+\" Officers with M.Sc. Qualification Degree\")\n",
        "print(\"There are {}\".format(MPhil_Degree_Officers)+\" Officers with M.Phil Qualification Degree\")\n",
        "print(\"There are {}\".format(MA_Degree_Officers)+\" Officers with M.A. Qualification Degree\")\n",
        "print(\"There are {}\".format(PGUSA_Degree_Officers)+\" Officers with P.G. (USA) Qualification Degree\")\n",
        "print(\"There are {}\".format(PhDUSA_Degree_Officers)+\" Officers with PhD.(USA) Qualification Degree\")\n",
        "print(\"There are {}\".format(PG_Degree_Officers)+\" Officers with P.G. Qualification Degree\")\n",
        "print(\"There are {}\".format(ICWAI_Degree_Officers)+\" Officers with I.C.W.A.I. Qualification Degree\")\n",
        "print(\"There are {}\".format(MBA_Degree_Officers)+\" Officers with M.B.A. Qualification Degree\")\n",
        "print(\"There are {}\".format(PhD_Degree_Officers)+\" Officers with PhD Qualification Degree\")\n",
        "print(\"There are {}\".format(BScHons_Degree_Officers)+\" Officers with Bsc.Hons. Qualification Degree\")\n",
        "print(\"There are {}\".format(Diploma_Degree_Officers)+\" Officers with Diploma Qualification Degree\")\n",
        "print(\"There are {}\".format(LLB_Degree_Officers)+\" Officers with L.L.B. Qualification Degree\")\n",
        "print(\"There are {}\".format(Graduate_Degree_Officers)+\" Officers with Graduate Qualification Degree\")\n",
        "print(\"There are {}\".format(LLM_Degree_Officers)+\" Officers with L.L.M. Qualification Degree\")\n",
        "print(\"There are {}\".format(Certificate_Degree_Officers)+\" Officers with Certificate Qualification Degree\")\n",
        "print(\"There are {}\".format(BCom_Degree_Officers)+\" Officers with B.Com Qualification Degree\")\n",
        "print(\"There are {}\".format(BAHonours_Degree_Officers)+\" Officers with B.A.Hons Qualification Degree\")\n",
        "print(\"There are {}\".format(PGDiploma_Degree_Officers)+\" Officers with P.G.Diploma Qualification Degree\")\n",
        "print(\"There are {}\".format(BEd_Degree_Officers)+\" Officers with B.Ed Qualification Degree\")\n",
        "print(\"There are {}\".format(AMIE_Degree_Officers)+\" Officers with A.M.I.E. Qualification Degree\")\n",
        "print(\"There are {}\".format(BA_Degree_Officers)+\" Officers with B.A. Qualification Degree\")\n",
        "print(\"There are {}\".format(MPA_Degree_Officers)+\" Officers with M.P.A. Qualification Degree\")\n",
        "print(\"There are {}\".format(BTech_Degree_Officers)+\" Officers with B.Tech Qualification Degree\")\n",
        "print(\"There are {}\".format(MTech_Degree_Officers)+\" Officers with M.Tech. Qualification Degree\")\n",
        "print(\"There are {}\".format(BVScAH_Degree_Officers)+\" Officers with B.V.Sc. & A.H. Qualification Degree\")\n",
        "print(\"There are {}\".format(MVSc_Degree_Officers)+\" Officers with M.V.Sc. Qualification Degree\")\n",
        "print(\"There are {}\".format(MBAUK_Degree_Officers)+\" Officers with M.B.A.U.K. Qualification Degree\")\n",
        "print(\"There are {}\".format(BE_Degree_Officers)+\" Officers with B.E. Qualification Degree\")\n",
        "print(\"There are {}\".format(MBL_Degree_Officers)+\" Officers with M.B.L. Qualification Degree\")\n",
        "print(\"There are {}\".format(MBBS_Degree_Officers)+\" Officers with M.B.B.S. Qualification Degree\")\n",
        "print(\"There are {}\".format(MasterinBusinessAdministration_Degree_Officers)+\" Officers with Master In Business Administration Qualification Degree\")\n",
        "print(\"There are {}\".format(DIPLOMAINMANAGEMENT_Degree_Officers)+\" Officers with Diploma in Management Qualification Degree\")\n",
        "print(\"There are {}\".format(MCA_Degree_Officers)+\" Officers with M.C.A. Qualification Degree\")\n",
        "print(\"There are {}\".format(BScEngg_Degree_Officers)+\" Officers with Bsc.Engg. Qualification Degree\")\n",
        "print(\"There are {}\".format(CS_Degree_Officers)+\" Officers with C.S. Qualification Degree\")\n",
        "print(\"There are {}\".format(CFA_Degree_Officers)+\" Officers with C.F.A. Qualification Degree\")\n",
        "print(\"There are {}\".format(MS_Degree_Officers)+\" Officers with M.S. Qualification Degree\")\n",
        "print(\"There are {}\".format(MPM_Degree_Officers)+\"Officers with M.P.M. Qualification Degree\")\n",
        "print(\"There are {}\".format(BComHonours_Degree_Officers)+\" Officers with B.Com.Honours Qualification Degree\")\n",
        "print(\"There are {}\".format(AdvDiploma_Degree_Officers)+\" Officers with Adv.Diploma Qualification Degree\")\n",
        "print(\"There are {}\".format(MastersinDevelopmentManagement_Degree_Officers)+\" Officers with Master In Development Management Qualification Degree\")\n",
        "print(\"There are {}\".format(CA_Degree_Officers)+\" Officers with C.A. Qualification Degree\")\n",
        "print(\"There are {}\".format(CharteredAccountant_Degree_Officers)+\" Officers with Chartered Accountant Qualification Degree\")\n",
        "print(\"There are {}\".format(Degree_Degree_Officers)+\" Officers with Degree Qualification Degree\")\n",
        "print(\"There are {}\".format(MHSA_Degree_Officers)+\" Officers with M.H.S.A. Qualification Degree\")\n",
        "print(\"There are {}\".format(MPP_Degree_Officers)+\" Officers with M.P.P. Qualification Degree\")\n",
        "print(\"There are {}\".format(MAEnglish_Degree_Officers)+\" Officers with M.A.English Qualification Degree\")\n",
        "print(\"There are {}\".format(MastersinInternationalDevelopment_Degree_Officers)+\" Officers with Master In International Development Qualification Degree\")\n",
        "print(\"There are {}\".format(MIDP_Degree_Officers)+\" Officers with M.I.D.P. Qualification Degree\")\n",
        "print(\"There are {}\".format(BachelorofEngineering_Degree_Officers)+\" Officers with Bachelor of Engineering Qualification Degree\")\n",
        "print(\"There are {}\".format(ME_Degree_Officers)+\" Officers with M.E. Qualification Degree\")\n",
        "print(\"There are {}\".format(MastersinPublicPolicy_Degree_Officers)+\" Officers with Masters in Public Policy Qualification Degree\")\n",
        "print(\"There are {}\".format(MasterofPublicHealth_Degree_Officers)+\" Officers with Master of Public Health Qualification Degree\")\n",
        "print(\"There are {}\".format(MStat_Degree_Officers)+\" Officers with M.Stat Qualification Degree\")\n",
        "print(\"There are {}\".format(MIPL_Degree_Officers)+\" Officers with M.I.P.L. Qualification Degree\")\n",
        "print(\"There are {}\".format(BScAgri_Degree_Officers)+\" Officers with B.Sc.Agri. Qualification Degree\")\n",
        "print(\"There are {}\".format(MIPP_Degree_Officers)+\" Officers with M.I.P.P. Qualification Degree\")\n",
        "print(\"There are {}\".format(PGDPPM_Degree_Officers)+\" Officers with P.G.D.P.P.M. Qualification Degree\")\n",
        "print(\"There are {}\".format(MCom_Degree_Officers)+\" Officers with M.Com. Qualification Degree\")\n",
        "print(\"There are {}\".format(MasterofTechnology_Degree_Officers)+\" Officers with Master Of Technology Qualification Degree\")\n",
        "print(\"There are {}\".format(MPH_Degree_Officers)+\" Officers with M.P.H. Qualification Degree\")\n",
        "print(\"There are {}\".format(PGDiplomainFinancialManagement_Degree_Officers)+\" Officers with P.G. Diploma in Financial Management Qualification Degree\")\n",
        "print(\"There are {}\".format(POSTGRADUATEINPUBLICPOLICYANDMANAGEMENT_Degree_Officers)+\" Officers with POST GRADUATE IN PUBLIC POLICY AND MANAGEMENT Qualification Degree\")\n",
        "print(\"There are {}\".format(Certificatecourse_Degree_Officers)+\" Officers with Certificate Course Qualification Degree\")\n",
        "print(\"There are {}\".format(DIPLOMAINFRENCH_Degree_Officers)+\" Officers with Diploma In French Qualification Degree\")\n",
        "print(\"There are {}\".format(MAEconomics_Degree_Officers)+\" Officers with M.A. Economics Qualification Degree\")\n",
        "print(\"There are {}\".format(MEd_Degree_Officers)+\" Officers with M.Ed. Qualification Degree\")\n",
        "print(\"There are {}\".format(BDS_Degree_Officers)+\" Officers with B.D.S. Qualification Degree\")\n",
        "print(\"There are {}\".format(MD_Degree_Officers)+\" Officers with M.D. Qualification Degree\")\n",
        "print(\"There are {}\".format(BArch_Degree_Officers)+\" Officers with B.Arch. Qualification Degree\")\n",
        "print(\"There are {}\".format(MBE_Degree_Officers)+\" Officers with M.B.E. Qualification Degree\")\n",
        "print(\"There are {}\".format(MCM_Degree_Officers)+\" Officers with M.C.M. Qualification Degree\")\n",
        "print(\"There are {}\".format(BHMS_Degree_Officers)+\" Officers with B.H.M.S. Qualification Degree\")\n",
        "print(\"There are {}\".format(MBM_Degree_Officers)+\" Officers with M.B.M. Qualification Degree\")\n",
        "print(\"There are {}\".format(MasterofArts_Degree_Officers)+\" Officers with Master of Arts Qualification Degree\")\n",
        "print(\"There are {}\".format(MAHonours_Degree_Officers)+\" Officers with M.A. Honours Qualification Degree\")\n",
        "print(\"There are {}\".format(BEHons_Degree_Officers)+\" Officers with B.E.Hons Qualification Degree\")\n",
        "print(\"There are {}\".format(MMS_Degree_Officers)+\" Officers with M.M.S. Qualification Degree\")\n",
        "print(\"There are {}\".format(BAMS_Degree_Officers)+\" Officers with B.A.M.S. Qualification Degree\")\n",
        "print(\"There are {}\".format(MASTERINTAXATIONANDBUSINESSLAW_Degree_Officers)+\" Officers with MASTER IN TAXATION AND BUSINESS LAW Qualification Degree\")\n",
        "print(\"There are {}\".format(BEE_Degree_Officers)+\" Officers with B.E.E. Qualification Degree\")\n",
        "print(\"There are {}\".format(BAHonoursEconomics_Degree_Officers)+\" Officers with B.A. Honours Economics Qualification Degree\")\n",
        "print(\"There are {}\".format(DSc_Degree_Officers)+\" Officers with D.SC. Qualification Degree\")\n",
        "print(\"There are {}\".format(PostGraduateDiplomainBusinessAdministration_Degree_Officers)+\" Officers with Post Graduate Diploma in Business Administration Qualification Degree\")\n",
        "print(\"There are {}\".format(CompanySecretary_Degree_Officers)+\" Officers with Company Secretary Qualification Degree\")\n",
        "print('\\n');\n",
        "print(\"The percentage of Officers with B.Sc. Qualification Degree is: {:.4f}%\".format(Rate_BSc_Degree_Officers))\n",
        "print(\"The percentage of Officers with M.Sc. Qualification Degree is: {:.4f}%\".format(Rate_MSc_Degree_Officers))\n",
        "print(\"The percentage of Officers with M.Phil Qualification Degree is: {:.4f}%\".format(Rate_MPhil_Degree_Officers))\n",
        "print(\"The percentage of Officers with M.A Qualification Degree is: {:.4f}%\".format(Rate_MA_Degree_Officers))\n",
        "print(\"The percentage of Officers with P.G.USA Qualification Degree is: {:.4f}%\".format(Rate_PGUSA_Degree_Officers))\n",
        "print(\"The percentage of Officers with PhD.USA Qualification Degree is: {:.4f}%\".format(Rate_PhDUSA_Degree_Officers))\n",
        "print(\"The percentage of Officers with PG Qualification Degree is: {:.4f}%\".format(Rate_PG_Degree_Officers))\n",
        "print(\"The percentage of Officers with I.C.W.A.I. Qualification Degree is: {:.4f}%\".format(Rate_ICWAI_Degree_Officers))\n",
        "print(\"The percentage of Officers with M.B.A. Qualification Degree is: {:.4f}%\".format(Rate_MBA_Degree_Officers))\n",
        "print(\"The percentage of Officers with PhD Qualification Degree is: {:.4f}%\".format(Rate_PhD_Degree_Officers))\n",
        "print(\"The percentage of Officers with B.Sc.Hons Qualification Degree is: {:.4f}%\".format(Rate_BScHons_Degree_Officers))\n",
        "print(\"The percentage of Officers with Diploma Qualification Degree is: {:.4f}%\".format(Rate_Diploma_Degree_Officers))\n",
        "print(\"The percentage of Officers with L.L.B. Qualification Degree is: {:.4f}%\".format(Rate_LLB_Degree_Officers))\n",
        "print(\"The percentage of Officers with Graduate Qualification Degree is: {:.4f}%\".format(Rate_Graduate_Degree_Officers))\n",
        "print(\"The percentage of Officers with L.L.M. Qualification Degree is: {:.4f}%\".format(Rate_LLM_Degree_Officers))\n",
        "print(\"The percentage of Officers with Certificate Qualification Degree is: {:.4f}%\".format(Rate_Certificate_Degree_Officers))\n",
        "print(\"The percentage of Officers with B.Com. Qualification Degree is: {:.4f}%\".format(Rate_BCom_Degree_Officers))\n",
        "print(\"The percentage of Officers with B.A.Honours Qualification Degree is: {:.4f}%\".format(Rate_BAHonours_Degree_Officers))\n",
        "print(\"The percentage of Officers with P.G.Diploma Qualification Degree is: {:.4f}%\".format(Rate_PGDiploma_Degree_Officers))\n",
        "print(\"The percentage of Officers with B.Ed. Qualification Degree is: {:.4f}%\".format(Rate_BEd_Degree_Officers))\n",
        "print(\"The percentage of Officers with A.M.I.E. Qualification Degree is: {:.4f}%\".format(Rate_AMIE_Degree_Officers))\n",
        "print(\"The percentage of Officers with B.A. Qualification Degree is: {:.4f}%\".format(Rate_BA_Degree_Officers))\n",
        "print(\"The percentage of Officers with M.P.A. Qualification Degree is: {:.4f}%\".format(Rate_MPA_Degree_Officers))\n",
        "print(\"The percentage of Officers with B.Tech Qualification Degree is: {:.4f}%\".format(Rate_BTech_Degree_Officers))\n",
        "print(\"The percentage of Officers with M.Tech Qualification Degree is: {:.4f}%\".format(Rate_MTech_Degree_Officers))\n",
        "print(\"The percentage of Officers with B.V.Sc. & A.H Qualification Degree is: {:.4f}%\".format(Rate_BVScAH_Degree_Officers))\n",
        "print(\"The percentage of Officers with M.V.Sc. Qualification Degree is: {:.4f}%\".format(Rate_MVSc_Degree_Officers))\n",
        "print(\"The percentage of Officers with M.B.A.U.K. Qualification Degree is: {:.4f}%\".format(Rate_MBAUK_Degree_Officers))\n",
        "print(\"The percentage of Officers with B.E. Qualification Degree is: {:.4f}%\".format(Rate_BE_Degree_Officers))\n",
        "print(\"The percentage of Officers with M.B.L. Qualification Degree is: {:.4f}%\".format(Rate_MBL_Degree_Officers))\n",
        "print(\"The percentage of Officers with M.B.B.S. Qualification Degree is: {:.4f}%\".format(Rate_MBBS_Degree_Officers))\n",
        "print(\"The percentage of Officers with Master in Business Administration Qualification Degree is: {:.4f}%\".format(MasterinBusinessAdministration_Degree_Officers))\n",
        "print(\"The percentage of Officers with DIPLOMA IN MANAGEMENT Qualification Degree is: {:.4f}%\".format(Rate_DIPLOMAINMANAGEMENT_Degree_Officers))\n",
        "print(\"The percentage of Officers with M.C.A. Qualification Degree is: {:.4f}%\".format(Rate_MCA_Degree_Officers))\n",
        "print(\"The percentage of Officers with B.Sc.Engg Qualification Degree is: {:.4f}%\".format(Rate_BSc_Degree_Officers))\n",
        "print(\"The percentage of Officers with C.S. Qualification Degree is: {:.4f}%\".format(Rate_CS_Degree_Officers))\n",
        "print(\"The percentage of Officers with C.F.A. Qualification Degree is: {:.4f}%\".format(Rate_CFA_Degree_Officers))\n",
        "print(\"The percentage of Officers with M.S. Qualification Degree is: {:.4f}%\".format(Rate_MS_Degree_Officers))\n",
        "print(\"The percentage of Officers with M.P.M. Qualification Degree is: {:.4f}%\".format(Rate_MPM_Degree_Officers))\n",
        "print(\"The percentage of Officers with B.Com.Honours Qualification Degree is: {:.4f}%\".format(Rate_BCom_Degree_Officers))\n",
        "print(\"The percentage of Officers with Adv.Diploma Qualification Degree is: {:.4f}%\".format(Rate_AdvDiploma_Degree_Officers))\n",
        "print(\"The percentage of Officers with Masters in Development Management Qualification Degree is: {:.4f}%\".format(Rate_MastersinDevelopmentManagement_Degree_Officers))\n",
        "print(\"The percentage of Officers with C.A. Qualification Degree is: {:.4f}%\".format(Rate_CA_Degree_Officers))\n",
        "print(\"The percentage of Officers with Chartered Accountant Qualification Degree is: {:.4f}%\".format(Rate_CharteredAccountant_Degree_Officers))\n",
        "print(\"The percentage of Officers with Degree Qualification Degree is: {:.4f}%\".format(Rate_Degree_Degree_Officers))\n",
        "print(\"The percentage of Officers with M.H.S.A. Qualification Degree is: {:.4f}%\".format(Rate_MHSA_Degree_Officers))\n",
        "print(\"The percentage of Officers with M.P.P. Qualification Degree is: {:.4f}%\".format(Rate_MPP_Degree_Officers))\n",
        "print(\"The percentage of Officers with MA.English Qualification Degree is: {:.4f}%\".format(Rate_MA_Degree_Officers))\n",
        "print(\"The percentage of Officers with Masters in International Development Qualification Degree is: {:.4f}%\".format(Rate_MastersinInternationalDevelopment_Degree_Officers))\n",
        "print(\"The percentage of Officers with M.I.D.P. Qualification Degree is: {:.4f}%\".format(Rate_MIDP_Degree_Officers))\n",
        "print(\"The percentage of Officers with Bachelor of Engineering Qualification Degree is: {:.4f}%\".format(Rate_BachelorofEngineering_Degree_Officers))\n",
        "print(\"The percentage of Officers with M.E. Qualification Degree is: {:.4f}%\".format(Rate_ME_Degree_Officers))\n",
        "print(\"The percentage of Officers with Masters in Public Policy Qualification Degree is: {:.4f}%\".format(Rate_MastersinPublicPolicy_Degree_Officers))\n",
        "print(\"The percentage of Officers with Master of Public Health Qualification Degree is: {:.4f}%\".format(Rate_MasterofPublicHealth_Degree_Officers))\n",
        "print(\"The percentage of Officers with M.Stat. Qualification Degree is: {:.4f}%\".format(Rate_MStat_Degree_Officers))\n",
        "print(\"The percentage of Officers with M.I.P.L. Qualification Degree is: {:.4f}%\".format(Rate_MIPL_Degree_Officers))\n",
        "print(\"The percentage of Officers with B.Sc.Agri Qualification Degree is: {:.4f}%\".format(Rate_BScAgri_Degree_Officers))\n",
        "print(\"The percentage of Officers with M.I.P.P Qualification Degree is: {:.4f}%\".format(Rate_MIPP_Degree_Officers))\n",
        "print(\"The percentage of Officers with P.G.D.P.P.M. Qualification Degree is: {:.4f}%\".format(Rate_PGDPPM_Degree_Officers))\n",
        "print(\"The percentage of Officers with M.Com. Qualification Degree is: {:.4f}%\".format(Rate_MCom_Degree_Officers))\n",
        "print(\"The percentage of Officers with Master of Technology Qualification Degree is: {:.4f}%\".format(Rate_MasterofTechnology_Degree_Officers))\n",
        "print(\"The percentage of Officers with M.P.H. Qualification Degree is: {:.4f}%\".format(Rate_MPH_Degree_Officers))\n",
        "print(\"The percentage of Officers with PG Diploma in Financial Management Qualification Degree is: {:.4f}%\".format(Rate_PGDiplomainFinancialManagement_Degree_Officers))\n",
        "print(\"The percentage of Officers with POSTGRADUATEINPUBLICPOLICYANDMANAGEMENT Qualification Degree is: {:.4f}%\".format(Rate_POSTGRADUATEINPUBLICPOLICYANDMANAGEMENT_Degree_Officers))\n",
        "print(\"The percentage of Officers with Certificate course Qualification Degree is: {:.4f}%\".format(Rate_Certificatecourse_Degree_Officers))\n",
        "print(\"The percentage of Officers with Diploma in HIV and Family Education Qualification Degree is: {:.4f}%\".format(Rate_DiplomainHIVandFamilyEducation_Degree_Officers))\n",
        "print(\"The percentage of Officers with M.Sc.Agri Qualification Degree is: {:.4f}%\".format(Rate_MScAgri_Degree_Officers))\n",
        "print(\"The percentage of Officers with Master in International Law and Economics Qualification Degree is: {:.4f}%\".format(Rate_MasterinInternationalLawandEconomics_Degree_Officers))\n",
        "print(\"The percentage of Officers with Chevening Gurukul Leadership Programme Qualification Degree is: {:.4f}%\".format(Rate_CheveningGurukulLeadershipProgramme_Degree_Officers))\n",
        "print(\"The percentage of Officers with M.L. Qualification Degree is: {:.4f}%\".format(Rate_ML_Degree_Officers))\n",
        "print(\"The percentage of Officers with Master of Business Laws Qualification Degree is: {:.4f}%\".format(Rate_MasterofBusinessLaws_Degree_Officers))\n",
        "print(\"The percentage of Officers with Certificate Course in French Qualification Degree is: {:.4f}%\".format(Rate_CertificateCourseinFrench_Degree_Officers))\n",
        "print(\"The percentage of Officers with DIPLOMA IN FRENCH Qualification Degree is: {:.4f}%\".format(Rate_DIPLOMAINFRENCH_Degree_Officers))\n",
        "print(\"The percentage of Officers with M.A.Economics Qualification Degree is: {:.4f}%\".format(Rate_MA_Degree_Officers))\n",
        "print(\"The percentage of Officers with M.Ed Qualification Degree is: {:.4f}%\".format(Rate_MEd_Degree_Officers))\n",
        "print(\"The percentage of Officers with B.D.S. Qualification Degree is: {:.4f}%\".format(Rate_BDS_Degree_Officers))\n",
        "print(\"The percentage of Officers with M.D. Qualification Degree is: {:.4f}%\".format(Rate_MD_Degree_Officers))\n",
        "print(\"The percentage of Officers with B.Arch Qualification Degree is: {:.4f}%\".format(Rate_BArch_Degree_Officers))\n",
        "print(\"The percentage of Officers with M.B.E. Qualification Degree is: {:.4f}%\".format(Rate_MBE_Degree_Officers))\n",
        "print(\"The percentage of Officers with M.C.M. Qualification Degree is: {:.4f}%\".format(Rate_MCM_Degree_Officers))\n",
        "print(\"The percentage of Officers with B.H.M.S. Qualification Degree is: {:.4f}%\".format(Rate_BHMS_Degree_Officers))\n",
        "print(\"The percentage of Officers with M.B.M. Qualification Degree is: {:.4f}%\".format(Rate_MBM_Degree_Officers))\n",
        "print(\"The percentage of Officers with Master of Arts Qualification Degree is: {:.4f}%\".format(Rate_MasterofArts_Degree_Officers))\n",
        "print(\"The percentage of Officers with M.A.Honours Qualification Degree is: {:.4f}%\".format(Rate_MAHonours_Degree_Officers))\n",
        "print(\"The percentage of Officers with B.E.Hons Qualification Degree is: {:.4f}%\".format(Rate_BEHons_Degree_Officers))\n",
        "print(\"The percentage of Officers with M.M.S Qualification Degree is: {:.4f}%\".format(Rate_MMS_Degree_Officers))\n",
        "print(\"The percentage of Officers with B.A.M.S Qualification Degree is: {:.4f}%\".format(Rate_BAMS_Degree_Officers))\n",
        "print(\"The percentage of Officers with MASTER IN TAXATION AND BUSINESS LAW Qualification Degree is: {:.4f}%\".format(Rate_MASTERINTAXATIONANDBUSINESSLAW_Degree_Officers))\n",
        "print(\"The percentage of Officers with B.E.E. Qualification Degree is: {:.4f}%\".format(Rate_BEE_Degree_Officers))\n",
        "print(\"The percentage of Officers with B.A.Honours Economics Qualification Degree is: {:.4f}%\".format(Rate_BAHonoursEconomics_Degree_Officers))\n",
        "print(\"The percentage of Officers with D.Sc. Qualification Degree is: {:.4f}%\".format(Rate_DSc_Degree_Officers))\n",
        "print(\"The percentage of Officers with Post Graduate Diploma in Business Administration Qualification Degree is: {:.4f}%\".format(Rate_PostGraduateDiplomainBusinessAdministration_Degree_Officers))\n",
        "print(\"The percentage of Officers with Company Secretary Qualification Degree is: {:.4f}%\".format(Rate_CompanySecretary_Degree_Officers))"
      ],
      "execution_count": null,
      "outputs": [
        {
          "output_type": "stream",
          "text": [
            "Statistical values of Degree Column\n",
            "calculating the number of Officers With B.Sc. Qualification Degree\n",
            "calculating the number of Officers With M.Sc. Qualification Degree\n",
            "calculating the number of Officers With M.Phil. Qualification Degree\n",
            "calculating the number of Officers With M.A. Qualification Degree\n",
            "calculating the number of Officers With P.G. (USA) Qualification Degree\n",
            "calculating the number of Officers With Ph.D.(U.S.A.) Qualification Degree\n",
            "calculating the number of Officers With P.G. Qualification Degree\n",
            "calculating the number of Officers With ICWAI Qualification Degree\n",
            "calculating the number of Officers With M.B.A. Qualification Degree\n",
            "calculating the number of Officers With Ph. D. Qualification Degree\n",
            "calculating the number of Officers With B.Sc.(Hons) Qualification Degree\n",
            "calculating the number of Officers With Diploma Qualification Degree\n",
            "calculating the number of Officers With LL.B. Qualification Degree\n",
            "calculating the number of Officers With Graduate Qualification Degree\n",
            "calculating the number of Officers With LL.M. Qualification Degree\n",
            "calculating the number of Officers With Certificate Qualification Degree\n",
            "calculating the number of Officers With B.Com. Qualification Degree\n",
            "calculating the number of Officers With B.A. Honours Qualification Degree\n",
            "calculating the number of Officers With PG Diploma Qualification Degree\n",
            "calculating the number of Officers With B.Ed. Qualification Degree\n",
            "calculating the number of Officers With A.M.I.E. Qualification Degree\n",
            "calculating the number of Officers With B.A. Qualification Degree\n",
            "calculating the number of Officers With M.P.A. Qualification Degree\n",
            "calculating the number of Officers With B.Tech. Qualification Degree\n",
            "calculating the number of Officers With M.Tech. Qualification Degree\n",
            "calculating the number of Officers With B.V.Sc. & A.H. Qualification Degree\n",
            "calculating the number of Officers With M.V.Sc. Qualification Degree\n",
            "calculating the number of Officers With M.B.A. (UK) Qualification Degree\n",
            "calculating the number of Officers With B.E. Qualification Degree\n",
            "calculating the number of Officers With M.B.L. Qualification Degree\n",
            "calculating the number of Officers With M.B.B.S. Qualification Degree\n",
            "calculating the number of Officers With Master in Business Administration Qualification Degree\n",
            "calculating the number of Officers With DIPLOMA IN MANAGEMENT Qualification Degree\n",
            "calculating the number of Officers With M.C.A. Qualification Degree\n",
            "calculating the number of Officers With B.Sc.(Engg) Qualification Degree\n",
            "calculating the number of Officers With C.S. Qualification Degree\n",
            "calculating the number of Officers With C.F.A. Qualification Degree\n",
            "calculating the number of Officers With M.S. Qualification Degree\n",
            "calculating the number of Officers With M.P.M. Qualification Degree\n",
            "calculating the number of Officers With B.Com Honours Qualification Degree\n",
            "calculating the number of Officers With Adv. Diploma Qualification Degree\n",
            "calculating the number of Officers With Masters in Development Management Qualification Degree\n",
            "calculating the number of Officers With C.A. Qualification Degree\n",
            "calculating the number of Officers With Chartered Accountant Qualification Degree\n",
            "calculating the number of Officers With Degree Qualification Degree\n",
            "calculating the number of Officers With M.H.S.A. Qualification Degree\n",
            "calculating the number of Officers With M.P.P. Qualification Degree\n",
            "calculating the number of Officers With M.A. English Qualification Degree\n",
            "calculating the number of Officers With Masters in International Development Qualification Degree\n",
            "calculating the number of Officers With M.I.D.P. Qualification Degree\n",
            "calculating the number of Officers With Bachelor of Engineering Qualification Degree\n",
            "calculating the number of Officers With M.E. Qualification Degree\n",
            "calculating the number of Officers With Masters in Public Policy Qualification Degree\n",
            "calculating the number of Officers With Master of Public Health Qualification Degree\n",
            "calculating the number of Officers With M.Stat. Qualification Degree\n",
            "calculating the number of Officers With M.I.P.L. Qualification Degree\n",
            "calculating the number of Officers With B.Sc.(Agri) Qualification Degree\n",
            "calculating the number of Officers With MIPP Qualification Degree\n",
            "calculating the number of Officers With PGD PPM Qualification Degree\n",
            "calculating the number of Officers With M.Com. Qualification Degree\n",
            "calculating the number of Officers With Master of Technology Qualification Degree\n",
            "calculating the number of Officers With M.P.H. Qualification Degree\n",
            "calculating the number of Officers With PG Diploma in Financial Management Qualification Degree\n",
            "calculating the number of Officers With POST GRADUATE IN PUBLIC POLICY AND MANAGEMENT Qualification Degree\n",
            "calculating the number of Officers With Certificate course Qualification Degree\n",
            "calculating the number of Officers With Diploma in HIV and Family Education Qualification Degree\n",
            "calculating the number of Officers With M.Sc. (Agri) Qualification Degree\n",
            "calculating the number of Officers With Master in International Law and Economics Qualification Degree\n",
            "calculating the number of Officers With Chevening Gurukul Leadership Programme Qualification Degree\n",
            "calculating the number of Officers With M.L. Qualification Degree\n",
            "calculating the number of Officers With Master of Business Laws Qualification Degree\n",
            "calculating the number of Officers With Certificate Course in French Qualification Degree\n",
            "calculating the number of Officers With DIPLOMA IN FRENCH Qualification Degree\n",
            "calculating the number of Officers With M.A. Economics Qualification Degree\n",
            "calculating the number of Officers With M.Ed. Qualification Degree\n",
            "calculating the number of Officers With B.D.S. Qualification Degree\n",
            "calculating the number of Officers With M.D. Qualification Degree\n",
            "calculating the number of Officers With B.Arch. Qualification Degree\n",
            "calculating the number of Officers With M.B.E. Qualification Degree\n",
            "calculating the number of Officers With M.C.M. Qualification Degree\n",
            "calculating the number of Officers With B.H.M.S. Qualification Degree\n",
            "calculating the number of Officers With M.B.M. Qualification Degree\n",
            "calculating the number of Officers With Master of Arts Qualification Degree\n",
            "calculating the number of Officers With M.A. Honours Qualification Degree\n",
            "calculating the number of Officers With B.E. (Hons) Qualification Degree\n",
            "calculating the number of Officers With M.M.S. Qualification Degree\n",
            "calculating the number of Officers With B.A.M.S. Qualification Degree\n",
            "calculating the number of Officers With MASTER IN TAXATION AND BUSINESS LAW Qualification Degree\n",
            "calculating the number of Officers With B.E.E. Qualification Degree\n",
            "calculating the number of Officers With B.A. Honours Economics Qualification Degree\n",
            "calculating the number of Officers With D.Sc. Qualification Degree\n",
            "calculating the number of Officers With Post Graduate Diploma in Business Administration Qualification Degree\n",
            "calculating the number of Officers With Company Secretary Qualification Degree\n",
            "\n",
            "calculating the rate percentage of Officers With B.Sc. Qualification Degree\n",
            "calculating the rate percentage of Officers With M.Sc. Qualification Degree\n",
            "calculating the rate percentage of Officers With M.Phil. Qualification Degree\n",
            "calculating the rate percentage of Officers With M.A. Qualification Degree\n",
            "calculating the rate percentage of Officers With P.G. (USA) Qualification Degree\n",
            "calculating the rate percentage of Officers With Ph.D.(U.S.A.) Qualification Degree\n",
            "calculating the rate percentage of Officers With P.G. Qualification Degree\n",
            "calculating the rate percentage of Officers With ICWAI Qualification Degree\n",
            "calculating the rate percentage of Officers With M.B.A. Qualification Degree\n",
            "calculating the rate percentage of Officers With Ph. D. Qualification Degree\n",
            "calculating the rate percentage of Officers With B.Sc.(Hons) Qualification Degree\n",
            "calculating the rate percentage of Officers With Diploma Qualification Degree\n",
            "calculating the rate percentage of Officers With LL.B. Qualification Degree\n",
            "calculating the rate percentage of Officers With Graduate Qualification Degree\n",
            "calculating the rate percentage of Officers With LL.M. Qualification Degree\n",
            "calculating the rate percentage of Officers With Certificate Qualification Degree\n",
            "calculating the rate percentage of Officers With B.Com. Qualification Degree\n",
            "calculating the rate percentage of Officers With B.A. Honours Qualification Degree\n",
            "calculating the rate percentage of Officers With PG Diploma Qualification Degree\n",
            "calculating the rate percentage of Officers With B.Ed. Qualification Degree\n",
            "calculating the rate percentage of Officers With A.M.I.E. Qualification Degree\n",
            "calculating the rate percentage of Officers With B.A. Qualification Degree\n",
            "calculating the rate percentage of Officers With M.P.A. Qualification Degree\n",
            "calculating the rate percentage of Officers With B.Tech. Qualification Degree\n",
            "calculating the rate percentage of Officers With M.Tech. Qualification Degree\n",
            "calculating the rate percentage of Officers With B.V.Sc. & A.H. Qualification Degree\n",
            "calculating the rate percentage of Officers With M.V.Sc. Qualification Degree\n",
            "calculating the rate percentage of Officers With M.B.A. (UK) Qualification Degree\n",
            "calculating the rate percentage of Officers With B.E. Qualification Degree\n",
            "calculating the rate percentage of Officers With M.B.L. Qualification Degree\n",
            "calculating the rate percentage of Officers With M.B.B.S. Qualification Degree\n",
            "calculating the rate percentage of Officers With Master in Business Administration Qualification Degree\n",
            "calculating the rate percentage of Officers With DIPLOMA IN MANAGEMENT Qualification Degree\n",
            "calculating the rate percentage of Officers With M.C.A. Qualification Degree\n",
            "calculating the rate percentage of Officers With B.Sc.(Engg) Qualification Degree\n",
            "calculating the rate percentage of Officers With C.S. Qualification Degree\n",
            "calculating the rate percentage of Officers With C.F.A. Qualification Degree\n",
            "calculating the rate percentage of Officers With M.S. Qualification Degree\n",
            "calculating the rate percentage of Officers With M.P.M. Qualification Degree\n",
            "calculating the rate percentage of Officers With B.Com Honours Qualification Degree\n",
            "calculating the rate percentage of Officers With Adv. Diploma Qualification Degree\n",
            "calculating the rate percentage of Officers With Masters in Development Management Qualification Degree\n",
            "calculating the rate percentage of Officers With C.A. Qualification Degree\n",
            "calculating the rate percentage of Officers With Chartered Accountant Qualification Degree\n",
            "calculating the rate percentage of Officers With Degree Qualification Degree\n",
            "calculating the rate percentage of Officers With M.H.S.A. Qualification Degree\n",
            "calculating the rate percentage of Officers With M.P.P. Qualification Degree\n",
            "calculating the rate percentage of Officers With M.A. English Qualification Degree\n",
            "calculating the rate percentage of Officers With Masters in International Development Qualification Degree\n",
            "calculating the rate percentage of Officers With M.I.D.P. Qualification Degree\n",
            "calculating the rate percentage of Officers With Bachelor of Engineering Qualification Degree\n",
            "calculating the rate percentage of Officers With M.E. Qualification Degree\n",
            "calculating the rate percentage of Officers With Masters in Public Policy Qualification Degree\n",
            "calculating the rate percentage of Officers With Master of Public Health Qualification Degree\n",
            "calculating the rate percentage of Officers With M.Stat. Qualification Degree\n",
            "calculating the rate percentage of Officers With M.I.P.L. Qualification Degree\n",
            "calculating the rate percentage of Officers With B.Sc.(Agri) Qualification Degree\n",
            "calculating the rate percentage of Officers With MIPP Qualification Degree\n",
            "calculating the rate percentage of Officers With PGD PPM Qualification Degree\n",
            "calculating the rate percentage of Officers With M.Com. Qualification Degree\n",
            "calculating the rate percentage of Officers With Master of Technology Qualification Degree\n",
            "calculating the rate percentage of Officers With M.P.H. Qualification Degree\n",
            "calculating the rate percentage of Officers With PG Diploma in Financial Management Qualification Degree\n",
            "calculating the rate percentage of Officers With POST GRADUATE IN PUBLIC POLICY AND MANAGEMENT Qualification Degree\n",
            "calculating the rate percentage of Officers With Certificate course Qualification Degree\n",
            "calculating the rate percentage of Officers With Diploma in HIV and Family Education Qualification Degree\n",
            "calculating the rate percentage of Officers With M.Sc. (Agri) Qualification Degree\n",
            "calculating the rate percentage of Officers With Master in International Law and Economics Qualification Degree\n",
            "calculating the rate percentage of Officers With Chevening Gurukul Leadership Programme Qualification Degree\n",
            "calculating the rate percentage of Officers With M.L. Qualification Degree\n",
            "calculating the rate percentage of Officers With Master of Business Laws Qualification Degree\n",
            "calculating the rate percentage of Officers With Certificate Course in French Qualification Degree\n",
            "calculating the rate percentage of Officers With DIPLOMA IN FRENCH Qualification Degree\n",
            "calculating the rate percentage of Officers With M.A. Economics Qualification Degree\n",
            "calculating the rate percentage of Officers With M.Ed. Qualification Degree\n",
            "calculating the rate percentage of Officers With B.D.S. Qualification Degree\n",
            "calculating the rate percentage of Officers With M.D. Qualification Degree\n",
            "calculating the rate percentage of Officers With B.Arch. Qualification Degree\n",
            "calculating the rate percentage of Officers With M.B.E. Qualification Degree\n",
            "calculating the rate percentage of Officers With M.C.M. Qualification Degree\n",
            "calculating the rate percentage of Officers With B.H.M.S. Qualification Degree\n",
            "calculating the rate percentage of Officers With M.B.M. Qualification Degree\n",
            "calculating the rate percentage of Officers With Master of Arts Qualification Degree\n",
            "calculating the rate percentage of Officers With M.A. Honours Qualification Degree\n",
            "calculating the rate percentage of Officers With B.E. (Hons) Qualification Degree\n",
            "calculating the rate percentage of Officers With M.M.S. Qualification Degree\n",
            "calculating the rate percentage of Officers With B.A.M.S. Qualification Degree\n",
            "calculating the rate percentage of Officers With MASTER IN TAXATION AND BUSINESS LAW Qualification Degree\n",
            "calculating the rate percentage of Officers With B.E.E. Qualification Degree\n",
            "calculating the rate percentage of Officers With B.A. Honours Economics Qualification Degree\n",
            "calculating the rate percentage of Officers With D.Sc. Qualification Degree\n",
            "calculating the rate percentage of Officers With Post Graduate Diploma in Business Administration Qualification Degree\n",
            "calculating the rate percentage of Officers With Company Secretary Qualification Degree\n",
            "showing the result\n",
            "\n",
            "There are 45131 features in this dataset\n",
            "There are 620 Officers with B.Sc. Qualification Degree\n",
            "There are 823 Officers with M.Sc. Qualification Degree\n",
            "There are 704 Officers with M.Phil Qualification Degree\n",
            "There are 1119 Officers with M.A. Qualification Degree\n",
            "There are 15 Officers with P.G. (USA) Qualification Degree\n",
            "There are 21 Officers with PhD.(USA) Qualification Degree\n",
            "There are 9903 Officers with P.G. Qualification Degree\n",
            "There are 44 Officers with I.C.W.A.I. Qualification Degree\n",
            "There are 840 Officers with M.B.A. Qualification Degree\n",
            "There are 831 Officers with PhD Qualification Degree\n",
            "There are 217 Officers with Bsc.Hons. Qualification Degree\n",
            "There are 1256 Officers with Diploma Qualification Degree\n",
            "There are 1038 Officers with L.L.B. Qualification Degree\n",
            "There are 13949 Officers with Graduate Qualification Degree\n",
            "There are 67 Officers with L.L.M. Qualification Degree\n",
            "There are 598 Officers with Certificate Qualification Degree\n",
            "There are 138 Officers with B.Com Qualification Degree\n",
            "There are 407 Officers with B.A.Hons Qualification Degree\n",
            "There are 665 Officers with P.G.Diploma Qualification Degree\n",
            "There are 97 Officers with B.Ed Qualification Degree\n",
            "There are 66 Officers with A.M.I.E. Qualification Degree\n",
            "There are 605 Officers with B.A. Qualification Degree\n",
            "There are 63 Officers with M.P.A. Qualification Degree\n",
            "There are 7815 Officers with B.Tech Qualification Degree\n",
            "There are 513 Officers with M.Tech. Qualification Degree\n",
            "There are 49 Officers with B.V.Sc. & A.H. Qualification Degree\n",
            "There are 25 Officers with M.V.Sc. Qualification Degree\n",
            "There are 33 Officers with M.B.A.U.K. Qualification Degree\n",
            "There are 1189 Officers with B.E. Qualification Degree\n",
            "There are 6 Officers with M.B.L. Qualification Degree\n",
            "There are 318 Officers with M.B.B.S. Qualification Degree\n",
            "There are 18 Officers with Master In Business Administration Qualification Degree\n",
            "There are 5 Officers with Diploma in Management Qualification Degree\n",
            "There are 5 Officers with M.C.A. Qualification Degree\n",
            "There are 57 Officers with Bsc.Engg. Qualification Degree\n",
            "There are 29 Officers with C.S. Qualification Degree\n",
            "There are 4 Officers with C.F.A. Qualification Degree\n",
            "There are 7 Officers with M.S. Qualification Degree\n",
            "There are 7Officers with M.P.M. Qualification Degree\n",
            "There are 59 Officers with B.Com.Honours Qualification Degree\n",
            "There are 9 Officers with Adv.Diploma Qualification Degree\n",
            "There are 2 Officers with Master In Development Management Qualification Degree\n",
            "There are 17 Officers with C.A. Qualification Degree\n",
            "There are 63 Officers with Chartered Accountant Qualification Degree\n",
            "There are 13 Officers with Degree Qualification Degree\n",
            "There are 1 Officers with M.H.S.A. Qualification Degree\n",
            "There are 6 Officers with M.P.P. Qualification Degree\n",
            "There are 3 Officers with M.A.English Qualification Degree\n",
            "There are 6 Officers with Master In International Development Qualification Degree\n",
            "There are 2 Officers with M.I.D.P. Qualification Degree\n",
            "There are 42 Officers with Bachelor of Engineering Qualification Degree\n",
            "There are 149 Officers with M.E. Qualification Degree\n",
            "There are 1 Officers with Masters in Public Policy Qualification Degree\n",
            "There are 1 Officers with Master of Public Health Qualification Degree\n",
            "There are 1 Officers with M.Stat Qualification Degree\n",
            "There are 3 Officers with M.I.P.L. Qualification Degree\n",
            "There are 70 Officers with B.Sc.Agri. Qualification Degree\n",
            "There are 1 Officers with M.I.P.P. Qualification Degree\n",
            "There are 20 Officers with P.G.D.P.P.M. Qualification Degree\n",
            "There are 57 Officers with M.Com. Qualification Degree\n",
            "There are 9 Officers with Master Of Technology Qualification Degree\n",
            "There are 3 Officers with M.P.H. Qualification Degree\n",
            "There are 11 Officers with P.G. Diploma in Financial Management Qualification Degree\n",
            "There are 34 Officers with POST GRADUATE IN PUBLIC POLICY AND MANAGEMENT Qualification Degree\n",
            "There are 17 Officers with Certificate Course Qualification Degree\n",
            "There are 5 Officers with Diploma In French Qualification Degree\n",
            "There are 10 Officers with M.A. Economics Qualification Degree\n",
            "There are 11 Officers with M.Ed. Qualification Degree\n",
            "There are 24 Officers with B.D.S. Qualification Degree\n",
            "There are 21 Officers with M.D. Qualification Degree\n",
            "There are 6 Officers with B.Arch. Qualification Degree\n",
            "There are 3 Officers with M.B.E. Qualification Degree\n",
            "There are 2 Officers with M.C.M. Qualification Degree\n",
            "There are 4 Officers with B.H.M.S. Qualification Degree\n",
            "There are 1 Officers with M.B.M. Qualification Degree\n",
            "There are 1 Officers with Master of Arts Qualification Degree\n",
            "There are 3 Officers with M.A. Honours Qualification Degree\n",
            "There are 33 Officers with B.E.Hons Qualification Degree\n",
            "There are 3 Officers with M.M.S. Qualification Degree\n",
            "There are 3 Officers with B.A.M.S. Qualification Degree\n",
            "There are 5 Officers with MASTER IN TAXATION AND BUSINESS LAW Qualification Degree\n",
            "There are 1 Officers with B.E.E. Qualification Degree\n",
            "There are 9 Officers with B.A. Honours Economics Qualification Degree\n",
            "There are 1 Officers with D.SC. Qualification Degree\n",
            "There are 8 Officers with Post Graduate Diploma in Business Administration Qualification Degree\n",
            "There are 6 Officers with Company Secretary Qualification Degree\n",
            "\n",
            "\n",
            "The percentage of Officers with B.Sc. Qualification Degree is: 1.3738%\n",
            "The percentage of Officers with M.Sc. Qualification Degree is: 1.8236%\n",
            "The percentage of Officers with M.Phil Qualification Degree is: 1.5599%\n",
            "The percentage of Officers with M.A Qualification Degree is: 2.4794%\n",
            "The percentage of Officers with P.G.USA Qualification Degree is: 0.0332%\n",
            "The percentage of Officers with PhD.USA Qualification Degree is: 0.0465%\n",
            "The percentage of Officers with PG Qualification Degree is: 21.9428%\n",
            "The percentage of Officers with I.C.W.A.I. Qualification Degree is: 0.0975%\n",
            "The percentage of Officers with M.B.A. Qualification Degree is: 1.8612%\n",
            "The percentage of Officers with PhD Qualification Degree is: 1.8413%\n",
            "The percentage of Officers with B.Sc.Hons Qualification Degree is: 0.4808%\n",
            "The percentage of Officers with Diploma Qualification Degree is: 2.7830%\n",
            "The percentage of Officers with L.L.B. Qualification Degree is: 2.3000%\n",
            "The percentage of Officers with Graduate Qualification Degree is: 30.9078%\n",
            "The percentage of Officers with L.L.M. Qualification Degree is: 0.1485%\n",
            "The percentage of Officers with Certificate Qualification Degree is: 1.3250%\n",
            "The percentage of Officers with B.Com. Qualification Degree is: 0.3058%\n",
            "The percentage of Officers with B.A.Honours Qualification Degree is: 0.9018%\n",
            "The percentage of Officers with P.G.Diploma Qualification Degree is: 1.4735%\n",
            "The percentage of Officers with B.Ed. Qualification Degree is: 0.2149%\n",
            "The percentage of Officers with A.M.I.E. Qualification Degree is: 0.1462%\n",
            "The percentage of Officers with B.A. Qualification Degree is: 1.3405%\n",
            "The percentage of Officers with M.P.A. Qualification Degree is: 0.1396%\n",
            "The percentage of Officers with B.Tech Qualification Degree is: 17.3163%\n",
            "The percentage of Officers with M.Tech Qualification Degree is: 1.1367%\n",
            "The percentage of Officers with B.V.Sc. & A.H Qualification Degree is: 0.1086%\n",
            "The percentage of Officers with M.V.Sc. Qualification Degree is: 0.0554%\n",
            "The percentage of Officers with M.B.A.U.K. Qualification Degree is: 0.0731%\n",
            "The percentage of Officers with B.E. Qualification Degree is: 2.6346%\n",
            "The percentage of Officers with M.B.L. Qualification Degree is: 0.0133%\n",
            "The percentage of Officers with M.B.B.S. Qualification Degree is: 0.7046%\n",
            "The percentage of Officers with Master in Business Administration Qualification Degree is: 18.0000%\n",
            "The percentage of Officers with DIPLOMA IN MANAGEMENT Qualification Degree is: 0.0111%\n",
            "The percentage of Officers with M.C.A. Qualification Degree is: 0.0111%\n",
            "The percentage of Officers with B.Sc.Engg Qualification Degree is: 1.3738%\n",
            "The percentage of Officers with C.S. Qualification Degree is: 0.0643%\n",
            "The percentage of Officers with C.F.A. Qualification Degree is: 0.0089%\n",
            "The percentage of Officers with M.S. Qualification Degree is: 0.0155%\n",
            "The percentage of Officers with M.P.M. Qualification Degree is: 0.0155%\n",
            "The percentage of Officers with B.Com.Honours Qualification Degree is: 0.3058%\n",
            "The percentage of Officers with Adv.Diploma Qualification Degree is: 0.0199%\n",
            "The percentage of Officers with Masters in Development Management Qualification Degree is: 0.0044%\n",
            "The percentage of Officers with C.A. Qualification Degree is: 0.0377%\n",
            "The percentage of Officers with Chartered Accountant Qualification Degree is: 0.1396%\n",
            "The percentage of Officers with Degree Qualification Degree is: 0.0288%\n",
            "The percentage of Officers with M.H.S.A. Qualification Degree is: 0.0022%\n",
            "The percentage of Officers with M.P.P. Qualification Degree is: 0.0133%\n",
            "The percentage of Officers with MA.English Qualification Degree is: 2.4794%\n",
            "The percentage of Officers with Masters in International Development Qualification Degree is: 0.0133%\n",
            "The percentage of Officers with M.I.D.P. Qualification Degree is: 0.0044%\n",
            "The percentage of Officers with Bachelor of Engineering Qualification Degree is: 0.0931%\n",
            "The percentage of Officers with M.E. Qualification Degree is: 0.3302%\n",
            "The percentage of Officers with Masters in Public Policy Qualification Degree is: 0.0022%\n",
            "The percentage of Officers with Master of Public Health Qualification Degree is: 0.0022%\n",
            "The percentage of Officers with M.Stat. Qualification Degree is: 0.0022%\n",
            "The percentage of Officers with M.I.P.L. Qualification Degree is: 0.0066%\n",
            "The percentage of Officers with B.Sc.Agri Qualification Degree is: 0.1551%\n",
            "The percentage of Officers with M.I.P.P Qualification Degree is: 0.0022%\n",
            "The percentage of Officers with P.G.D.P.P.M. Qualification Degree is: 0.0443%\n",
            "The percentage of Officers with M.Com. Qualification Degree is: 0.1263%\n",
            "The percentage of Officers with Master of Technology Qualification Degree is: 0.0199%\n",
            "The percentage of Officers with M.P.H. Qualification Degree is: 0.0066%\n",
            "The percentage of Officers with PG Diploma in Financial Management Qualification Degree is: 0.0244%\n",
            "The percentage of Officers with POSTGRADUATEINPUBLICPOLICYANDMANAGEMENT Qualification Degree is: 0.0753%\n",
            "The percentage of Officers with Certificate course Qualification Degree is: 0.0377%\n",
            "The percentage of Officers with Diploma in HIV and Family Education Qualification Degree is: 0.0022%\n",
            "The percentage of Officers with M.Sc.Agri Qualification Degree is: 0.0199%\n",
            "The percentage of Officers with Master in International Law and Economics Qualification Degree is: 0.0022%\n",
            "The percentage of Officers with Chevening Gurukul Leadership Programme Qualification Degree is: 0.0044%\n",
            "The percentage of Officers with M.L. Qualification Degree is: 0.0022%\n",
            "The percentage of Officers with Master of Business Laws Qualification Degree is: 0.0111%\n",
            "The percentage of Officers with Certificate Course in French Qualification Degree is: 0.0022%\n",
            "The percentage of Officers with DIPLOMA IN FRENCH Qualification Degree is: 0.0111%\n",
            "The percentage of Officers with M.A.Economics Qualification Degree is: 2.4794%\n",
            "The percentage of Officers with M.Ed Qualification Degree is: 0.0244%\n",
            "The percentage of Officers with B.D.S. Qualification Degree is: 0.0532%\n",
            "The percentage of Officers with M.D. Qualification Degree is: 0.0465%\n",
            "The percentage of Officers with B.Arch Qualification Degree is: 0.0133%\n",
            "The percentage of Officers with M.B.E. Qualification Degree is: 0.0066%\n",
            "The percentage of Officers with M.C.M. Qualification Degree is: 0.0044%\n",
            "The percentage of Officers with B.H.M.S. Qualification Degree is: 0.0089%\n",
            "The percentage of Officers with M.B.M. Qualification Degree is: 0.0022%\n",
            "The percentage of Officers with Master of Arts Qualification Degree is: 0.0022%\n",
            "The percentage of Officers with M.A.Honours Qualification Degree is: 0.0066%\n",
            "The percentage of Officers with B.E.Hons Qualification Degree is: 0.0731%\n",
            "The percentage of Officers with M.M.S Qualification Degree is: 0.0066%\n",
            "The percentage of Officers with B.A.M.S Qualification Degree is: 0.0066%\n",
            "The percentage of Officers with MASTER IN TAXATION AND BUSINESS LAW Qualification Degree is: 0.0111%\n",
            "The percentage of Officers with B.E.E. Qualification Degree is: 0.0022%\n",
            "The percentage of Officers with B.A.Honours Economics Qualification Degree is: 0.0199%\n",
            "The percentage of Officers with D.Sc. Qualification Degree is: 0.0022%\n",
            "The percentage of Officers with Post Graduate Diploma in Business Administration Qualification Degree is: 0.0177%\n",
            "The percentage of Officers with Company Secretary Qualification Degree is: 0.0133%\n"
          ],
          "name": "stdout"
        }
      ]
    },
    {
      "cell_type": "markdown",
      "metadata": {
        "id": "tsikS_4M05-A"
      },
      "source": [
        "# **Visualize the DataSet**"
      ]
    },
    {
      "cell_type": "markdown",
      "metadata": {
        "id": "G8INO20c0-3i"
      },
      "source": [
        "### **Visualize the DataSet Based on Columns Values**"
      ]
    },
    {
      "cell_type": "code",
      "metadata": {
        "colab": {
          "base_uri": "https://localhost:8080/",
          "height": 381
        },
        "id": "uvwhkS6eXXLD",
        "outputId": "ffc1844d-ae08-4727-9e98-163fdd38f932"
      },
      "source": [
        "print('Visualize the OfficerId Values using Displot')\n",
        "sns.distplot(OfficerPerformanceDatasetDf['OfficerID'],color='green')"
      ],
      "execution_count": null,
      "outputs": [
        {
          "output_type": "stream",
          "text": [
            "Visualize the OfficerId Values using Displot\n"
          ],
          "name": "stdout"
        },
        {
          "output_type": "stream",
          "text": [
            "/usr/local/lib/python3.7/dist-packages/seaborn/distributions.py:2557: FutureWarning: `distplot` is a deprecated function and will be removed in a future version. Please adapt your code to use either `displot` (a figure-level function with similar flexibility) or `histplot` (an axes-level function for histograms).\n",
            "  warnings.warn(msg, FutureWarning)\n"
          ],
          "name": "stderr"
        },
        {
          "output_type": "execute_result",
          "data": {
            "text/plain": [
              "<matplotlib.axes._subplots.AxesSubplot at 0x7f6319b434d0>"
            ]
          },
          "metadata": {
            "tags": []
          },
          "execution_count": 20
        },
        {
          "output_type": "display_data",
          "data": {
            "image/png": "[encoded data removed]",
            "text/plain": [
              "<Figure size 432x288 with 1 Axes>"
            ]
          },
          "metadata": {
            "tags": [],
            "needs_background": "light"
          }
        }
      ]
    },
    {
      "cell_type": "code",
      "metadata": {
        "colab": {
          "base_uri": "https://localhost:8080/",
          "height": 315
        },
        "id": "fBYwLRcE1Qud",
        "outputId": "43bc0ad7-693a-4cf2-ad35-428ee0cd38e1"
      },
      "source": [
        "print('Visualize the gender values using boxplot')\n",
        "sns.boxplot(x='Gender_name',y='OfficerID',data=OfficerPerformanceDatasetDf)"
      ],
      "execution_count": null,
      "outputs": [
        {
          "output_type": "stream",
          "text": [
            "Visualize the gender values using boxplot\n"
          ],
          "name": "stdout"
        },
        {
          "output_type": "execute_result",
          "data": {
            "text/plain": [
              "<matplotlib.axes._subplots.AxesSubplot at 0x7f6319b961d0>"
            ]
          },
          "metadata": {
            "tags": []
          },
          "execution_count": 21
        },
        {
          "output_type": "display_data",
          "data": {
            "image/png": "[encoded data removed]",
            "text/plain": [
              "<Figure size 432x288 with 1 Axes>"
            ]
          },
          "metadata": {
            "tags": [],
            "needs_background": "light"
          }
        }
      ]
    },
    {
      "cell_type": "code",
      "metadata": {
        "colab": {
          "base_uri": "https://localhost:8080/",
          "height": 370
        },
        "id": "xbx6FpRr1Qxg",
        "outputId": "75fa9225-2464-4e39-9253-d981bfd5ea2a"
      },
      "source": [
        "print('Visualize the Passing Year values using Displot')\n",
        "sns.distplot(OfficerPerformanceDatasetDf['PassingYear'],color='red')"
      ],
      "execution_count": null,
      "outputs": [
        {
          "output_type": "stream",
          "text": [
            "Visualize the Passing Year values using Displot\n"
          ],
          "name": "stdout"
        },
        {
          "output_type": "stream",
          "text": [
            "/usr/local/lib/python3.7/dist-packages/seaborn/distributions.py:2557: FutureWarning: `distplot` is a deprecated function and will be removed in a future version. Please adapt your code to use either `displot` (a figure-level function with similar flexibility) or `histplot` (an axes-level function for histograms).\n",
            "  warnings.warn(msg, FutureWarning)\n"
          ],
          "name": "stderr"
        },
        {
          "output_type": "execute_result",
          "data": {
            "text/plain": [
              "<matplotlib.axes._subplots.AxesSubplot at 0x7f6319ab3b10>"
            ]
          },
          "metadata": {
            "tags": []
          },
          "execution_count": 22
        },
        {
          "output_type": "display_data",
          "data": {
            "image/png": "[encoded data removed]",
            "text/plain": [
              "<Figure size 432x288 with 1 Axes>"
            ]
          },
          "metadata": {
            "tags": [],
            "needs_background": "light"
          }
        }
      ]
    },
    {
      "cell_type": "code",
      "metadata": {
        "colab": {
          "base_uri": "https://localhost:8080/",
          "height": 316
        },
        "id": "qikZIoab1Q08",
        "outputId": "6faf3ca8-cfc2-4932-d325-3bf618542a2d"
      },
      "source": [
        "print('data visualization using barplot in metaplotlib libraray cm package')\n",
        "from matplotlib import cm as cm\n",
        "fig = plt.figure()\n",
        "ax1 = fig.add_subplot(111)\n",
        "cmap = cm.get_cmap('jet', 90)\n",
        "cax = ax1.imshow(OfficerPerformanceDatasetDf.corr(), interpolation=\"none\", cmap=cmap)\n",
        "ax1.grid(True)\n",
        "plt.title('Officer OfficerPerformance Data')"
      ],
      "execution_count": null,
      "outputs": [
        {
          "output_type": "stream",
          "text": [
            "data visualization using barplot in metaplotlib libraray cm package\n"
          ],
          "name": "stdout"
        },
        {
          "output_type": "execute_result",
          "data": {
            "text/plain": [
              "Text(0.5, 1.0, 'Officer OfficerPerformance Data')"
            ]
          },
          "metadata": {
            "tags": []
          },
          "execution_count": 23
        },
        {
          "output_type": "display_data",
          "data": {
            "image/png": "[encoded data removed]",
            "text/plain": [
              "<Figure size 432x288 with 1 Axes>"
            ]
          },
          "metadata": {
            "tags": [],
            "needs_background": "light"
          }
        }
      ]
    },
    {
      "cell_type": "code",
      "metadata": {
        "colab": {
          "base_uri": "https://localhost:8080/",
          "height": 462
        },
        "id": "it4WtbLL1Q34",
        "outputId": "4a1e1aba-fcb2-4dfa-cb89-79112bd3baed"
      },
      "source": [
        "print('plotting the pie chart for Gender Column of a dataset  \\n')\n",
        "Officer_Gender_Percentage_Values = [rate_MaleOfficers,rate_FemaleOfficers]\n",
        "Gender_names = ['Male','Female']\n",
        "fig, ax = plt.subplots(figsize =(10, 7)) \n",
        "plt.pie(Officer_Gender_Percentage_Values, labels = Gender_names,autopct='%1.0f%%')  \n",
        "ax.legend(Gender_names, \n",
        "          title =\"Gender\", \n",
        "          loc =\"center left\", \n",
        "          bbox_to_anchor =(1, 0, 0.5, 1)) \n",
        "ax.set_title(\"Gender Wise Officers Dataset\") \n",
        "plt.show() "
      ],
      "execution_count": null,
      "outputs": [
        {
          "output_type": "stream",
          "text": [
            "plotting the pie chart for Gender Column of a dataset  \n",
            "\n"
          ],
          "name": "stdout"
        },
        {
          "output_type": "display_data",
          "data": {
            "image/png": "[encoded data removed]",
            "text/plain": [
              "<Figure size 720x504 with 1 Axes>"
            ]
          },
          "metadata": {
            "tags": []
          }
        }
      ]
    },
    {
      "cell_type": "code",
      "metadata": {
        "colab": {
          "base_uri": "https://localhost:8080/",
          "height": 462
        },
        "id": "LmBcPdxE1Q7f",
        "outputId": "48dae0ca-918e-45ea-8ee5-401a8f4d0098"
      },
      "source": [
        "print('plotting the pie chart for Category Column of a dataset  \\n')\n",
        "Officer_Category_Percentage_Values = [Rate_General_Officers,Rate_SC_Officers,Rate_ST_Officers,Rate_OBC_Officers]\n",
        "Category_names = ['General','S.C.','S.T.','O.B.C.']\n",
        "fig, ax = plt.subplots(figsize =(10, 7))\n",
        "plt.pie(Officer_Category_Percentage_Values, labels = Category_names,autopct='%1.0f%%')\n",
        "ax.legend(Category_names, \n",
        "          title =\"Categories\", \n",
        "          loc =\"center left\", \n",
        "          bbox_to_anchor =(1, 0, 0.5, 1)) \n",
        "ax.set_title(\"Category Wise Officers Dataset\") \n",
        "plt.show()"
      ],
      "execution_count": null,
      "outputs": [
        {
          "output_type": "stream",
          "text": [
            "plotting the pie chart for Category Column of a dataset  \n",
            "\n"
          ],
          "name": "stdout"
        },
        {
          "output_type": "display_data",
          "data": {
            "image/png": "[encoded data removed]",
            "text/plain": [
              "<Figure size 720x504 with 1 Axes>"
            ]
          },
          "metadata": {
            "tags": []
          }
        }
      ]
    },
    {
      "cell_type": "code",
      "metadata": {
        "colab": {
          "base_uri": "https://localhost:8080/",
          "height": 478
        },
        "id": "hlkObSVS1i0n",
        "outputId": "2ff705f4-3b2f-44e4-d25a-2240c31c1c53"
      },
      "source": [
        "print('plotting the pie chart for Cadre States Column of a dataset  \\n')\n",
        "Officer_Cadre_States_Percentage_Values = [Rate_Rajasthan_Officers,Rate_Tamil_Nadu_Officers,Rate_Sikkim_Officers,\n",
        "                                          Rate_Andrhra_Pradesh_Officers,Rate_AGMUT_Officers,\n",
        "                                          Rate_Assam_Meghalya_Officers,Rate_Uttar_Pradesh_Officers,Rate_Tripura_Officers\n",
        "                                          ,Rate_Chhattisgarh_Officers,Rate_Haryana_Officers,Rate_Gujarat_Officers,\n",
        "                                          Rate_Jammu_Kashmir_Officers,Rate_Himachal_Pradesh_Officers,\n",
        "                                          Rate_Karnataka_Officers,Rate_Jharkhand_Officers,\n",
        "                                          Rate_Uttarakhand_Officers,Rate_Madhya_Pradesh_Officers,Rate_Kerala_Officers\n",
        "                                          ,Rate_Manipur_Officers,Rate_Manipur_Tripura_Officers,Rate_Nagaland_Officers,\n",
        "                                          Rate_Odisha_Officers,Rate_Maharashtra_Officers,Rate_Telangana_Officers,\n",
        "                                          Rate_Punjab_Officers,Rate_Bihar_Officers]\n",
        "Cadre_States_names = ['Rajasthan','Tamil Nadu','Sikkim','Andrhra_Pradesh','A G M U T','Assam Meghalya',\n",
        "                  'Uttar Pradesh','Tripura','Chhattisgarh','Haryana','Gujarat','Jammu Kashmir','Himachal Pradesh',\n",
        "                  'Karnataka','Jharkhand','Uttarakhand','Madhya Pradesh','Kerala','Manipur','Manipur Tripura',\n",
        "                  'Nagaland','Odisha','Maharashtra','Telangana','Punjab','Bihar']\n",
        "fig, ax = plt.subplots(figsize =(10, 7))\n",
        "plt.pie(Officer_Cadre_States_Percentage_Values)\n",
        "ax.legend(Cadre_States_names,title =\"Cadre States\",loc =\"center left\",bbox_to_anchor =(1, 0, 0.5, 1)) \n",
        "ax.set_title(\"Cadre States Wise Officers Dataset\") \n",
        "plt.show()"
      ],
      "execution_count": null,
      "outputs": [
        {
          "output_type": "stream",
          "text": [
            "plotting the pie chart for Cadre States Column of a dataset  \n",
            "\n"
          ],
          "name": "stdout"
        },
        {
          "output_type": "display_data",
          "data": {
            "image/png": "[encoded data removed]",
            "text/plain": [
              "<Figure size 720x504 with 1 Axes>"
            ]
          },
          "metadata": {
            "tags": []
          }
        }
      ]
    },
    {
      "cell_type": "code",
      "metadata": {
        "colab": {
          "base_uri": "https://localhost:8080/",
          "height": 1000
        },
        "id": "_Mt97FAN1i3s",
        "outputId": "3088d1dd-c418-44a6-e084-69ca96583d45"
      },
      "source": [
        "print('plotting the pie chart for Qualification Degree Column of a dataset  \\n')\n",
        "Officer_Qualification_Degree_Percentage_Values = [Rate_BSc_Degree_Officers,Rate_MSc_Degree_Officers,Rate_MPhil_Degree_Officers,\n",
        "                                                  Rate_MA_Degree_Officers,Rate_PGUSA_Degree_Officers,\n",
        "                                                  Rate_PhDUSA_Degree_Officers,Rate_PG_Degree_Officers,\n",
        "                                                  Rate_ICWAI_Degree_Officers,Rate_MBA_Degree_Officers,\n",
        "                                                  Rate_PhD_Degree_Officers,Rate_BScHons_Degree_Officers,\n",
        "                                                  Rate_Diploma_Degree_Officers,Rate_LLB_Degree_Officers,\n",
        "                                                  Rate_Graduate_Degree_Officers,Rate_LLM_Degree_Officers,\n",
        "                                                  Rate_Certificate_Degree_Officers,Rate_BCom_Degree_Officers,\n",
        "                                                  Rate_BAHonours_Degree_Officers,Rate_PGDiploma_Degree_Officers,\n",
        "                                                  Rate_BEd_Degree_Officers,Rate_AMIE_Degree_Officers,\n",
        "                                                  Rate_BA_Degree_Officers,Rate_MPA_Degree_Officers,\n",
        "                                                  Rate_BTech_Degree_Officers,Rate_MTech_Degree_Officers,\n",
        "                                                  Rate_BVScAH_Degree_Officers,Rate_MVSc_Degree_Officers,\n",
        "                                                  Rate_MBAUK_Degree_Officers,Rate_BE_Degree_Officers,\n",
        "                                                  Rate_MBL_Degree_Officers,Rate_MBBS_Degree_Officers,\n",
        "                                                  MasterinBusinessAdministration_Degree_Officers,\n",
        "                                                  Rate_DIPLOMAINMANAGEMENT_Degree_Officers,Rate_MCA_Degree_Officers,\n",
        "                                                  Rate_BSc_Degree_Officers,Rate_CS_Degree_Officers,\n",
        "                                                  Rate_CFA_Degree_Officers,Rate_MS_Degree_Officers,\n",
        "                                                  Rate_MPM_Degree_Officers,Rate_BCom_Degree_Officers,\n",
        "                                                  Rate_AdvDiploma_Degree_Officers,\n",
        "                                                  Rate_MastersinDevelopmentManagement_Degree_Officers,\n",
        "                                                  Rate_CA_Degree_Officers,Rate_CharteredAccountant_Degree_Officers,\n",
        "                                                  Rate_Degree_Degree_Officers,Rate_MHSA_Degree_Officers,\n",
        "                                                  Rate_MPP_Degree_Officers,Rate_MA_Degree_Officers,\n",
        "                                                  Rate_MastersinInternationalDevelopment_Degree_Officers,\n",
        "                                                  Rate_MIDP_Degree_Officers,Rate_BachelorofEngineering_Degree_Officers,\n",
        "                                                  Rate_ME_Degree_Officers,Rate_MastersinPublicPolicy_Degree_Officers,\n",
        "                                                  Rate_MasterofPublicHealth_Degree_Officers,Rate_MStat_Degree_Officers,\n",
        "                                                  Rate_MIPL_Degree_Officers,Rate_BScAgri_Degree_Officers,\n",
        "                                                  Rate_MIPP_Degree_Officers,Rate_PGDPPM_Degree_Officers,\n",
        "                                                  Rate_MCom_Degree_Officers,Rate_MasterofTechnology_Degree_Officers,\n",
        "                                                  Rate_MPH_Degree_Officers,\n",
        "                                                  Rate_PGDiplomainFinancialManagement_Degree_Officers,\n",
        "                                                  Rate_POSTGRADUATEINPUBLICPOLICYANDMANAGEMENT_Degree_Officers,\n",
        "                                                  Rate_Certificatecourse_Degree_Officers,\n",
        "                                                  Rate_DiplomainHIVandFamilyEducation_Degree_Officers,\n",
        "                                                  Rate_MScAgri_Degree_Officers,\n",
        "                                                  Rate_MasterinInternationalLawandEconomics_Degree_Officers,\n",
        "                                                  Rate_CheveningGurukulLeadershipProgramme_Degree_Officers,\n",
        "                                                  Rate_ML_Degree_Officers,Rate_MasterofBusinessLaws_Degree_Officers,\n",
        "                                                  Rate_CertificateCourseinFrench_Degree_Officers,\n",
        "                                                  Rate_DIPLOMAINFRENCH_Degree_Officers,Rate_MA_Degree_Officers,\n",
        "                                                  Rate_MEd_Degree_Officers,Rate_BDS_Degree_Officers,\n",
        "                                                  Rate_MD_Degree_Officers,Rate_BArch_Degree_Officers,\n",
        "                                                  Rate_MBE_Degree_Officers,Rate_MCM_Degree_Officers,Rate_BHMS_Degree_Officers,\n",
        "                                                  Rate_MBM_Degree_Officers,Rate_MasterofArts_Degree_Officers,\n",
        "                                                  Rate_MAHonours_Degree_Officers,Rate_BEHons_Degree_Officers,\n",
        "                                                  Rate_MMS_Degree_Officers,Rate_BAMS_Degree_Officers,\n",
        "                                                  Rate_MASTERINTAXATIONANDBUSINESSLAW_Degree_Officers,\n",
        "                                                  Rate_BEE_Degree_Officers,Rate_BAHonoursEconomics_Degree_Officers,\n",
        "                                                  Rate_DSc_Degree_Officers,\n",
        "                                                  Rate_PostGraduateDiplomainBusinessAdministration_Degree_Officers,\n",
        "                                                  Rate_CompanySecretary_Degree_Officers]\n",
        "Qualification_Degree_names = ['B.Sc.', 'M.Sc.', 'M.Phil.', 'M.A.', 'P.G. (USA)', 'Ph.D.(U.S.A.)', 'P.G.', 'ICWAI', 'M.B.A.',\n",
        "                      'Ph. D.', 'B.Sc.(Hons)', 'Diploma', 'LL.B.', 'Graduate', 'LL.M.', 'Certificate', 'B.Com.',\n",
        "                      'B.A. Honours', 'PG Diploma', 'B.Ed.', 'A.M.I.E.', 'B.A.', 'M.P.A.', 'B.Tech.', 'M.Tech.',\n",
        "                      'B.V.Sc. & A.H.', 'M.V.Sc.', 'M.B.A. (UK)', 'B.E.', 'M.B.L.', 'M.B.B.S.',\n",
        "                      'Master in Business Administration', 'DIPLOMA IN MANAGEMENT', 'M.C.A.', 'B.Sc.(Engg)', 'C.S.',\n",
        "                      'C.F.A.', 'M.S.', 'M.P.M.', 'B.Com Honours', 'Adv. Diploma', \n",
        "                      'Masters in Development Management', 'C.A.', 'Chartered Accountant', 'Degree', 'M.H.S.A.', 'M.P.P.',\n",
        "                       'M.A. English', 'Masters in International Development', 'M.I.D.P.', 'Bachelor of Engineering',\n",
        "                      'M.E.', 'Masters in Public Policy', 'Master of Public Health', 'M.Stat.', 'M.I.P.L.', 'B.Sc.(Agri)',\n",
        "                       'MIPP', 'PGD PPM', 'M.Com.', 'Master of Technology', 'M.P.H.', 'PG Diploma in Financial Management',\n",
        "                       'POST GRADUATE IN PUBLIC POLICY AND MANAGEMENT', 'Certificate course', \n",
        "                      'Diploma in HIV and Family Education', 'M.Sc. (Agri)', 'Master in International Law and Economics',\n",
        "                       'Chevening Gurukul Leadership Programme', 'M.L.', 'Master of Business Laws',\n",
        "                      'Certificate Course in French', 'DIPLOMA IN FRENCH', 'M.A. Economics', 'M.Ed.', 'B.D.S.', 'M.D.',\n",
        "                      'B.Arch.', 'M.B.E.', 'M.C.M.', 'B.H.M.S.', 'M.B.M.', 'Master of Arts', 'M.A. Honours', 'B.E. (Hons)',\n",
        "                       'M.M.S.', 'B.A.M.S.', 'MASTER IN TAXATION AND BUSINESS LAW', 'B.E.E.', 'B.A. Honours Economics',\n",
        "                       'D.Sc.', 'Post Graduate Diploma in Business Administration', 'Company Secretary']\n",
        "fig, ax = plt.subplots(figsize =(10, 7))\n",
        "plt.pie(Officer_Qualification_Degree_Percentage_Values)\n",
        "ax.legend(Qualification_Degree_names, \n",
        "          title =\"Qualification Degree\", \n",
        "          loc =\"center left\", \n",
        "          bbox_to_anchor =(1, 0, 0.2, 1)) \n",
        "ax.set_title(\"Qualification Degree Wise Officers Dataset\") \n",
        "plt.show()"
      ],
      "execution_count": null,
      "outputs": [
        {
          "output_type": "stream",
          "text": [
            "plotting the pie chart for Qualification Degree Column of a dataset  \n",
            "\n"
          ],
          "name": "stdout"
        },
        {
          "output_type": "display_data",
          "data": {
            "image/png": "[encoded data removed]",
            "text/plain": [
              "<Figure size 720x504 with 1 Axes>"
            ]
          },
          "metadata": {
            "tags": []
          }
        }
      ]
    },
    {
      "cell_type": "code",
      "metadata": {
        "colab": {
          "base_uri": "https://localhost:8080/",
          "height": 297
        },
        "id": "um72FLJd1i68",
        "outputId": "c4f6bae2-b5fc-4a17-cf1a-152a75c015a1"
      },
      "source": [
        "labels = ['IAS','IA&AS','IPS','CSS','IPoS']\n",
        "service_means = [int((float(len(OfficerPerformanceDatasetDf[OfficerPerformanceDatasetDf['ServiceShort']=='IAS']))/(length))*100),\n",
        "                  int((float(len(OfficerPerformanceDatasetDf[OfficerPerformanceDatasetDf['ServiceShort']=='IA&AS']))/(length))*100),\n",
        "                  int((float(len(OfficerPerformanceDatasetDf[OfficerPerformanceDatasetDf['ServiceShort']=='IPS']))/(length))*100),\n",
        "                  int((float(len(OfficerPerformanceDatasetDf[OfficerPerformanceDatasetDf['ServiceShort']=='CSS']))/(length))*100),\n",
        "                  int((float(len(OfficerPerformanceDatasetDf[OfficerPerformanceDatasetDf['ServiceShort']=='IPoS']))/(length))*100)]\n",
        "\n",
        "x = np.arange(len(labels))  # the label locations\n",
        "width = 0.35  # the width of the bars\n",
        "\n",
        "fig, ax = plt.subplots()\n",
        "rects1 = ax.bar(x + width/2, service_means, width, label='Services')\n",
        "\n",
        "# Add some text for labels, title and custom x-axis tick labels, etc.\n",
        "ax.set_ylabel('Currently Working Officers')\n",
        "ax.set_title('Working Officers Under Respective Services')\n",
        "ax.set_xticks(x)\n",
        "ax.set_xticklabels(labels)\n",
        "ax.legend()\n",
        "\n",
        "\n",
        "def autolabel(rects):\n",
        "    \"\"\"Attach a text label above each bar in *rects*, displaying its height.\"\"\"\n",
        "    for rect in rects:\n",
        "        height = rect.get_height()\n",
        "        ax.annotate('{}'.format(height),\n",
        "                    xy=(rect.get_x() + rect.get_width() / 2, height),\n",
        "                    xytext=(0, 3),  # 3 points vertical offset\n",
        "                    textcoords=\"offset points\",\n",
        "                    ha='center', va='bottom')\n",
        "\n",
        "\n",
        "autolabel(rects1)\n",
        "\n",
        "fig.tight_layout()\n",
        "\n",
        "plt.show()"
      ],
      "execution_count": null,
      "outputs": [
        {
          "output_type": "display_data",
          "data": {
            "image/png": "[encoded data removed]",
            "text/plain": [
              "<Figure size 432x288 with 1 Axes>"
            ]
          },
          "metadata": {
            "tags": [],
            "needs_background": "light"
          }
        }
      ]
    },
    {
      "cell_type": "code",
      "metadata": {
        "colab": {
          "base_uri": "https://localhost:8080/"
        },
        "id": "yqfb1fCM5MoB",
        "outputId": "3f0fe7e2-6e6b-44a5-f0b8-3455b458e4d7"
      },
      "source": [
        "OfficerPerformanceDatasetDf.columns"
      ],
      "execution_count": null,
      "outputs": [
        {
          "output_type": "execute_result",
          "data": {
            "text/plain": [
              "Index(['batch_year', 'OfficerID', 'Gender_name', 'CategoryDesc',\n",
              "       'CadreStateName', 'ServiceShort', 'Age_InYears', 'Experience_InYears',\n",
              "       'CGPA', 'Percentage', 'Officers_Grade', 'PassingYear',\n",
              "       'TotalTenureWorked', 'DivisionDesc', 'DegreeDesc'],\n",
              "      dtype='object')"
            ]
          },
          "metadata": {
            "tags": []
          },
          "execution_count": 29
        }
      ]
    },
    {
      "cell_type": "markdown",
      "metadata": {
        "id": "rRxNVm4v2sp8"
      },
      "source": [
        "# **Sepertaing the features and Target columns for prediction of performance**"
      ]
    },
    {
      "cell_type": "code",
      "metadata": {
        "colab": {
          "base_uri": "https://localhost:8080/"
        },
        "id": "oHfxYpIB1jBu",
        "outputId": "4bd058eb-7390-48a0-94dc-c56452dd51bd"
      },
      "source": [
        "print('Seperating the features and Target columns for prediction of performance.\\n')\n",
        "print('## Extract Features Columns where Everything except Degree is included seperating all the features that are helpful in deteraming the Performance')\n",
        "Features = list(OfficerPerformanceDatasetDf.columns[0:14])\n",
        "print('Seperated Features from the dataset is\\n',Features)\n",
        "print('Our aim is to predict future officers with each degree so we need Qualification Degree as the dependent variable that we will predict that')\n",
        "Target = OfficerPerformanceDatasetDf.columns[-1]\n",
        "print('Seperated dependent Variables or Target Variables is\\n',Target)"
      ],
      "execution_count": null,
      "outputs": [
        {
          "output_type": "stream",
          "text": [
            "Seperating the features and Target columns for prediction of performance.\n",
            "\n",
            "## Extract Features Columns where Everything except Degree is included seperating all the features that are helpful in deteraming the Performance\n",
            "Seperated Features from the dataset is\n",
            " ['batch_year', 'OfficerID', 'Gender_name', 'CategoryDesc', 'CadreStateName', 'ServiceShort', 'Age_InYears', 'Experience_InYears', 'CGPA', 'Percentage', 'Officers_Grade', 'PassingYear', 'TotalTenureWorked', 'DivisionDesc']\n",
            "Our aim is to predict future officers with each degree so we need Qualification Degree as the dependent variable that we will predict that\n",
            "Seperated dependent Variables or Target Variables is\n",
            " DegreeDesc\n"
          ],
          "name": "stdout"
        }
      ]
    },
    {
      "cell_type": "markdown",
      "metadata": {
        "id": "b_LFvGVO28Fj"
      },
      "source": [
        "# **Now we need to separate the data into feature dataset and target dataset**"
      ]
    },
    {
      "cell_type": "code",
      "metadata": {
        "colab": {
          "base_uri": "https://localhost:8080/"
        },
        "id": "8ixcRULn1jFL",
        "outputId": "1abf3367-b6f2-4bf0-c51e-caef77229796"
      },
      "source": [
        "print('seperating the actual dataset into feature dataset and target dataset')\n",
        "X = OfficerPerformanceDatasetDf[Features] #X is features set which will be use to predict Y\n",
        "print('X = QualificationDf[Features] , where X is features set which will be use to predict Y');\n",
        "Y = OfficerPerformanceDatasetDf[Target] #Y is dependent variable, that is  predicted from X\n",
        "print('Y = QualificationDf[Target]  , where Y is dependent variable, that is  predicted from X')\n",
        "\n",
        "# X should have 29 variables and 569 cases\n",
        "print('displaying the number of cases and variables in the form of columns and rows of features dataset',X.shape);\n",
        "# Y should have 1 variable - just the diagnosis and 569 cases\n",
        "print('displaying the number of cases and variables in the form of columns and rows of target dataset',Y.shape);"
      ],
      "execution_count": null,
      "outputs": [
        {
          "output_type": "stream",
          "text": [
            "seperating the actual dataset into feature dataset and target dataset\n",
            "X = QualificationDf[Features] , where X is features set which will be use to predict Y\n",
            "Y = QualificationDf[Target]  , where Y is dependent variable, that is  predicted from X\n",
            "displaying the number of cases and variables in the form of columns and rows of features dataset (45131, 14)\n",
            "displaying the number of cases and variables in the form of columns and rows of target dataset (45131,)\n"
          ],
          "name": "stdout"
        }
      ]
    },
    {
      "cell_type": "code",
      "metadata": {
        "colab": {
          "base_uri": "https://localhost:8080/"
        },
        "id": "Kp_1QYSG7E8O",
        "outputId": "3e40eb37-9d28-40af-9440-dc537a35db0d"
      },
      "source": [
        "X.dtypes"
      ],
      "execution_count": null,
      "outputs": [
        {
          "output_type": "execute_result",
          "data": {
            "text/plain": [
              "batch_year              int64\n",
              "OfficerID               int64\n",
              "Gender_name            object\n",
              "CategoryDesc           object\n",
              "CadreStateName         object\n",
              "ServiceShort           object\n",
              "Age_InYears             int64\n",
              "Experience_InYears      int64\n",
              "CGPA                  float64\n",
              "Percentage            float64\n",
              "Officers_Grade         object\n",
              "PassingYear             int64\n",
              "TotalTenureWorked       int64\n",
              "DivisionDesc           object\n",
              "dtype: object"
            ]
          },
          "metadata": {
            "tags": []
          },
          "execution_count": 32
        }
      ]
    },
    {
      "cell_type": "markdown",
      "metadata": {
        "id": "8eq_HyJEwkOm"
      },
      "source": [
        "# **Converting the object type columns to n numeric type by encoding values to each values**"
      ]
    },
    {
      "cell_type": "code",
      "metadata": {
        "colab": {
          "base_uri": "https://localhost:8080/"
        },
        "id": "Oh2jf2-D1jIx",
        "outputId": "ca7ee354-3d6a-4f89-e33a-45c919bc80e3"
      },
      "source": [
        "def preprocess_features(X):\n",
        "    # Initialize new output DataFrame\n",
        "    print('Initializing the new output DataFrame')\n",
        "    output = pd.DataFrame(index = X.index)\n",
        "    # Investigate each feature column for the data\n",
        "    print('Investigating each feature column for the data and check If data type is non-numeric, replace all M/B malignant/benign values with 1/0 that is numeric then at last collecting the revised columns')\n",
        "    for col, col_data in X.iteritems():\n",
        "        #If data type is non-numeric, replace all M/B malignant/benign values with 1/0\n",
        "        if col_data.dtype == object:\n",
        "            col_data = col_data.replace(['Male','Female'], [1,2])\n",
        "        #Collect the revised columns\n",
        "        output = output.join(col_data)\n",
        "    return output\n",
        "X = preprocess_features(X)\n",
        "#Y = preprocess_features(Y)\n",
        "print(\"Processed feature columns ({} total features):\\n{}\".format(len(X.columns), list(X.columns)))\n",
        "#print(\"Target columns ({} total features):\\n{}\".format(len(Y.columns), list(Y.columns)))"
      ],
      "execution_count": null,
      "outputs": [
        {
          "output_type": "stream",
          "text": [
            "Initializing the new output DataFrame\n",
            "Investigating each feature column for the data and check If data type is non-numeric, replace all M/B malignant/benign values with 1/0 that is numeric then at last collecting the revised columns\n",
            "Processed feature columns (14 total features):\n",
            "['batch_year', 'OfficerID', 'Gender_name', 'CategoryDesc', 'CadreStateName', 'ServiceShort', 'Age_InYears', 'Experience_InYears', 'CGPA', 'Percentage', 'Officers_Grade', 'PassingYear', 'TotalTenureWorked', 'DivisionDesc']\n"
          ],
          "name": "stdout"
        }
      ]
    },
    {
      "cell_type": "code",
      "metadata": {
        "colab": {
          "base_uri": "https://localhost:8080/"
        },
        "id": "SO1jGkY36FZ1",
        "outputId": "f1db22ce-5126-447b-e2c7-5b42f7c9ed6a"
      },
      "source": [
        "def preprocess_features(X):\n",
        "    # Initialize new output DataFrame\n",
        "    print('Initializing the new output DataFrame')\n",
        "    output = pd.DataFrame(index = X.index)\n",
        "    # Investigate each feature column for the data\n",
        "    print('Investigating each feature column for the data and check If data type is non-numeric, replace all M/B malignant/benign values with 1/0 that is numeric then at last collecting the revised columns')\n",
        "    for col, col_data in X.iteritems():\n",
        "        #If data type is non-numeric, replace all M/B malignant/benign values with 1/0\n",
        "        if col_data.dtype == object:\n",
        "            col_data = col_data.replace(['GENERAL','General','O.B.C.','S.T.','S.C.'], [3,3,1,2,4])\n",
        "        #Collect the revised columns\n",
        "        output = output.join(col_data)\n",
        "    return output\n",
        "X = preprocess_features(X)\n",
        "#Y = preprocess_features(Y)\n",
        "print(\"Processed feature columns ({} total features):\\n{}\".format(len(X.columns), list(X.columns)))\n",
        "#print(\"Target columns ({} total features):\\n{}\".format(len(Y.columns), list(Y.columns)))"
      ],
      "execution_count": null,
      "outputs": [
        {
          "output_type": "stream",
          "text": [
            "Initializing the new output DataFrame\n",
            "Investigating each feature column for the data and check If data type is non-numeric, replace all M/B malignant/benign values with 1/0 that is numeric then at last collecting the revised columns\n",
            "Processed feature columns (14 total features):\n",
            "['batch_year', 'OfficerID', 'Gender_name', 'CategoryDesc', 'CadreStateName', 'ServiceShort', 'Age_InYears', 'Experience_InYears', 'CGPA', 'Percentage', 'Officers_Grade', 'PassingYear', 'TotalTenureWorked', 'DivisionDesc']\n"
          ],
          "name": "stdout"
        }
      ]
    },
    {
      "cell_type": "code",
      "metadata": {
        "colab": {
          "base_uri": "https://localhost:8080/"
        },
        "id": "nApgsVgYzxBh",
        "outputId": "441a76fb-4ca0-400e-90d0-57bb6f957cab"
      },
      "source": [
        "def preprocess_features(X):\n",
        "    # Initialize new output DataFrame\n",
        "    print('Initializing the new output DataFrame')\n",
        "    output = pd.DataFrame(index = X.index)\n",
        "    # Investigate each feature column for the data\n",
        "    print('Investigating each feature column for the data and check If data type is non-numeric, replace all M/B malignant/benign values with 1/0 that is numeric then at last collecting the revised columns')\n",
        "    for col, col_data in X.iteritems():\n",
        "        #If data type is non-numeric, replace all M/B malignant/benign values with 1/0\n",
        "        if col_data.dtype == object:\n",
        "            col_data = col_data.replace(['Uttar Pradesh','A G M U T', 'Assam Meghalya','Karnataka','Uttarakhand','Sikkim','Tripura','Daman & Diu','Arunachal Pradesh','Goa','Maharashtra','Odisha','Nagaland','Punjab','Chhattisgarh','Jharkhand','Gujarat','Madhya Pradesh','Kerala','Andaman & Nicobar','Himachal Pradesh','West Bengal','Jammu & Kashmir','Haryana','Telangana','Bihar','Manipur-Tripura','Lakshadweep','Meghalaya','Rajasthan','Tamil Nadu','Andhra Pradesh','Manipur'] , [1,2,3,4,5,6,7,8,9,10,11,12,13,14,15,16,17,18,19,20,21,22,23,24,25,26,27,28,29,30,31,32,33])\n",
        "        #Collect the revised columns\n",
        "        output = output.join(col_data)\n",
        "    return output\n",
        "X = preprocess_features(X)\n",
        "#Y = preprocess_features(Y)\n",
        "print(\"Processed feature columns ({} total features):\\n{}\".format(len(X.columns), list(X.columns)))\n",
        "#print(\"Target columns ({} total features):\\n{}\".format(len(Y.columns), list(Y.columns)))"
      ],
      "execution_count": null,
      "outputs": [
        {
          "output_type": "stream",
          "text": [
            "Initializing the new output DataFrame\n",
            "Investigating each feature column for the data and check If data type is non-numeric, replace all M/B malignant/benign values with 1/0 that is numeric then at last collecting the revised columns\n",
            "Processed feature columns (14 total features):\n",
            "['batch_year', 'OfficerID', 'Gender_name', 'CategoryDesc', 'CadreStateName', 'ServiceShort', 'Age_InYears', 'Experience_InYears', 'CGPA', 'Percentage', 'Officers_Grade', 'PassingYear', 'TotalTenureWorked', 'DivisionDesc']\n"
          ],
          "name": "stdout"
        }
      ]
    },
    {
      "cell_type": "code",
      "metadata": {
        "colab": {
          "base_uri": "https://localhost:8080/"
        },
        "id": "jKIarfm6zxIE",
        "outputId": "297c775b-3f6c-40bb-cac2-72d290e97251"
      },
      "source": [
        "def preprocess_features(X):\n",
        "    # Initialize new output DataFrame\n",
        "    print('Initializing the new output DataFrame')\n",
        "    output = pd.DataFrame(index = X.index)\n",
        "    # Investigate each feature column for the data\n",
        "    print('Investigating each feature column for the data and check If data type is non-numeric, replace all M/B malignant/benign values with 1/0 that is numeric then at last collecting the revised columns')\n",
        "    for col, col_data in X.iteritems():\n",
        "        #If data type is non-numeric, replace all M/B malignant/benign values with 1/0\n",
        "        if col_data.dtype == object:\n",
        "            col_data = col_data.replace(['A','B','C','D'], [1,2,3,4])\n",
        "        #Collect the revised columns\n",
        "        output = output.join(col_data)\n",
        "    return output\n",
        "X = preprocess_features(X)\n",
        "#Y = preprocess_features(Y)\n",
        "print(\"Processed feature columns ({} total features):\\n{}\".format(len(X.columns), list(X.columns)))\n",
        "#print(\"Target columns ({} total features):\\n{}\".format(len(Y.columns), list(Y.columns)))"
      ],
      "execution_count": null,
      "outputs": [
        {
          "output_type": "stream",
          "text": [
            "Initializing the new output DataFrame\n",
            "Investigating each feature column for the data and check If data type is non-numeric, replace all M/B malignant/benign values with 1/0 that is numeric then at last collecting the revised columns\n",
            "Processed feature columns (14 total features):\n",
            "['batch_year', 'OfficerID', 'Gender_name', 'CategoryDesc', 'CadreStateName', 'ServiceShort', 'Age_InYears', 'Experience_InYears', 'CGPA', 'Percentage', 'Officers_Grade', 'PassingYear', 'TotalTenureWorked', 'DivisionDesc']\n"
          ],
          "name": "stdout"
        }
      ]
    },
    {
      "cell_type": "code",
      "metadata": {
        "colab": {
          "base_uri": "https://localhost:8080/"
        },
        "id": "QCyHaz_pDSSr",
        "outputId": "f3b8b491-35e5-498b-9e99-6f1550c6bc63"
      },
      "source": [
        "def preprocess_features(X):\n",
        "    # Initialize new output DataFrame\n",
        "    print('Initializing the new output DataFrame')\n",
        "    output = pd.DataFrame(index = X.index)\n",
        "    # Investigate each feature column for the data\n",
        "    print('Investigating each feature column for the data and check If data type is non-numeric, replace all M/B malignant/benign values with 1/0 that is numeric then at last collecting the revised columns')\n",
        "    for col, col_data in X.iteritems():\n",
        "        #If data type is non-numeric, replace all M/B malignant/benign values with 1/0\n",
        "        if col_data.dtype == object:\n",
        "            col_data = col_data.replace(['First','Ordinary ','First ','Not Awarded','Second ','Pass','First with Distinction',\"Grade \\\\'A\\\\\",'Outstanding','Gold Medalist','Third','Awarded',\"Grade \\\\'B\\\\\",'First Rank','Gold Medallist','Silver Medal'],[1,2,3,4,5,6,7,8,9,10,11,12,13,14,15,16])\n",
        "        #Collect the revised columns\n",
        "        output = output.join(col_data)\n",
        "    return output\n",
        "X = preprocess_features(X)\n",
        "#Y = preprocess_features(Y)\n",
        "print(\"Processed feature columns ({} total features):\\n{}\".format(len(X.columns), list(X.columns)))\n",
        "#print(\"Target columns ({} total features):\\n{}\".format(len(Y.columns), list(Y.columns)))"
      ],
      "execution_count": null,
      "outputs": [
        {
          "output_type": "stream",
          "text": [
            "Initializing the new output DataFrame\n",
            "Investigating each feature column for the data and check If data type is non-numeric, replace all M/B malignant/benign values with 1/0 that is numeric then at last collecting the revised columns\n",
            "Processed feature columns (14 total features):\n",
            "['batch_year', 'OfficerID', 'Gender_name', 'CategoryDesc', 'CadreStateName', 'ServiceShort', 'Age_InYears', 'Experience_InYears', 'CGPA', 'Percentage', 'Officers_Grade', 'PassingYear', 'TotalTenureWorked', 'DivisionDesc']\n"
          ],
          "name": "stdout"
        }
      ]
    },
    {
      "cell_type": "code",
      "metadata": {
        "colab": {
          "base_uri": "https://localhost:8080/"
        },
        "id": "yVqaqDWxDSdu",
        "outputId": "039d6c82-f8fd-40d7-ec3f-9521d5c3ea1c"
      },
      "source": [
        "def preprocess_features(X):\n",
        "    # Initialize new output DataFrame\n",
        "    print('Initializing the new output DataFrame')\n",
        "    output = pd.DataFrame(index = X.index)\n",
        "    # Investigate each feature column for the data\n",
        "    print('Investigating each feature column for the data and check If data type is non-numeric, replace all M/B malignant/benign values with 1/0 that is numeric then at last collecting the revised columns')\n",
        "    for col, col_data in X.iteritems():\n",
        "        #If data type is non-numeric, replace all M/B malignant/benign values with 1/0\n",
        "        if col_data.dtype == object:\n",
        "            col_data = col_data.replace(['ITS','IFoS','IES','IRSME','ISS','IAS','IInfoS','IPoS','AFHQCS','GCS            ','Others','IA&AS','C HEALTH S     ','CSS','IOFS','Scientist','SCS','IRS (IT)','IPS','IRPS','IDES','CSS(ADHOC-US)  ','ENGGR          ','IMS','C LABOUR S     ','IRTS','IRS (C&CE)','IRAS','IRSS','IDSE','CES','IDAS','ICAS','IP&TAFS','ITradeS','ICoAS','IRSE (Civil)','Educationist','Economist      ','IRSEE','IFS','DRDS','GSI','IRSSE','CPES','CWES','IRMS','ILS','CCLS','RAS            ','DAQAS','TEL TRAF S     ','IInspS','CSSS           ','IB(E)S','INSP CADRE DGMS','IOFHS','CISF','CES (Roads)','ISupplyS','CE&MES','CRPF','IMP            ','INAS','C REVENUE(CHEM)','BSF','BRES','TECHNOLOGIST   ','SURVEY OF INDIA','DQAS','RLY INSP SER   ','CAS','RPF','RLY B S SERVICE'],[1,2,3,4,5,6,7,8,9,10,11,12,13,14,15,16,17,18,19,20,21,22,23,24,25,26,27,28,29,30,31,32,33,34,35,36,37,38,39,40,41,42,43,44,45,46,47,48,49,50,51,52,53,54,55,56,57,58,59,60,61,62,63,64,65,66,67,68,69,70,71,72,73,74])\n",
        "        #Collect the revised columns\n",
        "        output = output.join(col_data)\n",
        "    return output\n",
        "X = preprocess_features(X)\n",
        "#Y = preprocess_features(Y)\n",
        "print(\"Processed feature columns ({} total features):\\n{}\".format(len(X.columns), list(X.columns)))\n",
        "#print(\"Target columns ({} total features):\\n{}\".format(len(Y.columns), list(Y.columns)))"
      ],
      "execution_count": null,
      "outputs": [
        {
          "output_type": "stream",
          "text": [
            "Initializing the new output DataFrame\n",
            "Investigating each feature column for the data and check If data type is non-numeric, replace all M/B malignant/benign values with 1/0 that is numeric then at last collecting the revised columns\n",
            "Processed feature columns (14 total features):\n",
            "['batch_year', 'OfficerID', 'Gender_name', 'CategoryDesc', 'CadreStateName', 'ServiceShort', 'Age_InYears', 'Experience_InYears', 'CGPA', 'Percentage', 'Officers_Grade', 'PassingYear', 'TotalTenureWorked', 'DivisionDesc']\n"
          ],
          "name": "stdout"
        }
      ]
    },
    {
      "cell_type": "code",
      "metadata": {
        "colab": {
          "base_uri": "https://localhost:8080/"
        },
        "id": "WGW_0HiWzxOz",
        "outputId": "88bc922f-caf6-43e6-b08a-0db140757524"
      },
      "source": [
        "print('Displaying unique values in each columns of features set after transformation \\n')\n",
        "print('Distinct Values In Batch Year Column',X['batch_year'].unique(),'\\n')\n",
        "print('Distinct Values In Gender Column',X['Gender_name'].unique(),'\\n')\n",
        "print('Distinct Values In Category Column',X['CategoryDesc'].unique(),'\\n')\n",
        "print('Distinct Values In Cadre State Column',X['CadreStateName'].unique(),'\\n')\n",
        "print('Distinct Values In Service Column',X['ServiceShort'].unique(),'\\n')\n",
        "print('Distinct Values In Age In Years Column',X['Age_InYears'].unique(),'\\n')\n",
        "print('Distinct Values In Experience In Years Column',X['Experience_InYears'].unique(),'\\n')\n",
        "print('Distinct Values In CGPA Column',X['CGPA'].unique(),'\\n')\n",
        "print('Distinct Values In Percentage Column',X['Percentage'].unique(),'\\n')\n",
        "print('Distinct Values In Passing Year Column',X['PassingYear'].unique(),'\\n')\n",
        "print('Distinct Values In Grade Column',X['Officers_Grade'].unique(),'\\n')\n",
        "print('Distinct Values In Total Tenure Worked Column',X['TotalTenureWorked'].unique(),'\\n')\n",
        "print('Distinct Values In Division Column',X['DivisionDesc'].unique(),'\\n')"
      ],
      "execution_count": null,
      "outputs": [
        {
          "output_type": "stream",
          "text": [
            "Displaying unique values in each columns of features set after transformation \n",
            "\n",
            "Distinct Values In Batch Year Column [1983 1966 1925 1999 1960 1936 1948 1952 2003 1945 1953 1924 1944 1959\n",
            " 1957 1923 1951 1915 1939 1961 1934 2004 1958 1933 1921 1946 1935 1943\n",
            " 1950 1909 1928 1919 1931 1930 1954 1922 1993 1940 1963 1932 1917 1916\n",
            " 2016 1995 1942 1920 1927 1937 1962 2001 1998 1938 1955 1989 1914 1941\n",
            " 2008 2011 1947 1956 1996 1994 1949 2002 1929 2006 2022 1926 1918 2007\n",
            " 1913 1912 1911 1997 2000 2013 1992 1910 1907 1905 2014 1900 2012 2005\n",
            " 1908 2010 1973 2015 2009 1903 1964 1991 1965 1902 1904 1906 2021 1990\n",
            " 2018 2020 2019 1980 1986 1982 1972 1987 2017 1978 1901 1968 1979 1981\n",
            " 1969 1974 1976 1975 1967 1984 1977 1971 1985 1970 1988] \n",
            "\n",
            "Distinct Values In Gender Column [1 2] \n",
            "\n",
            "Distinct Values In Category Column [3 1 2 4] \n",
            "\n",
            "Distinct Values In Cadre State Column [ 7  2 32  3 27  6  5 18  1 31 15  4 17 14 16 26 24 13 19 23 12 33 30 21\n",
            " 25 11 10] \n",
            "\n",
            "Distinct Values In Service Column [ 1  2  3  4  5  6  7  8  9 10 11 12 13 14 15 16 17 18 19 20 21 22 23 24\n",
            " 25 26 27 28 29 30 31 32 33 34 35 36 37 38 39 40 41 42 43 44 45 46 47 48\n",
            " 49 50 51 52 53 54 55 56 57 58 59 60 61 62 63 64 65 66 67 68 69 70 71 72\n",
            " 73 74] \n",
            "\n",
            "Distinct Values In Age In Years Column [ 70  76  63  80  82  55  59  49  39  62  72  53  47  54  56  34  44  75\n",
            "  57  38  41  52  51  45  48  58  37  81  79  69  71  61  42  83  40  43\n",
            "  66  73  50  46  85  67  77  64  65  36  74  60  78  94  68  84  89  92\n",
            "  32  87  88  91  86  90  35  93 120  27  31  30  33  29  28  26 121  95\n",
            "   5 111  98  99  25  97] \n",
            "\n",
            "Distinct Values In Experience In Years Column [ 50  34  38  35  25  33  30  14  36  31  71  32  16  37  17  29  28  26\n",
            "  20  23  15  13  18  39  27   3  24  75  22   4  12  10   7  44  21  60\n",
            "   2  11   6  19   8   9 100  81   5  40  97  41 105  49  59   1 102 135\n",
            " 130 116  48  89 104  45  99  42  91  90 101  62  95 103  94  98  63  93\n",
            " 107  88  57  53  96  82 125  43  92  69  83 110 106 112 108 133  65  61\n",
            " 128 136 131  54  47 113  86  55 127 117  87  80  84 119 121] \n",
            "\n",
            "Distinct Values In CGPA Column [ 8.5   9.28 10.    3.8   6.9   0.95  7.62  8.76  6.06  6.62  8.2   4.\n",
            "  4.44  9.12  9.22  6.75 70.63  8.25  8.53  6.47  6.83  6.12  7.83  9.62\n",
            "  8.87  7.58 67.4   9.19  7.    9.17 67.6   9.46  3.6   8.29  9.26  8.95\n",
            " 72.16  8.65  0.94 62.2  68.3   6.44  7.57  7.37  8.3   8.    7.33  9.\n",
            "  7.56  5.19  6.55  3.28  8.56 77.9   0.65  8.24  9.54 80.9  57.07  0.82\n",
            "  3.57  9.9   7.95  7.51  7.64  0.83  0.67  7.5   7.03  7.81  6.2   6.\n",
            "  8.78  5.56  7.31  9.3   5.2   6.28  6.11  8.11  7.47  7.94  3.2  77.7\n",
            "  7.68  8.9   9.1   5.99  6.8   6.39  9.35 64.37 90.86  7.93 65.69  8.33\n",
            "  3.21  6.93  4.2  63.62  7.77  6.77  2.6   9.08  8.21  3.87  7.3   8.19\n",
            "  6.4   8.13 87.07 83.7   0.92  9.13  9.02  6.37  7.02  6.59  3.9   9.72\n",
            "  7.22  8.59  9.04  8.82  8.63  3.25  9.74  7.9   7.54  8.36  7.75  8.49\n",
            "  9.38 84.9   5.92 71.   80.3   9.67  9.5   7.97 91.1   2.39  3.38  7.1\n",
            "  7.7   9.32  8.69  5.27  9.4  65.2   9.69  8.96  7.09  8.84  8.4  62.4\n",
            "  8.99  7.8   0.84  3.63  7.06  6.3   0.9   0.76  8.75  3.7   8.1   5.71\n",
            "  6.07 61.61  3.58  9.48  7.2   8.34  8.39  8.03  6.96  8.28  9.39  9.18\n",
            "  7.18] \n",
            "\n",
            "Distinct Values In Percentage Column [85.5  78.5  78.13 63.   75.08 80.72 50.62 61.33 47.56 70.2  69.42 65.47\n",
            " 69.25 61.04 68.25 72.86 72.   71.75 69.3  61.   79.6  76.83 66.   75.11\n",
            " 52.6  74.   64.9  76.05 74.25 82.5  74.22 70.61 86.2  76.74 72.5  64.04\n",
            " 75.   50.   58.87 60.9  72.9  68.2   7.62 69.   83.24 75.93 64.4  70.05\n",
            " 56.25 57.2  71.9  58.46 75.5  89.   72.6  82.25 78.9  84.6  83.   60.\n",
            " 89.6  87.   83.46 71.8  81.   71.5  57.5  70.37  6.4  76.   65.02 70.\n",
            " 69.4   7.68 68.63 65.22 61.88 70.33 81.13 68.9  68.05 67.   78.3  72.01\n",
            "  8.88 77.7  61.67 62.83  8.9  59.   67.74 92.5  71.45 69.13 61.9  68.4\n",
            " 60.4  62.3   5.03 66.74  7.19 69.2  78.15 96.   81.92 77.2  74.4  57.97\n",
            " 65.4  86.5  82.1  62.58 68.32 78.   76.21 77.58 81.11 67.55 85.9  68.45\n",
            "  6.97 84.   61.28 79.4  80.    8.34  9.41 81.3  82.05  7.06 65.27 66.28\n",
            " 58.6  62.8  69.7  56.07 75.67 70.53 59.9  65.   65.04 66.05 71.2  71.4\n",
            " 45.   67.63 75.58 73.39 58.74 70.8  67.65 70.9  81.4  73.29 71.71 64.05] \n",
            "\n",
            "Distinct Values In Passing Year Column [1990 1989 2002 2010 1994 1992 2005 2006 2007 1987 1993 2003 2009 1999\n",
            " 1997 1981 2008 1983 2004 1982 1984 1980 1973 1991 1985 1998 2000 2017\n",
            " 1976 1978 1995 1969 1988 1970 1968 1872 1975 2013 2001 1979 2012 1996\n",
            " 2011 2014 1986 2016 1974 1977 1971 2015 2018 1972   92 1958  201 1967\n",
            "  200  199 2019] \n",
            "\n",
            "Distinct Values In Grade Column [1 2 3 4] \n",
            "\n",
            "Distinct Values In Total Tenure Worked Column [ 11  50  41  38  54  47  30  34  22  12  36  45  23  20  27  19  48  28\n",
            "  13  15  24  49  21  57  33  29  58  10  14  39  51  37  63  40  44  53\n",
            "  32  42  18  17   9  35  31  52  55  68  56  59  25  26  43  16  46   4\n",
            "  64  62  60  66  65  61  67   5   7  70 120  75   6 121   3   8  69  93\n",
            "  71 111  82  76  77  94   2  81  72  73  79  91  83  92  89  88  74  80\n",
            "  90  78 104  95  85 114] \n",
            "\n",
            "Distinct Values In Division Column [ 1  2  3  4  5  6  7  8  9 10 11 12 13 14 15 16] \n",
            "\n"
          ],
          "name": "stdout"
        }
      ]
    },
    {
      "cell_type": "markdown",
      "metadata": {
        "id": "KGdl8AwNMuJY"
      },
      "source": [
        "# **Converting the object type columns to numeric type by encoding values to each values of target variable**"
      ]
    },
    {
      "cell_type": "code",
      "metadata": {
        "colab": {
          "base_uri": "https://localhost:8080/"
        },
        "id": "9GcNCvHKXpIQ",
        "outputId": "b4ca8902-0c5f-41cd-b01a-f2575c66d57a"
      },
      "source": [
        "Y.dtypes"
      ],
      "execution_count": null,
      "outputs": [
        {
          "output_type": "execute_result",
          "data": {
            "text/plain": [
              "dtype('O')"
            ]
          },
          "metadata": {
            "tags": []
          },
          "execution_count": 40
        }
      ]
    },
    {
      "cell_type": "code",
      "metadata": {
        "id": "A2MtEIAmYCJI"
      },
      "source": [
        "Y = Y.replace(['B.Tech.' ,'Graduate' ,'P.G.' ,'Ph. D.' ,'Diploma' ,'M.B.A.' ,'M.Phil.' ,'B.E.','M.A.' ,'B.A.' ,'M.B.B.S.' ,'PG Diploma' ,'M.Sc.' ,'B.Sc.(Hons)','B.A. Honours' ,'B.D.S.' ,'M.P.H.' ,'LL.B.' ,'M.D.' ,'B.V.Sc. & A.H.' ,'M.S.','M.Tech.' ,'B.H.M.S.' ,'P.G. (USA)' ,'Ph.D.(U.S.A.)' ,'Certificate' ,'B.Sc.','Post Ph.D.' ,'B.Ed.' ,'M.E.' ,'LL.M.' ,'B.E. (Hons)' ,'B.Com.' ,'MIPP','B.Sc.(Engg)' ,'M.H.S.A.' ,'A.M.I.E.' ,'B.Sc.(Agri)' ,'ICWAI' ,'M.Ed.','B.Com Honours' ,'M.Com.' ,'C.S.' ,'C.A.' ,'M.V.Sc.' ,'M.P.A.' ,'M.B.A. (UK)','C.F.A.' ,'Chartered Accountant' ,'M.Sc. (Agri)','POST GRADUATE IN PUBLIC POLICY AND MANAGEMENT','DIPLOMA IN MANAGEMENT','M.A. Economics' ,'Adv. Diploma' ,'M.I.P.L.' ,'M.P.M.','Master of Public Health' ,'Masters in Public Policy','Chevening Gurukul Leadership Programme' ,'M.B.L.' ,'M.A. History','PG Diploma in Financial Management' ,'Certificate course','Masters in International Development' ,'B.Arch.' ,'B.L.' ,'Degree' ,'M.C.M.','M.Sc. Tech.' ,'Bachelor of Engineering' ,'B.A.M.S.' ,'DIPLOMA IN FRENCH','M.A. English' ,'MASTER IN TAXATION AND BUSINESS LAW','B.A. Honours Economics' ,'B.A.  LL.B.' ,'M.Sc. Botany CSIR UGC qualified','PGDFM Finance' ,'M.C.A.' ,'Masters Degree in Taxation and Business Laws','MBA HR' ,'NET' ,'M.Sc. Botany' ,'Masters in Development Management','Certificate of Proficiency' ,'Advanced Diploma in Management','Master of Technology' ,'PGD PPM' ,'M.F.M.' ,'M.P.S.','Diploma of Proficiency' ,'B.E.E.' ,'Affiliated Doctoral Fellow','Post Graduate Diploma in Business Administration','M.A. Honours','Master in Business Administration' ,'Master of Business Laws','LL.B Professional' ,'CAIIB' ,'M.M.S.','Diploma in HIV and Family Education' ,'C.P.A.' ,'MBA Part time' ,'M.P.P.','MSc. Defence and Strategic Studies' ,'B.C.E.' ,'M.B.E.' ,'M.B.M.' ,'Matric','Intermediate' ,'Associate of IGNFA' ,'Professional Training Course','B.Com. LL.B.' ,'Cost Accountant ICWA' ,'Certificate Course in French','B.Com. Hons.' ,'Costing Inter Stage I','Executive masters in International Business','D.Sc.' ,'LL.B General','M.Stat.' ,'B.Agri.' ,'B.Pharm.' ,'B.S.Sc.' ,'M.J.' ,'AICWAI','Company Secretary' ,'PGDBA Part Time' ,'M.F.T.','Master in International Law and Economics','M.I.D.P.' ,'M.M.E.','M.Sc. Tech. (Applied Geo-Physics)' ,'Master of Arts' ,'B.Text.' ,'M.L.'],[1,2,3,4,5,6,7,8,9,10,11,12,13,14,15,16,17,18,19,20,21,22,23,24,25,26,27,28,29,30,31,32,33,34,35,36,37,38,39,40,41,42,43,44,45,46,47,48,49,50,51,52,53,54,55,56,57,58,59,60,61,62,63,64,65,66,67,68,69,70,71,72,73,74,75,76,77,78,79,80,81,82,83,84,85,86,87,88,89,90,91,92,93,94,95,96,97,98,99,100,101,102,103,104,105,106,107,108,109,110,111,112,113,114,115,116,117,118,119,120,121,122,123,124,125,126,127,128,129,130,131,132,133,134,135,136])"
      ],
      "execution_count": null,
      "outputs": []
    },
    {
      "cell_type": "code",
      "metadata": {
        "colab": {
          "base_uri": "https://localhost:8080/"
        },
        "id": "1hwUCgxdYQaj",
        "outputId": "70dbebea-0249-4e7a-dd65-a56bf89f860b"
      },
      "source": [
        "print('Target Variable Data',Y)"
      ],
      "execution_count": null,
      "outputs": [
        {
          "output_type": "stream",
          "text": [
            "Target Variable Data 0         1\n",
            "1         1\n",
            "2         2\n",
            "3         3\n",
            "4         4\n",
            "         ..\n",
            "45126     7\n",
            "45127    15\n",
            "45128     8\n",
            "45129     1\n",
            "45130     1\n",
            "Name: DegreeDesc, Length: 45131, dtype: int64\n"
          ],
          "name": "stdout"
        }
      ]
    },
    {
      "cell_type": "code",
      "metadata": {
        "colab": {
          "base_uri": "https://localhost:8080/"
        },
        "id": "KcKI-GBNOvGQ",
        "outputId": "b14b312e-916c-471c-d6b7-75cd89bc19ca"
      },
      "source": [
        "print('Displaying unique values in each columns of target set after transformation \\n')\n",
        "print('Distinct Values In Degree Column',Y.unique(),'\\n')\n",
        "print('Total Distinct Values In Target Column',len(Y.unique()),'\\n')"
      ],
      "execution_count": null,
      "outputs": [
        {
          "output_type": "stream",
          "text": [
            "Displaying unique values in each columns of target set after transformation \n",
            "\n",
            "Distinct Values In Degree Column [  1   2   3   4   5   6   7   8   9  10  11  12  13  14  15  16  17  18\n",
            "  19  20  21  22  23  24  25  26  27  28  29  30  31  32  33  34  35  36\n",
            "  37  38  39  40  41  42  43  44  45  46  47  48  49  50  51  52  53  54\n",
            "  55  56  57  58  59  60  61  62  63  64  65  66  67  68  69  70  71  72\n",
            "  73  74  75  76  77  78  79  80  81  82  83  84  85  86  87  88  89  90\n",
            "  91  92  93  94  95  96  97  98  99 100 101 102 103 104 105 106 107 108\n",
            " 109 110 111 112 113 114 115 116 117 118 119 120 121 122 123 124 125 126\n",
            " 127 128 129 130 131 132 133 134 135 136] \n",
            "\n",
            "Total Distinct Values In Target Column 136 \n",
            "\n"
          ],
          "name": "stdout"
        }
      ]
    },
    {
      "cell_type": "code",
      "metadata": {
        "colab": {
          "base_uri": "https://localhost:8080/"
        },
        "id": "po6NKmylYpyh",
        "outputId": "2bcc8e66-16f7-431c-c3c7-42a465f1bc31"
      },
      "source": [
        "print(X)\n",
        "print(Y)"
      ],
      "execution_count": null,
      "outputs": [
        {
          "output_type": "stream",
          "text": [
            "       batch_year  OfficerID  ...  TotalTenureWorked  DivisionDesc\n",
            "0            1983      23142  ...                 11             1\n",
            "1            1966      18473  ...                 11             1\n",
            "2            1983        549  ...                 50             2\n",
            "3            1983        549  ...                 50             3\n",
            "4            1983        549  ...                 50             2\n",
            "...           ...        ...  ...                ...           ...\n",
            "45126        1956      17063  ...                 16             1\n",
            "45127        1956      17063  ...                 16             3\n",
            "45128        1961      17769  ...                 11             7\n",
            "45129        1956      17230  ...                 11             1\n",
            "45130        1957      17241  ...                 11             1\n",
            "\n",
            "[45131 rows x 14 columns]\n",
            "0         1\n",
            "1         1\n",
            "2         2\n",
            "3         3\n",
            "4         4\n",
            "         ..\n",
            "45126     7\n",
            "45127    15\n",
            "45128     8\n",
            "45129     1\n",
            "45130     1\n",
            "Name: DegreeDesc, Length: 45131, dtype: int64\n"
          ],
          "name": "stdout"
        }
      ]
    },
    {
      "cell_type": "code",
      "metadata": {
        "colab": {
          "base_uri": "https://localhost:8080/"
        },
        "id": "yHYQedTRnESC",
        "outputId": "931ec1f4-18b6-49e8-9029-caa6907fc562"
      },
      "source": [
        "X.dtypes"
      ],
      "execution_count": null,
      "outputs": [
        {
          "output_type": "execute_result",
          "data": {
            "text/plain": [
              "batch_year              int64\n",
              "OfficerID               int64\n",
              "Gender_name             int64\n",
              "CategoryDesc            int64\n",
              "CadreStateName          int64\n",
              "ServiceShort            int64\n",
              "Age_InYears             int64\n",
              "Experience_InYears      int64\n",
              "CGPA                  float64\n",
              "Percentage            float64\n",
              "Officers_Grade          int64\n",
              "PassingYear             int64\n",
              "TotalTenureWorked       int64\n",
              "DivisionDesc            int64\n",
              "dtype: object"
            ]
          },
          "metadata": {
            "tags": []
          },
          "execution_count": 45
        }
      ]
    },
    {
      "cell_type": "markdown",
      "metadata": {
        "id": "LTjtx0EWbaIg"
      },
      "source": [
        "# **splitting the dataset into trainset and testset**"
      ]
    },
    {
      "cell_type": "code",
      "metadata": {
        "colab": {
          "base_uri": "https://localhost:8080/"
        },
        "id": "wb05vUWLbZW0",
        "outputId": "c8d67e0b-4c1b-4473-a163-42fe27e9974b"
      },
      "source": [
        "#Splitting the dataset into the Training set and Test set\n",
        "print('Splitting the dataset into the Training dataset and Testing dataset');\n",
        "X_train, X_test, Y_train, Y_test = train_test_split(X, Y, test_size = 0.25, random_state = 5)\n",
        "\n",
        "# Show the results of the split\n",
        "print('displaying the result of split dataset into train dataset and test dataset');\n",
        "print(\"X Training set has {} samples.\".format(X_train.shape));\n",
        "print(\"X Testing set has {} samples.\".format(X_test.shape));\n",
        "print(\"Y Training set has {} samples.\".format(Y_train.shape));\n",
        "print(\"Y Testing set has {} samples.\".format(Y_test.shape));"
      ],
      "execution_count": null,
      "outputs": [
        {
          "output_type": "stream",
          "text": [
            "Splitting the dataset into the Training dataset and Testing dataset\n",
            "displaying the result of split dataset into train dataset and test dataset\n",
            "X Training set has (33848, 14) samples.\n",
            "X Testing set has (11283, 14) samples.\n",
            "Y Training set has (33848,) samples.\n",
            "Y Testing set has (11283,) samples.\n"
          ],
          "name": "stdout"
        }
      ]
    },
    {
      "cell_type": "markdown",
      "metadata": {
        "id": "ijwQzNvDiR1j"
      },
      "source": [
        "# **Building the models with following algorithms**\n",
        "*   Naive Bayes Algorithm\n",
        "*   Decision Tree Algorithm\n",
        "*   Support Vector Machine (SVM) Algorithm\n",
        "*   Random Forest Algorithm\n",
        "*   Adaboost Algorithm\n",
        "*   Convolution Neural Network (CNN) Algorithm\n",
        "*   Recurrent Neural Network (RNN) Algorithm"
      ]
    },
    {
      "cell_type": "code",
      "metadata": {
        "colab": {
          "base_uri": "https://localhost:8080/"
        },
        "id": "wriC4rGQ7O_M",
        "outputId": "a9cf2655-e4fd-4132-d5cd-0610821ea29b"
      },
      "source": [
        "print('Building the models with following algorithms')\n",
        "print('Naive Bayes Algorithm')\n",
        "print('Decision Tree Algorithm')\n",
        "print('Support Vector Machine (SVM) Algorithm')\n",
        "print('Random Forest Algorithm')\n",
        "print('Adaboost Algorithm')\n",
        "print('Convolution Neural Network (CNN) Algorithm')\n",
        "print('Recurrent Neural Network (RNN) Algorithm')"
      ],
      "execution_count": null,
      "outputs": [
        {
          "output_type": "stream",
          "text": [
            "Building the models with following algorithms\n",
            "Naive Bayes Algorithm\n",
            "Decision Tree Algorithm\n",
            "Support Vector Machine (SVM) Algorithm\n",
            "Random Forest Algorithm\n",
            "Adaboost Algorithm\n",
            "Convolution Neural Network (CNN) Algorithm\n",
            "Recurrent Neural Network (RNN) Algorithm\n"
          ],
          "name": "stdout"
        }
      ]
    },
    {
      "cell_type": "markdown",
      "metadata": {
        "id": "4y1i8UUYmGkF"
      },
      "source": [
        "### **Building the models with Naive Bayes Algorithm**"
      ]
    },
    {
      "cell_type": "code",
      "metadata": {
        "colab": {
          "base_uri": "https://localhost:8080/"
        },
        "id": "_7rCMLTpamFX",
        "outputId": "85179393-fda0-4e25-e879-d88e10af3166"
      },
      "source": [
        "print('to implement naive bayes algorithm we use Gaussian Naive Bayers which is a module of sklearn Library')"
      ],
      "execution_count": null,
      "outputs": [
        {
          "output_type": "stream",
          "text": [
            "to implement naive bayes algorithm we use Gaussian Naive Bayers which is a module of sklearn Library\n"
          ],
          "name": "stdout"
        }
      ]
    },
    {
      "cell_type": "code",
      "metadata": {
        "colab": {
          "base_uri": "https://localhost:8080/"
        },
        "id": "C9Y3MUxymYd-",
        "outputId": "cc55b7f6-1575-410a-9fe0-f49794e40fda"
      },
      "source": [
        "import sklearn\n",
        "from sklearn.naive_bayes import GaussianNB\n",
        "print('imported gaussian NB from naive bayes of sklearn package')\n",
        "print('imported sklearn package version is:{}'.format(sklearn.__version__))"
      ],
      "execution_count": null,
      "outputs": [
        {
          "output_type": "stream",
          "text": [
            "imported gaussian NB from naive bayes of sklearn package\n",
            "imported sklearn package version is:0.22.2.post1\n"
          ],
          "name": "stdout"
        }
      ]
    },
    {
      "cell_type": "code",
      "metadata": {
        "colab": {
          "base_uri": "https://localhost:8080/"
        },
        "id": "EbW7OleBmcJV",
        "outputId": "c051a439-a99f-4054-f659-a64d77bf6ff6"
      },
      "source": [
        "print('we are using gaussian NB model of sklearn package')\n",
        "naive_bayes_classifier = GaussianNB()"
      ],
      "execution_count": null,
      "outputs": [
        {
          "output_type": "stream",
          "text": [
            "we are using gaussian NB model of sklearn package\n"
          ],
          "name": "stdout"
        }
      ]
    },
    {
      "cell_type": "markdown",
      "metadata": {
        "id": "kfYSZHKDmmNg"
      },
      "source": [
        "## **now fitting the model with naive bayes classifier**"
      ]
    },
    {
      "cell_type": "code",
      "metadata": {
        "colab": {
          "base_uri": "https://localhost:8080/"
        },
        "id": "-dUfZvFvmh8U",
        "outputId": "981943ff-af90-46cc-d0a3-9aa5a8aa3352"
      },
      "source": [
        "print('now fitting the model with naive bayes classifier')\n",
        "start_training_time = time()\n",
        "naive_bayes_classifier.fit(X_train,Y_train)\n",
        "end_training_time = time()\n",
        "print('naive bayes classifier model training starts in {:4f} seconds'.format(start_training_time))\n",
        "print('naive bayes classifier model training ends in {:4f} seconds'.format(end_training_time))\n",
        "print('naive bayes classifier model trained in {:4f} seconds'.format(end_training_time - start_training_time))"
      ],
      "execution_count": null,
      "outputs": [
        {
          "output_type": "stream",
          "text": [
            "now fitting the model with naive bayes classifier\n",
            "naive bayes classifier model training starts in 1617967592.384760 seconds\n",
            "naive bayes classifier model training ends in 1617967592.428443 seconds\n",
            "naive bayes classifier model trained in 0.043683 seconds\n"
          ],
          "name": "stdout"
        }
      ]
    },
    {
      "cell_type": "markdown",
      "metadata": {
        "id": "A3XXKgFOmnNM"
      },
      "source": [
        "## **predicting the naive bayes classifier model**"
      ]
    },
    {
      "cell_type": "code",
      "metadata": {
        "id": "LDdiBusQmyra",
        "colab": {
          "base_uri": "https://localhost:8080/"
        },
        "outputId": "7ca7bbad-0657-41fb-ce4b-05325e9621f2"
      },
      "source": [
        "print(' now predicting the naive bayes classifier model')\n",
        "start_prediction_time = time()\n",
        "naive_bayes_prediction = naive_bayes_classifier.predict(X_test)\n",
        "end_prediction_time = time()\n",
        "print('naive bayes classifier model prediction starts in {:4f} seconds'.format(start_prediction_time))\n",
        "print('naive bayes classifier model prediction ends in {:4f} seconds'.format(end_prediction_time))\n",
        "print('naive bayes classifier model predicted in {:4f} seconds'.format(end_prediction_time - start_prediction_time))"
      ],
      "execution_count": null,
      "outputs": [
        {
          "output_type": "stream",
          "text": [
            " now predicting the naive bayes classifier model\n",
            "naive bayes classifier model prediction starts in 1617967592.443836 seconds\n",
            "naive bayes classifier model prediction ends in 1617967592.595520 seconds\n",
            "naive bayes classifier model predicted in 0.151684 seconds\n"
          ],
          "name": "stdout"
        }
      ]
    },
    {
      "cell_type": "code",
      "metadata": {
        "id": "SYhcYrgsvWRA",
        "colab": {
          "base_uri": "https://localhost:8080/"
        },
        "outputId": "49bc8fae-8922-4268-d26f-6b95ce9ac2c3"
      },
      "source": [
        "print('We have built a GaussianNB classifier.')\n",
        "print('The classifier is trained using training data.') \n",
        "print('We can use fit() method for training it. After building a classifier, our model is ready to make predictions.')\n",
        "print('We can use predict() method with test set features as its parameters.')"
      ],
      "execution_count": null,
      "outputs": [
        {
          "output_type": "stream",
          "text": [
            "We have built a GaussianNB classifier.\n",
            "The classifier is trained using training data.\n",
            "We can use fit() method for training it. After building a classifier, our model is ready to make predictions.\n",
            "We can use predict() method with test set features as its parameters.\n"
          ],
          "name": "stdout"
        }
      ]
    },
    {
      "cell_type": "markdown",
      "metadata": {
        "id": "kQFa8JYivTY-"
      },
      "source": [
        "# **Creating the confusion Matrix**"
      ]
    },
    {
      "cell_type": "code",
      "metadata": {
        "id": "DPQOwfSGvbUB",
        "colab": {
          "base_uri": "https://localhost:8080/"
        },
        "outputId": "f05ea813-a437-413d-cca7-d98ec78631fa"
      },
      "source": [
        "print('after predicting now we create confusion matrix for the test and train set with predicted outcome using confusion matrix package from sklearn library \\n');\n",
        "print(confusion_matrix(Y_test,naive_bayes_prediction))"
      ],
      "execution_count": null,
      "outputs": [
        {
          "output_type": "stream",
          "text": [
            "after predicting now we create confusion matrix for the test and train set with predicted outcome using confusion matrix package from sklearn library \n",
            "\n",
            "[[ 497    5  829 ...    0    0    0]\n",
            " [  30    5 3131 ...    0    0    0]\n",
            " [  18    6 2177 ...    0    0    0]\n",
            " ...\n",
            " [   0    0    0 ...    0    0    0]\n",
            " [   0    0    0 ...    0    0    0]\n",
            " [   0    0    0 ...    0    0    0]]\n"
          ],
          "name": "stdout"
        }
      ]
    },
    {
      "cell_type": "markdown",
      "metadata": {
        "id": "FKh_8vQFviK3"
      },
      "source": [
        "# **Calculating the Accuracy of our Gaussian Naive Bayes model**"
      ]
    },
    {
      "cell_type": "code",
      "metadata": {
        "id": "4JGDzPcFveRF",
        "colab": {
          "base_uri": "https://localhost:8080/"
        },
        "outputId": "173ed20d-e5ce-4c35-f5d3-3faa04efa71e"
      },
      "source": [
        "print('now we calculate the accuracy of gaussian naive bayes madel for Officer Prediction Dataset');\n",
        "naive_bayes_accuracy = accuracy_score(Y_test, naive_bayes_prediction, normalize = True);\n",
        "naive_bayes_error_rate = 1-naive_bayes_accuracy;\n",
        "naive_bayes_precision_score = precision_score(Y_test, naive_bayes_prediction,average='weighted');\n",
        "naive_bayes_recall_score = recall_score(Y_test, naive_bayes_prediction,average='weighted');\n",
        "naive_bayes_f1_score = f1_score(Y_test, naive_bayes_prediction,average='weighted');\n",
        "print('accuracy is : ',naive_bayes_accuracy*100,'%');\n",
        "print('Error is : ',naive_bayes_error_rate*100,'%');\n",
        "print('Precision Score is : ',naive_bayes_precision_score);\n",
        "print('Recall Score is : ',naive_bayes_recall_score);\n",
        "print('F1 Score is : ',naive_bayes_f1_score);"
      ],
      "execution_count": null,
      "outputs": [
        {
          "output_type": "stream",
          "text": [
            "now we calculate the accuracy of gaussian naive bayes madel for Officer Prediction Dataset\n",
            "accuracy is :  24.284321545688204 %\n",
            "Error is :  75.7156784543118 %\n",
            "Precision Score is :  0.26612507756669757\n",
            "Recall Score is :  0.24284321545688203\n",
            "F1 Score is :  0.16865521396583644\n"
          ],
          "name": "stdout"
        },
        {
          "output_type": "stream",
          "text": [
            "/usr/local/lib/python3.7/dist-packages/sklearn/metrics/_classification.py:1272: UndefinedMetricWarning: Precision is ill-defined and being set to 0.0 in labels with no predicted samples. Use `zero_division` parameter to control this behavior.\n",
            "  _warn_prf(average, modifier, msg_start, len(result))\n",
            "/usr/local/lib/python3.7/dist-packages/sklearn/metrics/_classification.py:1272: UndefinedMetricWarning: Recall is ill-defined and being set to 0.0 in labels with no true samples. Use `zero_division` parameter to control this behavior.\n",
            "  _warn_prf(average, modifier, msg_start, len(result))\n"
          ],
          "name": "stderr"
        }
      ]
    },
    {
      "cell_type": "markdown",
      "metadata": {
        "id": "YiplzvfZ_pmN"
      },
      "source": [
        "# **Buliding the Evaluation Report**"
      ]
    },
    {
      "cell_type": "markdown",
      "metadata": {
        "id": "dVPn30gU_xXD"
      },
      "source": [
        "#### **Importing the concerned packages**"
      ]
    },
    {
      "cell_type": "code",
      "metadata": {
        "id": "3_b5otfwvrba",
        "colab": {
          "base_uri": "https://localhost:8080/"
        },
        "outputId": "ba200acd-fd4f-42bf-854c-a0688e14968f"
      },
      "source": [
        "from sklearn.metrics import classification_report\n",
        "print('evaluation report for naive bayes\\n',classification_report(Y_test,naive_bayes_prediction,))"
      ],
      "execution_count": null,
      "outputs": [
        {
          "output_type": "stream",
          "text": [
            "evaluation report for naive bayes\n",
            "               precision    recall  f1-score   support\n",
            "\n",
            "           1       0.86      0.25      0.39      1989\n",
            "           2       0.12      0.00      0.00      3495\n",
            "           3       0.29      0.90      0.44      2431\n",
            "           4       0.12      0.01      0.01       194\n",
            "           5       0.06      0.02      0.03       344\n",
            "           6       0.00      0.00      0.00       213\n",
            "           7       0.00      0.00      0.00       176\n",
            "           8       0.00      0.00      0.00       287\n",
            "           9       0.33      0.00      0.01       284\n",
            "          10       0.00      0.00      0.00       144\n",
            "          11       0.00      0.00      0.00        74\n",
            "          12       0.00      0.00      0.00       177\n",
            "          13       0.11      0.19      0.14       187\n",
            "          14       0.00      0.00      0.00        45\n",
            "          15       0.00      0.00      0.00       103\n",
            "          16       0.00      0.00      0.00         5\n",
            "          17       0.00      0.00      0.00         1\n",
            "          18       0.00      0.00      0.00       282\n",
            "          19       0.00      0.00      0.00         2\n",
            "          20       0.02      0.25      0.04        12\n",
            "          21       0.00      0.00      0.00         1\n",
            "          22       0.00      0.00      0.00       152\n",
            "          23       0.00      0.00      0.00         1\n",
            "          24       0.00      0.00      0.00         3\n",
            "          25       0.00      0.00      0.00         6\n",
            "          26       0.05      0.01      0.02       144\n",
            "          27       0.00      0.00      0.00       159\n",
            "          28       0.00      0.00      0.00        10\n",
            "          29       0.00      0.00      0.00        26\n",
            "          30       0.03      0.02      0.02        47\n",
            "          31       0.00      0.00      0.00        20\n",
            "          32       0.00      0.00      0.00         7\n",
            "          33       0.00      0.00      0.00        34\n",
            "          35       0.00      0.00      0.00        13\n",
            "          36       0.00      0.00      0.00         1\n",
            "          37       0.01      0.08      0.01        13\n",
            "          38       0.06      0.07      0.06        14\n",
            "          39       0.00      0.00      0.00        10\n",
            "          40       0.00      0.00      0.00         5\n",
            "          41       0.00      0.00      0.00        11\n",
            "          42       0.00      0.00      0.00        13\n",
            "          43       0.00      0.00      0.00         7\n",
            "          44       0.00      0.00      0.00         0\n",
            "          45       0.00      0.00      0.00         2\n",
            "          46       0.00      0.00      0.00        12\n",
            "          47       0.06      0.20      0.09        10\n",
            "          48       0.00      0.00      0.00         0\n",
            "          49       0.00      0.00      0.00        14\n",
            "          50       0.00      0.00      0.00         2\n",
            "          51       0.00      0.00      0.00        10\n",
            "          53       0.00      0.00      0.00         1\n",
            "          55       0.00      0.00      0.00         1\n",
            "          56       0.00      0.00      0.00         1\n",
            "          57       0.00      0.00      0.00         0\n",
            "          58       0.00      0.00      0.00         1\n",
            "          60       0.00      0.00      0.00         1\n",
            "          61       0.00      0.00      0.00         2\n",
            "          62       0.00      0.00      0.00         2\n",
            "          63       0.00      0.00      0.00         9\n",
            "          64       0.00      0.00      0.00         0\n",
            "          65       0.00      0.00      0.00         0\n",
            "          66       0.00      0.00      0.00         1\n",
            "          67       0.00      0.00      0.00         3\n",
            "          68       0.00      0.00      0.00         1\n",
            "          69       0.01      0.33      0.01         3\n",
            "          70       0.00      0.00      0.00        10\n",
            "          71       0.00      0.00      0.00         1\n",
            "          72       0.00      0.00      0.00         2\n",
            "          73       0.00      0.00      0.00         0\n",
            "          74       0.00      0.00      0.00         1\n",
            "          75       0.00      0.00      0.00         0\n",
            "          76       0.00      0.00      0.00         1\n",
            "          77       0.00      0.00      0.00         1\n",
            "          78       0.00      0.00      0.00         0\n",
            "          79       0.00      0.00      0.00         1\n",
            "          81       0.00      0.00      0.00         2\n",
            "          82       0.00      0.00      0.00         0\n",
            "          83       0.00      0.00      0.00         0\n",
            "          84       0.00      0.00      0.00         2\n",
            "          85       0.00      0.00      0.00         0\n",
            "          86       0.00      0.00      0.00         1\n",
            "          87       0.00      0.00      0.00         2\n",
            "          88       0.00      0.00      0.00         4\n",
            "          89       0.00      0.00      0.00         1\n",
            "          91       0.00      0.00      0.00         1\n",
            "          93       0.00      0.00      0.00         0\n",
            "          94       0.00      0.00      0.00         5\n",
            "          95       0.00      0.00      0.00         0\n",
            "          96       0.00      0.00      0.00         3\n",
            "          97       0.00      0.00      0.00         2\n",
            "          98       0.00      0.00      0.00         0\n",
            "         100       0.00      0.00      0.00         0\n",
            "         102       0.00      0.00      0.00         1\n",
            "         103       0.07      0.67      0.12         6\n",
            "         104       0.00      0.00      0.00         0\n",
            "         107       0.00      0.00      0.00         0\n",
            "         109       0.00      0.00      0.00         1\n",
            "         110       0.00      0.00      0.00         4\n",
            "         111       0.11      1.00      0.19         3\n",
            "         112       0.00      0.00      0.00         0\n",
            "         114       0.00      0.00      0.00         1\n",
            "         115       0.00      0.00      0.00         1\n",
            "         116       0.00      0.00      0.00         0\n",
            "         118       0.00      0.00      0.00         1\n",
            "         120       0.00      0.00      0.00         1\n",
            "         122       0.00      0.00      0.00         1\n",
            "         126       0.00      0.00      0.00         1\n",
            "         127       0.00      0.00      0.00         2\n",
            "         128       0.00      0.00      0.00         1\n",
            "         130       0.00      0.00      0.00         1\n",
            "         131       0.00      0.00      0.00         0\n",
            "\n",
            "    accuracy                           0.24     11283\n",
            "   macro avg       0.02      0.04      0.01     11283\n",
            "weighted avg       0.27      0.24      0.17     11283\n",
            "\n"
          ],
          "name": "stdout"
        },
        {
          "output_type": "stream",
          "text": [
            "/usr/local/lib/python3.7/dist-packages/sklearn/metrics/_classification.py:1272: UndefinedMetricWarning: Precision and F-score are ill-defined and being set to 0.0 in labels with no predicted samples. Use `zero_division` parameter to control this behavior.\n",
            "  _warn_prf(average, modifier, msg_start, len(result))\n",
            "/usr/local/lib/python3.7/dist-packages/sklearn/metrics/_classification.py:1272: UndefinedMetricWarning: Recall and F-score are ill-defined and being set to 0.0 in labels with no true samples. Use `zero_division` parameter to control this behavior.\n",
            "  _warn_prf(average, modifier, msg_start, len(result))\n"
          ],
          "name": "stderr"
        }
      ]
    },
    {
      "cell_type": "markdown",
      "metadata": {
        "id": "0DNMoCjgem_x"
      },
      "source": [
        "# **Building the models with Decision Tree Algorithm  with gini index and information gain as criterion**"
      ]
    },
    {
      "cell_type": "code",
      "metadata": {
        "colab": {
          "base_uri": "https://localhost:8080/"
        },
        "id": "krs1evSMe7RT",
        "outputId": "aeddc867-15a7-4e44-ead2-ab9317f0b21e"
      },
      "source": [
        "print('Building the models with Decision Tree Algorithm with gini index and information gain as criterion')"
      ],
      "execution_count": null,
      "outputs": [
        {
          "output_type": "stream",
          "text": [
            "Building the models with Decision Tree Algorithm with gini index and information gain as criterion\n"
          ],
          "name": "stdout"
        }
      ]
    },
    {
      "cell_type": "code",
      "metadata": {
        "colab": {
          "base_uri": "https://localhost:8080/"
        },
        "id": "Itzc7Jfj4yvQ",
        "outputId": "679231dd-651b-47af-b914-4f4205a0a55a"
      },
      "source": [
        "import sklearn\n",
        "from sklearn.tree import DecisionTreeClassifier\n",
        "print('imported DecisionTreeClassifier from tree of sklearn package')"
      ],
      "execution_count": null,
      "outputs": [
        {
          "output_type": "stream",
          "text": [
            "imported DecisionTreeClassifier from tree of sklearn package\n"
          ],
          "name": "stdout"
        }
      ]
    },
    {
      "cell_type": "code",
      "metadata": {
        "colab": {
          "base_uri": "https://localhost:8080/"
        },
        "id": "KCH02kRwfdCx",
        "outputId": "c0f653d1-4a28-4c16-ffac-6e064aec6d3a"
      },
      "source": [
        "print('Now using Decision tree algorithm to build the model')\n",
        "#modelling the Decision Tree classifier using criterion as gini index and information gain \n",
        "print('modelling the Decision Tree classifier using criterion as gini index and information gain')\n",
        "Decision_Tree_Classifier_gini = DecisionTreeClassifier(criterion = \"gini\" , random_state = 100 , max_depth = 3 , min_samples_leaf = 5)"
      ],
      "execution_count": null,
      "outputs": [
        {
          "output_type": "stream",
          "text": [
            "Now using Decision tree algorithm to build the model\n",
            "modelling the Decision Tree classifier using criterion as gini index and information gain\n"
          ],
          "name": "stdout"
        }
      ]
    },
    {
      "cell_type": "markdown",
      "metadata": {
        "id": "AuB1hbmWf3Av"
      },
      "source": [
        "# **fitting the model with Decision Tree Classifier using criterion as gini index**"
      ]
    },
    {
      "cell_type": "code",
      "metadata": {
        "colab": {
          "base_uri": "https://localhost:8080/"
        },
        "id": "A5PIN5XJ-2yp",
        "outputId": "09cdeb41-592a-445f-fcfc-67c624767a43"
      },
      "source": [
        "#now fitting the model with Decision Tree Classifier using criterion as gini index for illustration\n",
        "print('now fitting the model with Decision Tree Classifier using criterion as gini index for illustration');\n",
        "start_training_time = time()\n",
        "Decision_Tree_Classifier_gini.fit(X_train, Y_train)\n",
        "end_training_time = time()\n",
        "print('Decision tree classifier with gini index model training starts in {:4f} seconds'.format(start_training_time))\n",
        "print('Decision tree classifier with gini index model training ends in {:4f} seconds'.format(end_training_time))\n",
        "print('Decision tree classifier with gini index model trained in {:4f} seconds'.format(end_training_time - start_training_time))"
      ],
      "execution_count": null,
      "outputs": [
        {
          "output_type": "stream",
          "text": [
            "now fitting the model with Decision Tree Classifier using criterion as gini index for illustration\n",
            "Decision tree classifier with gini index model training starts in 1617967592.828839 seconds\n",
            "Decision tree classifier with gini index model training ends in 1617967592.909490 seconds\n",
            "Decision tree classifier with gini index model trained in 0.080651 seconds\n"
          ],
          "name": "stdout"
        }
      ]
    },
    {
      "cell_type": "markdown",
      "metadata": {
        "id": "crmHmQREf81k"
      },
      "source": [
        "# **predicting the Decision Tree Classifier model with  criterion as gini index**"
      ]
    },
    {
      "cell_type": "code",
      "metadata": {
        "colab": {
          "base_uri": "https://localhost:8080/"
        },
        "id": "o-pawj-ggF2x",
        "outputId": "8269b137-13ab-452c-a81d-252687379245"
      },
      "source": [
        "print('predicting the decision tree classifier model using criterion as gini index')\n",
        "start_prediction_time = time()\n",
        "Decision_Tree_Classifier_gini_predict = Decision_Tree_Classifier_gini.predict(X_test);\n",
        "end_prediction_time = time()\n",
        "print('Decision Tree classifier with information gain model prediction starts in {:4f} seconds'.format(start_prediction_time))\n",
        "print('Decision Tree classifier with information gain model prediction ends in {:4f} seconds'.format(end_prediction_time))\n",
        "print('Decision Tree classifier with information gain model predicted in {:4f} seconds'.format(end_prediction_time - start_prediction_time))"
      ],
      "execution_count": null,
      "outputs": [
        {
          "output_type": "stream",
          "text": [
            "predicting the decision tree classifier model using criterion as gini index\n",
            "Decision Tree classifier with information gain model prediction starts in 1617967592.923594 seconds\n",
            "Decision Tree classifier with information gain model prediction ends in 1617967592.933818 seconds\n",
            "Decision Tree classifier with information gain model predicted in 0.010224 seconds\n"
          ],
          "name": "stdout"
        }
      ]
    },
    {
      "cell_type": "markdown",
      "metadata": {
        "id": "CtlQj0kzgcGq"
      },
      "source": [
        "# **Creating the confusion matrix of Decision Tree Algorithm models with gini index  as criterion**"
      ]
    },
    {
      "cell_type": "code",
      "metadata": {
        "colab": {
          "base_uri": "https://localhost:8080/"
        },
        "id": "2pDee0vSgbXU",
        "outputId": "3ecfb1c0-c36b-41a1-a902-21ccaa477cf3"
      },
      "source": [
        "print('after predicting now we create confusion matrix for the test and train set with predicted outcome using confusion matrix package from sklearn library \\n');\n",
        "print('\\nConfusion matrix for Decision Tree Classifier gini index as criterion\\n',confusion_matrix(Y_test,Decision_Tree_Classifier_gini_predict))"
      ],
      "execution_count": null,
      "outputs": [
        {
          "output_type": "stream",
          "text": [
            "after predicting now we create confusion matrix for the test and train set with predicted outcome using confusion matrix package from sklearn library \n",
            "\n",
            "\n",
            "Confusion matrix for Decision Tree Classifier gini index as criterion\n",
            " [[1341  389  136 ...    0    0    0]\n",
            " [  35 3095  312 ...    0    0    0]\n",
            " [  29 2024  330 ...    0    0    0]\n",
            " ...\n",
            " [   0    0    0 ...    0    0    0]\n",
            " [   0    0    0 ...    0    0    0]\n",
            " [   0    0    0 ...    0    0    0]]\n"
          ],
          "name": "stdout"
        }
      ]
    },
    {
      "cell_type": "markdown",
      "metadata": {
        "id": "ttA6CyyPhhp8"
      },
      "source": [
        "# **finding the accuracy and error of prediction of given model using Decision Tree Classifier with gini index as criterion**"
      ]
    },
    {
      "cell_type": "code",
      "metadata": {
        "colab": {
          "base_uri": "https://localhost:8080/"
        },
        "id": "DmgDOsUAgbm_",
        "outputId": "e504c54b-52e1-4cdd-ef83-01c6d3769154"
      },
      "source": [
        "print('finding the accuracy of prediction of given model using DecisionTreeClassifier')\n",
        "print('now we calculate the accuracy of gaussian naive bayes madel for Officer Prediction Dataset');\n",
        "Decision_Tree_Classifier_gini_accuracy = accuracy_score(Y_test,Decision_Tree_Classifier_gini_predict,normalize = True);\n",
        "Decision_Tree_Classifier_gini_error = 1-Decision_Tree_Classifier_gini_accuracy;\n",
        "Decision_Tree_Classifier_precision_score = precision_score(Y_test, Decision_Tree_Classifier_gini_predict,average='weighted');\n",
        "Decision_Tree_Classifier_recall_score = recall_score(Y_test, Decision_Tree_Classifier_gini_predict,average='weighted');\n",
        "Decision_Tree_Classifier_f1_score = f1_score(Y_test, Decision_Tree_Classifier_gini_predict,average='weighted');\n",
        "print('\\n accuracy for decision tree classifier using criterion as gini index is : \\n',Decision_Tree_Classifier_gini_accuracy*100,'%');\n",
        "print('\\n error rate for decision tree classifier using criterion as gini index is : \\n',Decision_Tree_Classifier_gini_error*100,'%');\n",
        "print('Precision Score is : ',Decision_Tree_Classifier_precision_score);\n",
        "print('Recall Score is : ',Decision_Tree_Classifier_recall_score);\n",
        "print('F1 Score is : ',Decision_Tree_Classifier_f1_score);"
      ],
      "execution_count": null,
      "outputs": [
        {
          "output_type": "stream",
          "text": [
            "finding the accuracy of prediction of given model using DecisionTreeClassifier\n",
            "now we calculate the accuracy of gaussian naive bayes madel for Officer Prediction Dataset\n",
            "\n",
            " accuracy for decision tree classifier using criterion as gini index is : \n",
            " 43.729504564388904 %\n",
            "\n",
            " error rate for decision tree classifier using criterion as gini index is : \n",
            " 56.27049543561109 %\n",
            "Precision Score is :  0.34081458649594276\n",
            "Recall Score is :  0.43729504564388905\n",
            "F1 Score is :  0.3620860522122916\n"
          ],
          "name": "stdout"
        },
        {
          "output_type": "stream",
          "text": [
            "/usr/local/lib/python3.7/dist-packages/sklearn/metrics/_classification.py:1272: UndefinedMetricWarning: Precision is ill-defined and being set to 0.0 in labels with no predicted samples. Use `zero_division` parameter to control this behavior.\n",
            "  _warn_prf(average, modifier, msg_start, len(result))\n"
          ],
          "name": "stderr"
        }
      ]
    },
    {
      "cell_type": "markdown",
      "metadata": {
        "id": "FI2Zd3cEijI2"
      },
      "source": [
        "# **Creating the evaluation report for decision tree with criterion as gini index**"
      ]
    },
    {
      "cell_type": "code",
      "metadata": {
        "colab": {
          "base_uri": "https://localhost:8080/"
        },
        "id": "3-8FHK38ijgB",
        "outputId": "e01a2daa-5194-4189-fe8e-7975d18e863b"
      },
      "source": [
        "print('evaluation report for decision tree with criterion as gini index\\n',classification_report(Y_test,Decision_Tree_Classifier_gini_predict))"
      ],
      "execution_count": null,
      "outputs": [
        {
          "output_type": "stream",
          "text": [
            "evaluation report for decision tree with criterion as gini index\n",
            "               precision    recall  f1-score   support\n",
            "\n",
            "           1       0.82      0.67      0.74      1989\n",
            "           2       0.47      0.89      0.61      3495\n",
            "           3       0.21      0.14      0.16      2431\n",
            "           4       0.19      0.09      0.13       194\n",
            "           5       0.00      0.00      0.00       344\n",
            "           6       0.00      0.00      0.00       213\n",
            "           7       0.00      0.00      0.00       176\n",
            "           8       0.00      0.00      0.00       287\n",
            "           9       0.11      0.53      0.18       284\n",
            "          10       0.00      0.00      0.00       144\n",
            "          11       0.00      0.00      0.00        74\n",
            "          12       0.00      0.00      0.00       177\n",
            "          13       0.00      0.00      0.00       187\n",
            "          14       0.00      0.00      0.00        45\n",
            "          15       0.00      0.00      0.00       103\n",
            "          16       0.00      0.00      0.00         5\n",
            "          17       0.00      0.00      0.00         1\n",
            "          18       0.00      0.00      0.00       282\n",
            "          19       0.00      0.00      0.00         2\n",
            "          20       0.00      0.00      0.00        12\n",
            "          21       0.00      0.00      0.00         1\n",
            "          22       0.00      0.00      0.00       152\n",
            "          23       0.00      0.00      0.00         1\n",
            "          24       0.00      0.00      0.00         3\n",
            "          25       0.00      0.00      0.00         6\n",
            "          26       0.00      0.00      0.00       144\n",
            "          27       0.00      0.00      0.00       159\n",
            "          28       0.00      0.00      0.00        10\n",
            "          29       0.00      0.00      0.00        26\n",
            "          30       0.00      0.00      0.00        47\n",
            "          31       0.00      0.00      0.00        20\n",
            "          32       0.00      0.00      0.00         7\n",
            "          33       0.00      0.00      0.00        34\n",
            "          35       0.00      0.00      0.00        13\n",
            "          36       0.00      0.00      0.00         1\n",
            "          37       0.00      0.00      0.00        13\n",
            "          38       0.00      0.00      0.00        14\n",
            "          39       0.00      0.00      0.00        10\n",
            "          40       0.00      0.00      0.00         5\n",
            "          41       0.00      0.00      0.00        11\n",
            "          42       0.00      0.00      0.00        13\n",
            "          43       0.00      0.00      0.00         7\n",
            "          45       0.00      0.00      0.00         2\n",
            "          46       0.00      0.00      0.00        12\n",
            "          47       0.00      0.00      0.00        10\n",
            "          49       0.00      0.00      0.00        14\n",
            "          50       0.00      0.00      0.00         2\n",
            "          51       0.00      0.00      0.00        10\n",
            "          53       0.00      0.00      0.00         1\n",
            "          55       0.00      0.00      0.00         1\n",
            "          56       0.00      0.00      0.00         1\n",
            "          58       0.00      0.00      0.00         1\n",
            "          60       0.00      0.00      0.00         1\n",
            "          61       0.00      0.00      0.00         2\n",
            "          62       0.00      0.00      0.00         2\n",
            "          63       0.00      0.00      0.00         9\n",
            "          66       0.00      0.00      0.00         1\n",
            "          67       0.00      0.00      0.00         3\n",
            "          68       0.00      0.00      0.00         1\n",
            "          69       0.00      0.00      0.00         3\n",
            "          70       0.00      0.00      0.00        10\n",
            "          71       0.00      0.00      0.00         1\n",
            "          72       0.00      0.00      0.00         2\n",
            "          74       0.00      0.00      0.00         1\n",
            "          76       0.00      0.00      0.00         1\n",
            "          77       0.00      0.00      0.00         1\n",
            "          79       0.00      0.00      0.00         1\n",
            "          81       0.00      0.00      0.00         2\n",
            "          84       0.00      0.00      0.00         2\n",
            "          86       0.00      0.00      0.00         1\n",
            "          87       0.00      0.00      0.00         2\n",
            "          88       0.00      0.00      0.00         4\n",
            "          89       0.00      0.00      0.00         1\n",
            "          91       0.00      0.00      0.00         1\n",
            "          94       0.00      0.00      0.00         5\n",
            "          96       0.00      0.00      0.00         3\n",
            "          97       0.00      0.00      0.00         2\n",
            "         102       0.00      0.00      0.00         1\n",
            "         103       0.00      0.00      0.00         6\n",
            "         109       0.00      0.00      0.00         1\n",
            "         110       0.00      0.00      0.00         4\n",
            "         111       0.00      0.00      0.00         3\n",
            "         114       0.00      0.00      0.00         1\n",
            "         115       0.00      0.00      0.00         1\n",
            "         118       0.00      0.00      0.00         1\n",
            "         120       0.00      0.00      0.00         1\n",
            "         122       0.00      0.00      0.00         1\n",
            "         126       0.00      0.00      0.00         1\n",
            "         127       0.00      0.00      0.00         2\n",
            "         128       0.00      0.00      0.00         1\n",
            "         130       0.00      0.00      0.00         1\n",
            "\n",
            "    accuracy                           0.44     11283\n",
            "   macro avg       0.02      0.03      0.02     11283\n",
            "weighted avg       0.34      0.44      0.36     11283\n",
            "\n"
          ],
          "name": "stdout"
        },
        {
          "output_type": "stream",
          "text": [
            "/usr/local/lib/python3.7/dist-packages/sklearn/metrics/_classification.py:1272: UndefinedMetricWarning: Precision and F-score are ill-defined and being set to 0.0 in labels with no predicted samples. Use `zero_division` parameter to control this behavior.\n",
            "  _warn_prf(average, modifier, msg_start, len(result))\n"
          ],
          "name": "stderr"
        }
      ]
    },
    {
      "cell_type": "markdown",
      "metadata": {
        "id": "fITwx_RTjm0I"
      },
      "source": [
        "# **Building the models with Decision Tree Algorithm with gini index and information gain as criterion**"
      ]
    },
    {
      "cell_type": "code",
      "metadata": {
        "colab": {
          "base_uri": "https://localhost:8080/"
        },
        "id": "JXRNR7BmjtVy",
        "outputId": "f3c8a37b-1a6d-4ea7-ed42-5209035239d2"
      },
      "source": [
        "print('Now using Decision tree algorithm to build the model')\n",
        "#modelling the Decision Tree classifier using criterion as gini index and information gain \n",
        "print('modelling the Decision Tree classifier using criterion as gini index and information gain')\n",
        "Decision_Tree_Classifier_entropy_information_gain = DecisionTreeClassifier(criterion = \"entropy\" , random_state = 100 , max_depth = 6 , min_samples_leaf = 7)"
      ],
      "execution_count": null,
      "outputs": [
        {
          "output_type": "stream",
          "text": [
            "Now using Decision tree algorithm to build the model\n",
            "modelling the Decision Tree classifier using criterion as gini index and information gain\n"
          ],
          "name": "stdout"
        }
      ]
    },
    {
      "cell_type": "markdown",
      "metadata": {
        "id": "-P9UYhPTkNVm"
      },
      "source": [
        "# **fitting the model with Decision Tree Classifier using criterion as information gain**"
      ]
    },
    {
      "cell_type": "code",
      "metadata": {
        "colab": {
          "base_uri": "https://localhost:8080/"
        },
        "id": "S9zLqZbkj_Qe",
        "outputId": "d03cd0e1-4423-47df-85be-9171b886d6b1"
      },
      "source": [
        "print('now fitting the model with Decision Tree Classifier using criterion as information gain for illustration')\n",
        "start_training_time = time()\n",
        "Decision_Tree_Classifier_entropy_information_gain.fit(X_train, Y_train)\n",
        "end_training_time = time()\n",
        "print('Decision tree classifier with information gain model training starts in {:4f} seconds'.format(start_training_time))\n",
        "print('Decision tree classifier with information gain model training ends in {:4f} seconds'.format(end_training_time))\n",
        "print('Decision tree classifier with information gain model trained in {:4f} seconds'.format(end_training_time - start_training_time))"
      ],
      "execution_count": null,
      "outputs": [
        {
          "output_type": "stream",
          "text": [
            "now fitting the model with Decision Tree Classifier using criterion as information gain for illustration\n",
            "Decision tree classifier with information gain model training starts in 1617967593.115295 seconds\n",
            "Decision tree classifier with information gain model training ends in 1617967593.695230 seconds\n",
            "Decision tree classifier with information gain model trained in 0.579935 seconds\n"
          ],
          "name": "stdout"
        }
      ]
    },
    {
      "cell_type": "markdown",
      "metadata": {
        "id": "XT3-4kDvkWrD"
      },
      "source": [
        "# **predicting the Decision Tree Classifier model with criterion as information gain**"
      ]
    },
    {
      "cell_type": "code",
      "metadata": {
        "colab": {
          "base_uri": "https://localhost:8080/"
        },
        "id": "TfeOhhXckW_E",
        "outputId": "622faa4e-126c-41c5-cc25-bb380e81efa2"
      },
      "source": [
        "print('predicting the decision tree classifier model using criterion as information gain')\n",
        "start_prediction_time = time()\n",
        "Decision_Tree_Classifier_entropy_information_gain_predict= Decision_Tree_Classifier_entropy_information_gain.predict(X_test);\n",
        "end_prediction_time = time()\n",
        "print('Decision Tree classifier with information gain model prediction starts in {:4f} seconds'.format(start_prediction_time))\n",
        "print('Decision Tree classifier with information gain model prediction ends in {:4f} seconds'.format(end_prediction_time))\n",
        "print('Decision Tree classifier with information gain model predicted in {:4f} seconds'.format(end_prediction_time - start_prediction_time))"
      ],
      "execution_count": null,
      "outputs": [
        {
          "output_type": "stream",
          "text": [
            "predicting the decision tree classifier model using criterion as information gain\n",
            "Decision Tree classifier with information gain model prediction starts in 1617967593.713132 seconds\n",
            "Decision Tree classifier with information gain model prediction ends in 1617967593.724925 seconds\n",
            "Decision Tree classifier with information gain model predicted in 0.011794 seconds\n"
          ],
          "name": "stdout"
        }
      ]
    },
    {
      "cell_type": "markdown",
      "metadata": {
        "id": "dUm91OPrlC70"
      },
      "source": [
        "# **Creating the confusion matrix of Decision Tree Algorithm models with information gain index as criterion**"
      ]
    },
    {
      "cell_type": "code",
      "metadata": {
        "colab": {
          "base_uri": "https://localhost:8080/"
        },
        "id": "sQQAFeQIlMrc",
        "outputId": "87dffcdc-14ff-4528-866d-f71b8f5ba24e"
      },
      "source": [
        "print('after predicting now we create confusion matrix for the test and train set with predicted outcome using confusion matrix package from sklearn library \\n');\n",
        "print('\\nConfusion matrix for Decision Tree Classifier information gain as criterion\\n',confusion_matrix(Y_test,Decision_Tree_Classifier_entropy_information_gain_predict))"
      ],
      "execution_count": null,
      "outputs": [
        {
          "output_type": "stream",
          "text": [
            "after predicting now we create confusion matrix for the test and train set with predicted outcome using confusion matrix package from sklearn library \n",
            "\n",
            "\n",
            "Confusion matrix for Decision Tree Classifier information gain as criterion\n",
            " [[1496  289   57 ...    0    0    0]\n",
            " [  82 3187  178 ...    0    0    0]\n",
            " [  36 2020  292 ...    0    0    0]\n",
            " ...\n",
            " [   0    0    0 ...    0    0    0]\n",
            " [   0    0    0 ...    0    0    0]\n",
            " [   0    0    0 ...    0    0    0]]\n"
          ],
          "name": "stdout"
        }
      ]
    },
    {
      "cell_type": "markdown",
      "metadata": {
        "id": "aE1Hlc65lhDW"
      },
      "source": [
        "# **finding the accuracy and error of prediction of given model using Decision Tree  Classifier with information gain as criterion**"
      ]
    },
    {
      "cell_type": "code",
      "metadata": {
        "colab": {
          "base_uri": "https://localhost:8080/"
        },
        "id": "EWfx61jrl6Y9",
        "outputId": "a6dfdc93-89e5-4bdb-8f85-d05ca886b0d2"
      },
      "source": [
        "print('finding the accuracy of prediction of given model using DecisionTreeClassifier')\n",
        "Decision_Tree_Classifier_information_gain_accuracy = accuracy_score(Y_test,Decision_Tree_Classifier_entropy_information_gain_predict, normalize = True)\n",
        "Decision_Tree_Classifier_information_gain_error = 1-Decision_Tree_Classifier_information_gain_accuracy \n",
        "Decision_Tree_Classifier_information_precision_score = precision_score(Y_test,Decision_Tree_Classifier_entropy_information_gain_predict,average='weighted')\n",
        "Decision_Tree_Classifier_information_recall_score = recall_score(Y_test,Decision_Tree_Classifier_entropy_information_gain_predict,average='weighted')\n",
        "Decision_Tree_Classifier_information_f1_score = f1_score(Y_test,Decision_Tree_Classifier_entropy_information_gain_predict,average='weighted')                                                     \n",
        "print('\\n accuracy for decision tree classifier using criterion as information gain is : \\n',Decision_Tree_Classifier_information_gain_accuracy*100,'%');\n",
        "print('\\n error rate for decision tree classifier using criterion as information gain is : \\n',Decision_Tree_Classifier_information_gain_error*100,'%');\n",
        "print('\\n precision score for decision tree classifier using criterion as information gain is : \\n',Decision_Tree_Classifier_information_precision_score);\n",
        "print('\\n recall score for decision tree classifier using criterion as information gain is : \\n',Decision_Tree_Classifier_information_recall_score);\n",
        "print('\\n f1 score for decision tree classifier using criterion as information gain is : \\n',Decision_Tree_Classifier_information_f1_score);"
      ],
      "execution_count": null,
      "outputs": [
        {
          "output_type": "stream",
          "text": [
            "finding the accuracy of prediction of given model using DecisionTreeClassifier\n",
            "\n",
            " accuracy for decision tree classifier using criterion as information gain is : \n",
            " 46.9290082424887 %\n",
            "\n",
            " error rate for decision tree classifier using criterion as information gain is : \n",
            " 53.0709917575113 %\n",
            "\n",
            " precision score for decision tree classifier using criterion as information gain is : \n",
            " 0.39347518796909603\n",
            "\n",
            " recall score for decision tree classifier using criterion as information gain is : \n",
            " 0.469290082424887\n",
            "\n",
            " f1 score for decision tree classifier using criterion as information gain is : \n",
            " 0.3926665915003053\n"
          ],
          "name": "stdout"
        },
        {
          "output_type": "stream",
          "text": [
            "/usr/local/lib/python3.7/dist-packages/sklearn/metrics/_classification.py:1272: UndefinedMetricWarning: Precision is ill-defined and being set to 0.0 in labels with no predicted samples. Use `zero_division` parameter to control this behavior.\n",
            "  _warn_prf(average, modifier, msg_start, len(result))\n"
          ],
          "name": "stderr"
        }
      ]
    },
    {
      "cell_type": "markdown",
      "metadata": {
        "id": "-Hpc8OGYlhTk"
      },
      "source": [
        "# **Creating the evaluation report for decision tree with criterion as information gain**"
      ]
    },
    {
      "cell_type": "code",
      "metadata": {
        "colab": {
          "base_uri": "https://localhost:8080/"
        },
        "id": "xWnEReRqmWY4",
        "outputId": "2fd6b4a4-59d9-4643-a218-27e074d53ec4"
      },
      "source": [
        "print('evaluation report for decision tree with criterion as information gain\\n',classification_report(Y_test,Decision_Tree_Classifier_entropy_information_gain_predict))"
      ],
      "execution_count": null,
      "outputs": [
        {
          "output_type": "stream",
          "text": [
            "evaluation report for decision tree with criterion as information gain\n",
            "               precision    recall  f1-score   support\n",
            "\n",
            "           1       0.78      0.75      0.77      1989\n",
            "           2       0.48      0.91      0.63      3495\n",
            "           3       0.33      0.12      0.18      2431\n",
            "           4       0.25      0.10      0.15       194\n",
            "           5       0.12      0.00      0.01       344\n",
            "           6       0.16      0.12      0.14       213\n",
            "           7       0.10      0.02      0.03       176\n",
            "           8       0.18      0.33      0.23       287\n",
            "           9       0.15      0.42      0.22       284\n",
            "          10       0.00      0.00      0.00       144\n",
            "          11       0.00      0.00      0.00        74\n",
            "          12       0.18      0.14      0.16       177\n",
            "          13       0.20      0.10      0.13       187\n",
            "          14       0.00      0.00      0.00        45\n",
            "          15       0.00      0.00      0.00       103\n",
            "          16       0.00      0.00      0.00         5\n",
            "          17       0.00      0.00      0.00         1\n",
            "          18       0.13      0.01      0.03       282\n",
            "          19       0.00      0.00      0.00         2\n",
            "          20       0.00      0.00      0.00        12\n",
            "          21       0.00      0.00      0.00         1\n",
            "          22       0.00      0.00      0.00       152\n",
            "          23       0.00      0.00      0.00         1\n",
            "          24       0.00      0.00      0.00         3\n",
            "          25       0.00      0.00      0.00         6\n",
            "          26       0.00      0.00      0.00       144\n",
            "          27       0.32      0.07      0.11       159\n",
            "          28       0.00      0.00      0.00        10\n",
            "          29       0.00      0.00      0.00        26\n",
            "          30       0.00      0.00      0.00        47\n",
            "          31       0.00      0.00      0.00        20\n",
            "          32       0.00      0.00      0.00         7\n",
            "          33       0.00      0.00      0.00        34\n",
            "          35       0.00      0.00      0.00        13\n",
            "          36       0.00      0.00      0.00         1\n",
            "          37       0.00      0.00      0.00        13\n",
            "          38       0.00      0.00      0.00        14\n",
            "          39       0.00      0.00      0.00        10\n",
            "          40       0.00      0.00      0.00         5\n",
            "          41       0.00      0.00      0.00        11\n",
            "          42       0.00      0.00      0.00        13\n",
            "          43       0.00      0.00      0.00         7\n",
            "          45       0.00      0.00      0.00         2\n",
            "          46       0.00      0.00      0.00        12\n",
            "          47       0.00      0.00      0.00        10\n",
            "          49       0.00      0.00      0.00        14\n",
            "          50       0.00      0.00      0.00         2\n",
            "          51       0.00      0.00      0.00        10\n",
            "          53       0.00      0.00      0.00         1\n",
            "          55       0.00      0.00      0.00         1\n",
            "          56       0.00      0.00      0.00         1\n",
            "          58       0.00      0.00      0.00         1\n",
            "          60       0.00      0.00      0.00         1\n",
            "          61       0.00      0.00      0.00         2\n",
            "          62       0.00      0.00      0.00         2\n",
            "          63       0.00      0.00      0.00         9\n",
            "          66       0.00      0.00      0.00         1\n",
            "          67       0.00      0.00      0.00         3\n",
            "          68       0.00      0.00      0.00         1\n",
            "          69       0.00      0.00      0.00         3\n",
            "          70       0.00      0.00      0.00        10\n",
            "          71       0.00      0.00      0.00         1\n",
            "          72       0.00      0.00      0.00         2\n",
            "          74       0.00      0.00      0.00         1\n",
            "          76       0.00      0.00      0.00         1\n",
            "          77       0.00      0.00      0.00         1\n",
            "          79       0.00      0.00      0.00         1\n",
            "          81       0.00      0.00      0.00         2\n",
            "          84       0.00      0.00      0.00         2\n",
            "          86       0.00      0.00      0.00         1\n",
            "          87       0.00      0.00      0.00         2\n",
            "          88       0.00      0.00      0.00         4\n",
            "          89       0.00      0.00      0.00         1\n",
            "          91       0.00      0.00      0.00         1\n",
            "          94       0.00      0.00      0.00         5\n",
            "          96       0.00      0.00      0.00         3\n",
            "          97       0.00      0.00      0.00         2\n",
            "         102       0.00      0.00      0.00         1\n",
            "         103       0.00      0.00      0.00         6\n",
            "         109       0.00      0.00      0.00         1\n",
            "         110       0.00      0.00      0.00         4\n",
            "         111       0.00      0.00      0.00         3\n",
            "         114       0.00      0.00      0.00         1\n",
            "         115       0.00      0.00      0.00         1\n",
            "         118       0.00      0.00      0.00         1\n",
            "         120       0.00      0.00      0.00         1\n",
            "         122       0.00      0.00      0.00         1\n",
            "         126       0.00      0.00      0.00         1\n",
            "         127       0.00      0.00      0.00         2\n",
            "         128       0.00      0.00      0.00         1\n",
            "         130       0.00      0.00      0.00         1\n",
            "\n",
            "    accuracy                           0.47     11283\n",
            "   macro avg       0.04      0.03      0.03     11283\n",
            "weighted avg       0.39      0.47      0.39     11283\n",
            "\n"
          ],
          "name": "stdout"
        },
        {
          "output_type": "stream",
          "text": [
            "/usr/local/lib/python3.7/dist-packages/sklearn/metrics/_classification.py:1272: UndefinedMetricWarning: Precision and F-score are ill-defined and being set to 0.0 in labels with no predicted samples. Use `zero_division` parameter to control this behavior.\n",
            "  _warn_prf(average, modifier, msg_start, len(result))\n"
          ],
          "name": "stderr"
        }
      ]
    },
    {
      "cell_type": "markdown",
      "metadata": {
        "id": "LxJFRbvxmxi-"
      },
      "source": [
        "# **Building the models with Support Vector Machine (SVM) Algorithm with gini index and information gain as criterion**"
      ]
    },
    {
      "cell_type": "code",
      "metadata": {
        "colab": {
          "base_uri": "https://localhost:8080/"
        },
        "id": "q8aB3uiA55vt",
        "outputId": "0475cf7e-9b82-4bb0-b624-493cd2b9f8d6"
      },
      "source": [
        "print('Building the models with Support Vector Machine (SVM) Algorithm')"
      ],
      "execution_count": null,
      "outputs": [
        {
          "output_type": "stream",
          "text": [
            "Building the models with Support Vector Machine (SVM) Algorithm\n"
          ],
          "name": "stdout"
        }
      ]
    },
    {
      "cell_type": "code",
      "metadata": {
        "colab": {
          "base_uri": "https://localhost:8080/"
        },
        "id": "sc_Apwdh6hBo",
        "outputId": "a3cbe43a-2e8f-400a-b4b3-046a920cf6f1"
      },
      "source": [
        "import sklearn\n",
        "from sklearn.svm import SVC\n",
        "print('imported Support Vector Machine (SVM) from sklearn package')"
      ],
      "execution_count": null,
      "outputs": [
        {
          "output_type": "stream",
          "text": [
            "imported Support Vector Machine (SVM) from sklearn package\n"
          ],
          "name": "stdout"
        }
      ]
    },
    {
      "cell_type": "code",
      "metadata": {
        "colab": {
          "base_uri": "https://localhost:8080/"
        },
        "id": "ShjBvsFc7B_C",
        "outputId": "f53c324d-4d94-4ba3-ca02-3e5a4f71ba1e"
      },
      "source": [
        "print('Now using Support Vector Machine (SVM) algorithm to build the model')\n",
        "#modelling the Support Vector Machine (SVM) classifier \n",
        "print('modelling the Support Vector Machine (SVM) classifier')\n",
        "Support_Vector_Machine_Classifier = SVC(kernel='sigmoid',gamma='auto',C=1.0)"
      ],
      "execution_count": null,
      "outputs": [
        {
          "output_type": "stream",
          "text": [
            "Now using Support Vector Machine (SVM) algorithm to build the model\n",
            "modelling the Support Vector Machine (SVM) classifier\n"
          ],
          "name": "stdout"
        }
      ]
    },
    {
      "cell_type": "markdown",
      "metadata": {
        "id": "5RQ0_vpenDHT"
      },
      "source": [
        "# **fitting the model with Support Vector Machine (SVM)**"
      ]
    },
    {
      "cell_type": "code",
      "metadata": {
        "colab": {
          "base_uri": "https://localhost:8080/"
        },
        "id": "3ObQSqGLnDV6",
        "outputId": "99d19337-6ffd-44c9-dcd0-1569771c6704"
      },
      "source": [
        "#now fitting the model with Support Vector Machine (SVM) for illustration\n",
        "print('now fitting the model with Support Vector Machine (SVM) Classifier ');\n",
        "start_training_time = time()\n",
        "Support_Vector_Machine_Classifier.fit(X_train, Y_train)\n",
        "end_training_time = time()\n",
        "print('Support Vector Machine (SVM) model training starts in {:4f} seconds'.format(start_training_time))\n",
        "print('Support Vector Machine (SVM) model training ends in {:4f} seconds'.format(end_training_time))\n",
        "print('Support Vector Machine (SVM) model trained in {:4f} seconds'.format(end_training_time - start_training_time))"
      ],
      "execution_count": null,
      "outputs": [
        {
          "output_type": "stream",
          "text": [
            "now fitting the model with Support Vector Machine (SVM) Classifier \n",
            "Support Vector Machine (SVM) model training starts in 1617967593.911355 seconds\n",
            "Support Vector Machine (SVM) model training ends in 1617967631.730485 seconds\n",
            "Support Vector Machine (SVM) model trained in 37.819130 seconds\n"
          ],
          "name": "stdout"
        }
      ]
    },
    {
      "cell_type": "markdown",
      "metadata": {
        "id": "KGQJUYyqnDg3"
      },
      "source": [
        "# **Predicting the Support Vector Machine (SVM) model**"
      ]
    },
    {
      "cell_type": "code",
      "metadata": {
        "id": "Un59SW5TnDpD",
        "colab": {
          "base_uri": "https://localhost:8080/"
        },
        "outputId": "a86d3c49-5911-4dd7-d956-546752c9ab8b"
      },
      "source": [
        "print('predicting the Support Vector Machine (SVM) model')\n",
        "start_prediction_time = time()\n",
        "Support_Vector_Machine_Classifier_predict = Support_Vector_Machine_Classifier.predict(X_test);\n",
        "end_prediction_time = time()\n",
        "print('Support Vector Machine (SVM) model prediction starts in {:4f} seconds'.format(start_prediction_time))\n",
        "print('Support Vector Machine (SVM) model prediction ends in {:4f} seconds'.format(end_prediction_time))\n",
        "print('Support Vector Machine (SVM) model predicted in {:4f} seconds'.format(end_prediction_time - start_prediction_time))"
      ],
      "execution_count": null,
      "outputs": [
        {
          "output_type": "stream",
          "text": [
            "predicting the Support Vector Machine (SVM) model\n",
            "Support Vector Machine (SVM) model prediction starts in 1617967631.744453 seconds\n",
            "Support Vector Machine (SVM) model prediction ends in 1617967716.338030 seconds\n",
            "Support Vector Machine (SVM) model predicted in 84.593577 seconds\n"
          ],
          "name": "stdout"
        }
      ]
    },
    {
      "cell_type": "markdown",
      "metadata": {
        "id": "S_R-7BdVnDyS"
      },
      "source": [
        "# **Creating the confusion matrix of Support Vector Machine (SVM) Algorithm models**"
      ]
    },
    {
      "cell_type": "code",
      "metadata": {
        "id": "JM6loASvnED1",
        "colab": {
          "base_uri": "https://localhost:8080/"
        },
        "outputId": "34aac73a-d442-4e6a-ef8d-5ef926b16700"
      },
      "source": [
        "print('after predicting now we create confusion matrix for the test and train set with predicted outcome using confusion matrix package from sklearn library \\n');\n",
        "print('\\nConfusion matrix for Support Vector Machine (SVM) Classifier information gain as criterion\\n',confusion_matrix(Y_test,Support_Vector_Machine_Classifier_predict))"
      ],
      "execution_count": null,
      "outputs": [
        {
          "output_type": "stream",
          "text": [
            "after predicting now we create confusion matrix for the test and train set with predicted outcome using confusion matrix package from sklearn library \n",
            "\n",
            "\n",
            "Confusion matrix for Support Vector Machine (SVM) Classifier information gain as criterion\n",
            " [[   0 1989    0 ...    0    0    0]\n",
            " [   0 3495    0 ...    0    0    0]\n",
            " [   0 2431    0 ...    0    0    0]\n",
            " ...\n",
            " [   0    2    0 ...    0    0    0]\n",
            " [   0    1    0 ...    0    0    0]\n",
            " [   0    1    0 ...    0    0    0]]\n"
          ],
          "name": "stdout"
        }
      ]
    },
    {
      "cell_type": "markdown",
      "metadata": {
        "id": "_Vekh87sAYQ3"
      },
      "source": [
        "# **finding the accuracy and error of prediction of given model using Support Vector Machine (SVM) Algorithm models**"
      ]
    },
    {
      "cell_type": "code",
      "metadata": {
        "id": "B0FlkT2cAZch",
        "colab": {
          "base_uri": "https://localhost:8080/"
        },
        "outputId": "3d3d7018-4dcc-479c-99db-c10148620b06"
      },
      "source": [
        "print('finding the accuracy of prediction of given model using Support Vector Machine (SVM) Classifier')\n",
        "Support_Vector_Machine_accuracy = accuracy_score(Y_test,Support_Vector_Machine_Classifier_predict, normalize = True)\n",
        "Support_Vector_Machine_error = 1-Support_Vector_Machine_accuracy  \n",
        "Support_Vector_Machine_precision_score = precision_score(Y_test,Support_Vector_Machine_Classifier_predict,average='weighted')\n",
        "Support_Vector_Machine_recall_score = recall_score(Y_test,Support_Vector_Machine_Classifier_predict,average='weighted')\n",
        "Support_Vector_Machine_f1_score = f1_score(Y_test,Support_Vector_Machine_Classifier_predict,average='weighted')                                                      \n",
        "print('\\n accuracy for decision tree classifier using criterion as information gain is : \\n',Support_Vector_Machine_accuracy*100,'%');\n",
        "print('\\n error rate for decision tree classifier using criterion as information gain is : \\n',Support_Vector_Machine_error*100,'%');\n",
        "print('\\n precision score for decision tree classifier using criterion as information gain is : \\n',Support_Vector_Machine_precision_score);\n",
        "print('\\n recall score for decision tree classifier using criterion as information gain is : \\n',Support_Vector_Machine_recall_score);\n",
        "print('\\n f1 score for decision tree classifier using criterion as information gain is : \\n',Support_Vector_Machine_f1_score);"
      ],
      "execution_count": null,
      "outputs": [
        {
          "output_type": "stream",
          "text": [
            "finding the accuracy of prediction of given model using Support Vector Machine (SVM) Classifier\n",
            "\n",
            " accuracy for decision tree classifier using criterion as information gain is : \n",
            " 30.975804307365063 %\n",
            "\n",
            " error rate for decision tree classifier using criterion as information gain is : \n",
            " 69.02419569263493 %\n",
            "\n",
            " precision score for decision tree classifier using criterion as information gain is : \n",
            " 0.0959500452488176\n",
            "\n",
            " recall score for decision tree classifier using criterion as information gain is : \n",
            " 0.3097580430736506\n",
            "\n",
            " f1 score for decision tree classifier using criterion as information gain is : \n",
            " 0.14651568013836905\n"
          ],
          "name": "stdout"
        },
        {
          "output_type": "stream",
          "text": [
            "/usr/local/lib/python3.7/dist-packages/sklearn/metrics/_classification.py:1272: UndefinedMetricWarning: Precision is ill-defined and being set to 0.0 in labels with no predicted samples. Use `zero_division` parameter to control this behavior.\n",
            "  _warn_prf(average, modifier, msg_start, len(result))\n"
          ],
          "name": "stderr"
        }
      ]
    },
    {
      "cell_type": "markdown",
      "metadata": {
        "id": "YFDj8RLiAYX5"
      },
      "source": [
        "# **Creating the evaluation report for support vector machine (svm) model**"
      ]
    },
    {
      "cell_type": "code",
      "metadata": {
        "id": "R5iOBfwEAZ93",
        "colab": {
          "base_uri": "https://localhost:8080/"
        },
        "outputId": "fe766de6-97f9-4897-852a-337b2fddf846"
      },
      "source": [
        "print('evaluation report for Support Vector Machine (SVM)\\n',classification_report(Y_test,Support_Vector_Machine_Classifier_predict))"
      ],
      "execution_count": null,
      "outputs": [
        {
          "output_type": "stream",
          "text": [
            "evaluation report for Support Vector Machine (SVM)\n",
            "               precision    recall  f1-score   support\n",
            "\n",
            "           1       0.00      0.00      0.00      1989\n",
            "           2       0.31      1.00      0.47      3495\n",
            "           3       0.00      0.00      0.00      2431\n",
            "           4       0.00      0.00      0.00       194\n",
            "           5       0.00      0.00      0.00       344\n",
            "           6       0.00      0.00      0.00       213\n",
            "           7       0.00      0.00      0.00       176\n",
            "           8       0.00      0.00      0.00       287\n",
            "           9       0.00      0.00      0.00       284\n",
            "          10       0.00      0.00      0.00       144\n",
            "          11       0.00      0.00      0.00        74\n",
            "          12       0.00      0.00      0.00       177\n",
            "          13       0.00      0.00      0.00       187\n",
            "          14       0.00      0.00      0.00        45\n",
            "          15       0.00      0.00      0.00       103\n",
            "          16       0.00      0.00      0.00         5\n",
            "          17       0.00      0.00      0.00         1\n",
            "          18       0.00      0.00      0.00       282\n",
            "          19       0.00      0.00      0.00         2\n",
            "          20       0.00      0.00      0.00        12\n",
            "          21       0.00      0.00      0.00         1\n",
            "          22       0.00      0.00      0.00       152\n",
            "          23       0.00      0.00      0.00         1\n",
            "          24       0.00      0.00      0.00         3\n",
            "          25       0.00      0.00      0.00         6\n",
            "          26       0.00      0.00      0.00       144\n",
            "          27       0.00      0.00      0.00       159\n",
            "          28       0.00      0.00      0.00        10\n",
            "          29       0.00      0.00      0.00        26\n",
            "          30       0.00      0.00      0.00        47\n",
            "          31       0.00      0.00      0.00        20\n",
            "          32       0.00      0.00      0.00         7\n",
            "          33       0.00      0.00      0.00        34\n",
            "          35       0.00      0.00      0.00        13\n",
            "          36       0.00      0.00      0.00         1\n",
            "          37       0.00      0.00      0.00        13\n",
            "          38       0.00      0.00      0.00        14\n",
            "          39       0.00      0.00      0.00        10\n",
            "          40       0.00      0.00      0.00         5\n",
            "          41       0.00      0.00      0.00        11\n",
            "          42       0.00      0.00      0.00        13\n",
            "          43       0.00      0.00      0.00         7\n",
            "          45       0.00      0.00      0.00         2\n",
            "          46       0.00      0.00      0.00        12\n",
            "          47       0.00      0.00      0.00        10\n",
            "          49       0.00      0.00      0.00        14\n",
            "          50       0.00      0.00      0.00         2\n",
            "          51       0.00      0.00      0.00        10\n",
            "          53       0.00      0.00      0.00         1\n",
            "          55       0.00      0.00      0.00         1\n",
            "          56       0.00      0.00      0.00         1\n",
            "          58       0.00      0.00      0.00         1\n",
            "          60       0.00      0.00      0.00         1\n",
            "          61       0.00      0.00      0.00         2\n",
            "          62       0.00      0.00      0.00         2\n",
            "          63       0.00      0.00      0.00         9\n",
            "          66       0.00      0.00      0.00         1\n",
            "          67       0.00      0.00      0.00         3\n",
            "          68       0.00      0.00      0.00         1\n",
            "          69       0.00      0.00      0.00         3\n",
            "          70       0.00      0.00      0.00        10\n",
            "          71       0.00      0.00      0.00         1\n",
            "          72       0.00      0.00      0.00         2\n",
            "          74       0.00      0.00      0.00         1\n",
            "          76       0.00      0.00      0.00         1\n",
            "          77       0.00      0.00      0.00         1\n",
            "          79       0.00      0.00      0.00         1\n",
            "          81       0.00      0.00      0.00         2\n",
            "          84       0.00      0.00      0.00         2\n",
            "          86       0.00      0.00      0.00         1\n",
            "          87       0.00      0.00      0.00         2\n",
            "          88       0.00      0.00      0.00         4\n",
            "          89       0.00      0.00      0.00         1\n",
            "          91       0.00      0.00      0.00         1\n",
            "          94       0.00      0.00      0.00         5\n",
            "          96       0.00      0.00      0.00         3\n",
            "          97       0.00      0.00      0.00         2\n",
            "         102       0.00      0.00      0.00         1\n",
            "         103       0.00      0.00      0.00         6\n",
            "         109       0.00      0.00      0.00         1\n",
            "         110       0.00      0.00      0.00         4\n",
            "         111       0.00      0.00      0.00         3\n",
            "         114       0.00      0.00      0.00         1\n",
            "         115       0.00      0.00      0.00         1\n",
            "         118       0.00      0.00      0.00         1\n",
            "         120       0.00      0.00      0.00         1\n",
            "         122       0.00      0.00      0.00         1\n",
            "         126       0.00      0.00      0.00         1\n",
            "         127       0.00      0.00      0.00         2\n",
            "         128       0.00      0.00      0.00         1\n",
            "         130       0.00      0.00      0.00         1\n",
            "\n",
            "    accuracy                           0.31     11283\n",
            "   macro avg       0.00      0.01      0.01     11283\n",
            "weighted avg       0.10      0.31      0.15     11283\n",
            "\n"
          ],
          "name": "stdout"
        },
        {
          "output_type": "stream",
          "text": [
            "/usr/local/lib/python3.7/dist-packages/sklearn/metrics/_classification.py:1272: UndefinedMetricWarning: Precision and F-score are ill-defined and being set to 0.0 in labels with no predicted samples. Use `zero_division` parameter to control this behavior.\n",
            "  _warn_prf(average, modifier, msg_start, len(result))\n"
          ],
          "name": "stderr"
        }
      ]
    },
    {
      "cell_type": "markdown",
      "metadata": {
        "id": "02HV3cIzm-hF"
      },
      "source": [
        "# **Building the models with Random Forest Algorithm**"
      ]
    },
    {
      "cell_type": "code",
      "metadata": {
        "id": "DYY8S5d4nFLe",
        "colab": {
          "base_uri": "https://localhost:8080/"
        },
        "outputId": "7ed08f3a-7bdb-4442-98f4-dcea78e5373d"
      },
      "source": [
        "print('Building the models with Random Forest Algorithm')"
      ],
      "execution_count": null,
      "outputs": [
        {
          "output_type": "stream",
          "text": [
            "Building the models with Random Forest Algorithm\n"
          ],
          "name": "stdout"
        }
      ]
    },
    {
      "cell_type": "code",
      "metadata": {
        "id": "wnRX_bbCEbiG",
        "colab": {
          "base_uri": "https://localhost:8080/"
        },
        "outputId": "9350b0b1-c716-4036-cf8c-a3a17694abc7"
      },
      "source": [
        "import sklearn\n",
        "from sklearn.ensemble import RandomForestClassifier\n",
        "print('imported RandomForestClassifier from ensemble of sklearn package')"
      ],
      "execution_count": null,
      "outputs": [
        {
          "output_type": "stream",
          "text": [
            "imported RandomForestClassifier from ensemble of sklearn package\n"
          ],
          "name": "stdout"
        }
      ]
    },
    {
      "cell_type": "code",
      "metadata": {
        "id": "y8BmMT61E4U8",
        "colab": {
          "base_uri": "https://localhost:8080/"
        },
        "outputId": "b52d4a87-452f-46e8-a2b8-0ea35619ede2"
      },
      "source": [
        "print('Now using Random Forest algorithm to build the model')\n",
        "#modelling the Random Forest classifier \n",
        "print('modelling the Random Forest classifier classifier')\n",
        "Random_Forest_Classifier = RandomForestClassifier()"
      ],
      "execution_count": null,
      "outputs": [
        {
          "output_type": "stream",
          "text": [
            "Now using Random Forest algorithm to build the model\n",
            "modelling the Random Forest classifier classifier\n"
          ],
          "name": "stdout"
        }
      ]
    },
    {
      "cell_type": "markdown",
      "metadata": {
        "id": "uVkMmRSQnFTP"
      },
      "source": [
        "# **fitting the model with Random Forest**"
      ]
    },
    {
      "cell_type": "code",
      "metadata": {
        "id": "R_MAuyubnFbn",
        "colab": {
          "base_uri": "https://localhost:8080/"
        },
        "outputId": "15594565-0c4c-459a-e2cd-9e181b758ce8"
      },
      "source": [
        "#now fitting the model with Random Forest Classifier for illustration\n",
        "print('now fitting the model with Random Forest Classifier ');\n",
        "start_training_time = time()\n",
        "Random_Forest_Classifier.fit(X_train, Y_train)\n",
        "end_training_time = time()\n",
        "print('Random Forest model training starts in {:4f} seconds'.format(start_training_time))\n",
        "print('Random Forest model training ends in {:4f} seconds'.format(end_training_time))\n",
        "print('Random Forest model trained in {:4f} seconds'.format(end_training_time - start_training_time))"
      ],
      "execution_count": null,
      "outputs": [
        {
          "output_type": "stream",
          "text": [
            "now fitting the model with Random Forest Classifier \n",
            "Random Forest model training starts in 1617967716.503580 seconds\n",
            "Random Forest model training ends in 1617967736.566659 seconds\n",
            "Random Forest model trained in 20.063079 seconds\n"
          ],
          "name": "stdout"
        }
      ]
    },
    {
      "cell_type": "markdown",
      "metadata": {
        "id": "MgP_ZHKKnFiK"
      },
      "source": [
        "# **Predicting the Random Forest model**"
      ]
    },
    {
      "cell_type": "code",
      "metadata": {
        "id": "ZqUudO9fnFp0",
        "colab": {
          "base_uri": "https://localhost:8080/"
        },
        "outputId": "a232a689-bc5b-415f-ca82-ffe282ad7c53"
      },
      "source": [
        "print('predicting the Support Vector Machine (SVM) model')\n",
        "start_prediction_time = time()\n",
        "Random_Forest_Classifier_predict = Random_Forest_Classifier.predict(X_test);\n",
        "end_prediction_time = time()\n",
        "print('Support Vector Machine (SVM) model prediction starts in {:4f} seconds'.format(start_prediction_time))\n",
        "print('Support Vector Machine (SVM) model prediction ends in {:4f} seconds'.format(end_prediction_time))\n",
        "print('Support Vector Machine (SVM) model predicted in {:4f} seconds'.format(end_prediction_time - start_prediction_time))"
      ],
      "execution_count": null,
      "outputs": [
        {
          "output_type": "stream",
          "text": [
            "predicting the Support Vector Machine (SVM) model\n",
            "Support Vector Machine (SVM) model prediction starts in 1617967736.583121 seconds\n",
            "Support Vector Machine (SVM) model prediction ends in 1617967737.986372 seconds\n",
            "Support Vector Machine (SVM) model predicted in 1.403251 seconds\n"
          ],
          "name": "stdout"
        }
      ]
    },
    {
      "cell_type": "markdown",
      "metadata": {
        "id": "dcGzQbw3nFwI"
      },
      "source": [
        "# **Creating the confusion matrix of Random Forest Algorithm models**"
      ]
    },
    {
      "cell_type": "code",
      "metadata": {
        "id": "YkIk3yVvnF4e",
        "colab": {
          "base_uri": "https://localhost:8080/"
        },
        "outputId": "ca7471bf-5c21-4f41-fdda-6399504659b1"
      },
      "source": [
        "print('after predicting now we create confusion matrix for the test and train set with predicted outcome using confusion matrix package from sklearn library \\n');\n",
        "print('\\nConfusion matrix for Random Forest Classifier\\n',confusion_matrix(Y_test,Random_Forest_Classifier_predict))"
      ],
      "execution_count": null,
      "outputs": [
        {
          "output_type": "stream",
          "text": [
            "after predicting now we create confusion matrix for the test and train set with predicted outcome using confusion matrix package from sklearn library \n",
            "\n",
            "\n",
            "Confusion matrix for Random Forest Classifier\n",
            " [[1578  165   65 ...    0    0    0]\n",
            " [  98 1659 1413 ...    0    0    0]\n",
            " [  49 1528  474 ...    0    0    0]\n",
            " ...\n",
            " [   0    0    0 ...    0    0    0]\n",
            " [   0    0    0 ...    0    0    0]\n",
            " [   0    0    0 ...    0    0    0]]\n"
          ],
          "name": "stdout"
        }
      ]
    },
    {
      "cell_type": "markdown",
      "metadata": {
        "id": "E0zAfqqfHZ03"
      },
      "source": [
        "# **finding the accuracy and error of prediction of given model using Random Forest Algorithm models**"
      ]
    },
    {
      "cell_type": "code",
      "metadata": {
        "id": "1DH1YteZHaA7",
        "colab": {
          "base_uri": "https://localhost:8080/"
        },
        "outputId": "28073924-3cbb-4883-d838-2b5834796105"
      },
      "source": [
        "print('finding the accuracy of prediction of given model using Random Forest Classifier')\n",
        "Random_Forest_accuracy = accuracy_score(Y_test,Random_Forest_Classifier_predict, normalize = True)\n",
        "Random_Forest_error = 1-Random_Forest_accuracy\n",
        "Random_Forest_precision_score = precision_score(Y_test,Random_Forest_Classifier_predict,average='weighted')\n",
        "Random_Forest_recall_score = recall_score(Y_test,Random_Forest_Classifier_predict,average='weighted')\n",
        "Random_Forest_f1_score = f1_score(Y_test,Random_Forest_Classifier_predict,average='weighted')                                                        \n",
        "print('\\n accuracy for decision tree classifier using criterion as information gain is : \\n',Random_Forest_accuracy*100,'%');\n",
        "print('\\n error rate for decision tree classifier using criterion as information gain is : \\n',Random_Forest_error*100,'%');\n",
        "print('\\n precision score for decision tree classifier using criterion as information gain is : \\n',Random_Forest_precision_score);\n",
        "print('\\n recall score for decision tree classifier using criterion as information gain is : \\n',Random_Forest_recall_score);\n",
        "print('\\n f1 score for decision tree classifier using criterion as information gain is : \\n',Random_Forest_f1_score);"
      ],
      "execution_count": null,
      "outputs": [
        {
          "output_type": "stream",
          "text": [
            "finding the accuracy of prediction of given model using Random Forest Classifier\n",
            "\n",
            " accuracy for decision tree classifier using criterion as information gain is : \n",
            " 36.5416999025082 %\n",
            "\n",
            " error rate for decision tree classifier using criterion as information gain is : \n",
            " 63.4583000974918 %\n",
            "\n",
            " precision score for decision tree classifier using criterion as information gain is : \n",
            " 0.3504994797385758\n",
            "\n",
            " recall score for decision tree classifier using criterion as information gain is : \n",
            " 0.36541699902508196\n",
            "\n",
            " f1 score for decision tree classifier using criterion as information gain is : \n",
            " 0.3569009494041998\n"
          ],
          "name": "stdout"
        },
        {
          "output_type": "stream",
          "text": [
            "/usr/local/lib/python3.7/dist-packages/sklearn/metrics/_classification.py:1272: UndefinedMetricWarning: Precision is ill-defined and being set to 0.0 in labels with no predicted samples. Use `zero_division` parameter to control this behavior.\n",
            "  _warn_prf(average, modifier, msg_start, len(result))\n",
            "/usr/local/lib/python3.7/dist-packages/sklearn/metrics/_classification.py:1272: UndefinedMetricWarning: Recall is ill-defined and being set to 0.0 in labels with no true samples. Use `zero_division` parameter to control this behavior.\n",
            "  _warn_prf(average, modifier, msg_start, len(result))\n"
          ],
          "name": "stderr"
        }
      ]
    },
    {
      "cell_type": "markdown",
      "metadata": {
        "id": "x-pu2oxrHa5W"
      },
      "source": [
        "# **Creating the evaluation report for Random Forest model**"
      ]
    },
    {
      "cell_type": "code",
      "metadata": {
        "id": "SBuwUGrqHbGb",
        "colab": {
          "base_uri": "https://localhost:8080/"
        },
        "outputId": "49489a1e-37c3-4bc9-a875-172d26a6c53b"
      },
      "source": [
        "print('evaluation report for Random Forest \\n',classification_report(Y_test,Random_Forest_Classifier_predict))"
      ],
      "execution_count": null,
      "outputs": [
        {
          "output_type": "stream",
          "text": [
            "evaluation report for Random Forest \n",
            "               precision    recall  f1-score   support\n",
            "\n",
            "           1       0.79      0.79      0.79      1989\n",
            "           2       0.43      0.47      0.45      3495\n",
            "           3       0.19      0.19      0.19      2431\n",
            "           4       0.08      0.07      0.08       194\n",
            "           5       0.10      0.06      0.08       344\n",
            "           6       0.15      0.16      0.16       213\n",
            "           7       0.05      0.04      0.05       176\n",
            "           8       0.28      0.36      0.32       287\n",
            "           9       0.21      0.24      0.22       284\n",
            "          10       0.20      0.19      0.20       144\n",
            "          11       0.15      0.08      0.11        74\n",
            "          12       0.14      0.13      0.14       177\n",
            "          13       0.14      0.17      0.16       187\n",
            "          14       0.10      0.09      0.09        45\n",
            "          15       0.12      0.11      0.11       103\n",
            "          16       0.00      0.00      0.00         5\n",
            "          17       0.00      0.00      0.00         1\n",
            "          18       0.09      0.07      0.08       282\n",
            "          19       0.00      0.00      0.00         2\n",
            "          20       0.00      0.00      0.00        12\n",
            "          21       0.00      0.00      0.00         1\n",
            "          22       0.11      0.07      0.08       152\n",
            "          23       0.00      0.00      0.00         1\n",
            "          24       0.00      0.00      0.00         3\n",
            "          25       0.00      0.00      0.00         6\n",
            "          26       0.05      0.03      0.04       144\n",
            "          27       0.09      0.09      0.09       159\n",
            "          28       0.00      0.00      0.00        10\n",
            "          29       0.05      0.04      0.04        26\n",
            "          30       0.06      0.02      0.03        47\n",
            "          31       0.00      0.00      0.00        20\n",
            "          32       0.00      0.00      0.00         7\n",
            "          33       0.14      0.09      0.11        34\n",
            "          35       0.00      0.00      0.00        13\n",
            "          36       0.00      0.00      0.00         1\n",
            "          37       0.17      0.15      0.16        13\n",
            "          38       0.12      0.07      0.09        14\n",
            "          39       0.00      0.00      0.00        10\n",
            "          40       0.00      0.00      0.00         5\n",
            "          41       0.00      0.00      0.00        11\n",
            "          42       0.00      0.00      0.00        13\n",
            "          43       0.00      0.00      0.00         7\n",
            "          44       0.00      0.00      0.00         0\n",
            "          45       0.00      0.00      0.00         2\n",
            "          46       0.17      0.08      0.11        12\n",
            "          47       0.00      0.00      0.00        10\n",
            "          48       0.00      0.00      0.00         0\n",
            "          49       0.00      0.00      0.00        14\n",
            "          50       0.00      0.00      0.00         2\n",
            "          51       0.17      0.10      0.12        10\n",
            "          52       0.00      0.00      0.00         0\n",
            "          53       0.00      0.00      0.00         1\n",
            "          54       0.00      0.00      0.00         0\n",
            "          55       0.00      0.00      0.00         1\n",
            "          56       0.00      0.00      0.00         1\n",
            "          57       0.00      0.00      0.00         0\n",
            "          58       0.00      0.00      0.00         1\n",
            "          59       0.00      0.00      0.00         0\n",
            "          60       0.00      0.00      0.00         1\n",
            "          61       0.00      0.00      0.00         2\n",
            "          62       0.00      0.00      0.00         2\n",
            "          63       0.00      0.00      0.00         9\n",
            "          65       0.00      0.00      0.00         0\n",
            "          66       0.00      0.00      0.00         1\n",
            "          67       0.00      0.00      0.00         3\n",
            "          68       0.00      0.00      0.00         1\n",
            "          69       1.00      0.33      0.50         3\n",
            "          70       0.00      0.00      0.00        10\n",
            "          71       0.00      0.00      0.00         1\n",
            "          72       0.00      0.00      0.00         2\n",
            "          74       0.00      0.00      0.00         1\n",
            "          75       0.00      0.00      0.00         0\n",
            "          76       0.00      0.00      0.00         1\n",
            "          77       0.00      0.00      0.00         1\n",
            "          78       0.00      0.00      0.00         0\n",
            "          79       0.00      0.00      0.00         1\n",
            "          81       0.00      0.00      0.00         2\n",
            "          82       0.00      0.00      0.00         0\n",
            "          84       0.00      0.00      0.00         2\n",
            "          86       0.00      0.00      0.00         1\n",
            "          87       0.50      0.50      0.50         2\n",
            "          88       0.00      0.00      0.00         4\n",
            "          89       0.00      0.00      0.00         1\n",
            "          91       0.00      0.00      0.00         1\n",
            "          94       0.00      0.00      0.00         5\n",
            "          96       0.00      0.00      0.00         3\n",
            "          97       0.00      0.00      0.00         2\n",
            "          98       0.00      0.00      0.00         0\n",
            "         100       0.00      0.00      0.00         0\n",
            "         102       0.00      0.00      0.00         1\n",
            "         103       0.00      0.00      0.00         6\n",
            "         108       0.00      0.00      0.00         0\n",
            "         109       0.00      0.00      0.00         1\n",
            "         110       0.00      0.00      0.00         4\n",
            "         111       0.00      0.00      0.00         3\n",
            "         114       0.00      0.00      0.00         1\n",
            "         115       0.00      0.00      0.00         1\n",
            "         116       0.00      0.00      0.00         0\n",
            "         118       0.00      0.00      0.00         1\n",
            "         120       0.00      0.00      0.00         1\n",
            "         122       0.00      0.00      0.00         1\n",
            "         126       0.00      0.00      0.00         1\n",
            "         127       0.00      0.00      0.00         2\n",
            "         128       0.00      0.00      0.00         1\n",
            "         130       0.00      0.00      0.00         1\n",
            "         132       0.00      0.00      0.00         0\n",
            "         133       0.00      0.00      0.00         0\n",
            "         135       0.00      0.00      0.00         0\n",
            "\n",
            "    accuracy                           0.37     11283\n",
            "   macro avg       0.05      0.04      0.05     11283\n",
            "weighted avg       0.35      0.37      0.36     11283\n",
            "\n"
          ],
          "name": "stdout"
        },
        {
          "output_type": "stream",
          "text": [
            "/usr/local/lib/python3.7/dist-packages/sklearn/metrics/_classification.py:1272: UndefinedMetricWarning: Precision and F-score are ill-defined and being set to 0.0 in labels with no predicted samples. Use `zero_division` parameter to control this behavior.\n",
            "  _warn_prf(average, modifier, msg_start, len(result))\n",
            "/usr/local/lib/python3.7/dist-packages/sklearn/metrics/_classification.py:1272: UndefinedMetricWarning: Recall and F-score are ill-defined and being set to 0.0 in labels with no true samples. Use `zero_division` parameter to control this behavior.\n",
            "  _warn_prf(average, modifier, msg_start, len(result))\n"
          ],
          "name": "stderr"
        }
      ]
    },
    {
      "cell_type": "markdown",
      "metadata": {
        "id": "QHJ56l70adrP"
      },
      "source": [
        "# **Building the models with Adaboost Algorithm**\n",
        "Adaboost can be used to boost the performance of any machine learning algorithm. It is one of the esemble method that is used with weak learners. These are the models that achieve accuracy just above random of classification problems.\n",
        "\n"
      ]
    },
    {
      "cell_type": "code",
      "metadata": {
        "colab": {
          "base_uri": "https://localhost:8080/"
        },
        "id": "ACc_CXf-as7g",
        "outputId": "1c17ec4b-5df9-4ca3-8f06-ca3fd2aef493"
      },
      "source": [
        "print('Building the models with Adaboost Algorithm')"
      ],
      "execution_count": null,
      "outputs": [
        {
          "output_type": "stream",
          "text": [
            "Building the models with Adaboost Algorithm\n"
          ],
          "name": "stdout"
        }
      ]
    },
    {
      "cell_type": "code",
      "metadata": {
        "id": "XolcNvluQs2N",
        "colab": {
          "base_uri": "https://localhost:8080/"
        },
        "outputId": "3dc51df6-f588-4a61-eda3-7f0d902b4779"
      },
      "source": [
        "import sklearn\n",
        "from sklearn.ensemble import AdaBoostClassifier\n",
        "print('imported Adaboost Classifier from ensemble of sklearn package')"
      ],
      "execution_count": null,
      "outputs": [
        {
          "output_type": "stream",
          "text": [
            "imported Adaboost Classifier from ensemble of sklearn package\n"
          ],
          "name": "stdout"
        }
      ]
    },
    {
      "cell_type": "code",
      "metadata": {
        "id": "9iJ1uPvvUnjc",
        "colab": {
          "base_uri": "https://localhost:8080/"
        },
        "outputId": "94ee7b4e-e752-4e3d-a825-0a747ba514f2"
      },
      "source": [
        "print('Now using Adaboost algorithm to build the model')\n",
        "#modelling the Adaboost classifier \n",
        "print('modelling the Adaboost classifier')\n",
        "Adaboost_Classifier = AdaBoostClassifier(n_estimators=100,base_estimator=None,learning_rate=1,random_state=1)"
      ],
      "execution_count": null,
      "outputs": [
        {
          "output_type": "stream",
          "text": [
            "Now using Adaboost algorithm to build the model\n",
            "modelling the Adaboost classifier\n"
          ],
          "name": "stdout"
        }
      ]
    },
    {
      "cell_type": "markdown",
      "metadata": {
        "id": "cCt0bsIwcNoI"
      },
      "source": [
        "# **fitting the model with Adaboost**"
      ]
    },
    {
      "cell_type": "code",
      "metadata": {
        "colab": {
          "base_uri": "https://localhost:8080/"
        },
        "id": "CcQAoy8ucddA",
        "outputId": "059c355d-54d4-49f1-bedc-df2f06d31334"
      },
      "source": [
        "#now fitting the model with Adaboost Classifier for illustration\n",
        "print('now fitting the model with Adaboost Classifier ');\n",
        "start_training_time = time()\n",
        "Adaboost_Classifier.fit(X_train, Y_train)\n",
        "end_training_time = time()\n",
        "print('Adaboost Classifier model training starts in {:4f} seconds'.format(start_training_time))\n",
        "print('Adaboost Classifier model training ends in {:4f} seconds'.format(end_training_time))\n",
        "print('Adaboost Classifier model trained in {:4f} seconds'.format(end_training_time - start_training_time))"
      ],
      "execution_count": null,
      "outputs": [
        {
          "output_type": "stream",
          "text": [
            "now fitting the model with Adaboost Classifier \n",
            "Adaboost Classifier model training starts in 1617967738.195516 seconds\n",
            "Adaboost Classifier model training ends in 1617967758.193836 seconds\n",
            "Adaboost Classifier model trained in 19.998321 seconds\n"
          ],
          "name": "stdout"
        }
      ]
    },
    {
      "cell_type": "markdown",
      "metadata": {
        "id": "_JmcMMBNckDA"
      },
      "source": [
        "# **Predicting the Adaboost model**"
      ]
    },
    {
      "cell_type": "code",
      "metadata": {
        "colab": {
          "base_uri": "https://localhost:8080/"
        },
        "id": "gC0ZzyXkc3OA",
        "outputId": "80e2e593-d2f5-426b-fee8-1ce2011f4aaa"
      },
      "source": [
        "print('predicting the Adaboost model')\n",
        "start_prediction_time = time()\n",
        "Adaboost_Classifier_predict = Adaboost_Classifier.predict(X_test);\n",
        "end_prediction_time = time()\n",
        "print('Adaboost Classifier model prediction starts in {:4f} seconds'.format(start_prediction_time))\n",
        "print('Adaboost Classifier model prediction ends in {:4f} seconds'.format(end_prediction_time))\n",
        "print('Adaboost Classifier model predicted in {:4f} seconds'.format(end_prediction_time - start_prediction_time))"
      ],
      "execution_count": null,
      "outputs": [
        {
          "output_type": "stream",
          "text": [
            "predicting the Adaboost model\n",
            "Adaboost Classifier model prediction starts in 1617967758.207880 seconds\n",
            "Adaboost Classifier model prediction ends in 1617967763.122654 seconds\n",
            "Adaboost Classifier model predicted in 4.914774 seconds\n"
          ],
          "name": "stdout"
        }
      ]
    },
    {
      "cell_type": "markdown",
      "metadata": {
        "id": "-K9OH0ADc8dB"
      },
      "source": [
        "# **Creating the confusion matrix of Adaboost Algorithm models**"
      ]
    },
    {
      "cell_type": "code",
      "metadata": {
        "colab": {
          "base_uri": "https://localhost:8080/"
        },
        "id": "iHV2Wi22dGTu",
        "outputId": "b22dbfb5-0504-4c2b-bb1b-f47dfd7427cd"
      },
      "source": [
        "print('after predicting now we create confusion matrix for the test and train set with predicted outcome using confusion matrix package from sklearn library \\n');\n",
        "print('\\nConfusion matrix for Adaboost Classifier\\n',confusion_matrix(Y_test,Adaboost_Classifier_predict))"
      ],
      "execution_count": null,
      "outputs": [
        {
          "output_type": "stream",
          "text": [
            "after predicting now we create confusion matrix for the test and train set with predicted outcome using confusion matrix package from sklearn library \n",
            "\n",
            "\n",
            "Confusion matrix for Adaboost Classifier\n",
            " [[1343  643    0 ...    0    0    0]\n",
            " [  35 3460    0 ...    0    0    0]\n",
            " [  36 2395    0 ...    0    0    0]\n",
            " ...\n",
            " [   1    1    0 ...    0    0    0]\n",
            " [   0    1    0 ...    0    0    0]\n",
            " [   0    1    0 ...    0    0    0]]\n"
          ],
          "name": "stdout"
        }
      ]
    },
    {
      "cell_type": "markdown",
      "metadata": {
        "id": "5CzcItWpdQAO"
      },
      "source": [
        "# **finding the accuracy and error of prediction of given model using Adaboost Algorithm models**"
      ]
    },
    {
      "cell_type": "code",
      "metadata": {
        "colab": {
          "base_uri": "https://localhost:8080/"
        },
        "id": "Z9fu59rXdZK6",
        "outputId": "46eaad8c-b977-4701-825c-2e9eb3ca374f"
      },
      "source": [
        "print('finding the accuracy of prediction of given model using Adaboost Classifier')\n",
        "Adaboost_Classifier_accuracy = accuracy_score(Y_test,Adaboost_Classifier_predict, normalize = True)\n",
        "Adaboost_Classifier_error = 1-Adaboost_Classifier_accuracy\n",
        "Adaboost_Classifier_precision_score = precision_score(Y_test,Adaboost_Classifier_predict,average='weighted')\n",
        "Adaboost_Classifier_recall_score = recall_score(Y_test,Adaboost_Classifier_predict,average='weighted')\n",
        "Adaboost_Classifier_f1_score = f1_score(Y_test,Adaboost_Classifier_predict,average='weighted')                                                        \n",
        "print('\\n accuracy for Adaboost Classifier is : \\n',Adaboost_Classifier_accuracy*100,'%');\n",
        "print('\\n error rate for Adaboost Classifier is : \\n',Adaboost_Classifier_error*100,'%');\n",
        "print('\\n precision score for Adaboost Classifier is : \\n',Adaboost_Classifier_precision_score);\n",
        "print('\\n recall score for Adaboost Classifier is : \\n',Adaboost_Classifier_recall_score);\n",
        "print('\\n f1 score for Adaboost Classifier is : \\n',Adaboost_Classifier_f1_score);"
      ],
      "execution_count": null,
      "outputs": [
        {
          "output_type": "stream",
          "text": [
            "finding the accuracy of prediction of given model using Adaboost Classifier\n",
            "\n",
            " accuracy for Adaboost Classifier is : \n",
            " 42.60391739785518 %\n",
            "\n",
            " error rate for Adaboost Classifier is : \n",
            " 57.396082602144816 %\n",
            "\n",
            " precision score for Adaboost Classifier is : \n",
            " 0.25526897410663635\n",
            "\n",
            " recall score for Adaboost Classifier is : \n",
            " 0.4260391739785518\n",
            "\n",
            " f1 score for Adaboost Classifier is : \n",
            " 0.2928209223451246\n"
          ],
          "name": "stdout"
        },
        {
          "output_type": "stream",
          "text": [
            "/usr/local/lib/python3.7/dist-packages/sklearn/metrics/_classification.py:1272: UndefinedMetricWarning: Precision is ill-defined and being set to 0.0 in labels with no predicted samples. Use `zero_division` parameter to control this behavior.\n",
            "  _warn_prf(average, modifier, msg_start, len(result))\n"
          ],
          "name": "stderr"
        }
      ]
    },
    {
      "cell_type": "markdown",
      "metadata": {
        "id": "UJ7QBZMtdyMY"
      },
      "source": [
        "# **Creating the evaluation report for Linear Regression model**"
      ]
    },
    {
      "cell_type": "code",
      "metadata": {
        "colab": {
          "base_uri": "https://localhost:8080/"
        },
        "id": "4kR6lBHEd-Mk",
        "outputId": "65d62416-06aa-4d6c-8561-0112c37c2c5a"
      },
      "source": [
        "print('evaluation report for Adaboost_Classifier \\n',classification_report(Y_test,Adaboost_Classifier_predict))"
      ],
      "execution_count": null,
      "outputs": [
        {
          "output_type": "stream",
          "text": [
            "evaluation report for Adaboost_Classifier \n",
            "               precision    recall  f1-score   support\n",
            "\n",
            "           1       0.78      0.68      0.72      1989\n",
            "           2       0.36      0.99      0.53      3495\n",
            "           3       0.00      0.00      0.00      2431\n",
            "           4       0.00      0.00      0.00       194\n",
            "           5       0.00      0.00      0.00       344\n",
            "           6       0.00      0.00      0.00       213\n",
            "           7       0.00      0.00      0.00       176\n",
            "           8       0.20      0.01      0.03       287\n",
            "           9       0.00      0.00      0.00       284\n",
            "          10       0.00      0.00      0.00       144\n",
            "          11       0.00      0.00      0.00        74\n",
            "          12       0.00      0.00      0.00       177\n",
            "          13       0.00      0.00      0.00       187\n",
            "          14       0.00      0.00      0.00        45\n",
            "          15       0.00      0.00      0.00       103\n",
            "          16       0.00      0.00      0.00         5\n",
            "          17       0.00      0.00      0.00         1\n",
            "          18       0.00      0.00      0.00       282\n",
            "          19       0.00      0.00      0.00         2\n",
            "          20       0.00      0.00      0.00        12\n",
            "          21       0.00      0.00      0.00         1\n",
            "          22       0.00      0.00      0.00       152\n",
            "          23       0.00      0.00      0.00         1\n",
            "          24       0.00      0.00      0.00         3\n",
            "          25       0.00      0.00      0.00         6\n",
            "          26       0.00      0.00      0.00       144\n",
            "          27       0.00      0.00      0.00       159\n",
            "          28       0.00      0.00      0.00        10\n",
            "          29       0.00      0.00      0.00        26\n",
            "          30       0.00      0.00      0.00        47\n",
            "          31       0.00      0.00      0.00        20\n",
            "          32       0.00      0.00      0.00         7\n",
            "          33       0.00      0.00      0.00        34\n",
            "          35       0.00      0.00      0.00        13\n",
            "          36       0.00      0.00      0.00         1\n",
            "          37       0.00      0.00      0.00        13\n",
            "          38       0.00      0.00      0.00        14\n",
            "          39       0.00      0.00      0.00        10\n",
            "          40       0.00      0.00      0.00         5\n",
            "          41       0.00      0.00      0.00        11\n",
            "          42       0.00      0.00      0.00        13\n",
            "          43       0.00      0.00      0.00         7\n",
            "          45       0.00      0.00      0.00         2\n",
            "          46       0.00      0.00      0.00        12\n",
            "          47       0.00      0.00      0.00        10\n",
            "          49       0.00      0.00      0.00        14\n",
            "          50       0.00      0.00      0.00         2\n",
            "          51       0.00      0.00      0.00        10\n",
            "          53       0.00      0.00      0.00         1\n",
            "          55       0.00      0.00      0.00         1\n",
            "          56       0.00      0.00      0.00         1\n",
            "          58       0.00      0.00      0.00         1\n",
            "          60       0.00      0.00      0.00         1\n",
            "          61       0.00      0.00      0.00         2\n",
            "          62       0.00      0.00      0.00         2\n",
            "          63       0.00      0.00      0.00         9\n",
            "          66       0.00      0.00      0.00         1\n",
            "          67       0.00      0.00      0.00         3\n",
            "          68       0.00      0.00      0.00         1\n",
            "          69       0.00      0.00      0.00         3\n",
            "          70       0.00      0.00      0.00        10\n",
            "          71       0.00      0.00      0.00         1\n",
            "          72       0.00      0.00      0.00         2\n",
            "          74       0.00      0.00      0.00         1\n",
            "          76       0.00      0.00      0.00         1\n",
            "          77       0.00      0.00      0.00         1\n",
            "          79       0.00      0.00      0.00         1\n",
            "          81       0.00      0.00      0.00         2\n",
            "          84       0.00      0.00      0.00         2\n",
            "          86       0.00      0.00      0.00         1\n",
            "          87       0.00      0.00      0.00         2\n",
            "          88       0.00      0.00      0.00         4\n",
            "          89       0.00      0.00      0.00         1\n",
            "          91       0.00      0.00      0.00         1\n",
            "          94       0.00      0.00      0.00         5\n",
            "          96       0.00      0.00      0.00         3\n",
            "          97       0.00      0.00      0.00         2\n",
            "         102       0.00      0.00      0.00         1\n",
            "         103       0.00      0.00      0.00         6\n",
            "         109       0.00      0.00      0.00         1\n",
            "         110       0.00      0.00      0.00         4\n",
            "         111       0.00      0.00      0.00         3\n",
            "         114       0.00      0.00      0.00         1\n",
            "         115       0.00      0.00      0.00         1\n",
            "         118       0.00      0.00      0.00         1\n",
            "         120       0.00      0.00      0.00         1\n",
            "         122       0.00      0.00      0.00         1\n",
            "         126       0.00      0.00      0.00         1\n",
            "         127       0.00      0.00      0.00         2\n",
            "         128       0.00      0.00      0.00         1\n",
            "         130       0.00      0.00      0.00         1\n",
            "\n",
            "    accuracy                           0.43     11283\n",
            "   macro avg       0.01      0.02      0.01     11283\n",
            "weighted avg       0.26      0.43      0.29     11283\n",
            "\n"
          ],
          "name": "stdout"
        },
        {
          "output_type": "stream",
          "text": [
            "/usr/local/lib/python3.7/dist-packages/sklearn/metrics/_classification.py:1272: UndefinedMetricWarning: Precision and F-score are ill-defined and being set to 0.0 in labels with no predicted samples. Use `zero_division` parameter to control this behavior.\n",
            "  _warn_prf(average, modifier, msg_start, len(result))\n"
          ],
          "name": "stderr"
        }
      ]
    },
    {
      "cell_type": "markdown",
      "metadata": {
        "id": "1KJpCvBCalFK"
      },
      "source": [
        "# **Building the models with Logistic Regression Algorithm**"
      ]
    },
    {
      "cell_type": "code",
      "metadata": {
        "colab": {
          "base_uri": "https://localhost:8080/"
        },
        "id": "uT27EgnaaxfL",
        "outputId": "98b2c2b6-566c-42ea-8cad-9aadf36cc085"
      },
      "source": [
        "print('Building the models with Logistic Regression Algorithm')"
      ],
      "execution_count": null,
      "outputs": [
        {
          "output_type": "stream",
          "text": [
            "Building the models with Logistic Regression Algorithm\n"
          ],
          "name": "stdout"
        }
      ]
    },
    {
      "cell_type": "code",
      "metadata": {
        "id": "ABPOaqcTrdUf",
        "colab": {
          "base_uri": "https://localhost:8080/"
        },
        "outputId": "229a868b-479c-471d-f5f5-c62ac52403ba"
      },
      "source": [
        "import sklearn\n",
        "from sklearn.linear_model import LogisticRegression\n",
        "print('imported Logistic Regression from Linear Model of sklearn package')"
      ],
      "execution_count": null,
      "outputs": [
        {
          "output_type": "stream",
          "text": [
            "imported Logistic Regression from Linear Model of sklearn package\n"
          ],
          "name": "stdout"
        }
      ]
    },
    {
      "cell_type": "code",
      "metadata": {
        "id": "a_6wrkyyUZvj",
        "colab": {
          "base_uri": "https://localhost:8080/"
        },
        "outputId": "22955795-2c7a-42a4-ba0f-59d0d56613eb"
      },
      "source": [
        "print('Now using Logistic Regression algorithm to build the model')\n",
        "#modelling the Logistic Regression classifier \n",
        "print('modelling the Logistic Regression classifier')\n",
        "Logistic_Regression_Classifier = LogisticRegression()"
      ],
      "execution_count": null,
      "outputs": [
        {
          "output_type": "stream",
          "text": [
            "Now using Logistic Regression algorithm to build the model\n",
            "modelling the Logistic Regression classifier\n"
          ],
          "name": "stdout"
        }
      ]
    },
    {
      "cell_type": "markdown",
      "metadata": {
        "id": "s17CpBcgcPL1"
      },
      "source": [
        "# **fitting the model with Logistic Regression**"
      ]
    },
    {
      "cell_type": "code",
      "metadata": {
        "colab": {
          "base_uri": "https://localhost:8080/"
        },
        "id": "fT4x05DZceeX",
        "outputId": "d16cc41b-9fcb-4b34-a504-6dd37ed4c59d"
      },
      "source": [
        "#now fitting the model with Logistic Regression Classifier for illustration\n",
        "print('now fitting the model with Logistic Regression Classifier ');\n",
        "start_training_time = time()\n",
        "Logistic_Regression_Classifier.fit(X_train, Y_train)\n",
        "end_training_time = time()\n",
        "print('Logistic Regression model training starts in {:4f} seconds'.format(start_training_time))\n",
        "print('Logistic Regression model training ends in {:4f} seconds'.format(end_training_time))\n",
        "print('Logistic Regression model trained in {:4f} seconds'.format(end_training_time - start_training_time))"
      ],
      "execution_count": null,
      "outputs": [
        {
          "output_type": "stream",
          "text": [
            "now fitting the model with Logistic Regression Classifier \n",
            "Logistic Regression model training starts in 1617967763.275519 seconds\n",
            "Logistic Regression model training ends in 1617967797.748425 seconds\n",
            "Logistic Regression model trained in 34.472906 seconds\n"
          ],
          "name": "stdout"
        },
        {
          "output_type": "stream",
          "text": [
            "/usr/local/lib/python3.7/dist-packages/sklearn/linear_model/_logistic.py:940: ConvergenceWarning: lbfgs failed to converge (status=1):\n",
            "STOP: TOTAL NO. of ITERATIONS REACHED LIMIT.\n",
            "\n",
            "Increase the number of iterations (max_iter) or scale the data as shown in:\n",
            "    https://scikit-learn.org/stable/modules/preprocessing.html\n",
            "Please also refer to the documentation for alternative solver options:\n",
            "    https://scikit-learn.org/stable/modules/linear_model.html#logistic-regression\n",
            "  extra_warning_msg=_LOGISTIC_SOLVER_CONVERGENCE_MSG)\n"
          ],
          "name": "stderr"
        }
      ]
    },
    {
      "cell_type": "markdown",
      "metadata": {
        "id": "FthqHXRhcrmM"
      },
      "source": [
        "# **Predicting the Logistic Regression model**"
      ]
    },
    {
      "cell_type": "code",
      "metadata": {
        "colab": {
          "base_uri": "https://localhost:8080/"
        },
        "id": "IMsteqEEc4GX",
        "outputId": "f4d8854e-3e6b-447e-bba4-1a882c5d8079"
      },
      "source": [
        "print('predicting the Logistic Regression model')\n",
        "start_prediction_time = time()\n",
        "Logistic_Regression_Classifier_predict = Logistic_Regression_Classifier.predict(X_test);\n",
        "end_prediction_time = time()\n",
        "print('Logistic Regression model prediction starts in {:4f} seconds'.format(start_prediction_time))\n",
        "print('Logistic Regression model prediction ends in {:4f} seconds'.format(end_prediction_time))\n",
        "print('Logistic Regression model predicted in {:4f} seconds'.format(end_prediction_time - start_prediction_time))"
      ],
      "execution_count": null,
      "outputs": [
        {
          "output_type": "stream",
          "text": [
            "predicting the Logistic Regression model\n",
            "Logistic Regression model prediction starts in 1617967797.786428 seconds\n",
            "Logistic Regression model prediction ends in 1617967797.801535 seconds\n",
            "Logistic Regression model predicted in 0.015107 seconds\n"
          ],
          "name": "stdout"
        }
      ]
    },
    {
      "cell_type": "markdown",
      "metadata": {
        "id": "d3WCfeWuc_Oh"
      },
      "source": [
        "# **Creating the confusion matrix of Logistic Regression Algorithm models**"
      ]
    },
    {
      "cell_type": "code",
      "metadata": {
        "colab": {
          "base_uri": "https://localhost:8080/"
        },
        "id": "T_H8h9FtdHXf",
        "outputId": "d4a8e408-4f3d-4aeb-d380-7b2144fa63a7"
      },
      "source": [
        "print('after predicting now we create confusion matrix for the test and train set with predicted outcome using confusion matrix package from sklearn library \\n');\n",
        "print('\\nConfusion matrix for Logistic Regression Classifier\\n',confusion_matrix(Y_test,Logistic_Regression_Classifier_predict))"
      ],
      "execution_count": null,
      "outputs": [
        {
          "output_type": "stream",
          "text": [
            "after predicting now we create confusion matrix for the test and train set with predicted outcome using confusion matrix package from sklearn library \n",
            "\n",
            "\n",
            "Confusion matrix for Logistic Regression Classifier\n",
            " [[ 997  992    0 ...    0    0    0]\n",
            " [ 569 2926    0 ...    0    0    0]\n",
            " [ 594 1837    0 ...    0    0    0]\n",
            " ...\n",
            " [   2    0    0 ...    0    0    0]\n",
            " [   1    0    0 ...    0    0    0]\n",
            " [   0    1    0 ...    0    0    0]]\n"
          ],
          "name": "stdout"
        }
      ]
    },
    {
      "cell_type": "markdown",
      "metadata": {
        "id": "m0ffVwQYdMET"
      },
      "source": [
        "# **finding the accuracy and error of prediction of given model using Logistic Regression Algorithm models**"
      ]
    },
    {
      "cell_type": "code",
      "metadata": {
        "colab": {
          "base_uri": "https://localhost:8080/"
        },
        "id": "twVka66HdaXm",
        "outputId": "f5b1e5af-63c7-47ac-d589-e191436f8e5a"
      },
      "source": [
        "print('finding the accuracy of prediction of given model using Logistic Regression Classifier')\n",
        "Logistic_Regression_accuracy = accuracy_score(Y_test,Logistic_Regression_Classifier_predict, normalize = True)\n",
        "Logistic_Regression_error = 1-Random_Forest_accuracy\n",
        "Logistic_Regression_precision_score = precision_score(Y_test,Logistic_Regression_Classifier_predict,average='weighted')\n",
        "Logistic_Regression_recall_score = recall_score(Y_test,Logistic_Regression_Classifier_predict,average='weighted')\n",
        "Logistic_Regression_f1_score = f1_score(Y_test,Logistic_Regression_Classifier_predict,average='weighted')                                                        \n",
        "print('\\n accuracy for  Logistic Regression classifier using criterion as information gain is : \\n',Logistic_Regression_accuracy*100,'%');\n",
        "print('\\n error rate for Logistic Regression classifier using criterion as information gain is : \\n',Logistic_Regression_error*100,'%');\n",
        "print('\\n precision score for Logistic Regression classifier using criterion as information gain is : \\n',Logistic_Regression_precision_score);\n",
        "print('\\n recall score for Logistic Regression classifier using criterion as information gain is : \\n',Logistic_Regression_recall_score);\n",
        "print('\\n f1 score for Logistic Regression classifier using criterion as information gain is : \\n',Logistic_Regression_f1_score);"
      ],
      "execution_count": null,
      "outputs": [
        {
          "output_type": "stream",
          "text": [
            "finding the accuracy of prediction of given model using Logistic Regression Classifier\n",
            "\n",
            " accuracy for  Logistic Regression classifier using criterion as information gain is : \n",
            " 34.76912168749446 %\n",
            "\n",
            " error rate for Logistic Regression classifier using criterion as information gain is : \n",
            " 63.4583000974918 %\n",
            "\n",
            " precision score for Logistic Regression classifier using criterion as information gain is : \n",
            " 0.16760950817604361\n",
            "\n",
            " recall score for Logistic Regression classifier using criterion as information gain is : \n",
            " 0.3476912168749446\n",
            "\n",
            " f1 score for Logistic Regression classifier using criterion as information gain is : \n",
            " 0.22610149671224247\n"
          ],
          "name": "stdout"
        },
        {
          "output_type": "stream",
          "text": [
            "/usr/local/lib/python3.7/dist-packages/sklearn/metrics/_classification.py:1272: UndefinedMetricWarning: Precision is ill-defined and being set to 0.0 in labels with no predicted samples. Use `zero_division` parameter to control this behavior.\n",
            "  _warn_prf(average, modifier, msg_start, len(result))\n"
          ],
          "name": "stderr"
        }
      ]
    },
    {
      "cell_type": "markdown",
      "metadata": {
        "id": "-dORvKuYdjBd"
      },
      "source": [
        "# **Creating the evaluation report for Logistic Regression model**"
      ]
    },
    {
      "cell_type": "code",
      "metadata": {
        "colab": {
          "base_uri": "https://localhost:8080/"
        },
        "id": "Qw5z4ogddtTo",
        "outputId": "bcf90d9e-be2d-467f-c834-843387c46977"
      },
      "source": [
        "print('evaluation report for Logistic Regression \\n',classification_report(Y_test,Logistic_Regression_Classifier_predict))"
      ],
      "execution_count": null,
      "outputs": [
        {
          "output_type": "stream",
          "text": [
            "/usr/local/lib/python3.7/dist-packages/sklearn/metrics/_classification.py:1272: UndefinedMetricWarning: Precision and F-score are ill-defined and being set to 0.0 in labels with no predicted samples. Use `zero_division` parameter to control this behavior.\n",
            "  _warn_prf(average, modifier, msg_start, len(result))\n"
          ],
          "name": "stderr"
        },
        {
          "output_type": "stream",
          "text": [
            "evaluation report for Logistic Regression \n",
            "               precision    recall  f1-score   support\n",
            "\n",
            "           1       0.26      0.50      0.34      1989\n",
            "           2       0.39      0.84      0.54      3495\n",
            "           3       0.00      0.00      0.00      2431\n",
            "           4       0.00      0.00      0.00       194\n",
            "           5       0.00      0.00      0.00       344\n",
            "           6       0.00      0.00      0.00       213\n",
            "           7       0.00      0.00      0.00       176\n",
            "           8       0.00      0.00      0.00       287\n",
            "           9       0.00      0.00      0.00       284\n",
            "          10       0.00      0.00      0.00       144\n",
            "          11       0.00      0.00      0.00        74\n",
            "          12       0.00      0.00      0.00       177\n",
            "          13       0.00      0.00      0.00       187\n",
            "          14       0.00      0.00      0.00        45\n",
            "          15       0.00      0.00      0.00       103\n",
            "          16       0.00      0.00      0.00         5\n",
            "          17       0.00      0.00      0.00         1\n",
            "          18       0.00      0.00      0.00       282\n",
            "          19       0.00      0.00      0.00         2\n",
            "          20       0.00      0.00      0.00        12\n",
            "          21       0.00      0.00      0.00         1\n",
            "          22       0.00      0.00      0.00       152\n",
            "          23       0.00      0.00      0.00         1\n",
            "          24       0.00      0.00      0.00         3\n",
            "          25       0.00      0.00      0.00         6\n",
            "          26       0.00      0.00      0.00       144\n",
            "          27       0.00      0.00      0.00       159\n",
            "          28       0.00      0.00      0.00        10\n",
            "          29       0.00      0.00      0.00        26\n",
            "          30       0.00      0.00      0.00        47\n",
            "          31       0.00      0.00      0.00        20\n",
            "          32       0.00      0.00      0.00         7\n",
            "          33       0.00      0.00      0.00        34\n",
            "          35       0.00      0.00      0.00        13\n",
            "          36       0.00      0.00      0.00         1\n",
            "          37       0.00      0.00      0.00        13\n",
            "          38       0.00      0.00      0.00        14\n",
            "          39       0.00      0.00      0.00        10\n",
            "          40       0.00      0.00      0.00         5\n",
            "          41       0.00      0.00      0.00        11\n",
            "          42       0.00      0.00      0.00        13\n",
            "          43       0.00      0.00      0.00         7\n",
            "          45       0.00      0.00      0.00         2\n",
            "          46       0.00      0.00      0.00        12\n",
            "          47       0.00      0.00      0.00        10\n",
            "          49       0.00      0.00      0.00        14\n",
            "          50       0.00      0.00      0.00         2\n",
            "          51       0.00      0.00      0.00        10\n",
            "          53       0.00      0.00      0.00         1\n",
            "          55       0.00      0.00      0.00         1\n",
            "          56       0.00      0.00      0.00         1\n",
            "          58       0.00      0.00      0.00         1\n",
            "          60       0.00      0.00      0.00         1\n",
            "          61       0.00      0.00      0.00         2\n",
            "          62       0.00      0.00      0.00         2\n",
            "          63       0.00      0.00      0.00         9\n",
            "          66       0.00      0.00      0.00         1\n",
            "          67       0.00      0.00      0.00         3\n",
            "          68       0.00      0.00      0.00         1\n",
            "          69       0.00      0.00      0.00         3\n",
            "          70       0.00      0.00      0.00        10\n",
            "          71       0.00      0.00      0.00         1\n",
            "          72       0.00      0.00      0.00         2\n",
            "          74       0.00      0.00      0.00         1\n",
            "          76       0.00      0.00      0.00         1\n",
            "          77       0.00      0.00      0.00         1\n",
            "          79       0.00      0.00      0.00         1\n",
            "          81       0.00      0.00      0.00         2\n",
            "          84       0.00      0.00      0.00         2\n",
            "          86       0.00      0.00      0.00         1\n",
            "          87       0.00      0.00      0.00         2\n",
            "          88       0.00      0.00      0.00         4\n",
            "          89       0.00      0.00      0.00         1\n",
            "          91       0.00      0.00      0.00         1\n",
            "          94       0.00      0.00      0.00         5\n",
            "          96       0.00      0.00      0.00         3\n",
            "          97       0.00      0.00      0.00         2\n",
            "         102       0.00      0.00      0.00         1\n",
            "         103       0.00      0.00      0.00         6\n",
            "         109       0.00      0.00      0.00         1\n",
            "         110       0.00      0.00      0.00         4\n",
            "         111       0.00      0.00      0.00         3\n",
            "         114       0.00      0.00      0.00         1\n",
            "         115       0.00      0.00      0.00         1\n",
            "         118       0.00      0.00      0.00         1\n",
            "         120       0.00      0.00      0.00         1\n",
            "         122       0.00      0.00      0.00         1\n",
            "         126       0.00      0.00      0.00         1\n",
            "         127       0.00      0.00      0.00         2\n",
            "         128       0.00      0.00      0.00         1\n",
            "         130       0.00      0.00      0.00         1\n",
            "\n",
            "    accuracy                           0.35     11283\n",
            "   macro avg       0.01      0.01      0.01     11283\n",
            "weighted avg       0.17      0.35      0.23     11283\n",
            "\n"
          ],
          "name": "stdout"
        }
      ]
    },
    {
      "cell_type": "markdown",
      "metadata": {
        "id": "23UjDKe0YODk"
      },
      "source": [
        "# **Building the models with Convolution Neural Network (CNN) Algorithm**"
      ]
    },
    {
      "cell_type": "code",
      "metadata": {
        "id": "vYRZcFNrilcV",
        "colab": {
          "base_uri": "https://localhost:8080/"
        },
        "outputId": "2d34a040-277a-4f5e-adcb-331355c84d93"
      },
      "source": [
        "print('Building the models with Convolution Neural Network (CNN) Algorithm')"
      ],
      "execution_count": null,
      "outputs": [
        {
          "output_type": "stream",
          "text": [
            "Building the models with Convolution Neural Network (CNN) Algorithm\n"
          ],
          "name": "stdout"
        }
      ]
    },
    {
      "cell_type": "code",
      "metadata": {
        "id": "ezalgVkRZEYV",
        "colab": {
          "base_uri": "https://localhost:8080/"
        },
        "outputId": "417b79e4-02d9-4d95-af35-07ecbdd7b6c4"
      },
      "source": [
        "import tensorflow\n",
        "print('imported tensorflow package version is:{}'.format(tensorflow.__version__))\n",
        "print('imported tensorflow package')\n",
        "from tensorflow import keras\n",
        "print('imported keras package version is:{}'.format(keras.__version__))\n",
        "print('imported keras from tensorflow package')\n",
        "from tensorflow.keras.models import Sequential\n",
        "print('imported Sequential from keras.models of tensorflow package')\n",
        "from tensorflow.keras.layers import Dense\n",
        "print('imported Dense from keras.layers of tensorflow package')\n",
        "from tensorflow.keras.layers import Dropout\n",
        "print('imported Dropout from keras.layers of tensorflow package')\n",
        "from tensorflow.keras.layers import Activation\n",
        "print('imported Activation from keras.layers of tensorflow package')\n",
        "from tensorflow.keras.layers import Flatten\n",
        "print('imported Flatten from keras.layers of tensorflow package')\n",
        "from tensorflow.keras.layers import MaxPooling2D\n",
        "print('imported MaxPooling2D from keras.layers of tensorflow package')\n",
        "from tensorflow.keras.layers import Conv2D\n",
        "print('imported Conv2D from from keras.layers of tensorflow package')"
      ],
      "execution_count": null,
      "outputs": [
        {
          "output_type": "stream",
          "text": [
            "imported tensorflow package version is:2.4.1\n",
            "imported tensorflow package\n",
            "imported keras package version is:2.4.0\n",
            "imported keras from tensorflow package\n",
            "imported Sequential from keras.models of tensorflow package\n",
            "imported Dense from keras.layers of tensorflow package\n",
            "imported Dropout from keras.layers of tensorflow package\n",
            "imported Activation from keras.layers of tensorflow package\n",
            "imported Flatten from keras.layers of tensorflow package\n",
            "imported MaxPooling2D from keras.layers of tensorflow package\n",
            "imported Conv2D from from keras.layers of tensorflow package\n"
          ],
          "name": "stdout"
        }
      ]
    },
    {
      "cell_type": "code",
      "metadata": {
        "colab": {
          "base_uri": "https://localhost:8080/"
        },
        "id": "MAGUZQOySCQT",
        "outputId": "7747edd8-eef2-42e8-9fba-7754ade79747"
      },
      "source": [
        "print('Now using Convolution Neural Network (CNN) algorithm to build the model')\n",
        "#modelling the Convolution Neural Network (CNN) classifier \n",
        "print('modelling the Convolution Neural Network (CNN) classifier')\n",
        "Convolution_Neural_Network_Model = Sequential()"
      ],
      "execution_count": null,
      "outputs": [
        {
          "output_type": "stream",
          "text": [
            "Now using Convolution Neural Network (CNN) algorithm to build the model\n",
            "modelling the Convolution Neural Network (CNN) classifier\n"
          ],
          "name": "stdout"
        }
      ]
    },
    {
      "cell_type": "code",
      "metadata": {
        "colab": {
          "base_uri": "https://localhost:8080/"
        },
        "id": "uAp7KSMfT1UV",
        "outputId": "910a18d9-7e84-41a4-92c9-2b3ae814bafd"
      },
      "source": [
        "print('Building more steps of Convolution Neural Network (CNN) algorithm  model')\n",
        "#Building more steps of Convolution Neural Network (CNN) algorithm  model\n",
        "Convolution_Neural_Network_Model.add(Dense(20,activation='relu'))\n",
        "Convolution_Neural_Network_Model.add(Dense(1,activation='sigmoid'))\n",
        "Convolution_Neural_Network_Model.compile(optimizer='adam',loss='binary_crossentropy',metrics=['accuracy'])"
      ],
      "execution_count": null,
      "outputs": [
        {
          "output_type": "stream",
          "text": [
            "Building more steps of Convolution Neural Network (CNN) algorithm  model\n"
          ],
          "name": "stdout"
        }
      ]
    },
    {
      "cell_type": "markdown",
      "metadata": {
        "id": "RkQ7skWqWAr7"
      },
      "source": [
        "# **fitting the model with Convolution Neural Network (CNN)**"
      ]
    },
    {
      "cell_type": "code",
      "metadata": {
        "colab": {
          "base_uri": "https://localhost:8080/"
        },
        "id": "SGp1SMiqWJSJ",
        "outputId": "9de0a828-438c-40ce-8ffa-1b6ed1029d5f"
      },
      "source": [
        "#now fitting the model with Convolution Neural Network (CNN) algorithm for illustration\n",
        "print('now fitting the model with Convolution Neural Network (CNN) algorithm   ');\n",
        "start_training_time = time()\n",
        "Convolution_Neural_Network_Model.fit(X_train, Y_train,epochs=20,verbose=1)\n",
        "end_training_time = time()\n",
        "print('Convolution Neural Network (CNN) model training starts in {:4f} seconds'.format(start_training_time))\n",
        "print('Convolution Neural Network (CNN) model training ends in {:4f} seconds'.format(end_training_time))\n",
        "print('Convolution Neural Network (CNN) model trained in {:4f} seconds'.format(end_training_time - start_training_time))"
      ],
      "execution_count": null,
      "outputs": [
        {
          "output_type": "stream",
          "text": [
            "now fitting the model with Convolution Neural Network (CNN) algorithm   \n",
            "Epoch 1/20\n",
            "1058/1058 [==============================] - 2s 1ms/step - loss: -393333.2842 - accuracy: 0.1484\n",
            "Epoch 2/20\n",
            "1058/1058 [==============================] - 1s 1ms/step - loss: -5163866.1740 - accuracy: 0.1728\n",
            "Epoch 3/20\n",
            "1058/1058 [==============================] - 1s 1ms/step - loss: -15067922.4750 - accuracy: 0.1736\n",
            "Epoch 4/20\n",
            "1058/1058 [==============================] - 1s 1ms/step - loss: -28819113.0519 - accuracy: 0.1719\n",
            "Epoch 5/20\n",
            "1058/1058 [==============================] - 1s 1ms/step - loss: -47178838.2474 - accuracy: 0.1719\n",
            "Epoch 6/20\n",
            "1058/1058 [==============================] - 1s 1ms/step - loss: -67840874.0737 - accuracy: 0.1713\n",
            "Epoch 7/20\n",
            "1058/1058 [==============================] - 1s 1ms/step - loss: -89722845.9566 - accuracy: 0.1722\n",
            "Epoch 8/20\n",
            "1058/1058 [==============================] - 1s 1ms/step - loss: -118201176.9141 - accuracy: 0.1707\n",
            "Epoch 9/20\n",
            "1058/1058 [==============================] - 1s 1ms/step - loss: -148638915.4372 - accuracy: 0.1713\n",
            "Epoch 10/20\n",
            "1058/1058 [==============================] - 1s 1ms/step - loss: -183196393.8810 - accuracy: 0.1674\n",
            "Epoch 11/20\n",
            "1058/1058 [==============================] - 1s 1ms/step - loss: -218929726.5042 - accuracy: 0.1714\n",
            "Epoch 12/20\n",
            "1058/1058 [==============================] - 1s 1ms/step - loss: -253269296.0151 - accuracy: 0.1724\n",
            "Epoch 13/20\n",
            "1058/1058 [==============================] - 1s 1ms/step - loss: -297429740.0264 - accuracy: 0.1733\n",
            "Epoch 14/20\n",
            "1058/1058 [==============================] - 1s 1ms/step - loss: -344551473.2389 - accuracy: 0.1713\n",
            "Epoch 15/20\n",
            "1058/1058 [==============================] - 1s 1ms/step - loss: -389693914.7271 - accuracy: 0.1710\n",
            "Epoch 16/20\n",
            "1058/1058 [==============================] - 1s 1ms/step - loss: -440468854.1190 - accuracy: 0.1698\n",
            "Epoch 17/20\n",
            "1058/1058 [==============================] - 1s 1ms/step - loss: -500911871.4259 - accuracy: 0.1754\n",
            "Epoch 18/20\n",
            "1058/1058 [==============================] - 1s 1ms/step - loss: -541449819.1350 - accuracy: 0.1704\n",
            "Epoch 19/20\n",
            "1058/1058 [==============================] - 1s 1ms/step - loss: -594441057.6619 - accuracy: 0.1697\n",
            "Epoch 20/20\n",
            "1058/1058 [==============================] - 1s 1ms/step - loss: -675800922.8026 - accuracy: 0.1718\n",
            "Convolution Neural Network (CNN) model training starts in 1617967800.025476 seconds\n",
            "Convolution Neural Network (CNN) model training ends in 1617967825.484552 seconds\n",
            "Convolution Neural Network (CNN) model trained in 25.459076 seconds\n"
          ],
          "name": "stdout"
        }
      ]
    },
    {
      "cell_type": "markdown",
      "metadata": {
        "id": "B7xs12s4Wxdl"
      },
      "source": [
        "# **Predicting the Convolution Neural Network (CNN) model**"
      ]
    },
    {
      "cell_type": "code",
      "metadata": {
        "colab": {
          "base_uri": "https://localhost:8080/"
        },
        "id": "zxF_ipxdW55G",
        "outputId": "d66feab2-ca9b-4d35-ca7d-3d30bc69ef56"
      },
      "source": [
        "print('predicting the Convolution Neural Network (CNN) model')\n",
        "start_prediction_time = time()\n",
        "Convolution_Neural_Network_Model_predict = Convolution_Neural_Network_Model.predict(X_test);\n",
        "end_prediction_time = time()\n",
        "print('Convolution Neural Network (CNN) model prediction starts in {:4f} seconds'.format(start_prediction_time))\n",
        "print('Convolution Neural Network (CNN) model prediction ends in {:4f} seconds'.format(end_prediction_time))\n",
        "print('Convolution Neural Network (CNN) model predicted in {:4f} seconds'.format(end_prediction_time - start_prediction_time))"
      ],
      "execution_count": null,
      "outputs": [
        {
          "output_type": "stream",
          "text": [
            "predicting the Convolution Neural Network (CNN) model\n",
            "Convolution Neural Network (CNN) model prediction starts in 1617967825.501225 seconds\n",
            "Convolution Neural Network (CNN) model prediction ends in 1617967825.822560 seconds\n",
            "Convolution Neural Network (CNN) model predicted in 0.321334 seconds\n"
          ],
          "name": "stdout"
        }
      ]
    },
    {
      "cell_type": "markdown",
      "metadata": {
        "id": "WqYRalwWXuxz"
      },
      "source": [
        "# **Creating the confusion matrix of Convolution Neural Network (CNN) Algorithm models**"
      ]
    },
    {
      "cell_type": "code",
      "metadata": {
        "colab": {
          "base_uri": "https://localhost:8080/"
        },
        "id": "jKYZBKDZYCEP",
        "outputId": "cd4212be-9f8d-4f6c-b6fd-73840093053f"
      },
      "source": [
        "print('after predicting now we create confusion matrix for the test and train set with predicted outcome using confusion matrix package from sklearn library \\n');\n",
        "print('\\nConfusion matrix for Convolution Neural Network (CNN) Model\\n',confusion_matrix(Y_test,Convolution_Neural_Network_Model_predict))"
      ],
      "execution_count": null,
      "outputs": [
        {
          "output_type": "stream",
          "text": [
            "after predicting now we create confusion matrix for the test and train set with predicted outcome using confusion matrix package from sklearn library \n",
            "\n",
            "\n",
            "Confusion matrix for Convolution Neural Network (CNN) Model\n",
            " [[1989    0    0 ...    0    0    0]\n",
            " [3495    0    0 ...    0    0    0]\n",
            " [2431    0    0 ...    0    0    0]\n",
            " ...\n",
            " [   2    0    0 ...    0    0    0]\n",
            " [   1    0    0 ...    0    0    0]\n",
            " [   1    0    0 ...    0    0    0]]\n"
          ],
          "name": "stdout"
        }
      ]
    },
    {
      "cell_type": "markdown",
      "metadata": {
        "id": "S_MwQXH9YTPs"
      },
      "source": [
        "# **finding the accuracy and error of prediction of given model using Convolution Neural Network (CNN) Algorithm**"
      ]
    },
    {
      "cell_type": "code",
      "metadata": {
        "colab": {
          "base_uri": "https://localhost:8080/"
        },
        "id": "X84omGRJYdG3",
        "outputId": "f36e55ba-c4fe-43bd-a0ba-cedc6934a327"
      },
      "source": [
        "print('finding the accuracy of prediction of given model using Convolution Neural Network (CNN) Model')\n",
        "Convolution_Neural_Network_Model_accuracy = accuracy_score(Y_test,Convolution_Neural_Network_Model_predict, normalize = True)\n",
        "Convolution_Neural_Network_Model_error = 1-Convolution_Neural_Network_Model_accuracy\n",
        "Convolution_Neural_Network_Model_precision_score = precision_score(Y_test,Convolution_Neural_Network_Model_predict,average='weighted')\n",
        "Convolution_Neural_Network_Model_recall_score = recall_score(Y_test,Convolution_Neural_Network_Model_predict,average='weighted')\n",
        "Convolution_Neural_Network_Model_f1_score = f1_score(Y_test,Convolution_Neural_Network_Model_predict,average='weighted')                                                        \n",
        "print('\\n accuracy for  Convolution Neural Network (CNN) Model using criterion as information gain is : \\n',Convolution_Neural_Network_Model_accuracy*100,'%');\n",
        "print('\\n error rate for Convolution Neural Network (CNN) Model using criterion as information gain is : \\n',Convolution_Neural_Network_Model_error*100,'%');\n",
        "print('\\n precision score for Convolution Neural Network (CNN) Model using criterion as information gain is : \\n',Convolution_Neural_Network_Model_precision_score);\n",
        "print('\\n recall score for Convolution Neural Network (CNN) Model using criterion as information gain is : \\n',Convolution_Neural_Network_Model_recall_score);\n",
        "print('\\n f1 score for Convolution Neural Network (CNN) Model using criterion as information gain is : \\n',Convolution_Neural_Network_Model_f1_score);"
      ],
      "execution_count": null,
      "outputs": [
        {
          "output_type": "stream",
          "text": [
            "finding the accuracy of prediction of given model using Convolution Neural Network (CNN) Model\n",
            "\n",
            " accuracy for  Convolution Neural Network (CNN) Model using criterion as information gain is : \n",
            " 17.62829034831162 %\n",
            "\n",
            " error rate for Convolution Neural Network (CNN) Model using criterion as information gain is : \n",
            " 82.37170965168839 %\n",
            "\n",
            " precision score for Convolution Neural Network (CNN) Model using criterion as information gain is : \n",
            " 0.03107566206043766\n",
            "\n",
            " recall score for Convolution Neural Network (CNN) Model using criterion as information gain is : \n",
            " 0.1762829034831162\n",
            "\n",
            " f1 score for Convolution Neural Network (CNN) Model using criterion as information gain is : \n",
            " 0.05283705470583456\n"
          ],
          "name": "stdout"
        },
        {
          "output_type": "stream",
          "text": [
            "/usr/local/lib/python3.7/dist-packages/sklearn/metrics/_classification.py:1272: UndefinedMetricWarning: Precision is ill-defined and being set to 0.0 in labels with no predicted samples. Use `zero_division` parameter to control this behavior.\n",
            "  _warn_prf(average, modifier, msg_start, len(result))\n"
          ],
          "name": "stderr"
        }
      ]
    },
    {
      "cell_type": "markdown",
      "metadata": {
        "id": "ebgtdlDqYxl_"
      },
      "source": [
        "# **Creating the evaluation report for Convolution Neural Network (CNN) Model**"
      ]
    },
    {
      "cell_type": "code",
      "metadata": {
        "colab": {
          "base_uri": "https://localhost:8080/"
        },
        "id": "Saw331XUaQl0",
        "outputId": "848734e0-db69-4761-d4e7-eb9171f35d78"
      },
      "source": [
        "print('evaluation report for Convolution Neural Network (CNN) Model \\n',classification_report(Y_test,Convolution_Neural_Network_Model_predict))\n",
        "print('Summary of the Convolution Neural Network (CNN) Model \\n',Convolution_Neural_Network_Model.summary())"
      ],
      "execution_count": null,
      "outputs": [
        {
          "output_type": "stream",
          "text": [
            "evaluation report for Convolution Neural Network (CNN) Model \n",
            "               precision    recall  f1-score   support\n",
            "\n",
            "           1       0.18      1.00      0.30      1989\n",
            "           2       0.00      0.00      0.00      3495\n",
            "           3       0.00      0.00      0.00      2431\n",
            "           4       0.00      0.00      0.00       194\n",
            "           5       0.00      0.00      0.00       344\n",
            "           6       0.00      0.00      0.00       213\n",
            "           7       0.00      0.00      0.00       176\n",
            "           8       0.00      0.00      0.00       287\n",
            "           9       0.00      0.00      0.00       284\n",
            "          10       0.00      0.00      0.00       144\n",
            "          11       0.00      0.00      0.00        74\n",
            "          12       0.00      0.00      0.00       177\n",
            "          13       0.00      0.00      0.00       187\n",
            "          14       0.00      0.00      0.00        45\n",
            "          15       0.00      0.00      0.00       103\n",
            "          16       0.00      0.00      0.00         5\n",
            "          17       0.00      0.00      0.00         1\n",
            "          18       0.00      0.00      0.00       282\n",
            "          19       0.00      0.00      0.00         2\n",
            "          20       0.00      0.00      0.00        12\n",
            "          21       0.00      0.00      0.00         1\n",
            "          22       0.00      0.00      0.00       152\n",
            "          23       0.00      0.00      0.00         1\n",
            "          24       0.00      0.00      0.00         3\n",
            "          25       0.00      0.00      0.00         6\n",
            "          26       0.00      0.00      0.00       144\n",
            "          27       0.00      0.00      0.00       159\n",
            "          28       0.00      0.00      0.00        10\n",
            "          29       0.00      0.00      0.00        26\n",
            "          30       0.00      0.00      0.00        47\n",
            "          31       0.00      0.00      0.00        20\n",
            "          32       0.00      0.00      0.00         7\n",
            "          33       0.00      0.00      0.00        34\n",
            "          35       0.00      0.00      0.00        13\n",
            "          36       0.00      0.00      0.00         1\n",
            "          37       0.00      0.00      0.00        13\n",
            "          38       0.00      0.00      0.00        14\n",
            "          39       0.00      0.00      0.00        10\n",
            "          40       0.00      0.00      0.00         5\n",
            "          41       0.00      0.00      0.00        11\n",
            "          42       0.00      0.00      0.00        13\n",
            "          43       0.00      0.00      0.00         7\n",
            "          45       0.00      0.00      0.00         2\n",
            "          46       0.00      0.00      0.00        12\n",
            "          47       0.00      0.00      0.00        10\n",
            "          49       0.00      0.00      0.00        14\n",
            "          50       0.00      0.00      0.00         2\n",
            "          51       0.00      0.00      0.00        10\n",
            "          53       0.00      0.00      0.00         1\n",
            "          55       0.00      0.00      0.00         1\n",
            "          56       0.00      0.00      0.00         1\n",
            "          58       0.00      0.00      0.00         1\n",
            "          60       0.00      0.00      0.00         1\n",
            "          61       0.00      0.00      0.00         2\n",
            "          62       0.00      0.00      0.00         2\n",
            "          63       0.00      0.00      0.00         9\n",
            "          66       0.00      0.00      0.00         1\n",
            "          67       0.00      0.00      0.00         3\n",
            "          68       0.00      0.00      0.00         1\n",
            "          69       0.00      0.00      0.00         3\n",
            "          70       0.00      0.00      0.00        10\n",
            "          71       0.00      0.00      0.00         1\n",
            "          72       0.00      0.00      0.00         2\n",
            "          74       0.00      0.00      0.00         1\n",
            "          76       0.00      0.00      0.00         1\n",
            "          77       0.00      0.00      0.00         1\n",
            "          79       0.00      0.00      0.00         1\n",
            "          81       0.00      0.00      0.00         2\n",
            "          84       0.00      0.00      0.00         2\n",
            "          86       0.00      0.00      0.00         1\n",
            "          87       0.00      0.00      0.00         2\n",
            "          88       0.00      0.00      0.00         4\n",
            "          89       0.00      0.00      0.00         1\n",
            "          91       0.00      0.00      0.00         1\n",
            "          94       0.00      0.00      0.00         5\n",
            "          96       0.00      0.00      0.00         3\n",
            "          97       0.00      0.00      0.00         2\n",
            "         102       0.00      0.00      0.00         1\n",
            "         103       0.00      0.00      0.00         6\n",
            "         109       0.00      0.00      0.00         1\n",
            "         110       0.00      0.00      0.00         4\n",
            "         111       0.00      0.00      0.00         3\n",
            "         114       0.00      0.00      0.00         1\n",
            "         115       0.00      0.00      0.00         1\n",
            "         118       0.00      0.00      0.00         1\n",
            "         120       0.00      0.00      0.00         1\n",
            "         122       0.00      0.00      0.00         1\n",
            "         126       0.00      0.00      0.00         1\n",
            "         127       0.00      0.00      0.00         2\n",
            "         128       0.00      0.00      0.00         1\n",
            "         130       0.00      0.00      0.00         1\n",
            "\n",
            "    accuracy                           0.18     11283\n",
            "   macro avg       0.00      0.01      0.00     11283\n",
            "weighted avg       0.03      0.18      0.05     11283\n",
            "\n",
            "Model: \"sequential\"\n",
            "_________________________________________________________________\n",
            "Layer (type)                 Output Shape              Param #   \n",
            "=================================================================\n",
            "dense (Dense)                (None, 20)                300       \n",
            "_________________________________________________________________\n",
            "dense_1 (Dense)              (None, 1)                 21        \n",
            "=================================================================\n",
            "Total params: 321\n",
            "Trainable params: 321\n",
            "Non-trainable params: 0\n",
            "_________________________________________________________________\n",
            "Summary of the Convolution Neural Network (CNN) Model \n",
            " None\n"
          ],
          "name": "stdout"
        },
        {
          "output_type": "stream",
          "text": [
            "/usr/local/lib/python3.7/dist-packages/sklearn/metrics/_classification.py:1272: UndefinedMetricWarning: Precision and F-score are ill-defined and being set to 0.0 in labels with no predicted samples. Use `zero_division` parameter to control this behavior.\n",
            "  _warn_prf(average, modifier, msg_start, len(result))\n"
          ],
          "name": "stderr"
        }
      ]
    }
  ]
}